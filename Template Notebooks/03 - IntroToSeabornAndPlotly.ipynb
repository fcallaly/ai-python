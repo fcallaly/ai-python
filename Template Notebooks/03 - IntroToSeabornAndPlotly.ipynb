{
 "cells": [
  {
   "cell_type": "markdown",
   "metadata": {
    "id": "442550df"
   },
   "source": [
    "<img style=\"float: right;\" width=\"120\" src=\"https://s3.eu-west-1.amazonaws.com/neueda.conygre.com/pydata/images/neueda-logo.jpeg\">\n",
    "<br><br><br>"
   ]
  },
  {
   "cell_type": "markdown",
   "metadata": {
    "id": "eab749cf"
   },
   "source": [
    "<!-- Images names -->\n",
    "<!-- seaborn.png plotly.png  -->\n",
    "\n",
    "# Compare Seaborn and Plotly Methods to build visualisations\n",
    "<table width=\"100%\">\n",
    "<tr>\n",
    "    <td>\n",
    "        <img src=\"https://s3.eu-west-1.amazonaws.com/neueda.conygre.com/pydata/viz-images/seaborn.png\">        \n",
    "        <a align=\"left\"; href=\"https://seaborn.pydata.org/\">Seaborn</a>\n",
    "    </td>\n",
    "    <td>\n",
    "        <img src=\"https://s3.eu-west-1.amazonaws.com/neueda.conygre.com/pydata/viz-images/plotly.png\">\n",
    "        <a align=\"left\"; href=\"https://plotly.com/python/\">Plotly</a>\n",
    "    </td>\n",
    "    </tr>\n",
    "</table>"
   ]
  },
  {
   "cell_type": "markdown",
   "metadata": {
    "id": "aa2e117b"
   },
   "source": [
    "# Import libraries"
   ]
  },
  {
   "cell_type": "code",
   "execution_count": 2,
   "metadata": {
    "executionInfo": {
     "elapsed": 2455,
     "status": "ok",
     "timestamp": 1627852688541,
     "user": {
      "displayName": "Filipa Peleja",
      "photoUrl": "https://lh3.googleusercontent.com/a-/AOh14GhszTFoTfss30HXvgh6Cb51DPt2cGYvQ05kK0BdSA=s64",
      "userId": "09648315126991333382"
     },
     "user_tz": -120
    },
    "id": "db073ac7"
   },
   "outputs": [
    {
     "name": "stderr",
     "output_type": "stream",
     "text": [
      "C:\\ProgramData\\Anaconda3\\lib\\site-packages\\statsmodels\\tools\\_testing.py:19: FutureWarning: pandas.util.testing is deprecated. Use the functions in the public API at pandas.testing instead.\n",
      "  import pandas.util.testing as tm\n"
     ]
    }
   ],
   "source": [
    "import pandas as pd\n",
    "import seaborn as sns\n",
    "\n",
    "import matplotlib.pyplot as plt\n",
    "import matplotlib.ticker as ticker\n",
    "\n",
    "# %matplotlib notebook will lead to interactive plots embedded within the notebook\n",
    "# (Jupyter Lab does support interactive matplotlib through the jupyter-matplotlib extension.)\n",
    "# %matplotlib inline will lead to static images of your plot embedded in the notebook\n",
    "%matplotlib inline\n",
    "\n",
    "import warnings\n",
    "warnings.filterwarnings('ignore')"
   ]
  },
  {
   "cell_type": "markdown",
   "metadata": {
    "id": "6a006686"
   },
   "source": [
    "# Load Data"
   ]
  },
  {
   "cell_type": "code",
   "execution_count": 3,
   "metadata": {
    "executionInfo": {
     "elapsed": 913,
     "status": "ok",
     "timestamp": 1627852689446,
     "user": {
      "displayName": "Filipa Peleja",
      "photoUrl": "https://lh3.googleusercontent.com/a-/AOh14GhszTFoTfss30HXvgh6Cb51DPt2cGYvQ05kK0BdSA=s64",
      "userId": "09648315126991333382"
     },
     "user_tz": -120
    },
    "id": "20772b5d"
   },
   "outputs": [],
   "source": [
    "customer_acquisition_df = pd.read_csv(\"https://s3.eu-west-1.amazonaws.com/neueda.conygre.com/pydata/CreditCard/Customer%20Acqusition.csv\")\n",
    "repayment_df = pd.read_csv(\"https://s3.eu-west-1.amazonaws.com/neueda.conygre.com/pydata/CreditCard/Repayment.csv\")\n",
    "spend_df = pd.read_csv(\"https://s3.eu-west-1.amazonaws.com/neueda.conygre.com/pydata/CreditCard/spend.csv\")"
   ]
  },
  {
   "cell_type": "markdown",
   "metadata": {
    "id": "821647ba"
   },
   "source": [
    "# Seaborn\n",
    "\n",
    "[Examples for Seaborn are from Seaborn Documentation. See more details here](https://seaborn.pydata.org/introduction.html)"
   ]
  },
  {
   "cell_type": "markdown",
   "metadata": {
    "id": "28e90802"
   },
   "source": [
    "## Scatter plot"
   ]
  },
  {
   "cell_type": "code",
   "execution_count": 4,
   "metadata": {},
   "outputs": [
    {
     "data": {
      "text/plain": [
       "'0.9.0'"
      ]
     },
     "execution_count": 4,
     "metadata": {},
     "output_type": "execute_result"
    }
   ],
   "source": [
    "sns.__version__"
   ]
  },
  {
   "cell_type": "code",
   "execution_count": 5,
   "metadata": {
    "colab": {
     "base_uri": "https://localhost:8080/",
     "height": 206
    },
    "executionInfo": {
     "elapsed": 869,
     "status": "ok",
     "timestamp": 1627852690309,
     "user": {
      "displayName": "Filipa Peleja",
      "photoUrl": "https://lh3.googleusercontent.com/a-/AOh14GhszTFoTfss30HXvgh6Cb51DPt2cGYvQ05kK0BdSA=s64",
      "userId": "09648315126991333382"
     },
     "user_tz": -120
    },
    "id": "523cf2ae",
    "outputId": "03b1f926-fd3e-4321-afe0-0b689f0f9571"
   },
   "outputs": [
    {
     "data": {
      "text/html": [
       "<div>\n",
       "<style scoped>\n",
       "    .dataframe tbody tr th:only-of-type {\n",
       "        vertical-align: middle;\n",
       "    }\n",
       "\n",
       "    .dataframe tbody tr th {\n",
       "        vertical-align: top;\n",
       "    }\n",
       "\n",
       "    .dataframe thead th {\n",
       "        text-align: right;\n",
       "    }\n",
       "</style>\n",
       "<table border=\"1\" class=\"dataframe\">\n",
       "  <thead>\n",
       "    <tr style=\"text-align: right;\">\n",
       "      <th></th>\n",
       "      <th>total_bill</th>\n",
       "      <th>tip</th>\n",
       "      <th>sex</th>\n",
       "      <th>smoker</th>\n",
       "      <th>day</th>\n",
       "      <th>time</th>\n",
       "      <th>size</th>\n",
       "    </tr>\n",
       "  </thead>\n",
       "  <tbody>\n",
       "    <tr>\n",
       "      <th>0</th>\n",
       "      <td>16.99</td>\n",
       "      <td>1.01</td>\n",
       "      <td>Female</td>\n",
       "      <td>No</td>\n",
       "      <td>Sun</td>\n",
       "      <td>Dinner</td>\n",
       "      <td>2</td>\n",
       "    </tr>\n",
       "    <tr>\n",
       "      <th>1</th>\n",
       "      <td>10.34</td>\n",
       "      <td>1.66</td>\n",
       "      <td>Male</td>\n",
       "      <td>No</td>\n",
       "      <td>Sun</td>\n",
       "      <td>Dinner</td>\n",
       "      <td>3</td>\n",
       "    </tr>\n",
       "    <tr>\n",
       "      <th>2</th>\n",
       "      <td>21.01</td>\n",
       "      <td>3.50</td>\n",
       "      <td>Male</td>\n",
       "      <td>No</td>\n",
       "      <td>Sun</td>\n",
       "      <td>Dinner</td>\n",
       "      <td>3</td>\n",
       "    </tr>\n",
       "    <tr>\n",
       "      <th>3</th>\n",
       "      <td>23.68</td>\n",
       "      <td>3.31</td>\n",
       "      <td>Male</td>\n",
       "      <td>No</td>\n",
       "      <td>Sun</td>\n",
       "      <td>Dinner</td>\n",
       "      <td>2</td>\n",
       "    </tr>\n",
       "    <tr>\n",
       "      <th>4</th>\n",
       "      <td>24.59</td>\n",
       "      <td>3.61</td>\n",
       "      <td>Female</td>\n",
       "      <td>No</td>\n",
       "      <td>Sun</td>\n",
       "      <td>Dinner</td>\n",
       "      <td>4</td>\n",
       "    </tr>\n",
       "  </tbody>\n",
       "</table>\n",
       "</div>"
      ],
      "text/plain": [
       "   total_bill   tip     sex smoker  day    time  size\n",
       "0       16.99  1.01  Female     No  Sun  Dinner     2\n",
       "1       10.34  1.66    Male     No  Sun  Dinner     3\n",
       "2       21.01  3.50    Male     No  Sun  Dinner     3\n",
       "3       23.68  3.31    Male     No  Sun  Dinner     2\n",
       "4       24.59  3.61  Female     No  Sun  Dinner     4"
      ]
     },
     "execution_count": 5,
     "metadata": {},
     "output_type": "execute_result"
    }
   ],
   "source": [
    "# Apply the darkgrid style\n",
    "sns.set_style('darkgrid')\n",
    "\n",
    "# Load an example dataset\n",
    "tips_df = sns.load_dataset(\"tips\")\n",
    "\n",
    "tips_df.head()"
   ]
  },
  {
   "cell_type": "markdown",
   "metadata": {},
   "source": [
    "Seaborn has a collection of plotting functions - the documentation here describes them clearly\n",
    "\n",
    "https://seaborn.pydata.org/tutorial/function_overview.html\n",
    "\n",
    "<img src=\"https://seaborn.pydata.org/_images/function_overview_8_0.png\">"
   ]
  },
  {
   "cell_type": "code",
   "execution_count": 7,
   "metadata": {
    "colab": {
     "base_uri": "https://localhost:8080/",
     "height": 382
    },
    "executionInfo": {
     "elapsed": 1825,
     "status": "ok",
     "timestamp": 1627852692127,
     "user": {
      "displayName": "Filipa Peleja",
      "photoUrl": "https://lh3.googleusercontent.com/a-/AOh14GhszTFoTfss30HXvgh6Cb51DPt2cGYvQ05kK0BdSA=s64",
      "userId": "09648315126991333382"
     },
     "user_tz": -120
    },
    "id": "d2107c08",
    "outputId": "34249a4c-4020-4f62-d89b-df534b4f959a"
   },
   "outputs": [],
   "source": [
    "# TODO: Create a visualization - e.g. relplot is a single function for different types of relational plot\n",
    "\n"
   ]
  },
  {
   "cell_type": "markdown",
   "metadata": {
    "id": "509e4559"
   },
   "source": [
    "## Statistical estimation and error bars\n",
    "\n",
    "Often, we are interested in the average value of one variable as a function of other variables. Many seaborn functions will automatically perform the statistical estimation that is necessary to answer these questions:"
   ]
  },
  {
   "cell_type": "code",
   "execution_count": 6,
   "metadata": {
    "colab": {
     "base_uri": "https://localhost:8080/",
     "height": 206
    },
    "executionInfo": {
     "elapsed": 792,
     "status": "ok",
     "timestamp": 1627852692911,
     "user": {
      "displayName": "Filipa Peleja",
      "photoUrl": "https://lh3.googleusercontent.com/a-/AOh14GhszTFoTfss30HXvgh6Cb51DPt2cGYvQ05kK0BdSA=s64",
      "userId": "09648315126991333382"
     },
     "user_tz": -120
    },
    "id": "667e69db",
    "outputId": "3a413895-a3aa-4ae1-ab4a-399215463c6b"
   },
   "outputs": [
    {
     "data": {
      "text/html": [
       "<div>\n",
       "<style scoped>\n",
       "    .dataframe tbody tr th:only-of-type {\n",
       "        vertical-align: middle;\n",
       "    }\n",
       "\n",
       "    .dataframe tbody tr th {\n",
       "        vertical-align: top;\n",
       "    }\n",
       "\n",
       "    .dataframe thead th {\n",
       "        text-align: right;\n",
       "    }\n",
       "</style>\n",
       "<table border=\"1\" class=\"dataframe\">\n",
       "  <thead>\n",
       "    <tr style=\"text-align: right;\">\n",
       "      <th></th>\n",
       "      <th>subject</th>\n",
       "      <th>timepoint</th>\n",
       "      <th>event</th>\n",
       "      <th>region</th>\n",
       "      <th>signal</th>\n",
       "    </tr>\n",
       "  </thead>\n",
       "  <tbody>\n",
       "    <tr>\n",
       "      <th>0</th>\n",
       "      <td>s13</td>\n",
       "      <td>18</td>\n",
       "      <td>stim</td>\n",
       "      <td>parietal</td>\n",
       "      <td>-0.017552</td>\n",
       "    </tr>\n",
       "    <tr>\n",
       "      <th>1</th>\n",
       "      <td>s5</td>\n",
       "      <td>14</td>\n",
       "      <td>stim</td>\n",
       "      <td>parietal</td>\n",
       "      <td>-0.080883</td>\n",
       "    </tr>\n",
       "    <tr>\n",
       "      <th>2</th>\n",
       "      <td>s12</td>\n",
       "      <td>18</td>\n",
       "      <td>stim</td>\n",
       "      <td>parietal</td>\n",
       "      <td>-0.081033</td>\n",
       "    </tr>\n",
       "    <tr>\n",
       "      <th>3</th>\n",
       "      <td>s11</td>\n",
       "      <td>18</td>\n",
       "      <td>stim</td>\n",
       "      <td>parietal</td>\n",
       "      <td>-0.046134</td>\n",
       "    </tr>\n",
       "    <tr>\n",
       "      <th>4</th>\n",
       "      <td>s10</td>\n",
       "      <td>18</td>\n",
       "      <td>stim</td>\n",
       "      <td>parietal</td>\n",
       "      <td>-0.037970</td>\n",
       "    </tr>\n",
       "  </tbody>\n",
       "</table>\n",
       "</div>"
      ],
      "text/plain": [
       "  subject  timepoint event    region    signal\n",
       "0     s13         18  stim  parietal -0.017552\n",
       "1      s5         14  stim  parietal -0.080883\n",
       "2     s12         18  stim  parietal -0.081033\n",
       "3     s11         18  stim  parietal -0.046134\n",
       "4     s10         18  stim  parietal -0.037970"
      ]
     },
     "execution_count": 6,
     "metadata": {},
     "output_type": "execute_result"
    }
   ],
   "source": [
    "fmri_df = sns.load_dataset(\"fmri\")\n",
    "\n",
    "fmri_df.head()"
   ]
  },
  {
   "cell_type": "code",
   "execution_count": 7,
   "metadata": {
    "colab": {
     "base_uri": "https://localhost:8080/",
     "height": 382
    },
    "executionInfo": {
     "elapsed": 3590,
     "status": "ok",
     "timestamp": 1627852696492,
     "user": {
      "displayName": "Filipa Peleja",
      "photoUrl": "https://lh3.googleusercontent.com/a-/AOh14GhszTFoTfss30HXvgh6Cb51DPt2cGYvQ05kK0BdSA=s64",
      "userId": "09648315126991333382"
     },
     "user_tz": -120
    },
    "id": "1ca56d0d",
    "outputId": "ee58cace-4d46-4221-c4ba-25d66808e033"
   },
   "outputs": [],
   "source": [
    "# TODO: sns replot of fmri_df, kind is line, x timepoint, y signal, split by region\n"
   ]
  },
  {
   "cell_type": "markdown",
   "metadata": {
    "id": "37b3ce98"
   },
   "source": [
    "## Specialized plots for categorical data\n",
    "\n",
    "Several specialized plot types in seaborn are oriented towards visualizing categorical data. They can be accessed through catplot(). These plots offer different levels of granularity. At the finest level, you may wish to see every observation by drawing a “swarm” plot: a scatter plot that adjusts the positions of the points along the categorical axis so that they don’t overlap"
   ]
  },
  {
   "cell_type": "code",
   "execution_count": 8,
   "metadata": {
    "colab": {
     "base_uri": "https://localhost:8080/",
     "height": 382
    },
    "executionInfo": {
     "elapsed": 763,
     "status": "ok",
     "timestamp": 1627852698472,
     "user": {
      "displayName": "Filipa Peleja",
      "photoUrl": "https://lh3.googleusercontent.com/a-/AOh14GhszTFoTfss30HXvgh6Cb51DPt2cGYvQ05kK0BdSA=s64",
      "userId": "09648315126991333382"
     },
     "user_tz": -120
    },
    "id": "12bc9b7b",
    "outputId": "8e4c3d63-649b-4f3f-b962-9aa7250ff206"
   },
   "outputs": [
    {
     "data": {
      "image/png": "[encoded data removed]",
      "text/plain": [
       "<Figure size 412.375x360 with 1 Axes>"
      ]
     },
     "metadata": {},
     "output_type": "display_data"
    }
   ],
   "source": [
    "sns.catplot(data=tips_df,\n",
    "            kind=\"swarm\",\n",
    "            x=\"day\",\n",
    "            y=\"total_bill\",\n",
    "            hue=\"smoker\")\n",
    "\n",
    "plt.show()"
   ]
  },
  {
   "cell_type": "markdown",
   "metadata": {
    "id": "06f24391"
   },
   "source": [
    "## Alternately, you could use kernel density estimation to represent the underlying distribution that the points are sampled from"
   ]
  },
  {
   "cell_type": "code",
   "execution_count": 9,
   "metadata": {
    "colab": {
     "base_uri": "https://localhost:8080/",
     "height": 382
    },
    "executionInfo": {
     "elapsed": 637,
     "status": "ok",
     "timestamp": 1627852699103,
     "user": {
      "displayName": "Filipa Peleja",
      "photoUrl": "https://lh3.googleusercontent.com/a-/AOh14GhszTFoTfss30HXvgh6Cb51DPt2cGYvQ05kK0BdSA=s64",
      "userId": "09648315126991333382"
     },
     "user_tz": -120
    },
    "id": "d1abd1a4",
    "outputId": "19c8d3e6-b06a-4b75-ee81-f44c8ba8edb2"
   },
   "outputs": [
    {
     "data": {
      "image/png": "[encoded data removed]",
      "text/plain": [
       "<Figure size 412.375x360 with 1 Axes>"
      ]
     },
     "metadata": {},
     "output_type": "display_data"
    }
   ],
   "source": [
    "sns.catplot(data=tips_df,\n",
    "            kind=\"violin\",\n",
    "            x=\"day\",\n",
    "            y=\"total_bill\",\n",
    "            hue=\"smoker\",\n",
    "            split=True)\n",
    "\n",
    "plt.show()"
   ]
  },
  {
   "cell_type": "code",
   "execution_count": 10,
   "metadata": {
    "colab": {
     "base_uri": "https://localhost:8080/",
     "height": 382
    },
    "executionInfo": {
     "elapsed": 541,
     "status": "ok",
     "timestamp": 1627852699640,
     "user": {
      "displayName": "Filipa Peleja",
      "photoUrl": "https://lh3.googleusercontent.com/a-/AOh14GhszTFoTfss30HXvgh6Cb51DPt2cGYvQ05kK0BdSA=s64",
      "userId": "09648315126991333382"
     },
     "user_tz": -120
    },
    "id": "a222f7f2",
    "outputId": "86cc3ad9-1878-411a-afac-9f4d07a783fe"
   },
   "outputs": [
    {
     "data": {
      "image/png": "[encoded data removed]",
      "text/plain": [
       "<Figure size 412.375x360 with 1 Axes>"
      ]
     },
     "metadata": {},
     "output_type": "display_data"
    }
   ],
   "source": [
    "sns.catplot(data=tips_df,\n",
    "            kind=\"bar\",\n",
    "            x=\"day\",\n",
    "            y=\"total_bill\",\n",
    "            hue=\"smoker\")\n",
    "\n",
    "plt.show()"
   ]
  },
  {
   "cell_type": "markdown",
   "metadata": {
    "id": "5da4b6b5"
   },
   "source": [
    "## Pair Plot"
   ]
  },
  {
   "cell_type": "code",
   "execution_count": 8,
   "metadata": {
    "colab": {
     "base_uri": "https://localhost:8080/",
     "height": 725
    },
    "executionInfo": {
     "elapsed": 11046,
     "status": "ok",
     "timestamp": 1627852729623,
     "user": {
      "displayName": "Filipa Peleja",
      "photoUrl": "https://lh3.googleusercontent.com/a-/AOh14GhszTFoTfss30HXvgh6Cb51DPt2cGYvQ05kK0BdSA=s64",
      "userId": "09648315126991333382"
     },
     "user_tz": -120
    },
    "id": "1b68e3c2",
    "outputId": "8f4bd528-7308-4c0c-b1a9-b44b817b42ac"
   },
   "outputs": [],
   "source": [
    "penguins_df = sns.load_dataset(\"penguins\")\n",
    "\n",
    "# TODO: pairplot for penguins, colored by species"
   ]
  },
  {
   "cell_type": "markdown",
   "metadata": {
    "id": "c6f49153"
   },
   "source": [
    "## Pair Plot for Customer Acquisition"
   ]
  },
  {
   "cell_type": "code",
   "execution_count": 12,
   "metadata": {
    "colab": {
     "base_uri": "https://localhost:8080/",
     "height": 206
    },
    "executionInfo": {
     "elapsed": 21,
     "status": "ok",
     "timestamp": 1627852712043,
     "user": {
      "displayName": "Filipa Peleja",
      "photoUrl": "https://lh3.googleusercontent.com/a-/AOh14GhszTFoTfss30HXvgh6Cb51DPt2cGYvQ05kK0BdSA=s64",
      "userId": "09648315126991333382"
     },
     "user_tz": -120
    },
    "id": "b0982dc7",
    "outputId": "0efab128-c134-4ea8-db73-b34e3605bd37"
   },
   "outputs": [
    {
     "data": {
      "text/html": [
       "<div>\n",
       "<style scoped>\n",
       "    .dataframe tbody tr th:only-of-type {\n",
       "        vertical-align: middle;\n",
       "    }\n",
       "\n",
       "    .dataframe tbody tr th {\n",
       "        vertical-align: top;\n",
       "    }\n",
       "\n",
       "    .dataframe thead th {\n",
       "        text-align: right;\n",
       "    }\n",
       "</style>\n",
       "<table border=\"1\" class=\"dataframe\">\n",
       "  <thead>\n",
       "    <tr style=\"text-align: right;\">\n",
       "      <th></th>\n",
       "      <th>Customer</th>\n",
       "      <th>Age</th>\n",
       "      <th>City</th>\n",
       "      <th>Product</th>\n",
       "      <th>Limit</th>\n",
       "      <th>Company</th>\n",
       "      <th>Segment</th>\n",
       "    </tr>\n",
       "  </thead>\n",
       "  <tbody>\n",
       "    <tr>\n",
       "      <th>0</th>\n",
       "      <td>A1</td>\n",
       "      <td>76</td>\n",
       "      <td>BANGALORE</td>\n",
       "      <td>Gold</td>\n",
       "      <td>500000.0</td>\n",
       "      <td>C1</td>\n",
       "      <td>Self Employed</td>\n",
       "    </tr>\n",
       "    <tr>\n",
       "      <th>1</th>\n",
       "      <td>A2</td>\n",
       "      <td>71</td>\n",
       "      <td>CALCUTTA</td>\n",
       "      <td>Silver</td>\n",
       "      <td>100000.0</td>\n",
       "      <td>C2</td>\n",
       "      <td>Salaried_MNC</td>\n",
       "    </tr>\n",
       "    <tr>\n",
       "      <th>2</th>\n",
       "      <td>A3</td>\n",
       "      <td>34</td>\n",
       "      <td>COCHIN</td>\n",
       "      <td>Platimum</td>\n",
       "      <td>10000.0</td>\n",
       "      <td>C3</td>\n",
       "      <td>Salaried_Pvt</td>\n",
       "    </tr>\n",
       "    <tr>\n",
       "      <th>3</th>\n",
       "      <td>A4</td>\n",
       "      <td>47</td>\n",
       "      <td>BOMBAY</td>\n",
       "      <td>Platimum</td>\n",
       "      <td>10001.0</td>\n",
       "      <td>C4</td>\n",
       "      <td>Govt</td>\n",
       "    </tr>\n",
       "    <tr>\n",
       "      <th>4</th>\n",
       "      <td>A5</td>\n",
       "      <td>56</td>\n",
       "      <td>BANGALORE</td>\n",
       "      <td>Platimum</td>\n",
       "      <td>10002.0</td>\n",
       "      <td>C5</td>\n",
       "      <td>Normal Salary</td>\n",
       "    </tr>\n",
       "  </tbody>\n",
       "</table>\n",
       "</div>"
      ],
      "text/plain": [
       "  Customer  Age       City   Product     Limit Company        Segment\n",
       "0       A1   76  BANGALORE      Gold  500000.0      C1  Self Employed\n",
       "1       A2   71   CALCUTTA    Silver  100000.0      C2   Salaried_MNC\n",
       "2       A3   34     COCHIN  Platimum   10000.0      C3   Salaried_Pvt\n",
       "3       A4   47     BOMBAY  Platimum   10001.0      C4           Govt\n",
       "4       A5   56  BANGALORE  Platimum   10002.0      C5  Normal Salary"
      ]
     },
     "execution_count": 12,
     "metadata": {},
     "output_type": "execute_result"
    }
   ],
   "source": [
    "customer_acquisition_df = customer_acquisition_df.drop(\"No\", axis=1)\n",
    "customer_acquisition_df.head()"
   ]
  },
  {
   "cell_type": "code",
   "execution_count": 9,
   "metadata": {
    "colab": {
     "base_uri": "https://localhost:8080/",
     "height": 372
    },
    "executionInfo": {
     "elapsed": 2738,
     "status": "ok",
     "timestamp": 1627852714764,
     "user": {
      "displayName": "Filipa Peleja",
      "photoUrl": "https://lh3.googleusercontent.com/a-/AOh14GhszTFoTfss30HXvgh6Cb51DPt2cGYvQ05kK0BdSA=s64",
      "userId": "09648315126991333382"
     },
     "user_tz": -120
    },
    "id": "ffa90602",
    "outputId": "55b619d2-0fc4-4de2-e02e-c3acba358745"
   },
   "outputs": [],
   "source": [
    "# TODO: pairplot of the entire dataframe colored by Product"
   ]
  },
  {
   "cell_type": "markdown",
   "metadata": {
    "id": "d3c6d7ff"
   },
   "source": [
    "# Plotly\n",
    "\n",
    "Plotly Express is the easy-to-use, high-level interface to Plotly, which operates on a variety of types of data and produces easy-to-style figures.\n",
    "\n",
    "**Notice that Plotly allows to interact and zoom-in-out**\n",
    "\n",
    "[Documentation here](https://plotly.com/python/)"
   ]
  },
  {
   "cell_type": "markdown",
   "metadata": {
    "id": "3cad840d"
   },
   "source": [
    "## Scatter plot"
   ]
  },
  {
   "cell_type": "code",
   "execution_count": 11,
   "metadata": {
    "colab": {
     "base_uri": "https://localhost:8080/",
     "height": 542
    },
    "executionInfo": {
     "elapsed": 1241,
     "status": "ok",
     "timestamp": 1627852715997,
     "user": {
      "displayName": "Filipa Peleja",
      "photoUrl": "https://lh3.googleusercontent.com/a-/AOh14GhszTFoTfss30HXvgh6Cb51DPt2cGYvQ05kK0BdSA=s64",
      "userId": "09648315126991333382"
     },
     "user_tz": -120
    },
    "id": "e89e7d7d",
    "outputId": "090972b4-0ef9-4663-ea4a-facb3fdab3cf"
   },
   "outputs": [],
   "source": [
    "import plotly.express as px\n",
    "\n",
    "iris_df = px.data.iris()\n",
    "\n",
    "\n",
    "# TODO: plotly scatter plot for sepal_width Vs sepal_length colored by species\n"
   ]
  },
  {
   "cell_type": "markdown",
   "metadata": {
    "id": "BxGO97-tljQE"
   },
   "source": [
    "## Line"
   ]
  },
  {
   "cell_type": "code",
   "execution_count": 12,
   "metadata": {
    "executionInfo": {
     "elapsed": 175,
     "status": "ok",
     "timestamp": 1627852791866,
     "user": {
      "displayName": "Filipa Peleja",
      "photoUrl": "https://lh3.googleusercontent.com/a-/AOh14GhszTFoTfss30HXvgh6Cb51DPt2cGYvQ05kK0BdSA=s64",
      "userId": "09648315126991333382"
     },
     "user_tz": -120
    },
    "id": "0af26e05"
   },
   "outputs": [],
   "source": [
    "spend_df[\"Month\"] = pd.to_datetime(spend_df[\"Month\"])\n",
    "\n",
    "send_by_month_df = spend_df[[\"Month\", \"Amount\"]].groupby(\"Month\").sum().round()\n",
    "send_by_month_df = send_by_month_df[4:]\n",
    "send_by_month_df = send_by_month_df.reset_index()"
   ]
  },
  {
   "cell_type": "code",
   "execution_count": 13,
   "metadata": {
    "colab": {
     "base_uri": "https://localhost:8080/",
     "height": 206
    },
    "executionInfo": {
     "elapsed": 11,
     "status": "ok",
     "timestamp": 1627852817267,
     "user": {
      "displayName": "Filipa Peleja",
      "photoUrl": "https://lh3.googleusercontent.com/a-/AOh14GhszTFoTfss30HXvgh6Cb51DPt2cGYvQ05kK0BdSA=s64",
      "userId": "09648315126991333382"
     },
     "user_tz": -120
    },
    "id": "fS-c4XNRlrKC",
    "outputId": "e2ea90eb-1bef-4acc-96c9-2b31d40fdcd5"
   },
   "outputs": [
    {
     "data": {
      "text/html": [
       "<div>\n",
       "<style scoped>\n",
       "    .dataframe tbody tr th:only-of-type {\n",
       "        vertical-align: middle;\n",
       "    }\n",
       "\n",
       "    .dataframe tbody tr th {\n",
       "        vertical-align: top;\n",
       "    }\n",
       "\n",
       "    .dataframe thead th {\n",
       "        text-align: right;\n",
       "    }\n",
       "</style>\n",
       "<table border=\"1\" class=\"dataframe\">\n",
       "  <thead>\n",
       "    <tr style=\"text-align: right;\">\n",
       "      <th></th>\n",
       "      <th>Month</th>\n",
       "      <th>Amount</th>\n",
       "    </tr>\n",
       "  </thead>\n",
       "  <tbody>\n",
       "    <tr>\n",
       "      <th>0</th>\n",
       "      <td>2004-02-05</td>\n",
       "      <td>6194028.0</td>\n",
       "    </tr>\n",
       "    <tr>\n",
       "      <th>1</th>\n",
       "      <td>2004-03-19</td>\n",
       "      <td>3250046.0</td>\n",
       "    </tr>\n",
       "    <tr>\n",
       "      <th>2</th>\n",
       "      <td>2004-04-06</td>\n",
       "      <td>3158459.0</td>\n",
       "    </tr>\n",
       "    <tr>\n",
       "      <th>3</th>\n",
       "      <td>2004-04-25</td>\n",
       "      <td>3429159.0</td>\n",
       "    </tr>\n",
       "    <tr>\n",
       "      <th>4</th>\n",
       "      <td>2004-05-05</td>\n",
       "      <td>3045549.0</td>\n",
       "    </tr>\n",
       "  </tbody>\n",
       "</table>\n",
       "</div>"
      ],
      "text/plain": [
       "       Month     Amount\n",
       "0 2004-02-05  6194028.0\n",
       "1 2004-03-19  3250046.0\n",
       "2 2004-04-06  3158459.0\n",
       "3 2004-04-25  3429159.0\n",
       "4 2004-05-05  3045549.0"
      ]
     },
     "execution_count": 13,
     "metadata": {},
     "output_type": "execute_result"
    }
   ],
   "source": [
    "send_by_month_df.head()"
   ]
  },
  {
   "cell_type": "code",
   "execution_count": 15,
   "metadata": {
    "colab": {
     "base_uri": "https://localhost:8080/",
     "height": 542
    },
    "executionInfo": {
     "elapsed": 873,
     "status": "ok",
     "timestamp": 1627852920098,
     "user": {
      "displayName": "Filipa Peleja",
      "photoUrl": "https://lh3.googleusercontent.com/a-/AOh14GhszTFoTfss30HXvgh6Cb51DPt2cGYvQ05kK0BdSA=s64",
      "userId": "09648315126991333382"
     },
     "user_tz": -120
    },
    "id": "tUREIdOVll3p",
    "outputId": "760dd093-2aed-4075-f016-96c4f2f15efc"
   },
   "outputs": [],
   "source": [
    "# TODO: plotly lineplot of month Vs amount"
   ]
  },
  {
   "cell_type": "markdown",
   "metadata": {
    "id": "pgd1_oV6mNTE"
   },
   "source": [
    "## Multiple lines"
   ]
  },
  {
   "cell_type": "code",
   "execution_count": 21,
   "metadata": {
    "executionInfo": {
     "elapsed": 179,
     "status": "ok",
     "timestamp": 1627852948804,
     "user": {
      "displayName": "Filipa Peleja",
      "photoUrl": "https://lh3.googleusercontent.com/a-/AOh14GhszTFoTfss30HXvgh6Cb51DPt2cGYvQ05kK0BdSA=s64",
      "userId": "09648315126991333382"
     },
     "user_tz": -120
    },
    "id": "lmslLBTbl04B"
   },
   "outputs": [],
   "source": [
    "spend_df[\"Month\"] = pd.to_datetime(spend_df[\"Month\"])\n",
    "\n",
    "send_type_by_month_df = spend_df[[\"Month\", \"Type\", \"Amount\"]].groupby([\"Month\", \"Type\"]).sum().round()\n",
    "send_type_by_month_df = send_type_by_month_df[4:]\n",
    "send_type_by_month_df = send_type_by_month_df.reset_index()"
   ]
  },
  {
   "cell_type": "code",
   "execution_count": 22,
   "metadata": {
    "colab": {
     "base_uri": "https://localhost:8080/",
     "height": 206
    },
    "executionInfo": {
     "elapsed": 8,
     "status": "ok",
     "timestamp": 1627852968320,
     "user": {
      "displayName": "Filipa Peleja",
      "photoUrl": "https://lh3.googleusercontent.com/a-/AOh14GhszTFoTfss30HXvgh6Cb51DPt2cGYvQ05kK0BdSA=s64",
      "userId": "09648315126991333382"
     },
     "user_tz": -120
    },
    "id": "2dD6LasEmMMj",
    "outputId": "9e3160c7-6f1d-4ea3-e76b-a9cb9ee3194d"
   },
   "outputs": [
    {
     "data": {
      "text/html": [
       "<div>\n",
       "<style scoped>\n",
       "    .dataframe tbody tr th:only-of-type {\n",
       "        vertical-align: middle;\n",
       "    }\n",
       "\n",
       "    .dataframe tbody tr th {\n",
       "        vertical-align: top;\n",
       "    }\n",
       "\n",
       "    .dataframe thead th {\n",
       "        text-align: right;\n",
       "    }\n",
       "</style>\n",
       "<table border=\"1\" class=\"dataframe\">\n",
       "  <thead>\n",
       "    <tr style=\"text-align: right;\">\n",
       "      <th></th>\n",
       "      <th>Month</th>\n",
       "      <th>Type</th>\n",
       "      <th>Amount</th>\n",
       "    </tr>\n",
       "  </thead>\n",
       "  <tbody>\n",
       "    <tr>\n",
       "      <th>0</th>\n",
       "      <td>2004-01-03</td>\n",
       "      <td>CLOTHES</td>\n",
       "      <td>899928.0</td>\n",
       "    </tr>\n",
       "    <tr>\n",
       "      <th>1</th>\n",
       "      <td>2004-01-03</td>\n",
       "      <td>FOOD</td>\n",
       "      <td>3705949.0</td>\n",
       "    </tr>\n",
       "    <tr>\n",
       "      <th>2</th>\n",
       "      <td>2004-01-03</td>\n",
       "      <td>JEWELLERY</td>\n",
       "      <td>710395.0</td>\n",
       "    </tr>\n",
       "    <tr>\n",
       "      <th>3</th>\n",
       "      <td>2004-01-03</td>\n",
       "      <td>MOVIE TICKET</td>\n",
       "      <td>368574.0</td>\n",
       "    </tr>\n",
       "    <tr>\n",
       "      <th>4</th>\n",
       "      <td>2004-01-03</td>\n",
       "      <td>PETRO</td>\n",
       "      <td>3921396.0</td>\n",
       "    </tr>\n",
       "  </tbody>\n",
       "</table>\n",
       "</div>"
      ],
      "text/plain": [
       "       Month          Type     Amount\n",
       "0 2004-01-03       CLOTHES   899928.0\n",
       "1 2004-01-03          FOOD  3705949.0\n",
       "2 2004-01-03     JEWELLERY   710395.0\n",
       "3 2004-01-03  MOVIE TICKET   368574.0\n",
       "4 2004-01-03         PETRO  3921396.0"
      ]
     },
     "execution_count": 22,
     "metadata": {},
     "output_type": "execute_result"
    }
   ],
   "source": [
    "send_type_by_month_df.head()"
   ]
  },
  {
   "cell_type": "code",
   "execution_count": 23,
   "metadata": {
    "colab": {
     "base_uri": "https://localhost:8080/",
     "height": 542
    },
    "executionInfo": {
     "elapsed": 725,
     "status": "ok",
     "timestamp": 1627853025575,
     "user": {
      "displayName": "Filipa Peleja",
      "photoUrl": "https://lh3.googleusercontent.com/a-/AOh14GhszTFoTfss30HXvgh6Cb51DPt2cGYvQ05kK0BdSA=s64",
      "userId": "09648315126991333382"
     },
     "user_tz": -120
    },
    "id": "BsfA1erKmQ-c",
    "outputId": "1ac47867-0818-4ece-9a4c-47fb220def8b"
   },
   "outputs": [
    {
     "data": {
      "application/vnd.plotly.v1+json": {
       "config": {
        "plotlyServerURL": "https://plot.ly"
       },
       "data": [
        {
         "hovertemplate": "Type=CLOTHES<br>Month=%{x}<br>Amount=%{y}<extra></extra>",
         "legendgroup": "CLOTHES",
         "line": {
          "color": "#636efa",
          "dash": "solid"
         },
         "marker": {
          "symbol": "circle"
         },
         "mode": "lines",
         "name": "CLOTHES",
         "orientation": "v",
         "showlegend": true,
         "type": "scatter",
         "x": [
          "2004-01-03T00:00:00",
          "2004-01-12T00:00:00",
          "2004-01-15T00:00:00",
          "2004-01-25T00:00:00",
          "2004-02-05T00:00:00",
          "2004-03-19T00:00:00",
          "2005-01-17T00:00:00",
          "2005-02-01T00:00:00",
          "2005-02-03T00:00:00",
          "2005-02-16T00:00:00",
          "2005-02-23T00:00:00",
          "2005-02-28T00:00:00",
          "2005-04-27T00:00:00",
          "2005-05-09T00:00:00",
          "2005-05-24T00:00:00",
          "2005-05-30T00:00:00",
          "2005-06-01T00:00:00",
          "2005-06-03T00:00:00",
          "2005-11-03T00:00:00",
          "2006-02-04T00:00:00",
          "2006-03-05T00:00:00",
          "2006-03-23T00:00:00",
          "2006-03-24T00:00:00",
          "2006-03-25T00:00:00",
          "2006-03-26T00:00:00",
          "2006-03-27T00:00:00",
          "2006-03-28T00:00:00",
          "2006-03-29T00:00:00",
          "2006-03-30T00:00:00",
          "2006-03-31T00:00:00",
          "2006-04-03T00:00:00",
          "2006-04-19T00:00:00",
          "2006-09-03T00:00:00",
          "2006-12-03T00:00:00"
         ],
         "xaxis": "x",
         "y": [
          899928,
          2063747,
          2929394,
          322409,
          505015,
          149173,
          119033,
          756218,
          474112,
          224800,
          1301036,
          1364032,
          79149,
          1699825,
          319919,
          724452,
          81202,
          433241,
          512790,
          513804,
          179085,
          837779,
          304228,
          2136053,
          60184,
          122305,
          446364,
          259755,
          710350,
          2501387,
          89952,
          423672,
          115355,
          991355
         ],
         "yaxis": "y"
        },
        {
         "hovertemplate": "Type=FOOD<br>Month=%{x}<br>Amount=%{y}<extra></extra>",
         "legendgroup": "FOOD",
         "line": {
          "color": "#EF553B",
          "dash": "solid"
         },
         "marker": {
          "symbol": "circle"
         },
         "mode": "lines",
         "name": "FOOD",
         "orientation": "v",
         "showlegend": true,
         "type": "scatter",
         "x": [
          "2004-01-03T00:00:00",
          "2004-01-12T00:00:00",
          "2004-01-15T00:00:00",
          "2004-01-25T00:00:00",
          "2004-02-05T00:00:00",
          "2004-03-19T00:00:00",
          "2004-04-06T00:00:00",
          "2004-04-25T00:00:00",
          "2004-05-05T00:00:00",
          "2004-09-13T00:00:00",
          "2004-11-23T00:00:00",
          "2005-01-17T00:00:00",
          "2005-02-01T00:00:00",
          "2005-02-03T00:00:00",
          "2005-02-16T00:00:00",
          "2005-02-23T00:00:00",
          "2005-02-28T00:00:00",
          "2005-04-04T00:00:00",
          "2005-04-27T00:00:00",
          "2005-05-07T00:00:00",
          "2005-05-09T00:00:00",
          "2005-05-24T00:00:00",
          "2005-05-25T00:00:00",
          "2005-05-26T00:00:00",
          "2005-05-27T00:00:00",
          "2005-05-28T00:00:00",
          "2005-05-29T00:00:00",
          "2005-05-30T00:00:00",
          "2005-05-31T00:00:00",
          "2005-06-01T00:00:00",
          "2005-06-02T00:00:00",
          "2005-06-03T00:00:00",
          "2005-07-03T00:00:00",
          "2005-08-03T00:00:00",
          "2005-08-12T00:00:00",
          "2005-11-20T00:00:00",
          "2005-11-22T00:00:00",
          "2005-12-03T00:00:00",
          "2006-02-04T00:00:00",
          "2006-03-05T00:00:00",
          "2006-03-23T00:00:00",
          "2006-03-24T00:00:00",
          "2006-03-25T00:00:00",
          "2006-03-26T00:00:00",
          "2006-03-27T00:00:00",
          "2006-03-28T00:00:00",
          "2006-03-29T00:00:00",
          "2006-03-30T00:00:00",
          "2006-03-31T00:00:00",
          "2006-04-01T00:00:00",
          "2006-04-02T00:00:00",
          "2006-04-04T00:00:00",
          "2006-04-19T00:00:00",
          "2006-04-30T00:00:00",
          "2006-05-06T00:00:00",
          "2006-05-08T00:00:00",
          "2006-05-10T00:00:00",
          "2006-07-11T00:00:00",
          "2006-10-03T00:00:00",
          "2006-11-21T00:00:00"
         ],
         "xaxis": "x",
         "y": [
          3705949,
          3367631,
          2064165,
          2400546,
          300032,
          361901,
          472743,
          231655,
          353619,
          681117,
          391871,
          320125,
          44371,
          544529,
          843469,
          650401,
          80275,
          757415,
          240214,
          244777,
          498240,
          496073,
          532459,
          751670,
          434017,
          609948,
          303232,
          277913,
          758900,
          766651,
          496726,
          273207,
          425846,
          75080,
          271122,
          428863,
          85859,
          468004,
          493254,
          155439,
          1693909,
          301003,
          602392,
          382310,
          315600,
          493201,
          76838,
          338873,
          2456906,
          236231,
          147604,
          341859,
          462854,
          344071,
          129743,
          204502,
          1997049,
          491888,
          73921,
          23276
         ],
         "yaxis": "y"
        },
        {
         "hovertemplate": "Type=JEWELLERY<br>Month=%{x}<br>Amount=%{y}<extra></extra>",
         "legendgroup": "JEWELLERY",
         "line": {
          "color": "#00cc96",
          "dash": "solid"
         },
         "marker": {
          "symbol": "circle"
         },
         "mode": "lines",
         "name": "JEWELLERY",
         "orientation": "v",
         "showlegend": true,
         "type": "scatter",
         "x": [
          "2004-01-03T00:00:00",
          "2004-01-12T00:00:00",
          "2004-01-15T00:00:00",
          "2004-01-25T00:00:00",
          "2004-02-05T00:00:00",
          "2004-03-19T00:00:00",
          "2004-04-06T00:00:00",
          "2004-04-25T00:00:00",
          "2004-05-05T00:00:00",
          "2005-01-17T00:00:00",
          "2005-02-01T00:00:00",
          "2005-02-03T00:00:00",
          "2005-02-16T00:00:00",
          "2005-02-23T00:00:00",
          "2005-02-28T00:00:00",
          "2005-04-04T00:00:00",
          "2005-04-27T00:00:00",
          "2005-05-07T00:00:00",
          "2005-05-09T00:00:00",
          "2005-05-28T00:00:00",
          "2005-06-01T00:00:00",
          "2005-09-03T00:00:00",
          "2005-11-22T00:00:00",
          "2006-02-04T00:00:00",
          "2006-03-05T00:00:00",
          "2006-03-23T00:00:00",
          "2006-03-25T00:00:00",
          "2006-03-31T00:00:00",
          "2006-04-01T00:00:00",
          "2006-04-03T00:00:00",
          "2006-04-19T00:00:00",
          "2006-04-30T00:00:00",
          "2006-05-06T00:00:00",
          "2006-05-08T00:00:00",
          "2006-05-10T00:00:00",
          "2006-07-03T00:00:00",
          "2006-07-11T00:00:00",
          "2006-10-03T00:00:00",
          "2006-12-03T00:00:00"
         ],
         "xaxis": "x",
         "y": [
          710395,
          3137573,
          458842,
          806746,
          343726,
          468872,
          91769,
          333535,
          139648,
          79291,
          717014,
          1123655,
          59949,
          702669,
          93341,
          218305,
          129642,
          1711421,
          224260,
          1042246,
          319538,
          244021,
          401960,
          969511,
          51936,
          301746,
          348861,
          219557,
          24972,
          1522502,
          310849,
          853414,
          192843,
          116196,
          240007,
          246889,
          474908,
          1780857,
          1028930
         ],
         "yaxis": "y"
        },
        {
         "hovertemplate": "Type=MOVIE TICKET<br>Month=%{x}<br>Amount=%{y}<extra></extra>",
         "legendgroup": "MOVIE TICKET",
         "line": {
          "color": "#ab63fa",
          "dash": "solid"
         },
         "marker": {
          "symbol": "circle"
         },
         "mode": "lines",
         "name": "MOVIE TICKET",
         "orientation": "v",
         "showlegend": true,
         "type": "scatter",
         "x": [
          "2004-01-03T00:00:00",
          "2004-01-15T00:00:00",
          "2004-01-25T00:00:00",
          "2004-04-25T00:00:00",
          "2005-02-03T00:00:00",
          "2005-02-23T00:00:00",
          "2005-05-27T00:00:00",
          "2005-05-31T00:00:00",
          "2005-08-03T00:00:00",
          "2005-09-03T00:00:00",
          "2005-10-03T00:00:00",
          "2005-11-03T00:00:00",
          "2005-11-20T00:00:00",
          "2005-12-03T00:00:00",
          "2006-01-03T00:00:00",
          "2006-02-03T00:00:00",
          "2006-03-03T00:00:00",
          "2006-03-25T00:00:00",
          "2006-03-31T00:00:00",
          "2006-04-02T00:00:00",
          "2006-04-03T00:00:00",
          "2006-04-04T00:00:00",
          "2006-05-06T00:00:00",
          "2006-05-08T00:00:00",
          "2006-06-03T00:00:00",
          "2006-09-03T00:00:00",
          "2006-11-03T00:00:00",
          "2006-11-21T00:00:00"
         ],
         "xaxis": "x",
         "y": [
          368574,
          776418,
          1503861,
          100962,
          1356358,
          3008617,
          822476,
          365725,
          596314,
          82300,
          21788,
          258133,
          109130,
          85236,
          1941005,
          15200,
          327359,
          132133,
          426394,
          1630598,
          92101,
          474557,
          2394758,
          497348,
          285129,
          1037806,
          807621,
          126929
         ],
         "yaxis": "y"
        },
        {
         "hovertemplate": "Type=PETRO<br>Month=%{x}<br>Amount=%{y}<extra></extra>",
         "legendgroup": "PETRO",
         "line": {
          "color": "#FFA15A",
          "dash": "solid"
         },
         "marker": {
          "symbol": "circle"
         },
         "mode": "lines",
         "name": "PETRO",
         "orientation": "v",
         "showlegend": true,
         "type": "scatter",
         "x": [
          "2004-01-03T00:00:00",
          "2004-01-12T00:00:00",
          "2004-01-15T00:00:00",
          "2004-01-25T00:00:00",
          "2004-02-05T00:00:00",
          "2004-03-19T00:00:00",
          "2004-04-06T00:00:00",
          "2004-04-25T00:00:00",
          "2004-09-13T00:00:00",
          "2004-11-23T00:00:00",
          "2005-01-17T00:00:00",
          "2005-02-01T00:00:00",
          "2005-02-03T00:00:00",
          "2005-02-16T00:00:00",
          "2005-02-23T00:00:00",
          "2005-02-28T00:00:00",
          "2005-04-04T00:00:00",
          "2005-05-09T00:00:00",
          "2005-05-24T00:00:00",
          "2005-05-25T00:00:00",
          "2005-05-26T00:00:00",
          "2005-05-27T00:00:00",
          "2005-05-28T00:00:00",
          "2005-05-29T00:00:00",
          "2005-05-30T00:00:00",
          "2005-05-31T00:00:00",
          "2005-06-01T00:00:00",
          "2005-06-02T00:00:00",
          "2005-06-03T00:00:00",
          "2005-07-03T00:00:00",
          "2005-08-03T00:00:00",
          "2005-08-12T00:00:00",
          "2005-09-03T00:00:00",
          "2005-10-03T00:00:00",
          "2005-11-03T00:00:00",
          "2005-11-20T00:00:00",
          "2005-11-22T00:00:00",
          "2005-12-03T00:00:00",
          "2006-01-03T00:00:00",
          "2006-02-03T00:00:00",
          "2006-02-04T00:00:00",
          "2006-03-05T00:00:00",
          "2006-03-23T00:00:00",
          "2006-03-24T00:00:00",
          "2006-03-25T00:00:00",
          "2006-03-26T00:00:00",
          "2006-03-27T00:00:00",
          "2006-03-28T00:00:00",
          "2006-03-29T00:00:00",
          "2006-03-30T00:00:00",
          "2006-03-31T00:00:00",
          "2006-04-01T00:00:00",
          "2006-04-02T00:00:00",
          "2006-04-03T00:00:00",
          "2006-04-04T00:00:00",
          "2006-04-30T00:00:00",
          "2006-05-08T00:00:00",
          "2006-05-10T00:00:00",
          "2006-07-11T00:00:00",
          "2006-08-03T00:00:00",
          "2006-11-03T00:00:00",
          "2006-11-21T00:00:00",
          "2006-12-03T00:00:00"
         ],
         "xaxis": "x",
         "y": [
          3921396,
          1825956,
          1016589,
          1016433,
          920138,
          644332,
          35196,
          443530,
          1316050,
          1267163,
          1335641,
          1252824,
          508100,
          240474,
          1658814,
          71919,
          496359,
          485375,
          715724,
          645687,
          637343,
          108439,
          274522,
          1326997,
          1021288,
          669788,
          576385,
          440337,
          918271,
          270664,
          369035,
          812315,
          284342,
          1110549,
          327555,
          1268446,
          931578,
          286816,
          205898,
          126283,
          2887256,
          472066,
          809523,
          51157,
          2311252,
          498505,
          21927,
          339195,
          371353,
          222354,
          855790,
          144779,
          698517,
          454645,
          1241659,
          173753,
          1898974,
          667867,
          732224,
          423935,
          1439343,
          532073,
          830474
         ],
         "yaxis": "y"
        },
        {
         "hovertemplate": "Type=RENTAL<br>Month=%{x}<br>Amount=%{y}<extra></extra>",
         "legendgroup": "RENTAL",
         "line": {
          "color": "#19d3f3",
          "dash": "solid"
         },
         "marker": {
          "symbol": "circle"
         },
         "mode": "lines",
         "name": "RENTAL",
         "orientation": "v",
         "showlegend": true,
         "type": "scatter",
         "x": [
          "2004-01-03T00:00:00",
          "2004-01-12T00:00:00",
          "2004-01-15T00:00:00",
          "2004-01-25T00:00:00",
          "2004-05-05T00:00:00",
          "2004-09-13T00:00:00",
          "2005-01-17T00:00:00",
          "2005-02-16T00:00:00",
          "2005-02-23T00:00:00",
          "2005-05-07T00:00:00",
          "2005-05-26T00:00:00",
          "2005-05-30T00:00:00",
          "2005-07-03T00:00:00",
          "2005-11-20T00:00:00",
          "2005-12-03T00:00:00",
          "2006-02-04T00:00:00",
          "2006-03-25T00:00:00",
          "2006-03-30T00:00:00",
          "2006-04-01T00:00:00",
          "2006-04-03T00:00:00",
          "2006-04-30T00:00:00",
          "2006-05-03T00:00:00",
          "2006-08-03T00:00:00",
          "2006-09-03T00:00:00",
          "2006-10-03T00:00:00",
          "2006-11-03T00:00:00",
          "2006-12-03T00:00:00"
         ],
         "xaxis": "x",
         "y": [
          783014,
          444420,
          1658033,
          403947,
          1489650,
          226272,
          722068,
          827651,
          759558,
          285185,
          1404839,
          188172,
          671631,
          266949,
          714518,
          445304,
          9510,
          483887,
          1295673,
          452296,
          42484,
          65444,
          1550897,
          299702,
          791867,
          439845,
          226412
         ],
         "yaxis": "y"
        },
        {
         "hovertemplate": "Type=SANDALS<br>Month=%{x}<br>Amount=%{y}<extra></extra>",
         "legendgroup": "SANDALS",
         "line": {
          "color": "#FF6692",
          "dash": "solid"
         },
         "marker": {
          "symbol": "circle"
         },
         "mode": "lines",
         "name": "SANDALS",
         "orientation": "v",
         "showlegend": true,
         "type": "scatter",
         "x": [
          "2004-01-03T00:00:00",
          "2004-01-15T00:00:00",
          "2004-03-19T00:00:00",
          "2004-05-05T00:00:00",
          "2005-02-03T00:00:00",
          "2005-02-23T00:00:00",
          "2005-08-12T00:00:00",
          "2005-09-03T00:00:00",
          "2005-11-22T00:00:00",
          "2006-02-03T00:00:00",
          "2006-03-24T00:00:00",
          "2006-03-31T00:00:00",
          "2006-04-02T00:00:00",
          "2006-12-03T00:00:00"
         ],
         "xaxis": "x",
         "y": [
          312714,
          804441,
          47867,
          446040,
          93033,
          168286,
          1575417,
          249497,
          200228,
          202045,
          1240392,
          405913,
          271867,
          393514
         ],
         "yaxis": "y"
        },
        {
         "hovertemplate": "Type=SHOPPING<br>Month=%{x}<br>Amount=%{y}<extra></extra>",
         "legendgroup": "SHOPPING",
         "line": {
          "color": "#B6E880",
          "dash": "solid"
         },
         "marker": {
          "symbol": "circle"
         },
         "mode": "lines",
         "name": "SHOPPING",
         "orientation": "v",
         "showlegend": true,
         "type": "scatter",
         "x": [
          "2004-01-03T00:00:00",
          "2004-01-12T00:00:00",
          "2004-01-15T00:00:00",
          "2004-01-25T00:00:00",
          "2004-02-05T00:00:00",
          "2004-04-06T00:00:00",
          "2004-04-25T00:00:00",
          "2005-01-17T00:00:00",
          "2005-02-01T00:00:00",
          "2005-02-03T00:00:00",
          "2005-02-16T00:00:00",
          "2005-02-23T00:00:00",
          "2005-02-28T00:00:00",
          "2005-05-09T00:00:00",
          "2005-05-26T00:00:00",
          "2005-05-31T00:00:00",
          "2005-08-03T00:00:00",
          "2005-10-03T00:00:00",
          "2005-11-22T00:00:00",
          "2006-01-03T00:00:00",
          "2006-02-04T00:00:00",
          "2006-03-23T00:00:00",
          "2006-03-25T00:00:00",
          "2006-03-26T00:00:00",
          "2006-03-28T00:00:00",
          "2006-03-29T00:00:00",
          "2006-03-30T00:00:00",
          "2006-03-31T00:00:00",
          "2006-04-01T00:00:00",
          "2006-04-02T00:00:00",
          "2006-04-03T00:00:00",
          "2006-04-04T00:00:00",
          "2006-05-10T00:00:00",
          "2006-06-03T00:00:00"
         ],
         "xaxis": "x",
         "y": [
          2160447,
          2382547,
          2718219,
          1407041,
          668879,
          440317,
          1463109,
          316103,
          1397702,
          353922,
          281787,
          1140743,
          286964,
          18877,
          227792,
          161189,
          1161133,
          115489,
          1996611,
          343549,
          499270,
          243960,
          490167,
          177942,
          1436654,
          294035,
          702123,
          744762,
          164339,
          428879,
          2463964,
          218928,
          496915,
          805994
         ],
         "yaxis": "y"
        },
        {
         "hovertemplate": "Type=TRAIN TICKET<br>Month=%{x}<br>Amount=%{y}<extra></extra>",
         "legendgroup": "TRAIN TICKET",
         "line": {
          "color": "#FF97FF",
          "dash": "solid"
         },
         "marker": {
          "symbol": "circle"
         },
         "mode": "lines",
         "name": "TRAIN TICKET",
         "orientation": "v",
         "showlegend": true,
         "type": "scatter",
         "x": [
          "2004-01-03T00:00:00",
          "2004-01-12T00:00:00",
          "2004-01-25T00:00:00",
          "2004-03-19T00:00:00",
          "2004-04-06T00:00:00",
          "2004-04-25T00:00:00",
          "2004-05-05T00:00:00",
          "2004-09-13T00:00:00",
          "2005-02-03T00:00:00",
          "2005-02-16T00:00:00",
          "2005-02-23T00:00:00",
          "2005-02-28T00:00:00",
          "2005-04-04T00:00:00",
          "2005-04-27T00:00:00",
          "2005-05-07T00:00:00",
          "2005-05-09T00:00:00",
          "2005-05-25T00:00:00",
          "2005-05-29T00:00:00",
          "2005-06-03T00:00:00",
          "2005-08-12T00:00:00",
          "2005-11-03T00:00:00",
          "2005-11-20T00:00:00",
          "2005-11-22T00:00:00",
          "2006-02-04T00:00:00",
          "2006-03-05T00:00:00",
          "2006-03-23T00:00:00",
          "2006-03-24T00:00:00",
          "2006-03-25T00:00:00",
          "2006-03-26T00:00:00",
          "2006-03-29T00:00:00",
          "2006-03-31T00:00:00",
          "2006-04-02T00:00:00",
          "2006-04-03T00:00:00",
          "2006-04-19T00:00:00",
          "2006-04-30T00:00:00",
          "2006-05-06T00:00:00",
          "2006-05-08T00:00:00",
          "2006-05-10T00:00:00",
          "2006-07-03T00:00:00",
          "2006-07-11T00:00:00",
          "2006-08-03T00:00:00",
          "2006-09-03T00:00:00",
          "2006-10-03T00:00:00",
          "2006-11-03T00:00:00",
          "2006-11-21T00:00:00",
          "2006-12-03T00:00:00"
         ],
         "xaxis": "x",
         "y": [
          1406812,
          640794,
          938974,
          211312,
          510334,
          372764,
          255450,
          742836,
          1225779,
          2187217,
          1000817,
          1706139,
          896391,
          2015609,
          467342,
          257904,
          649625,
          162417,
          533249,
          455361,
          1478085,
          349814,
          443898,
          1094495,
          535902,
          618399,
          398350,
          1467812,
          446845,
          166439,
          2455052,
          176373,
          252719,
          389513,
          618729,
          526527,
          454863,
          221259,
          2828853,
          150834,
          35328,
          664095,
          212422,
          390356,
          26965,
          26025
         ],
         "yaxis": "y"
        },
        {
         "hovertemplate": "Type=AIR TICKET<br>Month=%{x}<br>Amount=%{y}<extra></extra>",
         "legendgroup": "AIR TICKET",
         "line": {
          "color": "#FECB52",
          "dash": "solid"
         },
         "marker": {
          "symbol": "circle"
         },
         "mode": "lines",
         "name": "AIR TICKET",
         "orientation": "v",
         "showlegend": true,
         "type": "scatter",
         "x": [
          "2004-01-12T00:00:00",
          "2004-01-15T00:00:00",
          "2004-01-25T00:00:00",
          "2004-02-05T00:00:00",
          "2004-03-19T00:00:00",
          "2004-11-23T00:00:00",
          "2005-01-17T00:00:00",
          "2005-02-01T00:00:00",
          "2005-02-03T00:00:00",
          "2005-02-16T00:00:00",
          "2005-02-23T00:00:00",
          "2005-02-28T00:00:00",
          "2005-04-27T00:00:00",
          "2005-05-24T00:00:00",
          "2005-05-25T00:00:00",
          "2005-05-26T00:00:00",
          "2005-05-27T00:00:00",
          "2005-05-28T00:00:00",
          "2005-05-29T00:00:00",
          "2005-05-30T00:00:00",
          "2005-05-31T00:00:00",
          "2005-06-01T00:00:00",
          "2005-06-02T00:00:00",
          "2005-06-03T00:00:00",
          "2005-07-03T00:00:00",
          "2005-08-03T00:00:00",
          "2005-08-12T00:00:00",
          "2005-09-03T00:00:00",
          "2005-10-03T00:00:00",
          "2005-11-03T00:00:00",
          "2005-12-03T00:00:00",
          "2006-01-03T00:00:00",
          "2006-02-03T00:00:00",
          "2006-02-04T00:00:00",
          "2006-03-03T00:00:00",
          "2006-03-27T00:00:00",
          "2006-03-29T00:00:00",
          "2006-03-30T00:00:00",
          "2006-03-31T00:00:00",
          "2006-04-01T00:00:00",
          "2006-04-02T00:00:00",
          "2006-04-03T00:00:00",
          "2006-04-19T00:00:00",
          "2006-05-03T00:00:00",
          "2006-05-10T00:00:00",
          "2006-06-03T00:00:00",
          "2006-07-03T00:00:00",
          "2006-07-11T00:00:00",
          "2006-08-03T00:00:00",
          "2006-09-03T00:00:00"
         ],
         "xaxis": "x",
         "y": [
          811927,
          975621,
          2136262,
          1468081,
          274364,
          1292592,
          556695,
          2561945,
          30066,
          428252,
          874144,
          689694,
          205930,
          447697,
          236571,
          457918,
          964959,
          626084,
          511368,
          494089,
          421320,
          1273516,
          290446,
          268099,
          152889,
          70049,
          487681,
          1560342,
          223294,
          307908,
          354761,
          854119,
          428235,
          31049,
          94740,
          124862,
          1484764,
          103998,
          687292,
          124341,
          124054,
          385074,
          1209443,
          2050980,
          24400,
          180907,
          1142276,
          100425,
          835528,
          102324
         ],
         "yaxis": "y"
        },
        {
         "hovertemplate": "Type=AUTO<br>Month=%{x}<br>Amount=%{y}<extra></extra>",
         "legendgroup": "AUTO",
         "line": {
          "color": "#636efa",
          "dash": "solid"
         },
         "marker": {
          "symbol": "circle"
         },
         "mode": "lines",
         "name": "AUTO",
         "orientation": "v",
         "showlegend": true,
         "type": "scatter",
         "x": [
          "2004-01-12T00:00:00",
          "2004-01-15T00:00:00",
          "2005-02-23T00:00:00",
          "2005-02-28T00:00:00",
          "2005-05-25T00:00:00",
          "2005-12-03T00:00:00",
          "2006-03-03T00:00:00",
          "2006-03-25T00:00:00",
          "2006-03-27T00:00:00",
          "2006-03-31T00:00:00",
          "2006-04-30T00:00:00",
          "2006-05-03T00:00:00",
          "2006-05-08T00:00:00",
          "2006-11-21T00:00:00",
          "2006-12-03T00:00:00"
         ],
         "xaxis": "x",
         "y": [
          637377,
          199745,
          1445276,
          38270,
          117691,
          155708,
          2102120,
          379402,
          1065914,
          478891,
          354504,
          228142,
          66432,
          448728,
          289884
         ],
         "yaxis": "y"
        },
        {
         "hovertemplate": "Type=BUS TICKET<br>Month=%{x}<br>Amount=%{y}<extra></extra>",
         "legendgroup": "BUS TICKET",
         "line": {
          "color": "#EF553B",
          "dash": "solid"
         },
         "marker": {
          "symbol": "circle"
         },
         "mode": "lines",
         "name": "BUS TICKET",
         "orientation": "v",
         "showlegend": true,
         "type": "scatter",
         "x": [
          "2004-01-12T00:00:00",
          "2004-01-15T00:00:00",
          "2004-01-25T00:00:00",
          "2004-02-05T00:00:00",
          "2004-04-06T00:00:00",
          "2004-05-05T00:00:00",
          "2004-09-13T00:00:00",
          "2004-11-23T00:00:00",
          "2005-02-03T00:00:00",
          "2005-02-16T00:00:00",
          "2005-02-23T00:00:00",
          "2005-02-28T00:00:00",
          "2005-05-24T00:00:00",
          "2005-05-25T00:00:00",
          "2005-05-26T00:00:00",
          "2005-05-27T00:00:00",
          "2005-05-28T00:00:00",
          "2005-05-29T00:00:00",
          "2005-06-02T00:00:00",
          "2005-08-12T00:00:00",
          "2005-10-03T00:00:00",
          "2005-11-20T00:00:00",
          "2005-11-22T00:00:00",
          "2006-02-04T00:00:00",
          "2006-03-03T00:00:00",
          "2006-03-05T00:00:00",
          "2006-03-23T00:00:00",
          "2006-03-24T00:00:00",
          "2006-03-25T00:00:00",
          "2006-03-28T00:00:00",
          "2006-03-30T00:00:00",
          "2006-03-31T00:00:00",
          "2006-04-01T00:00:00",
          "2006-06-03T00:00:00",
          "2006-07-11T00:00:00",
          "2006-08-03T00:00:00",
          "2006-11-21T00:00:00"
         ],
         "xaxis": "x",
         "y": [
          2166145,
          1477672,
          901050,
          1832594,
          1608099,
          361141,
          316499,
          346943,
          314592,
          468684,
          474945,
          1258937,
          1912947,
          589026,
          555995,
          468227,
          596808,
          843979,
          329282,
          206451,
          1201964,
          379398,
          377132,
          356873,
          324423,
          210649,
          80594,
          194448,
          204971,
          398874,
          869441,
          50449,
          341157,
          1209503,
          272112,
          524108,
          186080
         ],
         "yaxis": "y"
        },
        {
         "hovertemplate": "Type=CAMERA<br>Month=%{x}<br>Amount=%{y}<extra></extra>",
         "legendgroup": "CAMERA",
         "line": {
          "color": "#00cc96",
          "dash": "solid"
         },
         "marker": {
          "symbol": "circle"
         },
         "mode": "lines",
         "name": "CAMERA",
         "orientation": "v",
         "showlegend": true,
         "type": "scatter",
         "x": [
          "2004-01-12T00:00:00",
          "2004-01-15T00:00:00",
          "2004-01-25T00:00:00",
          "2004-03-19T00:00:00",
          "2004-04-25T00:00:00",
          "2005-01-17T00:00:00",
          "2005-02-01T00:00:00",
          "2005-02-03T00:00:00",
          "2005-02-23T00:00:00",
          "2005-04-04T00:00:00",
          "2005-04-27T00:00:00",
          "2005-05-07T00:00:00",
          "2005-05-09T00:00:00",
          "2005-05-28T00:00:00",
          "2005-05-29T00:00:00",
          "2005-05-30T00:00:00",
          "2005-06-01T00:00:00",
          "2005-06-02T00:00:00",
          "2005-06-03T00:00:00",
          "2005-07-03T00:00:00",
          "2005-08-03T00:00:00",
          "2005-09-03T00:00:00",
          "2006-01-03T00:00:00",
          "2006-02-04T00:00:00",
          "2006-03-05T00:00:00",
          "2006-03-23T00:00:00",
          "2006-03-24T00:00:00",
          "2006-03-25T00:00:00",
          "2006-03-26T00:00:00",
          "2006-03-27T00:00:00",
          "2006-03-28T00:00:00",
          "2006-03-29T00:00:00",
          "2006-03-31T00:00:00",
          "2006-04-01T00:00:00",
          "2006-04-19T00:00:00",
          "2006-04-30T00:00:00",
          "2006-05-06T00:00:00",
          "2006-05-08T00:00:00",
          "2006-07-11T00:00:00",
          "2006-11-03T00:00:00",
          "2006-11-21T00:00:00"
         ],
         "xaxis": "x",
         "y": [
          3144212,
          3794337,
          3628710,
          1092224,
          483603,
          2986276,
          90754,
          259016,
          1142264,
          1567209,
          328845,
          442439,
          177294,
          22964,
          335299,
          489050,
          737219,
          1413572,
          1881959,
          1686602,
          464613,
          220824,
          604241,
          190192,
          1251884,
          2483499,
          77748,
          744539,
          50155,
          391478,
          249003,
          334433,
          312064,
          265164,
          104548,
          1676749,
          468501,
          275775,
          1609733,
          180693,
          156630
         ],
         "yaxis": "y"
        },
        {
         "hovertemplate": "Type=CAR<br>Month=%{x}<br>Amount=%{y}<extra></extra>",
         "legendgroup": "CAR",
         "line": {
          "color": "#ab63fa",
          "dash": "solid"
         },
         "marker": {
          "symbol": "circle"
         },
         "mode": "lines",
         "name": "CAR",
         "orientation": "v",
         "showlegend": true,
         "type": "scatter",
         "x": [
          "2004-01-12T00:00:00",
          "2004-01-15T00:00:00",
          "2004-01-25T00:00:00",
          "2004-09-13T00:00:00",
          "2004-11-23T00:00:00",
          "2005-02-01T00:00:00",
          "2005-10-03T00:00:00",
          "2006-02-04T00:00:00",
          "2006-03-03T00:00:00",
          "2006-03-05T00:00:00",
          "2006-03-23T00:00:00",
          "2006-03-25T00:00:00",
          "2006-04-03T00:00:00",
          "2006-05-06T00:00:00",
          "2006-10-03T00:00:00"
         ],
         "xaxis": "x",
         "y": [
          177418,
          240402,
          1830222,
          1070153,
          139815,
          23370,
          50877,
          435235,
          533576,
          173876,
          474797,
          1511936,
          165218,
          6589,
          446842
         ],
         "yaxis": "y"
        },
        {
         "hovertemplate": "Type=BIKE<br>Month=%{x}<br>Amount=%{y}<extra></extra>",
         "legendgroup": "BIKE",
         "line": {
          "color": "#FFA15A",
          "dash": "solid"
         },
         "marker": {
          "symbol": "circle"
         },
         "mode": "lines",
         "name": "BIKE",
         "orientation": "v",
         "showlegend": true,
         "type": "scatter",
         "x": [
          "2004-01-25T00:00:00",
          "2004-02-05T00:00:00",
          "2004-11-23T00:00:00",
          "2005-01-17T00:00:00",
          "2005-04-04T00:00:00",
          "2005-05-07T00:00:00",
          "2005-05-24T00:00:00",
          "2005-05-25T00:00:00",
          "2005-05-26T00:00:00",
          "2005-05-27T00:00:00",
          "2005-05-28T00:00:00",
          "2005-05-29T00:00:00",
          "2005-05-30T00:00:00",
          "2005-05-31T00:00:00",
          "2005-11-03T00:00:00",
          "2005-11-20T00:00:00",
          "2005-11-22T00:00:00",
          "2006-02-03T00:00:00",
          "2006-03-24T00:00:00",
          "2006-03-25T00:00:00",
          "2006-03-26T00:00:00",
          "2006-04-03T00:00:00",
          "2006-04-04T00:00:00",
          "2006-11-03T00:00:00",
          "2006-11-21T00:00:00"
         ],
         "xaxis": "x",
         "y": [
          54730,
          155563,
          348426,
          1761526,
          126009,
          275144,
          660990,
          110111,
          55927,
          31689,
          224580,
          453314,
          226498,
          121469,
          395079,
          1466281,
          32325,
          1974040,
          175660,
          110077,
          1451272,
          158740,
          498735,
          28139,
          332877
         ],
         "yaxis": "y"
        }
       ],
       "layout": {
        "legend": {
         "title": {
          "text": "Type"
         },
         "tracegroupgap": 0
        },
        "margin": {
         "t": 60
        },
        "template": {
         "data": {
          "bar": [
           {
            "error_x": {
             "color": "#2a3f5f"
            },
            "error_y": {
             "color": "#2a3f5f"
            },
            "marker": {
             "line": {
              "color": "#E5ECF6",
              "width": 0.5
             },
             "pattern": {
              "fillmode": "overlay",
              "size": 10,
              "solidity": 0.2
             }
            },
            "type": "bar"
           }
          ],
          "barpolar": [
           {
            "marker": {
             "line": {
              "color": "#E5ECF6",
              "width": 0.5
             },
             "pattern": {
              "fillmode": "overlay",
              "size": 10,
              "solidity": 0.2
             }
            },
            "type": "barpolar"
           }
          ],
          "carpet": [
           {
            "aaxis": {
             "endlinecolor": "#2a3f5f",
             "gridcolor": "white",
             "linecolor": "white",
             "minorgridcolor": "white",
             "startlinecolor": "#2a3f5f"
            },
            "baxis": {
             "endlinecolor": "#2a3f5f",
             "gridcolor": "white",
             "linecolor": "white",
             "minorgridcolor": "white",
             "startlinecolor": "#2a3f5f"
            },
            "type": "carpet"
           }
          ],
          "choropleth": [
           {
            "colorbar": {
             "outlinewidth": 0,
             "ticks": ""
            },
            "type": "choropleth"
           }
          ],
          "contour": [
           {
            "colorbar": {
             "outlinewidth": 0,
             "ticks": ""
            },
            "colorscale": [
             [
              0,
              "#0d0887"
             ],
             [
              0.1111111111111111,
              "#46039f"
             ],
             [
              0.2222222222222222,
              "#7201a8"
             ],
             [
              0.3333333333333333,
              "#9c179e"
             ],
             [
              0.4444444444444444,
              "#bd3786"
             ],
             [
              0.5555555555555556,
              "#d8576b"
             ],
             [
              0.6666666666666666,
              "#ed7953"
             ],
             [
              0.7777777777777778,
              "#fb9f3a"
             ],
             [
              0.8888888888888888,
              "#fdca26"
             ],
             [
              1,
              "#f0f921"
             ]
            ],
            "type": "contour"
           }
          ],
          "contourcarpet": [
           {
            "colorbar": {
             "outlinewidth": 0,
             "ticks": ""
            },
            "type": "contourcarpet"
           }
          ],
          "heatmap": [
           {
            "colorbar": {
             "outlinewidth": 0,
             "ticks": ""
            },
            "colorscale": [
             [
              0,
              "#0d0887"
             ],
             [
              0.1111111111111111,
              "#46039f"
             ],
             [
              0.2222222222222222,
              "#7201a8"
             ],
             [
              0.3333333333333333,
              "#9c179e"
             ],
             [
              0.4444444444444444,
              "#bd3786"
             ],
             [
              0.5555555555555556,
              "#d8576b"
             ],
             [
              0.6666666666666666,
              "#ed7953"
             ],
             [
              0.7777777777777778,
              "#fb9f3a"
             ],
             [
              0.8888888888888888,
              "#fdca26"
             ],
             [
              1,
              "#f0f921"
             ]
            ],
            "type": "heatmap"
           }
          ],
          "heatmapgl": [
           {
            "colorbar": {
             "outlinewidth": 0,
             "ticks": ""
            },
            "colorscale": [
             [
              0,
              "#0d0887"
             ],
             [
              0.1111111111111111,
              "#46039f"
             ],
             [
              0.2222222222222222,
              "#7201a8"
             ],
             [
              0.3333333333333333,
              "#9c179e"
             ],
             [
              0.4444444444444444,
              "#bd3786"
             ],
             [
              0.5555555555555556,
              "#d8576b"
             ],
             [
              0.6666666666666666,
              "#ed7953"
             ],
             [
              0.7777777777777778,
              "#fb9f3a"
             ],
             [
              0.8888888888888888,
              "#fdca26"
             ],
             [
              1,
              "#f0f921"
             ]
            ],
            "type": "heatmapgl"
           }
          ],
          "histogram": [
           {
            "marker": {
             "pattern": {
              "fillmode": "overlay",
              "size": 10,
              "solidity": 0.2
             }
            },
            "type": "histogram"
           }
          ],
          "histogram2d": [
           {
            "colorbar": {
             "outlinewidth": 0,
             "ticks": ""
            },
            "colorscale": [
             [
              0,
              "#0d0887"
             ],
             [
              0.1111111111111111,
              "#46039f"
             ],
             [
              0.2222222222222222,
              "#7201a8"
             ],
             [
              0.3333333333333333,
              "#9c179e"
             ],
             [
              0.4444444444444444,
              "#bd3786"
             ],
             [
              0.5555555555555556,
              "#d8576b"
             ],
             [
              0.6666666666666666,
              "#ed7953"
             ],
             [
              0.7777777777777778,
              "#fb9f3a"
             ],
             [
              0.8888888888888888,
              "#fdca26"
             ],
             [
              1,
              "#f0f921"
             ]
            ],
            "type": "histogram2d"
           }
          ],
          "histogram2dcontour": [
           {
            "colorbar": {
             "outlinewidth": 0,
             "ticks": ""
            },
            "colorscale": [
             [
              0,
              "#0d0887"
             ],
             [
              0.1111111111111111,
              "#46039f"
             ],
             [
              0.2222222222222222,
              "#7201a8"
             ],
             [
              0.3333333333333333,
              "#9c179e"
             ],
             [
              0.4444444444444444,
              "#bd3786"
             ],
             [
              0.5555555555555556,
              "#d8576b"
             ],
             [
              0.6666666666666666,
              "#ed7953"
             ],
             [
              0.7777777777777778,
              "#fb9f3a"
             ],
             [
              0.8888888888888888,
              "#fdca26"
             ],
             [
              1,
              "#f0f921"
             ]
            ],
            "type": "histogram2dcontour"
           }
          ],
          "mesh3d": [
           {
            "colorbar": {
             "outlinewidth": 0,
             "ticks": ""
            },
            "type": "mesh3d"
           }
          ],
          "parcoords": [
           {
            "line": {
             "colorbar": {
              "outlinewidth": 0,
              "ticks": ""
             }
            },
            "type": "parcoords"
           }
          ],
          "pie": [
           {
            "automargin": true,
            "type": "pie"
           }
          ],
          "scatter": [
           {
            "marker": {
             "colorbar": {
              "outlinewidth": 0,
              "ticks": ""
             }
            },
            "type": "scatter"
           }
          ],
          "scatter3d": [
           {
            "line": {
             "colorbar": {
              "outlinewidth": 0,
              "ticks": ""
             }
            },
            "marker": {
             "colorbar": {
              "outlinewidth": 0,
              "ticks": ""
             }
            },
            "type": "scatter3d"
           }
          ],
          "scattercarpet": [
           {
            "marker": {
             "colorbar": {
              "outlinewidth": 0,
              "ticks": ""
             }
            },
            "type": "scattercarpet"
           }
          ],
          "scattergeo": [
           {
            "marker": {
             "colorbar": {
              "outlinewidth": 0,
              "ticks": ""
             }
            },
            "type": "scattergeo"
           }
          ],
          "scattergl": [
           {
            "marker": {
             "colorbar": {
              "outlinewidth": 0,
              "ticks": ""
             }
            },
            "type": "scattergl"
           }
          ],
          "scattermapbox": [
           {
            "marker": {
             "colorbar": {
              "outlinewidth": 0,
              "ticks": ""
             }
            },
            "type": "scattermapbox"
           }
          ],
          "scatterpolar": [
           {
            "marker": {
             "colorbar": {
              "outlinewidth": 0,
              "ticks": ""
             }
            },
            "type": "scatterpolar"
           }
          ],
          "scatterpolargl": [
           {
            "marker": {
             "colorbar": {
              "outlinewidth": 0,
              "ticks": ""
             }
            },
            "type": "scatterpolargl"
           }
          ],
          "scatterternary": [
           {
            "marker": {
             "colorbar": {
              "outlinewidth": 0,
              "ticks": ""
             }
            },
            "type": "scatterternary"
           }
          ],
          "surface": [
           {
            "colorbar": {
             "outlinewidth": 0,
             "ticks": ""
            },
            "colorscale": [
             [
              0,
              "#0d0887"
             ],
             [
              0.1111111111111111,
              "#46039f"
             ],
             [
              0.2222222222222222,
              "#7201a8"
             ],
             [
              0.3333333333333333,
              "#9c179e"
             ],
             [
              0.4444444444444444,
              "#bd3786"
             ],
             [
              0.5555555555555556,
              "#d8576b"
             ],
             [
              0.6666666666666666,
              "#ed7953"
             ],
             [
              0.7777777777777778,
              "#fb9f3a"
             ],
             [
              0.8888888888888888,
              "#fdca26"
             ],
             [
              1,
              "#f0f921"
             ]
            ],
            "type": "surface"
           }
          ],
          "table": [
           {
            "cells": {
             "fill": {
              "color": "#EBF0F8"
             },
             "line": {
              "color": "white"
             }
            },
            "header": {
             "fill": {
              "color": "#C8D4E3"
             },
             "line": {
              "color": "white"
             }
            },
            "type": "table"
           }
          ]
         },
         "layout": {
          "annotationdefaults": {
           "arrowcolor": "#2a3f5f",
           "arrowhead": 0,
           "arrowwidth": 1
          },
          "autotypenumbers": "strict",
          "coloraxis": {
           "colorbar": {
            "outlinewidth": 0,
            "ticks": ""
           }
          },
          "colorscale": {
           "diverging": [
            [
             0,
             "#8e0152"
            ],
            [
             0.1,
             "#c51b7d"
            ],
            [
             0.2,
             "#de77ae"
            ],
            [
             0.3,
             "#f1b6da"
            ],
            [
             0.4,
             "#fde0ef"
            ],
            [
             0.5,
             "#f7f7f7"
            ],
            [
             0.6,
             "#e6f5d0"
            ],
            [
             0.7,
             "#b8e186"
            ],
            [
             0.8,
             "#7fbc41"
            ],
            [
             0.9,
             "#4d9221"
            ],
            [
             1,
             "#276419"
            ]
           ],
           "sequential": [
            [
             0,
             "#0d0887"
            ],
            [
             0.1111111111111111,
             "#46039f"
            ],
            [
             0.2222222222222222,
             "#7201a8"
            ],
            [
             0.3333333333333333,
             "#9c179e"
            ],
            [
             0.4444444444444444,
             "#bd3786"
            ],
            [
             0.5555555555555556,
             "#d8576b"
            ],
            [
             0.6666666666666666,
             "#ed7953"
            ],
            [
             0.7777777777777778,
             "#fb9f3a"
            ],
            [
             0.8888888888888888,
             "#fdca26"
            ],
            [
             1,
             "#f0f921"
            ]
           ],
           "sequentialminus": [
            [
             0,
             "#0d0887"
            ],
            [
             0.1111111111111111,
             "#46039f"
            ],
            [
             0.2222222222222222,
             "#7201a8"
            ],
            [
             0.3333333333333333,
             "#9c179e"
            ],
            [
             0.4444444444444444,
             "#bd3786"
            ],
            [
             0.5555555555555556,
             "#d8576b"
            ],
            [
             0.6666666666666666,
             "#ed7953"
            ],
            [
             0.7777777777777778,
             "#fb9f3a"
            ],
            [
             0.8888888888888888,
             "#fdca26"
            ],
            [
             1,
             "#f0f921"
            ]
           ]
          },
          "colorway": [
           "#636efa",
           "#EF553B",
           "#00cc96",
           "#ab63fa",
           "#FFA15A",
           "#19d3f3",
           "#FF6692",
           "#B6E880",
           "#FF97FF",
           "#FECB52"
          ],
          "font": {
           "color": "#2a3f5f"
          },
          "geo": {
           "bgcolor": "white",
           "lakecolor": "white",
           "landcolor": "#E5ECF6",
           "showlakes": true,
           "showland": true,
           "subunitcolor": "white"
          },
          "hoverlabel": {
           "align": "left"
          },
          "hovermode": "closest",
          "mapbox": {
           "style": "light"
          },
          "paper_bgcolor": "white",
          "plot_bgcolor": "#E5ECF6",
          "polar": {
           "angularaxis": {
            "gridcolor": "white",
            "linecolor": "white",
            "ticks": ""
           },
           "bgcolor": "#E5ECF6",
           "radialaxis": {
            "gridcolor": "white",
            "linecolor": "white",
            "ticks": ""
           }
          },
          "scene": {
           "xaxis": {
            "backgroundcolor": "#E5ECF6",
            "gridcolor": "white",
            "gridwidth": 2,
            "linecolor": "white",
            "showbackground": true,
            "ticks": "",
            "zerolinecolor": "white"
           },
           "yaxis": {
            "backgroundcolor": "#E5ECF6",
            "gridcolor": "white",
            "gridwidth": 2,
            "linecolor": "white",
            "showbackground": true,
            "ticks": "",
            "zerolinecolor": "white"
           },
           "zaxis": {
            "backgroundcolor": "#E5ECF6",
            "gridcolor": "white",
            "gridwidth": 2,
            "linecolor": "white",
            "showbackground": true,
            "ticks": "",
            "zerolinecolor": "white"
           }
          },
          "shapedefaults": {
           "line": {
            "color": "#2a3f5f"
           }
          },
          "ternary": {
           "aaxis": {
            "gridcolor": "white",
            "linecolor": "white",
            "ticks": ""
           },
           "baxis": {
            "gridcolor": "white",
            "linecolor": "white",
            "ticks": ""
           },
           "bgcolor": "#E5ECF6",
           "caxis": {
            "gridcolor": "white",
            "linecolor": "white",
            "ticks": ""
           }
          },
          "title": {
           "x": 0.05
          },
          "xaxis": {
           "automargin": true,
           "gridcolor": "white",
           "linecolor": "white",
           "ticks": "",
           "title": {
            "standoff": 15
           },
           "zerolinecolor": "white",
           "zerolinewidth": 2
          },
          "yaxis": {
           "automargin": true,
           "gridcolor": "white",
           "linecolor": "white",
           "ticks": "",
           "title": {
            "standoff": 15
           },
           "zerolinecolor": "white",
           "zerolinewidth": 2
          }
         }
        },
        "xaxis": {
         "anchor": "y",
         "domain": [
          0,
          1
         ],
         "title": {
          "text": "Month"
         }
        },
        "yaxis": {
         "anchor": "x",
         "domain": [
          0,
          1
         ],
         "title": {
          "text": "Amount"
         }
        }
       }
      },
      "text/html": [
       "<div>                            <div id=\"8c299970-2578-4c5b-a7b0-b0359ef5668c\" class=\"plotly-graph-div\" style=\"height:525px; width:100%;\"></div>            <script type=\"text/javascript\">                require([\"plotly\"], function(Plotly) {                    window.PLOTLYENV=window.PLOTLYENV || {};                                    if (document.getElementById(\"8c299970-2578-4c5b-a7b0-b0359ef5668c\")) {                    Plotly.newPlot(                        \"8c299970-2578-4c5b-a7b0-b0359ef5668c\",                        [{\"hovertemplate\":\"Type=CLOTHES<br>Month=%{x}<br>Amount=%{y}<extra></extra>\",\"legendgroup\":\"CLOTHES\",\"line\":{\"color\":\"#636efa\",\"dash\":\"solid\"},\"marker\":{\"symbol\":\"circle\"},\"mode\":\"lines\",\"name\":\"CLOTHES\",\"orientation\":\"v\",\"showlegend\":true,\"x\":[\"2004-01-03T00:00:00\",\"2004-01-12T00:00:00\",\"2004-01-15T00:00:00\",\"2004-01-25T00:00:00\",\"2004-02-05T00:00:00\",\"2004-03-19T00:00:00\",\"2005-01-17T00:00:00\",\"2005-02-01T00:00:00\",\"2005-02-03T00:00:00\",\"2005-02-16T00:00:00\",\"2005-02-23T00:00:00\",\"2005-02-28T00:00:00\",\"2005-04-27T00:00:00\",\"2005-05-09T00:00:00\",\"2005-05-24T00:00:00\",\"2005-05-30T00:00:00\",\"2005-06-01T00:00:00\",\"2005-06-03T00:00:00\",\"2005-11-03T00:00:00\",\"2006-02-04T00:00:00\",\"2006-03-05T00:00:00\",\"2006-03-23T00:00:00\",\"2006-03-24T00:00:00\",\"2006-03-25T00:00:00\",\"2006-03-26T00:00:00\",\"2006-03-27T00:00:00\",\"2006-03-28T00:00:00\",\"2006-03-29T00:00:00\",\"2006-03-30T00:00:00\",\"2006-03-31T00:00:00\",\"2006-04-03T00:00:00\",\"2006-04-19T00:00:00\",\"2006-09-03T00:00:00\",\"2006-12-03T00:00:00\"],\"xaxis\":\"x\",\"y\":[899928.0,2063747.0,2929394.0,322409.0,505015.0,149173.0,119033.0,756218.0,474112.0,224800.0,1301036.0,1364032.0,79149.0,1699825.0,319919.0,724452.0,81202.0,433241.0,512790.0,513804.0,179085.0,837779.0,304228.0,2136053.0,60184.0,122305.0,446364.0,259755.0,710350.0,2501387.0,89952.0,423672.0,115355.0,991355.0],\"yaxis\":\"y\",\"type\":\"scatter\"},{\"hovertemplate\":\"Type=FOOD<br>Month=%{x}<br>Amount=%{y}<extra></extra>\",\"legendgroup\":\"FOOD\",\"line\":{\"color\":\"#EF553B\",\"dash\":\"solid\"},\"marker\":{\"symbol\":\"circle\"},\"mode\":\"lines\",\"name\":\"FOOD\",\"orientation\":\"v\",\"showlegend\":true,\"x\":[\"2004-01-03T00:00:00\",\"2004-01-12T00:00:00\",\"2004-01-15T00:00:00\",\"2004-01-25T00:00:00\",\"2004-02-05T00:00:00\",\"2004-03-19T00:00:00\",\"2004-04-06T00:00:00\",\"2004-04-25T00:00:00\",\"2004-05-05T00:00:00\",\"2004-09-13T00:00:00\",\"2004-11-23T00:00:00\",\"2005-01-17T00:00:00\",\"2005-02-01T00:00:00\",\"2005-02-03T00:00:00\",\"2005-02-16T00:00:00\",\"2005-02-23T00:00:00\",\"2005-02-28T00:00:00\",\"2005-04-04T00:00:00\",\"2005-04-27T00:00:00\",\"2005-05-07T00:00:00\",\"2005-05-09T00:00:00\",\"2005-05-24T00:00:00\",\"2005-05-25T00:00:00\",\"2005-05-26T00:00:00\",\"2005-05-27T00:00:00\",\"2005-05-28T00:00:00\",\"2005-05-29T00:00:00\",\"2005-05-30T00:00:00\",\"2005-05-31T00:00:00\",\"2005-06-01T00:00:00\",\"2005-06-02T00:00:00\",\"2005-06-03T00:00:00\",\"2005-07-03T00:00:00\",\"2005-08-03T00:00:00\",\"2005-08-12T00:00:00\",\"2005-11-20T00:00:00\",\"2005-11-22T00:00:00\",\"2005-12-03T00:00:00\",\"2006-02-04T00:00:00\",\"2006-03-05T00:00:00\",\"2006-03-23T00:00:00\",\"2006-03-24T00:00:00\",\"2006-03-25T00:00:00\",\"2006-03-26T00:00:00\",\"2006-03-27T00:00:00\",\"2006-03-28T00:00:00\",\"2006-03-29T00:00:00\",\"2006-03-30T00:00:00\",\"2006-03-31T00:00:00\",\"2006-04-01T00:00:00\",\"2006-04-02T00:00:00\",\"2006-04-04T00:00:00\",\"2006-04-19T00:00:00\",\"2006-04-30T00:00:00\",\"2006-05-06T00:00:00\",\"2006-05-08T00:00:00\",\"2006-05-10T00:00:00\",\"2006-07-11T00:00:00\",\"2006-10-03T00:00:00\",\"2006-11-21T00:00:00\"],\"xaxis\":\"x\",\"y\":[3705949.0,3367631.0,2064165.0,2400546.0,300032.0,361901.0,472743.0,231655.0,353619.0,681117.0,391871.0,320125.0,44371.0,544529.0,843469.0,650401.0,80275.0,757415.0,240214.0,244777.0,498240.0,496073.0,532459.0,751670.0,434017.0,609948.0,303232.0,277913.0,758900.0,766651.0,496726.0,273207.0,425846.0,75080.0,271122.0,428863.0,85859.0,468004.0,493254.0,155439.0,1693909.0,301003.0,602392.0,382310.0,315600.0,493201.0,76838.0,338873.0,2456906.0,236231.0,147604.0,341859.0,462854.0,344071.0,129743.0,204502.0,1997049.0,491888.0,73921.0,23276.0],\"yaxis\":\"y\",\"type\":\"scatter\"},{\"hovertemplate\":\"Type=JEWELLERY<br>Month=%{x}<br>Amount=%{y}<extra></extra>\",\"legendgroup\":\"JEWELLERY\",\"line\":{\"color\":\"#00cc96\",\"dash\":\"solid\"},\"marker\":{\"symbol\":\"circle\"},\"mode\":\"lines\",\"name\":\"JEWELLERY\",\"orientation\":\"v\",\"showlegend\":true,\"x\":[\"2004-01-03T00:00:00\",\"2004-01-12T00:00:00\",\"2004-01-15T00:00:00\",\"2004-01-25T00:00:00\",\"2004-02-05T00:00:00\",\"2004-03-19T00:00:00\",\"2004-04-06T00:00:00\",\"2004-04-25T00:00:00\",\"2004-05-05T00:00:00\",\"2005-01-17T00:00:00\",\"2005-02-01T00:00:00\",\"2005-02-03T00:00:00\",\"2005-02-16T00:00:00\",\"2005-02-23T00:00:00\",\"2005-02-28T00:00:00\",\"2005-04-04T00:00:00\",\"2005-04-27T00:00:00\",\"2005-05-07T00:00:00\",\"2005-05-09T00:00:00\",\"2005-05-28T00:00:00\",\"2005-06-01T00:00:00\",\"2005-09-03T00:00:00\",\"2005-11-22T00:00:00\",\"2006-02-04T00:00:00\",\"2006-03-05T00:00:00\",\"2006-03-23T00:00:00\",\"2006-03-25T00:00:00\",\"2006-03-31T00:00:00\",\"2006-04-01T00:00:00\",\"2006-04-03T00:00:00\",\"2006-04-19T00:00:00\",\"2006-04-30T00:00:00\",\"2006-05-06T00:00:00\",\"2006-05-08T00:00:00\",\"2006-05-10T00:00:00\",\"2006-07-03T00:00:00\",\"2006-07-11T00:00:00\",\"2006-10-03T00:00:00\",\"2006-12-03T00:00:00\"],\"xaxis\":\"x\",\"y\":[710395.0,3137573.0,458842.0,806746.0,343726.0,468872.0,91769.0,333535.0,139648.0,79291.0,717014.0,1123655.0,59949.0,702669.0,93341.0,218305.0,129642.0,1711421.0,224260.0,1042246.0,319538.0,244021.0,401960.0,969511.0,51936.0,301746.0,348861.0,219557.0,24972.0,1522502.0,310849.0,853414.0,192843.0,116196.0,240007.0,246889.0,474908.0,1780857.0,1028930.0],\"yaxis\":\"y\",\"type\":\"scatter\"},{\"hovertemplate\":\"Type=MOVIE TICKET<br>Month=%{x}<br>Amount=%{y}<extra></extra>\",\"legendgroup\":\"MOVIE TICKET\",\"line\":{\"color\":\"#ab63fa\",\"dash\":\"solid\"},\"marker\":{\"symbol\":\"circle\"},\"mode\":\"lines\",\"name\":\"MOVIE TICKET\",\"orientation\":\"v\",\"showlegend\":true,\"x\":[\"2004-01-03T00:00:00\",\"2004-01-15T00:00:00\",\"2004-01-25T00:00:00\",\"2004-04-25T00:00:00\",\"2005-02-03T00:00:00\",\"2005-02-23T00:00:00\",\"2005-05-27T00:00:00\",\"2005-05-31T00:00:00\",\"2005-08-03T00:00:00\",\"2005-09-03T00:00:00\",\"2005-10-03T00:00:00\",\"2005-11-03T00:00:00\",\"2005-11-20T00:00:00\",\"2005-12-03T00:00:00\",\"2006-01-03T00:00:00\",\"2006-02-03T00:00:00\",\"2006-03-03T00:00:00\",\"2006-03-25T00:00:00\",\"2006-03-31T00:00:00\",\"2006-04-02T00:00:00\",\"2006-04-03T00:00:00\",\"2006-04-04T00:00:00\",\"2006-05-06T00:00:00\",\"2006-05-08T00:00:00\",\"2006-06-03T00:00:00\",\"2006-09-03T00:00:00\",\"2006-11-03T00:00:00\",\"2006-11-21T00:00:00\"],\"xaxis\":\"x\",\"y\":[368574.0,776418.0,1503861.0,100962.0,1356358.0,3008617.0,822476.0,365725.0,596314.0,82300.0,21788.0,258133.0,109130.0,85236.0,1941005.0,15200.0,327359.0,132133.0,426394.0,1630598.0,92101.0,474557.0,2394758.0,497348.0,285129.0,1037806.0,807621.0,126929.0],\"yaxis\":\"y\",\"type\":\"scatter\"},{\"hovertemplate\":\"Type=PETRO<br>Month=%{x}<br>Amount=%{y}<extra></extra>\",\"legendgroup\":\"PETRO\",\"line\":{\"color\":\"#FFA15A\",\"dash\":\"solid\"},\"marker\":{\"symbol\":\"circle\"},\"mode\":\"lines\",\"name\":\"PETRO\",\"orientation\":\"v\",\"showlegend\":true,\"x\":[\"2004-01-03T00:00:00\",\"2004-01-12T00:00:00\",\"2004-01-15T00:00:00\",\"2004-01-25T00:00:00\",\"2004-02-05T00:00:00\",\"2004-03-19T00:00:00\",\"2004-04-06T00:00:00\",\"2004-04-25T00:00:00\",\"2004-09-13T00:00:00\",\"2004-11-23T00:00:00\",\"2005-01-17T00:00:00\",\"2005-02-01T00:00:00\",\"2005-02-03T00:00:00\",\"2005-02-16T00:00:00\",\"2005-02-23T00:00:00\",\"2005-02-28T00:00:00\",\"2005-04-04T00:00:00\",\"2005-05-09T00:00:00\",\"2005-05-24T00:00:00\",\"2005-05-25T00:00:00\",\"2005-05-26T00:00:00\",\"2005-05-27T00:00:00\",\"2005-05-28T00:00:00\",\"2005-05-29T00:00:00\",\"2005-05-30T00:00:00\",\"2005-05-31T00:00:00\",\"2005-06-01T00:00:00\",\"2005-06-02T00:00:00\",\"2005-06-03T00:00:00\",\"2005-07-03T00:00:00\",\"2005-08-03T00:00:00\",\"2005-08-12T00:00:00\",\"2005-09-03T00:00:00\",\"2005-10-03T00:00:00\",\"2005-11-03T00:00:00\",\"2005-11-20T00:00:00\",\"2005-11-22T00:00:00\",\"2005-12-03T00:00:00\",\"2006-01-03T00:00:00\",\"2006-02-03T00:00:00\",\"2006-02-04T00:00:00\",\"2006-03-05T00:00:00\",\"2006-03-23T00:00:00\",\"2006-03-24T00:00:00\",\"2006-03-25T00:00:00\",\"2006-03-26T00:00:00\",\"2006-03-27T00:00:00\",\"2006-03-28T00:00:00\",\"2006-03-29T00:00:00\",\"2006-03-30T00:00:00\",\"2006-03-31T00:00:00\",\"2006-04-01T00:00:00\",\"2006-04-02T00:00:00\",\"2006-04-03T00:00:00\",\"2006-04-04T00:00:00\",\"2006-04-30T00:00:00\",\"2006-05-08T00:00:00\",\"2006-05-10T00:00:00\",\"2006-07-11T00:00:00\",\"2006-08-03T00:00:00\",\"2006-11-03T00:00:00\",\"2006-11-21T00:00:00\",\"2006-12-03T00:00:00\"],\"xaxis\":\"x\",\"y\":[3921396.0,1825956.0,1016589.0,1016433.0,920138.0,644332.0,35196.0,443530.0,1316050.0,1267163.0,1335641.0,1252824.0,508100.0,240474.0,1658814.0,71919.0,496359.0,485375.0,715724.0,645687.0,637343.0,108439.0,274522.0,1326997.0,1021288.0,669788.0,576385.0,440337.0,918271.0,270664.0,369035.0,812315.0,284342.0,1110549.0,327555.0,1268446.0,931578.0,286816.0,205898.0,126283.0,2887256.0,472066.0,809523.0,51157.0,2311252.0,498505.0,21927.0,339195.0,371353.0,222354.0,855790.0,144779.0,698517.0,454645.0,1241659.0,173753.0,1898974.0,667867.0,732224.0,423935.0,1439343.0,532073.0,830474.0],\"yaxis\":\"y\",\"type\":\"scatter\"},{\"hovertemplate\":\"Type=RENTAL<br>Month=%{x}<br>Amount=%{y}<extra></extra>\",\"legendgroup\":\"RENTAL\",\"line\":{\"color\":\"#19d3f3\",\"dash\":\"solid\"},\"marker\":{\"symbol\":\"circle\"},\"mode\":\"lines\",\"name\":\"RENTAL\",\"orientation\":\"v\",\"showlegend\":true,\"x\":[\"2004-01-03T00:00:00\",\"2004-01-12T00:00:00\",\"2004-01-15T00:00:00\",\"2004-01-25T00:00:00\",\"2004-05-05T00:00:00\",\"2004-09-13T00:00:00\",\"2005-01-17T00:00:00\",\"2005-02-16T00:00:00\",\"2005-02-23T00:00:00\",\"2005-05-07T00:00:00\",\"2005-05-26T00:00:00\",\"2005-05-30T00:00:00\",\"2005-07-03T00:00:00\",\"2005-11-20T00:00:00\",\"2005-12-03T00:00:00\",\"2006-02-04T00:00:00\",\"2006-03-25T00:00:00\",\"2006-03-30T00:00:00\",\"2006-04-01T00:00:00\",\"2006-04-03T00:00:00\",\"2006-04-30T00:00:00\",\"2006-05-03T00:00:00\",\"2006-08-03T00:00:00\",\"2006-09-03T00:00:00\",\"2006-10-03T00:00:00\",\"2006-11-03T00:00:00\",\"2006-12-03T00:00:00\"],\"xaxis\":\"x\",\"y\":[783014.0,444420.0,1658033.0,403947.0,1489650.0,226272.0,722068.0,827651.0,759558.0,285185.0,1404839.0,188172.0,671631.0,266949.0,714518.0,445304.0,9510.0,483887.0,1295673.0,452296.0,42484.0,65444.0,1550897.0,299702.0,791867.0,439845.0,226412.0],\"yaxis\":\"y\",\"type\":\"scatter\"},{\"hovertemplate\":\"Type=SANDALS<br>Month=%{x}<br>Amount=%{y}<extra></extra>\",\"legendgroup\":\"SANDALS\",\"line\":{\"color\":\"#FF6692\",\"dash\":\"solid\"},\"marker\":{\"symbol\":\"circle\"},\"mode\":\"lines\",\"name\":\"SANDALS\",\"orientation\":\"v\",\"showlegend\":true,\"x\":[\"2004-01-03T00:00:00\",\"2004-01-15T00:00:00\",\"2004-03-19T00:00:00\",\"2004-05-05T00:00:00\",\"2005-02-03T00:00:00\",\"2005-02-23T00:00:00\",\"2005-08-12T00:00:00\",\"2005-09-03T00:00:00\",\"2005-11-22T00:00:00\",\"2006-02-03T00:00:00\",\"2006-03-24T00:00:00\",\"2006-03-31T00:00:00\",\"2006-04-02T00:00:00\",\"2006-12-03T00:00:00\"],\"xaxis\":\"x\",\"y\":[312714.0,804441.0,47867.0,446040.0,93033.0,168286.0,1575417.0,249497.0,200228.0,202045.0,1240392.0,405913.0,271867.0,393514.0],\"yaxis\":\"y\",\"type\":\"scatter\"},{\"hovertemplate\":\"Type=SHOPPING<br>Month=%{x}<br>Amount=%{y}<extra></extra>\",\"legendgroup\":\"SHOPPING\",\"line\":{\"color\":\"#B6E880\",\"dash\":\"solid\"},\"marker\":{\"symbol\":\"circle\"},\"mode\":\"lines\",\"name\":\"SHOPPING\",\"orientation\":\"v\",\"showlegend\":true,\"x\":[\"2004-01-03T00:00:00\",\"2004-01-12T00:00:00\",\"2004-01-15T00:00:00\",\"2004-01-25T00:00:00\",\"2004-02-05T00:00:00\",\"2004-04-06T00:00:00\",\"2004-04-25T00:00:00\",\"2005-01-17T00:00:00\",\"2005-02-01T00:00:00\",\"2005-02-03T00:00:00\",\"2005-02-16T00:00:00\",\"2005-02-23T00:00:00\",\"2005-02-28T00:00:00\",\"2005-05-09T00:00:00\",\"2005-05-26T00:00:00\",\"2005-05-31T00:00:00\",\"2005-08-03T00:00:00\",\"2005-10-03T00:00:00\",\"2005-11-22T00:00:00\",\"2006-01-03T00:00:00\",\"2006-02-04T00:00:00\",\"2006-03-23T00:00:00\",\"2006-03-25T00:00:00\",\"2006-03-26T00:00:00\",\"2006-03-28T00:00:00\",\"2006-03-29T00:00:00\",\"2006-03-30T00:00:00\",\"2006-03-31T00:00:00\",\"2006-04-01T00:00:00\",\"2006-04-02T00:00:00\",\"2006-04-03T00:00:00\",\"2006-04-04T00:00:00\",\"2006-05-10T00:00:00\",\"2006-06-03T00:00:00\"],\"xaxis\":\"x\",\"y\":[2160447.0,2382547.0,2718219.0,1407041.0,668879.0,440317.0,1463109.0,316103.0,1397702.0,353922.0,281787.0,1140743.0,286964.0,18877.0,227792.0,161189.0,1161133.0,115489.0,1996611.0,343549.0,499270.0,243960.0,490167.0,177942.0,1436654.0,294035.0,702123.0,744762.0,164339.0,428879.0,2463964.0,218928.0,496915.0,805994.0],\"yaxis\":\"y\",\"type\":\"scatter\"},{\"hovertemplate\":\"Type=TRAIN TICKET<br>Month=%{x}<br>Amount=%{y}<extra></extra>\",\"legendgroup\":\"TRAIN TICKET\",\"line\":{\"color\":\"#FF97FF\",\"dash\":\"solid\"},\"marker\":{\"symbol\":\"circle\"},\"mode\":\"lines\",\"name\":\"TRAIN TICKET\",\"orientation\":\"v\",\"showlegend\":true,\"x\":[\"2004-01-03T00:00:00\",\"2004-01-12T00:00:00\",\"2004-01-25T00:00:00\",\"2004-03-19T00:00:00\",\"2004-04-06T00:00:00\",\"2004-04-25T00:00:00\",\"2004-05-05T00:00:00\",\"2004-09-13T00:00:00\",\"2005-02-03T00:00:00\",\"2005-02-16T00:00:00\",\"2005-02-23T00:00:00\",\"2005-02-28T00:00:00\",\"2005-04-04T00:00:00\",\"2005-04-27T00:00:00\",\"2005-05-07T00:00:00\",\"2005-05-09T00:00:00\",\"2005-05-25T00:00:00\",\"2005-05-29T00:00:00\",\"2005-06-03T00:00:00\",\"2005-08-12T00:00:00\",\"2005-11-03T00:00:00\",\"2005-11-20T00:00:00\",\"2005-11-22T00:00:00\",\"2006-02-04T00:00:00\",\"2006-03-05T00:00:00\",\"2006-03-23T00:00:00\",\"2006-03-24T00:00:00\",\"2006-03-25T00:00:00\",\"2006-03-26T00:00:00\",\"2006-03-29T00:00:00\",\"2006-03-31T00:00:00\",\"2006-04-02T00:00:00\",\"2006-04-03T00:00:00\",\"2006-04-19T00:00:00\",\"2006-04-30T00:00:00\",\"2006-05-06T00:00:00\",\"2006-05-08T00:00:00\",\"2006-05-10T00:00:00\",\"2006-07-03T00:00:00\",\"2006-07-11T00:00:00\",\"2006-08-03T00:00:00\",\"2006-09-03T00:00:00\",\"2006-10-03T00:00:00\",\"2006-11-03T00:00:00\",\"2006-11-21T00:00:00\",\"2006-12-03T00:00:00\"],\"xaxis\":\"x\",\"y\":[1406812.0,640794.0,938974.0,211312.0,510334.0,372764.0,255450.0,742836.0,1225779.0,2187217.0,1000817.0,1706139.0,896391.0,2015609.0,467342.0,257904.0,649625.0,162417.0,533249.0,455361.0,1478085.0,349814.0,443898.0,1094495.0,535902.0,618399.0,398350.0,1467812.0,446845.0,166439.0,2455052.0,176373.0,252719.0,389513.0,618729.0,526527.0,454863.0,221259.0,2828853.0,150834.0,35328.0,664095.0,212422.0,390356.0,26965.0,26025.0],\"yaxis\":\"y\",\"type\":\"scatter\"},{\"hovertemplate\":\"Type=AIR TICKET<br>Month=%{x}<br>Amount=%{y}<extra></extra>\",\"legendgroup\":\"AIR TICKET\",\"line\":{\"color\":\"#FECB52\",\"dash\":\"solid\"},\"marker\":{\"symbol\":\"circle\"},\"mode\":\"lines\",\"name\":\"AIR TICKET\",\"orientation\":\"v\",\"showlegend\":true,\"x\":[\"2004-01-12T00:00:00\",\"2004-01-15T00:00:00\",\"2004-01-25T00:00:00\",\"2004-02-05T00:00:00\",\"2004-03-19T00:00:00\",\"2004-11-23T00:00:00\",\"2005-01-17T00:00:00\",\"2005-02-01T00:00:00\",\"2005-02-03T00:00:00\",\"2005-02-16T00:00:00\",\"2005-02-23T00:00:00\",\"2005-02-28T00:00:00\",\"2005-04-27T00:00:00\",\"2005-05-24T00:00:00\",\"2005-05-25T00:00:00\",\"2005-05-26T00:00:00\",\"2005-05-27T00:00:00\",\"2005-05-28T00:00:00\",\"2005-05-29T00:00:00\",\"2005-05-30T00:00:00\",\"2005-05-31T00:00:00\",\"2005-06-01T00:00:00\",\"2005-06-02T00:00:00\",\"2005-06-03T00:00:00\",\"2005-07-03T00:00:00\",\"2005-08-03T00:00:00\",\"2005-08-12T00:00:00\",\"2005-09-03T00:00:00\",\"2005-10-03T00:00:00\",\"2005-11-03T00:00:00\",\"2005-12-03T00:00:00\",\"2006-01-03T00:00:00\",\"2006-02-03T00:00:00\",\"2006-02-04T00:00:00\",\"2006-03-03T00:00:00\",\"2006-03-27T00:00:00\",\"2006-03-29T00:00:00\",\"2006-03-30T00:00:00\",\"2006-03-31T00:00:00\",\"2006-04-01T00:00:00\",\"2006-04-02T00:00:00\",\"2006-04-03T00:00:00\",\"2006-04-19T00:00:00\",\"2006-05-03T00:00:00\",\"2006-05-10T00:00:00\",\"2006-06-03T00:00:00\",\"2006-07-03T00:00:00\",\"2006-07-11T00:00:00\",\"2006-08-03T00:00:00\",\"2006-09-03T00:00:00\"],\"xaxis\":\"x\",\"y\":[811927.0,975621.0,2136262.0,1468081.0,274364.0,1292592.0,556695.0,2561945.0,30066.0,428252.0,874144.0,689694.0,205930.0,447697.0,236571.0,457918.0,964959.0,626084.0,511368.0,494089.0,421320.0,1273516.0,290446.0,268099.0,152889.0,70049.0,487681.0,1560342.0,223294.0,307908.0,354761.0,854119.0,428235.0,31049.0,94740.0,124862.0,1484764.0,103998.0,687292.0,124341.0,124054.0,385074.0,1209443.0,2050980.0,24400.0,180907.0,1142276.0,100425.0,835528.0,102324.0],\"yaxis\":\"y\",\"type\":\"scatter\"},{\"hovertemplate\":\"Type=AUTO<br>Month=%{x}<br>Amount=%{y}<extra></extra>\",\"legendgroup\":\"AUTO\",\"line\":{\"color\":\"#636efa\",\"dash\":\"solid\"},\"marker\":{\"symbol\":\"circle\"},\"mode\":\"lines\",\"name\":\"AUTO\",\"orientation\":\"v\",\"showlegend\":true,\"x\":[\"2004-01-12T00:00:00\",\"2004-01-15T00:00:00\",\"2005-02-23T00:00:00\",\"2005-02-28T00:00:00\",\"2005-05-25T00:00:00\",\"2005-12-03T00:00:00\",\"2006-03-03T00:00:00\",\"2006-03-25T00:00:00\",\"2006-03-27T00:00:00\",\"2006-03-31T00:00:00\",\"2006-04-30T00:00:00\",\"2006-05-03T00:00:00\",\"2006-05-08T00:00:00\",\"2006-11-21T00:00:00\",\"2006-12-03T00:00:00\"],\"xaxis\":\"x\",\"y\":[637377.0,199745.0,1445276.0,38270.0,117691.0,155708.0,2102120.0,379402.0,1065914.0,478891.0,354504.0,228142.0,66432.0,448728.0,289884.0],\"yaxis\":\"y\",\"type\":\"scatter\"},{\"hovertemplate\":\"Type=BUS TICKET<br>Month=%{x}<br>Amount=%{y}<extra></extra>\",\"legendgroup\":\"BUS TICKET\",\"line\":{\"color\":\"#EF553B\",\"dash\":\"solid\"},\"marker\":{\"symbol\":\"circle\"},\"mode\":\"lines\",\"name\":\"BUS TICKET\",\"orientation\":\"v\",\"showlegend\":true,\"x\":[\"2004-01-12T00:00:00\",\"2004-01-15T00:00:00\",\"2004-01-25T00:00:00\",\"2004-02-05T00:00:00\",\"2004-04-06T00:00:00\",\"2004-05-05T00:00:00\",\"2004-09-13T00:00:00\",\"2004-11-23T00:00:00\",\"2005-02-03T00:00:00\",\"2005-02-16T00:00:00\",\"2005-02-23T00:00:00\",\"2005-02-28T00:00:00\",\"2005-05-24T00:00:00\",\"2005-05-25T00:00:00\",\"2005-05-26T00:00:00\",\"2005-05-27T00:00:00\",\"2005-05-28T00:00:00\",\"2005-05-29T00:00:00\",\"2005-06-02T00:00:00\",\"2005-08-12T00:00:00\",\"2005-10-03T00:00:00\",\"2005-11-20T00:00:00\",\"2005-11-22T00:00:00\",\"2006-02-04T00:00:00\",\"2006-03-03T00:00:00\",\"2006-03-05T00:00:00\",\"2006-03-23T00:00:00\",\"2006-03-24T00:00:00\",\"2006-03-25T00:00:00\",\"2006-03-28T00:00:00\",\"2006-03-30T00:00:00\",\"2006-03-31T00:00:00\",\"2006-04-01T00:00:00\",\"2006-06-03T00:00:00\",\"2006-07-11T00:00:00\",\"2006-08-03T00:00:00\",\"2006-11-21T00:00:00\"],\"xaxis\":\"x\",\"y\":[2166145.0,1477672.0,901050.0,1832594.0,1608099.0,361141.0,316499.0,346943.0,314592.0,468684.0,474945.0,1258937.0,1912947.0,589026.0,555995.0,468227.0,596808.0,843979.0,329282.0,206451.0,1201964.0,379398.0,377132.0,356873.0,324423.0,210649.0,80594.0,194448.0,204971.0,398874.0,869441.0,50449.0,341157.0,1209503.0,272112.0,524108.0,186080.0],\"yaxis\":\"y\",\"type\":\"scatter\"},{\"hovertemplate\":\"Type=CAMERA<br>Month=%{x}<br>Amount=%{y}<extra></extra>\",\"legendgroup\":\"CAMERA\",\"line\":{\"color\":\"#00cc96\",\"dash\":\"solid\"},\"marker\":{\"symbol\":\"circle\"},\"mode\":\"lines\",\"name\":\"CAMERA\",\"orientation\":\"v\",\"showlegend\":true,\"x\":[\"2004-01-12T00:00:00\",\"2004-01-15T00:00:00\",\"2004-01-25T00:00:00\",\"2004-03-19T00:00:00\",\"2004-04-25T00:00:00\",\"2005-01-17T00:00:00\",\"2005-02-01T00:00:00\",\"2005-02-03T00:00:00\",\"2005-02-23T00:00:00\",\"2005-04-04T00:00:00\",\"2005-04-27T00:00:00\",\"2005-05-07T00:00:00\",\"2005-05-09T00:00:00\",\"2005-05-28T00:00:00\",\"2005-05-29T00:00:00\",\"2005-05-30T00:00:00\",\"2005-06-01T00:00:00\",\"2005-06-02T00:00:00\",\"2005-06-03T00:00:00\",\"2005-07-03T00:00:00\",\"2005-08-03T00:00:00\",\"2005-09-03T00:00:00\",\"2006-01-03T00:00:00\",\"2006-02-04T00:00:00\",\"2006-03-05T00:00:00\",\"2006-03-23T00:00:00\",\"2006-03-24T00:00:00\",\"2006-03-25T00:00:00\",\"2006-03-26T00:00:00\",\"2006-03-27T00:00:00\",\"2006-03-28T00:00:00\",\"2006-03-29T00:00:00\",\"2006-03-31T00:00:00\",\"2006-04-01T00:00:00\",\"2006-04-19T00:00:00\",\"2006-04-30T00:00:00\",\"2006-05-06T00:00:00\",\"2006-05-08T00:00:00\",\"2006-07-11T00:00:00\",\"2006-11-03T00:00:00\",\"2006-11-21T00:00:00\"],\"xaxis\":\"x\",\"y\":[3144212.0,3794337.0,3628710.0,1092224.0,483603.0,2986276.0,90754.0,259016.0,1142264.0,1567209.0,328845.0,442439.0,177294.0,22964.0,335299.0,489050.0,737219.0,1413572.0,1881959.0,1686602.0,464613.0,220824.0,604241.0,190192.0,1251884.0,2483499.0,77748.0,744539.0,50155.0,391478.0,249003.0,334433.0,312064.0,265164.0,104548.0,1676749.0,468501.0,275775.0,1609733.0,180693.0,156630.0],\"yaxis\":\"y\",\"type\":\"scatter\"},{\"hovertemplate\":\"Type=CAR<br>Month=%{x}<br>Amount=%{y}<extra></extra>\",\"legendgroup\":\"CAR\",\"line\":{\"color\":\"#ab63fa\",\"dash\":\"solid\"},\"marker\":{\"symbol\":\"circle\"},\"mode\":\"lines\",\"name\":\"CAR\",\"orientation\":\"v\",\"showlegend\":true,\"x\":[\"2004-01-12T00:00:00\",\"2004-01-15T00:00:00\",\"2004-01-25T00:00:00\",\"2004-09-13T00:00:00\",\"2004-11-23T00:00:00\",\"2005-02-01T00:00:00\",\"2005-10-03T00:00:00\",\"2006-02-04T00:00:00\",\"2006-03-03T00:00:00\",\"2006-03-05T00:00:00\",\"2006-03-23T00:00:00\",\"2006-03-25T00:00:00\",\"2006-04-03T00:00:00\",\"2006-05-06T00:00:00\",\"2006-10-03T00:00:00\"],\"xaxis\":\"x\",\"y\":[177418.0,240402.0,1830222.0,1070153.0,139815.0,23370.0,50877.0,435235.0,533576.0,173876.0,474797.0,1511936.0,165218.0,6589.0,446842.0],\"yaxis\":\"y\",\"type\":\"scatter\"},{\"hovertemplate\":\"Type=BIKE<br>Month=%{x}<br>Amount=%{y}<extra></extra>\",\"legendgroup\":\"BIKE\",\"line\":{\"color\":\"#FFA15A\",\"dash\":\"solid\"},\"marker\":{\"symbol\":\"circle\"},\"mode\":\"lines\",\"name\":\"BIKE\",\"orientation\":\"v\",\"showlegend\":true,\"x\":[\"2004-01-25T00:00:00\",\"2004-02-05T00:00:00\",\"2004-11-23T00:00:00\",\"2005-01-17T00:00:00\",\"2005-04-04T00:00:00\",\"2005-05-07T00:00:00\",\"2005-05-24T00:00:00\",\"2005-05-25T00:00:00\",\"2005-05-26T00:00:00\",\"2005-05-27T00:00:00\",\"2005-05-28T00:00:00\",\"2005-05-29T00:00:00\",\"2005-05-30T00:00:00\",\"2005-05-31T00:00:00\",\"2005-11-03T00:00:00\",\"2005-11-20T00:00:00\",\"2005-11-22T00:00:00\",\"2006-02-03T00:00:00\",\"2006-03-24T00:00:00\",\"2006-03-25T00:00:00\",\"2006-03-26T00:00:00\",\"2006-04-03T00:00:00\",\"2006-04-04T00:00:00\",\"2006-11-03T00:00:00\",\"2006-11-21T00:00:00\"],\"xaxis\":\"x\",\"y\":[54730.0,155563.0,348426.0,1761526.0,126009.0,275144.0,660990.0,110111.0,55927.0,31689.0,224580.0,453314.0,226498.0,121469.0,395079.0,1466281.0,32325.0,1974040.0,175660.0,110077.0,1451272.0,158740.0,498735.0,28139.0,332877.0],\"yaxis\":\"y\",\"type\":\"scatter\"}],                        {\"template\":{\"data\":{\"bar\":[{\"error_x\":{\"color\":\"#2a3f5f\"},\"error_y\":{\"color\":\"#2a3f5f\"},\"marker\":{\"line\":{\"color\":\"#E5ECF6\",\"width\":0.5},\"pattern\":{\"fillmode\":\"overlay\",\"size\":10,\"solidity\":0.2}},\"type\":\"bar\"}],\"barpolar\":[{\"marker\":{\"line\":{\"color\":\"#E5ECF6\",\"width\":0.5},\"pattern\":{\"fillmode\":\"overlay\",\"size\":10,\"solidity\":0.2}},\"type\":\"barpolar\"}],\"carpet\":[{\"aaxis\":{\"endlinecolor\":\"#2a3f5f\",\"gridcolor\":\"white\",\"linecolor\":\"white\",\"minorgridcolor\":\"white\",\"startlinecolor\":\"#2a3f5f\"},\"baxis\":{\"endlinecolor\":\"#2a3f5f\",\"gridcolor\":\"white\",\"linecolor\":\"white\",\"minorgridcolor\":\"white\",\"startlinecolor\":\"#2a3f5f\"},\"type\":\"carpet\"}],\"choropleth\":[{\"colorbar\":{\"outlinewidth\":0,\"ticks\":\"\"},\"type\":\"choropleth\"}],\"contour\":[{\"colorbar\":{\"outlinewidth\":0,\"ticks\":\"\"},\"colorscale\":[[0.0,\"#0d0887\"],[0.1111111111111111,\"#46039f\"],[0.2222222222222222,\"#7201a8\"],[0.3333333333333333,\"#9c179e\"],[0.4444444444444444,\"#bd3786\"],[0.5555555555555556,\"#d8576b\"],[0.6666666666666666,\"#ed7953\"],[0.7777777777777778,\"#fb9f3a\"],[0.8888888888888888,\"#fdca26\"],[1.0,\"#f0f921\"]],\"type\":\"contour\"}],\"contourcarpet\":[{\"colorbar\":{\"outlinewidth\":0,\"ticks\":\"\"},\"type\":\"contourcarpet\"}],\"heatmap\":[{\"colorbar\":{\"outlinewidth\":0,\"ticks\":\"\"},\"colorscale\":[[0.0,\"#0d0887\"],[0.1111111111111111,\"#46039f\"],[0.2222222222222222,\"#7201a8\"],[0.3333333333333333,\"#9c179e\"],[0.4444444444444444,\"#bd3786\"],[0.5555555555555556,\"#d8576b\"],[0.6666666666666666,\"#ed7953\"],[0.7777777777777778,\"#fb9f3a\"],[0.8888888888888888,\"#fdca26\"],[1.0,\"#f0f921\"]],\"type\":\"heatmap\"}],\"heatmapgl\":[{\"colorbar\":{\"outlinewidth\":0,\"ticks\":\"\"},\"colorscale\":[[0.0,\"#0d0887\"],[0.1111111111111111,\"#46039f\"],[0.2222222222222222,\"#7201a8\"],[0.3333333333333333,\"#9c179e\"],[0.4444444444444444,\"#bd3786\"],[0.5555555555555556,\"#d8576b\"],[0.6666666666666666,\"#ed7953\"],[0.7777777777777778,\"#fb9f3a\"],[0.8888888888888888,\"#fdca26\"],[1.0,\"#f0f921\"]],\"type\":\"heatmapgl\"}],\"histogram\":[{\"marker\":{\"pattern\":{\"fillmode\":\"overlay\",\"size\":10,\"solidity\":0.2}},\"type\":\"histogram\"}],\"histogram2d\":[{\"colorbar\":{\"outlinewidth\":0,\"ticks\":\"\"},\"colorscale\":[[0.0,\"#0d0887\"],[0.1111111111111111,\"#46039f\"],[0.2222222222222222,\"#7201a8\"],[0.3333333333333333,\"#9c179e\"],[0.4444444444444444,\"#bd3786\"],[0.5555555555555556,\"#d8576b\"],[0.6666666666666666,\"#ed7953\"],[0.7777777777777778,\"#fb9f3a\"],[0.8888888888888888,\"#fdca26\"],[1.0,\"#f0f921\"]],\"type\":\"histogram2d\"}],\"histogram2dcontour\":[{\"colorbar\":{\"outlinewidth\":0,\"ticks\":\"\"},\"colorscale\":[[0.0,\"#0d0887\"],[0.1111111111111111,\"#46039f\"],[0.2222222222222222,\"#7201a8\"],[0.3333333333333333,\"#9c179e\"],[0.4444444444444444,\"#bd3786\"],[0.5555555555555556,\"#d8576b\"],[0.6666666666666666,\"#ed7953\"],[0.7777777777777778,\"#fb9f3a\"],[0.8888888888888888,\"#fdca26\"],[1.0,\"#f0f921\"]],\"type\":\"histogram2dcontour\"}],\"mesh3d\":[{\"colorbar\":{\"outlinewidth\":0,\"ticks\":\"\"},\"type\":\"mesh3d\"}],\"parcoords\":[{\"line\":{\"colorbar\":{\"outlinewidth\":0,\"ticks\":\"\"}},\"type\":\"parcoords\"}],\"pie\":[{\"automargin\":true,\"type\":\"pie\"}],\"scatter\":[{\"marker\":{\"colorbar\":{\"outlinewidth\":0,\"ticks\":\"\"}},\"type\":\"scatter\"}],\"scatter3d\":[{\"line\":{\"colorbar\":{\"outlinewidth\":0,\"ticks\":\"\"}},\"marker\":{\"colorbar\":{\"outlinewidth\":0,\"ticks\":\"\"}},\"type\":\"scatter3d\"}],\"scattercarpet\":[{\"marker\":{\"colorbar\":{\"outlinewidth\":0,\"ticks\":\"\"}},\"type\":\"scattercarpet\"}],\"scattergeo\":[{\"marker\":{\"colorbar\":{\"outlinewidth\":0,\"ticks\":\"\"}},\"type\":\"scattergeo\"}],\"scattergl\":[{\"marker\":{\"colorbar\":{\"outlinewidth\":0,\"ticks\":\"\"}},\"type\":\"scattergl\"}],\"scattermapbox\":[{\"marker\":{\"colorbar\":{\"outlinewidth\":0,\"ticks\":\"\"}},\"type\":\"scattermapbox\"}],\"scatterpolar\":[{\"marker\":{\"colorbar\":{\"outlinewidth\":0,\"ticks\":\"\"}},\"type\":\"scatterpolar\"}],\"scatterpolargl\":[{\"marker\":{\"colorbar\":{\"outlinewidth\":0,\"ticks\":\"\"}},\"type\":\"scatterpolargl\"}],\"scatterternary\":[{\"marker\":{\"colorbar\":{\"outlinewidth\":0,\"ticks\":\"\"}},\"type\":\"scatterternary\"}],\"surface\":[{\"colorbar\":{\"outlinewidth\":0,\"ticks\":\"\"},\"colorscale\":[[0.0,\"#0d0887\"],[0.1111111111111111,\"#46039f\"],[0.2222222222222222,\"#7201a8\"],[0.3333333333333333,\"#9c179e\"],[0.4444444444444444,\"#bd3786\"],[0.5555555555555556,\"#d8576b\"],[0.6666666666666666,\"#ed7953\"],[0.7777777777777778,\"#fb9f3a\"],[0.8888888888888888,\"#fdca26\"],[1.0,\"#f0f921\"]],\"type\":\"surface\"}],\"table\":[{\"cells\":{\"fill\":{\"color\":\"#EBF0F8\"},\"line\":{\"color\":\"white\"}},\"header\":{\"fill\":{\"color\":\"#C8D4E3\"},\"line\":{\"color\":\"white\"}},\"type\":\"table\"}]},\"layout\":{\"annotationdefaults\":{\"arrowcolor\":\"#2a3f5f\",\"arrowhead\":0,\"arrowwidth\":1},\"autotypenumbers\":\"strict\",\"coloraxis\":{\"colorbar\":{\"outlinewidth\":0,\"ticks\":\"\"}},\"colorscale\":{\"diverging\":[[0,\"#8e0152\"],[0.1,\"#c51b7d\"],[0.2,\"#de77ae\"],[0.3,\"#f1b6da\"],[0.4,\"#fde0ef\"],[0.5,\"#f7f7f7\"],[0.6,\"#e6f5d0\"],[0.7,\"#b8e186\"],[0.8,\"#7fbc41\"],[0.9,\"#4d9221\"],[1,\"#276419\"]],\"sequential\":[[0.0,\"#0d0887\"],[0.1111111111111111,\"#46039f\"],[0.2222222222222222,\"#7201a8\"],[0.3333333333333333,\"#9c179e\"],[0.4444444444444444,\"#bd3786\"],[0.5555555555555556,\"#d8576b\"],[0.6666666666666666,\"#ed7953\"],[0.7777777777777778,\"#fb9f3a\"],[0.8888888888888888,\"#fdca26\"],[1.0,\"#f0f921\"]],\"sequentialminus\":[[0.0,\"#0d0887\"],[0.1111111111111111,\"#46039f\"],[0.2222222222222222,\"#7201a8\"],[0.3333333333333333,\"#9c179e\"],[0.4444444444444444,\"#bd3786\"],[0.5555555555555556,\"#d8576b\"],[0.6666666666666666,\"#ed7953\"],[0.7777777777777778,\"#fb9f3a\"],[0.8888888888888888,\"#fdca26\"],[1.0,\"#f0f921\"]]},\"colorway\":[\"#636efa\",\"#EF553B\",\"#00cc96\",\"#ab63fa\",\"#FFA15A\",\"#19d3f3\",\"#FF6692\",\"#B6E880\",\"#FF97FF\",\"#FECB52\"],\"font\":{\"color\":\"#2a3f5f\"},\"geo\":{\"bgcolor\":\"white\",\"lakecolor\":\"white\",\"landcolor\":\"#E5ECF6\",\"showlakes\":true,\"showland\":true,\"subunitcolor\":\"white\"},\"hoverlabel\":{\"align\":\"left\"},\"hovermode\":\"closest\",\"mapbox\":{\"style\":\"light\"},\"paper_bgcolor\":\"white\",\"plot_bgcolor\":\"#E5ECF6\",\"polar\":{\"angularaxis\":{\"gridcolor\":\"white\",\"linecolor\":\"white\",\"ticks\":\"\"},\"bgcolor\":\"#E5ECF6\",\"radialaxis\":{\"gridcolor\":\"white\",\"linecolor\":\"white\",\"ticks\":\"\"}},\"scene\":{\"xaxis\":{\"backgroundcolor\":\"#E5ECF6\",\"gridcolor\":\"white\",\"gridwidth\":2,\"linecolor\":\"white\",\"showbackground\":true,\"ticks\":\"\",\"zerolinecolor\":\"white\"},\"yaxis\":{\"backgroundcolor\":\"#E5ECF6\",\"gridcolor\":\"white\",\"gridwidth\":2,\"linecolor\":\"white\",\"showbackground\":true,\"ticks\":\"\",\"zerolinecolor\":\"white\"},\"zaxis\":{\"backgroundcolor\":\"#E5ECF6\",\"gridcolor\":\"white\",\"gridwidth\":2,\"linecolor\":\"white\",\"showbackground\":true,\"ticks\":\"\",\"zerolinecolor\":\"white\"}},\"shapedefaults\":{\"line\":{\"color\":\"#2a3f5f\"}},\"ternary\":{\"aaxis\":{\"gridcolor\":\"white\",\"linecolor\":\"white\",\"ticks\":\"\"},\"baxis\":{\"gridcolor\":\"white\",\"linecolor\":\"white\",\"ticks\":\"\"},\"bgcolor\":\"#E5ECF6\",\"caxis\":{\"gridcolor\":\"white\",\"linecolor\":\"white\",\"ticks\":\"\"}},\"title\":{\"x\":0.05},\"xaxis\":{\"automargin\":true,\"gridcolor\":\"white\",\"linecolor\":\"white\",\"ticks\":\"\",\"title\":{\"standoff\":15},\"zerolinecolor\":\"white\",\"zerolinewidth\":2},\"yaxis\":{\"automargin\":true,\"gridcolor\":\"white\",\"linecolor\":\"white\",\"ticks\":\"\",\"title\":{\"standoff\":15},\"zerolinecolor\":\"white\",\"zerolinewidth\":2}}},\"xaxis\":{\"anchor\":\"y\",\"domain\":[0.0,1.0],\"title\":{\"text\":\"Month\"}},\"yaxis\":{\"anchor\":\"x\",\"domain\":[0.0,1.0],\"title\":{\"text\":\"Amount\"}},\"legend\":{\"title\":{\"text\":\"Type\"},\"tracegroupgap\":0},\"margin\":{\"t\":60}},                        {\"responsive\": true}                    ).then(function(){\n",
       "                            \n",
       "var gd = document.getElementById('8c299970-2578-4c5b-a7b0-b0359ef5668c');\n",
       "var x = new MutationObserver(function (mutations, observer) {{\n",
       "        var display = window.getComputedStyle(gd).display;\n",
       "        if (!display || display === 'none') {{\n",
       "            console.log([gd, 'removed!']);\n",
       "            Plotly.purge(gd);\n",
       "            observer.disconnect();\n",
       "        }}\n",
       "}});\n",
       "\n",
       "// Listen for the removal of the full notebook cells\n",
       "var notebookContainer = gd.closest('#notebook-container');\n",
       "if (notebookContainer) {{\n",
       "    x.observe(notebookContainer, {childList: true});\n",
       "}}\n",
       "\n",
       "// Listen for the clearing of the current output cell\n",
       "var outputEl = gd.closest('.output');\n",
       "if (outputEl) {{\n",
       "    x.observe(outputEl, {childList: true});\n",
       "}}\n",
       "\n",
       "                        })                };                });            </script>        </div>"
      ]
     },
     "metadata": {},
     "output_type": "display_data"
    }
   ],
   "source": [
    "fig = px.line(data_frame=send_type_by_month_df,\n",
    "              x=\"Month\",\n",
    "              y=\"Amount\",\n",
    "              color=\"Type\")\n",
    "fig.show()"
   ]
  },
  {
   "cell_type": "markdown",
   "metadata": {
    "id": "Dp9ZN0fTmwV1"
   },
   "source": [
    "## Too much noise... let's only look at some categories"
   ]
  },
  {
   "cell_type": "code",
   "execution_count": 24,
   "metadata": {
    "colab": {
     "base_uri": "https://localhost:8080/",
     "height": 542
    },
    "executionInfo": {
     "elapsed": 522,
     "status": "ok",
     "timestamp": 1627853105218,
     "user": {
      "displayName": "Filipa Peleja",
      "photoUrl": "https://lh3.googleusercontent.com/a-/AOh14GhszTFoTfss30HXvgh6Cb51DPt2cGYvQ05kK0BdSA=s64",
      "userId": "09648315126991333382"
     },
     "user_tz": -120
    },
    "id": "EgBulzXimkK0",
    "outputId": "f8775dd9-4b6f-446f-be03-40d8693470af"
   },
   "outputs": [
    {
     "data": {
      "application/vnd.plotly.v1+json": {
       "config": {
        "plotlyServerURL": "https://plot.ly"
       },
       "data": [
        {
         "hovertemplate": "Type=CLOTHES<br>Month=%{x}<br>Amount=%{y}<extra></extra>",
         "legendgroup": "CLOTHES",
         "line": {
          "color": "#636efa",
          "dash": "solid"
         },
         "marker": {
          "symbol": "circle"
         },
         "mode": "lines",
         "name": "CLOTHES",
         "orientation": "v",
         "showlegend": true,
         "type": "scatter",
         "x": [
          "2004-01-03T00:00:00",
          "2004-01-12T00:00:00",
          "2004-01-15T00:00:00",
          "2004-01-25T00:00:00",
          "2004-02-05T00:00:00",
          "2004-03-19T00:00:00",
          "2005-01-17T00:00:00",
          "2005-02-01T00:00:00",
          "2005-02-03T00:00:00",
          "2005-02-16T00:00:00",
          "2005-02-23T00:00:00",
          "2005-02-28T00:00:00",
          "2005-04-27T00:00:00",
          "2005-05-09T00:00:00",
          "2005-05-24T00:00:00",
          "2005-05-30T00:00:00",
          "2005-06-01T00:00:00",
          "2005-06-03T00:00:00",
          "2005-11-03T00:00:00",
          "2006-02-04T00:00:00",
          "2006-03-05T00:00:00",
          "2006-03-23T00:00:00",
          "2006-03-24T00:00:00",
          "2006-03-25T00:00:00",
          "2006-03-26T00:00:00",
          "2006-03-27T00:00:00",
          "2006-03-28T00:00:00",
          "2006-03-29T00:00:00",
          "2006-03-30T00:00:00",
          "2006-03-31T00:00:00",
          "2006-04-03T00:00:00",
          "2006-04-19T00:00:00",
          "2006-09-03T00:00:00",
          "2006-12-03T00:00:00"
         ],
         "xaxis": "x",
         "y": [
          899928,
          2063747,
          2929394,
          322409,
          505015,
          149173,
          119033,
          756218,
          474112,
          224800,
          1301036,
          1364032,
          79149,
          1699825,
          319919,
          724452,
          81202,
          433241,
          512790,
          513804,
          179085,
          837779,
          304228,
          2136053,
          60184,
          122305,
          446364,
          259755,
          710350,
          2501387,
          89952,
          423672,
          115355,
          991355
         ],
         "yaxis": "y"
        },
        {
         "hovertemplate": "Type=FOOD<br>Month=%{x}<br>Amount=%{y}<extra></extra>",
         "legendgroup": "FOOD",
         "line": {
          "color": "#EF553B",
          "dash": "solid"
         },
         "marker": {
          "symbol": "circle"
         },
         "mode": "lines",
         "name": "FOOD",
         "orientation": "v",
         "showlegend": true,
         "type": "scatter",
         "x": [
          "2004-01-03T00:00:00",
          "2004-01-12T00:00:00",
          "2004-01-15T00:00:00",
          "2004-01-25T00:00:00",
          "2004-02-05T00:00:00",
          "2004-03-19T00:00:00",
          "2004-04-06T00:00:00",
          "2004-04-25T00:00:00",
          "2004-05-05T00:00:00",
          "2004-09-13T00:00:00",
          "2004-11-23T00:00:00",
          "2005-01-17T00:00:00",
          "2005-02-01T00:00:00",
          "2005-02-03T00:00:00",
          "2005-02-16T00:00:00",
          "2005-02-23T00:00:00",
          "2005-02-28T00:00:00",
          "2005-04-04T00:00:00",
          "2005-04-27T00:00:00",
          "2005-05-07T00:00:00",
          "2005-05-09T00:00:00",
          "2005-05-24T00:00:00",
          "2005-05-25T00:00:00",
          "2005-05-26T00:00:00",
          "2005-05-27T00:00:00",
          "2005-05-28T00:00:00",
          "2005-05-29T00:00:00",
          "2005-05-30T00:00:00",
          "2005-05-31T00:00:00",
          "2005-06-01T00:00:00",
          "2005-06-02T00:00:00",
          "2005-06-03T00:00:00",
          "2005-07-03T00:00:00",
          "2005-08-03T00:00:00",
          "2005-08-12T00:00:00",
          "2005-11-20T00:00:00",
          "2005-11-22T00:00:00",
          "2005-12-03T00:00:00",
          "2006-02-04T00:00:00",
          "2006-03-05T00:00:00",
          "2006-03-23T00:00:00",
          "2006-03-24T00:00:00",
          "2006-03-25T00:00:00",
          "2006-03-26T00:00:00",
          "2006-03-27T00:00:00",
          "2006-03-28T00:00:00",
          "2006-03-29T00:00:00",
          "2006-03-30T00:00:00",
          "2006-03-31T00:00:00",
          "2006-04-01T00:00:00",
          "2006-04-02T00:00:00",
          "2006-04-04T00:00:00",
          "2006-04-19T00:00:00",
          "2006-04-30T00:00:00",
          "2006-05-06T00:00:00",
          "2006-05-08T00:00:00",
          "2006-05-10T00:00:00",
          "2006-07-11T00:00:00",
          "2006-10-03T00:00:00",
          "2006-11-21T00:00:00"
         ],
         "xaxis": "x",
         "y": [
          3705949,
          3367631,
          2064165,
          2400546,
          300032,
          361901,
          472743,
          231655,
          353619,
          681117,
          391871,
          320125,
          44371,
          544529,
          843469,
          650401,
          80275,
          757415,
          240214,
          244777,
          498240,
          496073,
          532459,
          751670,
          434017,
          609948,
          303232,
          277913,
          758900,
          766651,
          496726,
          273207,
          425846,
          75080,
          271122,
          428863,
          85859,
          468004,
          493254,
          155439,
          1693909,
          301003,
          602392,
          382310,
          315600,
          493201,
          76838,
          338873,
          2456906,
          236231,
          147604,
          341859,
          462854,
          344071,
          129743,
          204502,
          1997049,
          491888,
          73921,
          23276
         ],
         "yaxis": "y"
        },
        {
         "hovertemplate": "Type=AUTO<br>Month=%{x}<br>Amount=%{y}<extra></extra>",
         "legendgroup": "AUTO",
         "line": {
          "color": "#00cc96",
          "dash": "solid"
         },
         "marker": {
          "symbol": "circle"
         },
         "mode": "lines",
         "name": "AUTO",
         "orientation": "v",
         "showlegend": true,
         "type": "scatter",
         "x": [
          "2004-01-12T00:00:00",
          "2004-01-15T00:00:00",
          "2005-02-23T00:00:00",
          "2005-02-28T00:00:00",
          "2005-05-25T00:00:00",
          "2005-12-03T00:00:00",
          "2006-03-03T00:00:00",
          "2006-03-25T00:00:00",
          "2006-03-27T00:00:00",
          "2006-03-31T00:00:00",
          "2006-04-30T00:00:00",
          "2006-05-03T00:00:00",
          "2006-05-08T00:00:00",
          "2006-11-21T00:00:00",
          "2006-12-03T00:00:00"
         ],
         "xaxis": "x",
         "y": [
          637377,
          199745,
          1445276,
          38270,
          117691,
          155708,
          2102120,
          379402,
          1065914,
          478891,
          354504,
          228142,
          66432,
          448728,
          289884
         ],
         "yaxis": "y"
        }
       ],
       "layout": {
        "legend": {
         "title": {
          "text": "Type"
         },
         "tracegroupgap": 0
        },
        "margin": {
         "t": 60
        },
        "template": {
         "data": {
          "bar": [
           {
            "error_x": {
             "color": "#2a3f5f"
            },
            "error_y": {
             "color": "#2a3f5f"
            },
            "marker": {
             "line": {
              "color": "#E5ECF6",
              "width": 0.5
             },
             "pattern": {
              "fillmode": "overlay",
              "size": 10,
              "solidity": 0.2
             }
            },
            "type": "bar"
           }
          ],
          "barpolar": [
           {
            "marker": {
             "line": {
              "color": "#E5ECF6",
              "width": 0.5
             },
             "pattern": {
              "fillmode": "overlay",
              "size": 10,
              "solidity": 0.2
             }
            },
            "type": "barpolar"
           }
          ],
          "carpet": [
           {
            "aaxis": {
             "endlinecolor": "#2a3f5f",
             "gridcolor": "white",
             "linecolor": "white",
             "minorgridcolor": "white",
             "startlinecolor": "#2a3f5f"
            },
            "baxis": {
             "endlinecolor": "#2a3f5f",
             "gridcolor": "white",
             "linecolor": "white",
             "minorgridcolor": "white",
             "startlinecolor": "#2a3f5f"
            },
            "type": "carpet"
           }
          ],
          "choropleth": [
           {
            "colorbar": {
             "outlinewidth": 0,
             "ticks": ""
            },
            "type": "choropleth"
           }
          ],
          "contour": [
           {
            "colorbar": {
             "outlinewidth": 0,
             "ticks": ""
            },
            "colorscale": [
             [
              0,
              "#0d0887"
             ],
             [
              0.1111111111111111,
              "#46039f"
             ],
             [
              0.2222222222222222,
              "#7201a8"
             ],
             [
              0.3333333333333333,
              "#9c179e"
             ],
             [
              0.4444444444444444,
              "#bd3786"
             ],
             [
              0.5555555555555556,
              "#d8576b"
             ],
             [
              0.6666666666666666,
              "#ed7953"
             ],
             [
              0.7777777777777778,
              "#fb9f3a"
             ],
             [
              0.8888888888888888,
              "#fdca26"
             ],
             [
              1,
              "#f0f921"
             ]
            ],
            "type": "contour"
           }
          ],
          "contourcarpet": [
           {
            "colorbar": {
             "outlinewidth": 0,
             "ticks": ""
            },
            "type": "contourcarpet"
           }
          ],
          "heatmap": [
           {
            "colorbar": {
             "outlinewidth": 0,
             "ticks": ""
            },
            "colorscale": [
             [
              0,
              "#0d0887"
             ],
             [
              0.1111111111111111,
              "#46039f"
             ],
             [
              0.2222222222222222,
              "#7201a8"
             ],
             [
              0.3333333333333333,
              "#9c179e"
             ],
             [
              0.4444444444444444,
              "#bd3786"
             ],
             [
              0.5555555555555556,
              "#d8576b"
             ],
             [
              0.6666666666666666,
              "#ed7953"
             ],
             [
              0.7777777777777778,
              "#fb9f3a"
             ],
             [
              0.8888888888888888,
              "#fdca26"
             ],
             [
              1,
              "#f0f921"
             ]
            ],
            "type": "heatmap"
           }
          ],
          "heatmapgl": [
           {
            "colorbar": {
             "outlinewidth": 0,
             "ticks": ""
            },
            "colorscale": [
             [
              0,
              "#0d0887"
             ],
             [
              0.1111111111111111,
              "#46039f"
             ],
             [
              0.2222222222222222,
              "#7201a8"
             ],
             [
              0.3333333333333333,
              "#9c179e"
             ],
             [
              0.4444444444444444,
              "#bd3786"
             ],
             [
              0.5555555555555556,
              "#d8576b"
             ],
             [
              0.6666666666666666,
              "#ed7953"
             ],
             [
              0.7777777777777778,
              "#fb9f3a"
             ],
             [
              0.8888888888888888,
              "#fdca26"
             ],
             [
              1,
              "#f0f921"
             ]
            ],
            "type": "heatmapgl"
           }
          ],
          "histogram": [
           {
            "marker": {
             "pattern": {
              "fillmode": "overlay",
              "size": 10,
              "solidity": 0.2
             }
            },
            "type": "histogram"
           }
          ],
          "histogram2d": [
           {
            "colorbar": {
             "outlinewidth": 0,
             "ticks": ""
            },
            "colorscale": [
             [
              0,
              "#0d0887"
             ],
             [
              0.1111111111111111,
              "#46039f"
             ],
             [
              0.2222222222222222,
              "#7201a8"
             ],
             [
              0.3333333333333333,
              "#9c179e"
             ],
             [
              0.4444444444444444,
              "#bd3786"
             ],
             [
              0.5555555555555556,
              "#d8576b"
             ],
             [
              0.6666666666666666,
              "#ed7953"
             ],
             [
              0.7777777777777778,
              "#fb9f3a"
             ],
             [
              0.8888888888888888,
              "#fdca26"
             ],
             [
              1,
              "#f0f921"
             ]
            ],
            "type": "histogram2d"
           }
          ],
          "histogram2dcontour": [
           {
            "colorbar": {
             "outlinewidth": 0,
             "ticks": ""
            },
            "colorscale": [
             [
              0,
              "#0d0887"
             ],
             [
              0.1111111111111111,
              "#46039f"
             ],
             [
              0.2222222222222222,
              "#7201a8"
             ],
             [
              0.3333333333333333,
              "#9c179e"
             ],
             [
              0.4444444444444444,
              "#bd3786"
             ],
             [
              0.5555555555555556,
              "#d8576b"
             ],
             [
              0.6666666666666666,
              "#ed7953"
             ],
             [
              0.7777777777777778,
              "#fb9f3a"
             ],
             [
              0.8888888888888888,
              "#fdca26"
             ],
             [
              1,
              "#f0f921"
             ]
            ],
            "type": "histogram2dcontour"
           }
          ],
          "mesh3d": [
           {
            "colorbar": {
             "outlinewidth": 0,
             "ticks": ""
            },
            "type": "mesh3d"
           }
          ],
          "parcoords": [
           {
            "line": {
             "colorbar": {
              "outlinewidth": 0,
              "ticks": ""
             }
            },
            "type": "parcoords"
           }
          ],
          "pie": [
           {
            "automargin": true,
            "type": "pie"
           }
          ],
          "scatter": [
           {
            "marker": {
             "colorbar": {
              "outlinewidth": 0,
              "ticks": ""
             }
            },
            "type": "scatter"
           }
          ],
          "scatter3d": [
           {
            "line": {
             "colorbar": {
              "outlinewidth": 0,
              "ticks": ""
             }
            },
            "marker": {
             "colorbar": {
              "outlinewidth": 0,
              "ticks": ""
             }
            },
            "type": "scatter3d"
           }
          ],
          "scattercarpet": [
           {
            "marker": {
             "colorbar": {
              "outlinewidth": 0,
              "ticks": ""
             }
            },
            "type": "scattercarpet"
           }
          ],
          "scattergeo": [
           {
            "marker": {
             "colorbar": {
              "outlinewidth": 0,
              "ticks": ""
             }
            },
            "type": "scattergeo"
           }
          ],
          "scattergl": [
           {
            "marker": {
             "colorbar": {
              "outlinewidth": 0,
              "ticks": ""
             }
            },
            "type": "scattergl"
           }
          ],
          "scattermapbox": [
           {
            "marker": {
             "colorbar": {
              "outlinewidth": 0,
              "ticks": ""
             }
            },
            "type": "scattermapbox"
           }
          ],
          "scatterpolar": [
           {
            "marker": {
             "colorbar": {
              "outlinewidth": 0,
              "ticks": ""
             }
            },
            "type": "scatterpolar"
           }
          ],
          "scatterpolargl": [
           {
            "marker": {
             "colorbar": {
              "outlinewidth": 0,
              "ticks": ""
             }
            },
            "type": "scatterpolargl"
           }
          ],
          "scatterternary": [
           {
            "marker": {
             "colorbar": {
              "outlinewidth": 0,
              "ticks": ""
             }
            },
            "type": "scatterternary"
           }
          ],
          "surface": [
           {
            "colorbar": {
             "outlinewidth": 0,
             "ticks": ""
            },
            "colorscale": [
             [
              0,
              "#0d0887"
             ],
             [
              0.1111111111111111,
              "#46039f"
             ],
             [
              0.2222222222222222,
              "#7201a8"
             ],
             [
              0.3333333333333333,
              "#9c179e"
             ],
             [
              0.4444444444444444,
              "#bd3786"
             ],
             [
              0.5555555555555556,
              "#d8576b"
             ],
             [
              0.6666666666666666,
              "#ed7953"
             ],
             [
              0.7777777777777778,
              "#fb9f3a"
             ],
             [
              0.8888888888888888,
              "#fdca26"
             ],
             [
              1,
              "#f0f921"
             ]
            ],
            "type": "surface"
           }
          ],
          "table": [
           {
            "cells": {
             "fill": {
              "color": "#EBF0F8"
             },
             "line": {
              "color": "white"
             }
            },
            "header": {
             "fill": {
              "color": "#C8D4E3"
             },
             "line": {
              "color": "white"
             }
            },
            "type": "table"
           }
          ]
         },
         "layout": {
          "annotationdefaults": {
           "arrowcolor": "#2a3f5f",
           "arrowhead": 0,
           "arrowwidth": 1
          },
          "autotypenumbers": "strict",
          "coloraxis": {
           "colorbar": {
            "outlinewidth": 0,
            "ticks": ""
           }
          },
          "colorscale": {
           "diverging": [
            [
             0,
             "#8e0152"
            ],
            [
             0.1,
             "#c51b7d"
            ],
            [
             0.2,
             "#de77ae"
            ],
            [
             0.3,
             "#f1b6da"
            ],
            [
             0.4,
             "#fde0ef"
            ],
            [
             0.5,
             "#f7f7f7"
            ],
            [
             0.6,
             "#e6f5d0"
            ],
            [
             0.7,
             "#b8e186"
            ],
            [
             0.8,
             "#7fbc41"
            ],
            [
             0.9,
             "#4d9221"
            ],
            [
             1,
             "#276419"
            ]
           ],
           "sequential": [
            [
             0,
             "#0d0887"
            ],
            [
             0.1111111111111111,
             "#46039f"
            ],
            [
             0.2222222222222222,
             "#7201a8"
            ],
            [
             0.3333333333333333,
             "#9c179e"
            ],
            [
             0.4444444444444444,
             "#bd3786"
            ],
            [
             0.5555555555555556,
             "#d8576b"
            ],
            [
             0.6666666666666666,
             "#ed7953"
            ],
            [
             0.7777777777777778,
             "#fb9f3a"
            ],
            [
             0.8888888888888888,
             "#fdca26"
            ],
            [
             1,
             "#f0f921"
            ]
           ],
           "sequentialminus": [
            [
             0,
             "#0d0887"
            ],
            [
             0.1111111111111111,
             "#46039f"
            ],
            [
             0.2222222222222222,
             "#7201a8"
            ],
            [
             0.3333333333333333,
             "#9c179e"
            ],
            [
             0.4444444444444444,
             "#bd3786"
            ],
            [
             0.5555555555555556,
             "#d8576b"
            ],
            [
             0.6666666666666666,
             "#ed7953"
            ],
            [
             0.7777777777777778,
             "#fb9f3a"
            ],
            [
             0.8888888888888888,
             "#fdca26"
            ],
            [
             1,
             "#f0f921"
            ]
           ]
          },
          "colorway": [
           "#636efa",
           "#EF553B",
           "#00cc96",
           "#ab63fa",
           "#FFA15A",
           "#19d3f3",
           "#FF6692",
           "#B6E880",
           "#FF97FF",
           "#FECB52"
          ],
          "font": {
           "color": "#2a3f5f"
          },
          "geo": {
           "bgcolor": "white",
           "lakecolor": "white",
           "landcolor": "#E5ECF6",
           "showlakes": true,
           "showland": true,
           "subunitcolor": "white"
          },
          "hoverlabel": {
           "align": "left"
          },
          "hovermode": "closest",
          "mapbox": {
           "style": "light"
          },
          "paper_bgcolor": "white",
          "plot_bgcolor": "#E5ECF6",
          "polar": {
           "angularaxis": {
            "gridcolor": "white",
            "linecolor": "white",
            "ticks": ""
           },
           "bgcolor": "#E5ECF6",
           "radialaxis": {
            "gridcolor": "white",
            "linecolor": "white",
            "ticks": ""
           }
          },
          "scene": {
           "xaxis": {
            "backgroundcolor": "#E5ECF6",
            "gridcolor": "white",
            "gridwidth": 2,
            "linecolor": "white",
            "showbackground": true,
            "ticks": "",
            "zerolinecolor": "white"
           },
           "yaxis": {
            "backgroundcolor": "#E5ECF6",
            "gridcolor": "white",
            "gridwidth": 2,
            "linecolor": "white",
            "showbackground": true,
            "ticks": "",
            "zerolinecolor": "white"
           },
           "zaxis": {
            "backgroundcolor": "#E5ECF6",
            "gridcolor": "white",
            "gridwidth": 2,
            "linecolor": "white",
            "showbackground": true,
            "ticks": "",
            "zerolinecolor": "white"
           }
          },
          "shapedefaults": {
           "line": {
            "color": "#2a3f5f"
           }
          },
          "ternary": {
           "aaxis": {
            "gridcolor": "white",
            "linecolor": "white",
            "ticks": ""
           },
           "baxis": {
            "gridcolor": "white",
            "linecolor": "white",
            "ticks": ""
           },
           "bgcolor": "#E5ECF6",
           "caxis": {
            "gridcolor": "white",
            "linecolor": "white",
            "ticks": ""
           }
          },
          "title": {
           "x": 0.05
          },
          "xaxis": {
           "automargin": true,
           "gridcolor": "white",
           "linecolor": "white",
           "ticks": "",
           "title": {
            "standoff": 15
           },
           "zerolinecolor": "white",
           "zerolinewidth": 2
          },
          "yaxis": {
           "automargin": true,
           "gridcolor": "white",
           "linecolor": "white",
           "ticks": "",
           "title": {
            "standoff": 15
           },
           "zerolinecolor": "white",
           "zerolinewidth": 2
          }
         }
        },
        "xaxis": {
         "anchor": "y",
         "domain": [
          0,
          1
         ],
         "title": {
          "text": "Month"
         }
        },
        "yaxis": {
         "anchor": "x",
         "domain": [
          0,
          1
         ],
         "title": {
          "text": "Amount"
         }
        }
       }
      },
      "text/html": [
       "<div>                            <div id=\"60676a34-c182-4935-b02c-67fe4272f84a\" class=\"plotly-graph-div\" style=\"height:525px; width:100%;\"></div>            <script type=\"text/javascript\">                require([\"plotly\"], function(Plotly) {                    window.PLOTLYENV=window.PLOTLYENV || {};                                    if (document.getElementById(\"60676a34-c182-4935-b02c-67fe4272f84a\")) {                    Plotly.newPlot(                        \"60676a34-c182-4935-b02c-67fe4272f84a\",                        [{\"hovertemplate\":\"Type=CLOTHES<br>Month=%{x}<br>Amount=%{y}<extra></extra>\",\"legendgroup\":\"CLOTHES\",\"line\":{\"color\":\"#636efa\",\"dash\":\"solid\"},\"marker\":{\"symbol\":\"circle\"},\"mode\":\"lines\",\"name\":\"CLOTHES\",\"orientation\":\"v\",\"showlegend\":true,\"x\":[\"2004-01-03T00:00:00\",\"2004-01-12T00:00:00\",\"2004-01-15T00:00:00\",\"2004-01-25T00:00:00\",\"2004-02-05T00:00:00\",\"2004-03-19T00:00:00\",\"2005-01-17T00:00:00\",\"2005-02-01T00:00:00\",\"2005-02-03T00:00:00\",\"2005-02-16T00:00:00\",\"2005-02-23T00:00:00\",\"2005-02-28T00:00:00\",\"2005-04-27T00:00:00\",\"2005-05-09T00:00:00\",\"2005-05-24T00:00:00\",\"2005-05-30T00:00:00\",\"2005-06-01T00:00:00\",\"2005-06-03T00:00:00\",\"2005-11-03T00:00:00\",\"2006-02-04T00:00:00\",\"2006-03-05T00:00:00\",\"2006-03-23T00:00:00\",\"2006-03-24T00:00:00\",\"2006-03-25T00:00:00\",\"2006-03-26T00:00:00\",\"2006-03-27T00:00:00\",\"2006-03-28T00:00:00\",\"2006-03-29T00:00:00\",\"2006-03-30T00:00:00\",\"2006-03-31T00:00:00\",\"2006-04-03T00:00:00\",\"2006-04-19T00:00:00\",\"2006-09-03T00:00:00\",\"2006-12-03T00:00:00\"],\"xaxis\":\"x\",\"y\":[899928.0,2063747.0,2929394.0,322409.0,505015.0,149173.0,119033.0,756218.0,474112.0,224800.0,1301036.0,1364032.0,79149.0,1699825.0,319919.0,724452.0,81202.0,433241.0,512790.0,513804.0,179085.0,837779.0,304228.0,2136053.0,60184.0,122305.0,446364.0,259755.0,710350.0,2501387.0,89952.0,423672.0,115355.0,991355.0],\"yaxis\":\"y\",\"type\":\"scatter\"},{\"hovertemplate\":\"Type=FOOD<br>Month=%{x}<br>Amount=%{y}<extra></extra>\",\"legendgroup\":\"FOOD\",\"line\":{\"color\":\"#EF553B\",\"dash\":\"solid\"},\"marker\":{\"symbol\":\"circle\"},\"mode\":\"lines\",\"name\":\"FOOD\",\"orientation\":\"v\",\"showlegend\":true,\"x\":[\"2004-01-03T00:00:00\",\"2004-01-12T00:00:00\",\"2004-01-15T00:00:00\",\"2004-01-25T00:00:00\",\"2004-02-05T00:00:00\",\"2004-03-19T00:00:00\",\"2004-04-06T00:00:00\",\"2004-04-25T00:00:00\",\"2004-05-05T00:00:00\",\"2004-09-13T00:00:00\",\"2004-11-23T00:00:00\",\"2005-01-17T00:00:00\",\"2005-02-01T00:00:00\",\"2005-02-03T00:00:00\",\"2005-02-16T00:00:00\",\"2005-02-23T00:00:00\",\"2005-02-28T00:00:00\",\"2005-04-04T00:00:00\",\"2005-04-27T00:00:00\",\"2005-05-07T00:00:00\",\"2005-05-09T00:00:00\",\"2005-05-24T00:00:00\",\"2005-05-25T00:00:00\",\"2005-05-26T00:00:00\",\"2005-05-27T00:00:00\",\"2005-05-28T00:00:00\",\"2005-05-29T00:00:00\",\"2005-05-30T00:00:00\",\"2005-05-31T00:00:00\",\"2005-06-01T00:00:00\",\"2005-06-02T00:00:00\",\"2005-06-03T00:00:00\",\"2005-07-03T00:00:00\",\"2005-08-03T00:00:00\",\"2005-08-12T00:00:00\",\"2005-11-20T00:00:00\",\"2005-11-22T00:00:00\",\"2005-12-03T00:00:00\",\"2006-02-04T00:00:00\",\"2006-03-05T00:00:00\",\"2006-03-23T00:00:00\",\"2006-03-24T00:00:00\",\"2006-03-25T00:00:00\",\"2006-03-26T00:00:00\",\"2006-03-27T00:00:00\",\"2006-03-28T00:00:00\",\"2006-03-29T00:00:00\",\"2006-03-30T00:00:00\",\"2006-03-31T00:00:00\",\"2006-04-01T00:00:00\",\"2006-04-02T00:00:00\",\"2006-04-04T00:00:00\",\"2006-04-19T00:00:00\",\"2006-04-30T00:00:00\",\"2006-05-06T00:00:00\",\"2006-05-08T00:00:00\",\"2006-05-10T00:00:00\",\"2006-07-11T00:00:00\",\"2006-10-03T00:00:00\",\"2006-11-21T00:00:00\"],\"xaxis\":\"x\",\"y\":[3705949.0,3367631.0,2064165.0,2400546.0,300032.0,361901.0,472743.0,231655.0,353619.0,681117.0,391871.0,320125.0,44371.0,544529.0,843469.0,650401.0,80275.0,757415.0,240214.0,244777.0,498240.0,496073.0,532459.0,751670.0,434017.0,609948.0,303232.0,277913.0,758900.0,766651.0,496726.0,273207.0,425846.0,75080.0,271122.0,428863.0,85859.0,468004.0,493254.0,155439.0,1693909.0,301003.0,602392.0,382310.0,315600.0,493201.0,76838.0,338873.0,2456906.0,236231.0,147604.0,341859.0,462854.0,344071.0,129743.0,204502.0,1997049.0,491888.0,73921.0,23276.0],\"yaxis\":\"y\",\"type\":\"scatter\"},{\"hovertemplate\":\"Type=AUTO<br>Month=%{x}<br>Amount=%{y}<extra></extra>\",\"legendgroup\":\"AUTO\",\"line\":{\"color\":\"#00cc96\",\"dash\":\"solid\"},\"marker\":{\"symbol\":\"circle\"},\"mode\":\"lines\",\"name\":\"AUTO\",\"orientation\":\"v\",\"showlegend\":true,\"x\":[\"2004-01-12T00:00:00\",\"2004-01-15T00:00:00\",\"2005-02-23T00:00:00\",\"2005-02-28T00:00:00\",\"2005-05-25T00:00:00\",\"2005-12-03T00:00:00\",\"2006-03-03T00:00:00\",\"2006-03-25T00:00:00\",\"2006-03-27T00:00:00\",\"2006-03-31T00:00:00\",\"2006-04-30T00:00:00\",\"2006-05-03T00:00:00\",\"2006-05-08T00:00:00\",\"2006-11-21T00:00:00\",\"2006-12-03T00:00:00\"],\"xaxis\":\"x\",\"y\":[637377.0,199745.0,1445276.0,38270.0,117691.0,155708.0,2102120.0,379402.0,1065914.0,478891.0,354504.0,228142.0,66432.0,448728.0,289884.0],\"yaxis\":\"y\",\"type\":\"scatter\"}],                        {\"template\":{\"data\":{\"bar\":[{\"error_x\":{\"color\":\"#2a3f5f\"},\"error_y\":{\"color\":\"#2a3f5f\"},\"marker\":{\"line\":{\"color\":\"#E5ECF6\",\"width\":0.5},\"pattern\":{\"fillmode\":\"overlay\",\"size\":10,\"solidity\":0.2}},\"type\":\"bar\"}],\"barpolar\":[{\"marker\":{\"line\":{\"color\":\"#E5ECF6\",\"width\":0.5},\"pattern\":{\"fillmode\":\"overlay\",\"size\":10,\"solidity\":0.2}},\"type\":\"barpolar\"}],\"carpet\":[{\"aaxis\":{\"endlinecolor\":\"#2a3f5f\",\"gridcolor\":\"white\",\"linecolor\":\"white\",\"minorgridcolor\":\"white\",\"startlinecolor\":\"#2a3f5f\"},\"baxis\":{\"endlinecolor\":\"#2a3f5f\",\"gridcolor\":\"white\",\"linecolor\":\"white\",\"minorgridcolor\":\"white\",\"startlinecolor\":\"#2a3f5f\"},\"type\":\"carpet\"}],\"choropleth\":[{\"colorbar\":{\"outlinewidth\":0,\"ticks\":\"\"},\"type\":\"choropleth\"}],\"contour\":[{\"colorbar\":{\"outlinewidth\":0,\"ticks\":\"\"},\"colorscale\":[[0.0,\"#0d0887\"],[0.1111111111111111,\"#46039f\"],[0.2222222222222222,\"#7201a8\"],[0.3333333333333333,\"#9c179e\"],[0.4444444444444444,\"#bd3786\"],[0.5555555555555556,\"#d8576b\"],[0.6666666666666666,\"#ed7953\"],[0.7777777777777778,\"#fb9f3a\"],[0.8888888888888888,\"#fdca26\"],[1.0,\"#f0f921\"]],\"type\":\"contour\"}],\"contourcarpet\":[{\"colorbar\":{\"outlinewidth\":0,\"ticks\":\"\"},\"type\":\"contourcarpet\"}],\"heatmap\":[{\"colorbar\":{\"outlinewidth\":0,\"ticks\":\"\"},\"colorscale\":[[0.0,\"#0d0887\"],[0.1111111111111111,\"#46039f\"],[0.2222222222222222,\"#7201a8\"],[0.3333333333333333,\"#9c179e\"],[0.4444444444444444,\"#bd3786\"],[0.5555555555555556,\"#d8576b\"],[0.6666666666666666,\"#ed7953\"],[0.7777777777777778,\"#fb9f3a\"],[0.8888888888888888,\"#fdca26\"],[1.0,\"#f0f921\"]],\"type\":\"heatmap\"}],\"heatmapgl\":[{\"colorbar\":{\"outlinewidth\":0,\"ticks\":\"\"},\"colorscale\":[[0.0,\"#0d0887\"],[0.1111111111111111,\"#46039f\"],[0.2222222222222222,\"#7201a8\"],[0.3333333333333333,\"#9c179e\"],[0.4444444444444444,\"#bd3786\"],[0.5555555555555556,\"#d8576b\"],[0.6666666666666666,\"#ed7953\"],[0.7777777777777778,\"#fb9f3a\"],[0.8888888888888888,\"#fdca26\"],[1.0,\"#f0f921\"]],\"type\":\"heatmapgl\"}],\"histogram\":[{\"marker\":{\"pattern\":{\"fillmode\":\"overlay\",\"size\":10,\"solidity\":0.2}},\"type\":\"histogram\"}],\"histogram2d\":[{\"colorbar\":{\"outlinewidth\":0,\"ticks\":\"\"},\"colorscale\":[[0.0,\"#0d0887\"],[0.1111111111111111,\"#46039f\"],[0.2222222222222222,\"#7201a8\"],[0.3333333333333333,\"#9c179e\"],[0.4444444444444444,\"#bd3786\"],[0.5555555555555556,\"#d8576b\"],[0.6666666666666666,\"#ed7953\"],[0.7777777777777778,\"#fb9f3a\"],[0.8888888888888888,\"#fdca26\"],[1.0,\"#f0f921\"]],\"type\":\"histogram2d\"}],\"histogram2dcontour\":[{\"colorbar\":{\"outlinewidth\":0,\"ticks\":\"\"},\"colorscale\":[[0.0,\"#0d0887\"],[0.1111111111111111,\"#46039f\"],[0.2222222222222222,\"#7201a8\"],[0.3333333333333333,\"#9c179e\"],[0.4444444444444444,\"#bd3786\"],[0.5555555555555556,\"#d8576b\"],[0.6666666666666666,\"#ed7953\"],[0.7777777777777778,\"#fb9f3a\"],[0.8888888888888888,\"#fdca26\"],[1.0,\"#f0f921\"]],\"type\":\"histogram2dcontour\"}],\"mesh3d\":[{\"colorbar\":{\"outlinewidth\":0,\"ticks\":\"\"},\"type\":\"mesh3d\"}],\"parcoords\":[{\"line\":{\"colorbar\":{\"outlinewidth\":0,\"ticks\":\"\"}},\"type\":\"parcoords\"}],\"pie\":[{\"automargin\":true,\"type\":\"pie\"}],\"scatter\":[{\"marker\":{\"colorbar\":{\"outlinewidth\":0,\"ticks\":\"\"}},\"type\":\"scatter\"}],\"scatter3d\":[{\"line\":{\"colorbar\":{\"outlinewidth\":0,\"ticks\":\"\"}},\"marker\":{\"colorbar\":{\"outlinewidth\":0,\"ticks\":\"\"}},\"type\":\"scatter3d\"}],\"scattercarpet\":[{\"marker\":{\"colorbar\":{\"outlinewidth\":0,\"ticks\":\"\"}},\"type\":\"scattercarpet\"}],\"scattergeo\":[{\"marker\":{\"colorbar\":{\"outlinewidth\":0,\"ticks\":\"\"}},\"type\":\"scattergeo\"}],\"scattergl\":[{\"marker\":{\"colorbar\":{\"outlinewidth\":0,\"ticks\":\"\"}},\"type\":\"scattergl\"}],\"scattermapbox\":[{\"marker\":{\"colorbar\":{\"outlinewidth\":0,\"ticks\":\"\"}},\"type\":\"scattermapbox\"}],\"scatterpolar\":[{\"marker\":{\"colorbar\":{\"outlinewidth\":0,\"ticks\":\"\"}},\"type\":\"scatterpolar\"}],\"scatterpolargl\":[{\"marker\":{\"colorbar\":{\"outlinewidth\":0,\"ticks\":\"\"}},\"type\":\"scatterpolargl\"}],\"scatterternary\":[{\"marker\":{\"colorbar\":{\"outlinewidth\":0,\"ticks\":\"\"}},\"type\":\"scatterternary\"}],\"surface\":[{\"colorbar\":{\"outlinewidth\":0,\"ticks\":\"\"},\"colorscale\":[[0.0,\"#0d0887\"],[0.1111111111111111,\"#46039f\"],[0.2222222222222222,\"#7201a8\"],[0.3333333333333333,\"#9c179e\"],[0.4444444444444444,\"#bd3786\"],[0.5555555555555556,\"#d8576b\"],[0.6666666666666666,\"#ed7953\"],[0.7777777777777778,\"#fb9f3a\"],[0.8888888888888888,\"#fdca26\"],[1.0,\"#f0f921\"]],\"type\":\"surface\"}],\"table\":[{\"cells\":{\"fill\":{\"color\":\"#EBF0F8\"},\"line\":{\"color\":\"white\"}},\"header\":{\"fill\":{\"color\":\"#C8D4E3\"},\"line\":{\"color\":\"white\"}},\"type\":\"table\"}]},\"layout\":{\"annotationdefaults\":{\"arrowcolor\":\"#2a3f5f\",\"arrowhead\":0,\"arrowwidth\":1},\"autotypenumbers\":\"strict\",\"coloraxis\":{\"colorbar\":{\"outlinewidth\":0,\"ticks\":\"\"}},\"colorscale\":{\"diverging\":[[0,\"#8e0152\"],[0.1,\"#c51b7d\"],[0.2,\"#de77ae\"],[0.3,\"#f1b6da\"],[0.4,\"#fde0ef\"],[0.5,\"#f7f7f7\"],[0.6,\"#e6f5d0\"],[0.7,\"#b8e186\"],[0.8,\"#7fbc41\"],[0.9,\"#4d9221\"],[1,\"#276419\"]],\"sequential\":[[0.0,\"#0d0887\"],[0.1111111111111111,\"#46039f\"],[0.2222222222222222,\"#7201a8\"],[0.3333333333333333,\"#9c179e\"],[0.4444444444444444,\"#bd3786\"],[0.5555555555555556,\"#d8576b\"],[0.6666666666666666,\"#ed7953\"],[0.7777777777777778,\"#fb9f3a\"],[0.8888888888888888,\"#fdca26\"],[1.0,\"#f0f921\"]],\"sequentialminus\":[[0.0,\"#0d0887\"],[0.1111111111111111,\"#46039f\"],[0.2222222222222222,\"#7201a8\"],[0.3333333333333333,\"#9c179e\"],[0.4444444444444444,\"#bd3786\"],[0.5555555555555556,\"#d8576b\"],[0.6666666666666666,\"#ed7953\"],[0.7777777777777778,\"#fb9f3a\"],[0.8888888888888888,\"#fdca26\"],[1.0,\"#f0f921\"]]},\"colorway\":[\"#636efa\",\"#EF553B\",\"#00cc96\",\"#ab63fa\",\"#FFA15A\",\"#19d3f3\",\"#FF6692\",\"#B6E880\",\"#FF97FF\",\"#FECB52\"],\"font\":{\"color\":\"#2a3f5f\"},\"geo\":{\"bgcolor\":\"white\",\"lakecolor\":\"white\",\"landcolor\":\"#E5ECF6\",\"showlakes\":true,\"showland\":true,\"subunitcolor\":\"white\"},\"hoverlabel\":{\"align\":\"left\"},\"hovermode\":\"closest\",\"mapbox\":{\"style\":\"light\"},\"paper_bgcolor\":\"white\",\"plot_bgcolor\":\"#E5ECF6\",\"polar\":{\"angularaxis\":{\"gridcolor\":\"white\",\"linecolor\":\"white\",\"ticks\":\"\"},\"bgcolor\":\"#E5ECF6\",\"radialaxis\":{\"gridcolor\":\"white\",\"linecolor\":\"white\",\"ticks\":\"\"}},\"scene\":{\"xaxis\":{\"backgroundcolor\":\"#E5ECF6\",\"gridcolor\":\"white\",\"gridwidth\":2,\"linecolor\":\"white\",\"showbackground\":true,\"ticks\":\"\",\"zerolinecolor\":\"white\"},\"yaxis\":{\"backgroundcolor\":\"#E5ECF6\",\"gridcolor\":\"white\",\"gridwidth\":2,\"linecolor\":\"white\",\"showbackground\":true,\"ticks\":\"\",\"zerolinecolor\":\"white\"},\"zaxis\":{\"backgroundcolor\":\"#E5ECF6\",\"gridcolor\":\"white\",\"gridwidth\":2,\"linecolor\":\"white\",\"showbackground\":true,\"ticks\":\"\",\"zerolinecolor\":\"white\"}},\"shapedefaults\":{\"line\":{\"color\":\"#2a3f5f\"}},\"ternary\":{\"aaxis\":{\"gridcolor\":\"white\",\"linecolor\":\"white\",\"ticks\":\"\"},\"baxis\":{\"gridcolor\":\"white\",\"linecolor\":\"white\",\"ticks\":\"\"},\"bgcolor\":\"#E5ECF6\",\"caxis\":{\"gridcolor\":\"white\",\"linecolor\":\"white\",\"ticks\":\"\"}},\"title\":{\"x\":0.05},\"xaxis\":{\"automargin\":true,\"gridcolor\":\"white\",\"linecolor\":\"white\",\"ticks\":\"\",\"title\":{\"standoff\":15},\"zerolinecolor\":\"white\",\"zerolinewidth\":2},\"yaxis\":{\"automargin\":true,\"gridcolor\":\"white\",\"linecolor\":\"white\",\"ticks\":\"\",\"title\":{\"standoff\":15},\"zerolinecolor\":\"white\",\"zerolinewidth\":2}}},\"xaxis\":{\"anchor\":\"y\",\"domain\":[0.0,1.0],\"title\":{\"text\":\"Month\"}},\"yaxis\":{\"anchor\":\"x\",\"domain\":[0.0,1.0],\"title\":{\"text\":\"Amount\"}},\"legend\":{\"title\":{\"text\":\"Type\"},\"tracegroupgap\":0},\"margin\":{\"t\":60}},                        {\"responsive\": true}                    ).then(function(){\n",
       "                            \n",
       "var gd = document.getElementById('60676a34-c182-4935-b02c-67fe4272f84a');\n",
       "var x = new MutationObserver(function (mutations, observer) {{\n",
       "        var display = window.getComputedStyle(gd).display;\n",
       "        if (!display || display === 'none') {{\n",
       "            console.log([gd, 'removed!']);\n",
       "            Plotly.purge(gd);\n",
       "            observer.disconnect();\n",
       "        }}\n",
       "}});\n",
       "\n",
       "// Listen for the removal of the full notebook cells\n",
       "var notebookContainer = gd.closest('#notebook-container');\n",
       "if (notebookContainer) {{\n",
       "    x.observe(notebookContainer, {childList: true});\n",
       "}}\n",
       "\n",
       "// Listen for the clearing of the current output cell\n",
       "var outputEl = gd.closest('.output');\n",
       "if (outputEl) {{\n",
       "    x.observe(outputEl, {childList: true});\n",
       "}}\n",
       "\n",
       "                        })                };                });            </script>        </div>"
      ]
     },
     "metadata": {},
     "output_type": "display_data"
    }
   ],
   "source": [
    "send_type_by_month_df = send_type_by_month_df[send_type_by_month_df[\"Type\"].isin([\"CLOTHES\", \"FOOD\", \"AUTO\"])]\n",
    "\n",
    "fig = px.line(data_frame=send_type_by_month_df,\n",
    "              x=\"Month\",\n",
    "              y=\"Amount\",\n",
    "              color=\"Type\")\n",
    "fig.show()"
   ]
  },
  {
   "cell_type": "markdown",
   "metadata": {
    "id": "Rl8H_RPSmb9o"
   },
   "source": [
    "## Pie chart"
   ]
  },
  {
   "cell_type": "code",
   "execution_count": 25,
   "metadata": {
    "colab": {
     "base_uri": "https://localhost:8080/",
     "height": 206
    },
    "executionInfo": {
     "elapsed": 309,
     "status": "ok",
     "timestamp": 1627853213370,
     "user": {
      "displayName": "Filipa Peleja",
      "photoUrl": "https://lh3.googleusercontent.com/a-/AOh14GhszTFoTfss30HXvgh6Cb51DPt2cGYvQ05kK0BdSA=s64",
      "userId": "09648315126991333382"
     },
     "user_tz": -120
    },
    "id": "92DtixPunHES",
    "outputId": "9dde9c60-00d8-475c-fc71-39ac1a3be741"
   },
   "outputs": [
    {
     "data": {
      "text/html": [
       "<div>\n",
       "<style scoped>\n",
       "    .dataframe tbody tr th:only-of-type {\n",
       "        vertical-align: middle;\n",
       "    }\n",
       "\n",
       "    .dataframe tbody tr th {\n",
       "        vertical-align: top;\n",
       "    }\n",
       "\n",
       "    .dataframe thead th {\n",
       "        text-align: right;\n",
       "    }\n",
       "</style>\n",
       "<table border=\"1\" class=\"dataframe\">\n",
       "  <thead>\n",
       "    <tr style=\"text-align: right;\">\n",
       "      <th></th>\n",
       "      <th>No</th>\n",
       "      <th>Customer</th>\n",
       "      <th>Age</th>\n",
       "      <th>City</th>\n",
       "      <th>Product</th>\n",
       "      <th>Limit</th>\n",
       "      <th>Company</th>\n",
       "      <th>Segment</th>\n",
       "      <th>Age_Bin</th>\n",
       "    </tr>\n",
       "  </thead>\n",
       "  <tbody>\n",
       "    <tr>\n",
       "      <th>0</th>\n",
       "      <td>1</td>\n",
       "      <td>A1</td>\n",
       "      <td>76</td>\n",
       "      <td>BANGALORE</td>\n",
       "      <td>Gold</td>\n",
       "      <td>500000.0</td>\n",
       "      <td>C1</td>\n",
       "      <td>Self Employed</td>\n",
       "      <td>&lt;79ys</td>\n",
       "    </tr>\n",
       "    <tr>\n",
       "      <th>1</th>\n",
       "      <td>2</td>\n",
       "      <td>A2</td>\n",
       "      <td>71</td>\n",
       "      <td>CALCUTTA</td>\n",
       "      <td>Silver</td>\n",
       "      <td>100000.0</td>\n",
       "      <td>C2</td>\n",
       "      <td>Salaried_MNC</td>\n",
       "      <td>&lt;79ys</td>\n",
       "    </tr>\n",
       "    <tr>\n",
       "      <th>2</th>\n",
       "      <td>3</td>\n",
       "      <td>A3</td>\n",
       "      <td>34</td>\n",
       "      <td>COCHIN</td>\n",
       "      <td>Platimum</td>\n",
       "      <td>10000.0</td>\n",
       "      <td>C3</td>\n",
       "      <td>Salaried_Pvt</td>\n",
       "      <td>&lt;47ys</td>\n",
       "    </tr>\n",
       "    <tr>\n",
       "      <th>3</th>\n",
       "      <td>4</td>\n",
       "      <td>A4</td>\n",
       "      <td>47</td>\n",
       "      <td>BOMBAY</td>\n",
       "      <td>Platimum</td>\n",
       "      <td>10001.0</td>\n",
       "      <td>C4</td>\n",
       "      <td>Govt</td>\n",
       "      <td>&lt;60ys</td>\n",
       "    </tr>\n",
       "    <tr>\n",
       "      <th>4</th>\n",
       "      <td>5</td>\n",
       "      <td>A5</td>\n",
       "      <td>56</td>\n",
       "      <td>BANGALORE</td>\n",
       "      <td>Platimum</td>\n",
       "      <td>10002.0</td>\n",
       "      <td>C5</td>\n",
       "      <td>Normal Salary</td>\n",
       "      <td>&lt;60ys</td>\n",
       "    </tr>\n",
       "  </tbody>\n",
       "</table>\n",
       "</div>"
      ],
      "text/plain": [
       "   No Customer  Age       City   Product     Limit Company        Segment  \\\n",
       "0   1       A1   76  BANGALORE      Gold  500000.0      C1  Self Employed   \n",
       "1   2       A2   71   CALCUTTA    Silver  100000.0      C2   Salaried_MNC   \n",
       "2   3       A3   34     COCHIN  Platimum   10000.0      C3   Salaried_Pvt   \n",
       "3   4       A4   47     BOMBAY  Platimum   10001.0      C4           Govt   \n",
       "4   5       A5   56  BANGALORE  Platimum   10002.0      C5  Normal Salary   \n",
       "\n",
       "  Age_Bin  \n",
       "0   <79ys  \n",
       "1   <79ys  \n",
       "2   <47ys  \n",
       "3   <60ys  \n",
       "4   <60ys  "
      ]
     },
     "execution_count": 25,
     "metadata": {},
     "output_type": "execute_result"
    }
   ],
   "source": [
    "# Create bins for the Credit Limit\n",
    "customer_acquisition_df[\"Age_Bin\"] = pd.qcut(customer_acquisition_df[\"Age\"], \n",
    "                                             q=4, \n",
    "                                             labels=[\"<34ys\", \"<47ys\", \"<60ys\", \"<79ys\"])\n",
    "\n",
    "customer_acquisition_df.head()"
   ]
  },
  {
   "cell_type": "code",
   "execution_count": 26,
   "metadata": {
    "colab": {
     "base_uri": "https://localhost:8080/",
     "height": 542
    },
    "executionInfo": {
     "elapsed": 570,
     "status": "ok",
     "timestamp": 1627853358362,
     "user": {
      "displayName": "Filipa Peleja",
      "photoUrl": "https://lh3.googleusercontent.com/a-/AOh14GhszTFoTfss30HXvgh6Cb51DPt2cGYvQ05kK0BdSA=s64",
      "userId": "09648315126991333382"
     },
     "user_tz": -120
    },
    "id": "cZCRxtIDnMxk",
    "outputId": "6a1490a4-390e-4b2f-97b8-4a26d5cd9175"
   },
   "outputs": [
    {
     "data": {
      "application/vnd.plotly.v1+json": {
       "config": {
        "plotlyServerURL": "https://plot.ly"
       },
       "data": [
        {
         "domain": {
          "x": [
           0,
           1
          ],
          "y": [
           0,
           1
          ]
         },
         "hovertemplate": "City=%{label}<br>Limit=%{value}<extra></extra>",
         "labels": [
          "BANGALORE",
          "CALCUTTA",
          "COCHIN",
          "BOMBAY",
          "BANGALORE",
          "DELHI",
          "COCHIN",
          "PATNA",
          "CHENNAI",
          "CALCUTTA",
          "COCHIN",
          "BOMBAY",
          "BANGALORE",
          "BANGALORE",
          "CALCUTTA",
          "COCHIN",
          "BOMBAY",
          "BANGALORE",
          "BANGALORE",
          "CALCUTTA",
          "COCHIN",
          "BOMBAY",
          "BANGALORE",
          "DELHI",
          "COCHIN",
          "PATNA",
          "CHENNAI",
          "TRIVANDRUM",
          "CALCUTTA",
          "BANGALORE",
          "CALCUTTA",
          "COCHIN",
          "BOMBAY",
          "CALCUTTA",
          "COCHIN",
          "BOMBAY",
          "BANGALORE",
          "CHENNAI",
          "TRIVANDRUM",
          "CALCUTTA",
          "COCHIN",
          "BOMBAY",
          "BANGALORE",
          "DELHI",
          "COCHIN",
          "PATNA",
          "CHENNAI",
          "TRIVANDRUM",
          "CALCUTTA",
          "COCHIN",
          "BOMBAY",
          "BANGALORE",
          "DELHI",
          "COCHIN",
          "PATNA",
          "CHENNAI",
          "TRIVANDRUM",
          "CALCUTTA",
          "BANGALORE",
          "CALCUTTA",
          "COCHIN",
          "BOMBAY",
          "BANGALORE",
          "DELHI",
          "COCHIN",
          "PATNA",
          "CHENNAI",
          "TRIVANDRUM",
          "CALCUTTA",
          "BOMBAY",
          "BOMBAY",
          "BANGALORE",
          "CALCUTTA",
          "COCHIN",
          "BOMBAY",
          "BANGALORE",
          "BANGALORE",
          "CALCUTTA",
          "COCHIN",
          "BOMBAY",
          "BANGALORE",
          "DELHI",
          "COCHIN",
          "PATNA",
          "CHENNAI",
          "TRIVANDRUM",
          "CALCUTTA",
          "BANGALORE",
          "CALCUTTA",
          "COCHIN",
          "BOMBAY",
          "BANGALORE",
          "DELHI",
          "COCHIN",
          "PATNA",
          "CHENNAI",
          "TRIVANDRUM",
          "CALCUTTA",
          "CALCUTTA",
          "COCHIN"
         ],
         "legendgroup": "",
         "name": "",
         "showlegend": true,
         "type": "pie",
         "values": [
          500000,
          100000,
          10000,
          10001,
          10002,
          100000,
          100001,
          100002,
          100003,
          500000,
          500000,
          500000,
          500000,
          500000,
          500000,
          500000,
          500000,
          100000,
          10000,
          10001,
          10002,
          100000,
          100001,
          100002,
          100003,
          500000,
          500000,
          500000,
          500000,
          500000,
          500000,
          500000,
          10002,
          100000,
          100001,
          100002,
          100003,
          500000,
          500000,
          500000,
          500000,
          500000,
          500000,
          500000,
          500000,
          100000,
          10000,
          10001,
          10002,
          100000,
          100001,
          100002,
          100003,
          500000,
          500000,
          500000,
          100001,
          100002,
          100003,
          500000,
          500000,
          500000,
          500000,
          500000,
          500000,
          500000,
          500000,
          100000,
          10000,
          10001,
          10002,
          100000,
          100001,
          100002,
          100003,
          500000,
          500000,
          500000,
          500000,
          500000,
          500000,
          500000,
          10002,
          100000,
          100001,
          100002,
          100003,
          500000,
          500000,
          500000,
          500000,
          500000,
          500000,
          500000,
          500000,
          100000,
          10000,
          10001,
          10002,
          100000
         ]
        }
       ],
       "layout": {
        "legend": {
         "tracegroupgap": 0
        },
        "template": {
         "data": {
          "bar": [
           {
            "error_x": {
             "color": "#2a3f5f"
            },
            "error_y": {
             "color": "#2a3f5f"
            },
            "marker": {
             "line": {
              "color": "#E5ECF6",
              "width": 0.5
             },
             "pattern": {
              "fillmode": "overlay",
              "size": 10,
              "solidity": 0.2
             }
            },
            "type": "bar"
           }
          ],
          "barpolar": [
           {
            "marker": {
             "line": {
              "color": "#E5ECF6",
              "width": 0.5
             },
             "pattern": {
              "fillmode": "overlay",
              "size": 10,
              "solidity": 0.2
             }
            },
            "type": "barpolar"
           }
          ],
          "carpet": [
           {
            "aaxis": {
             "endlinecolor": "#2a3f5f",
             "gridcolor": "white",
             "linecolor": "white",
             "minorgridcolor": "white",
             "startlinecolor": "#2a3f5f"
            },
            "baxis": {
             "endlinecolor": "#2a3f5f",
             "gridcolor": "white",
             "linecolor": "white",
             "minorgridcolor": "white",
             "startlinecolor": "#2a3f5f"
            },
            "type": "carpet"
           }
          ],
          "choropleth": [
           {
            "colorbar": {
             "outlinewidth": 0,
             "ticks": ""
            },
            "type": "choropleth"
           }
          ],
          "contour": [
           {
            "colorbar": {
             "outlinewidth": 0,
             "ticks": ""
            },
            "colorscale": [
             [
              0,
              "#0d0887"
             ],
             [
              0.1111111111111111,
              "#46039f"
             ],
             [
              0.2222222222222222,
              "#7201a8"
             ],
             [
              0.3333333333333333,
              "#9c179e"
             ],
             [
              0.4444444444444444,
              "#bd3786"
             ],
             [
              0.5555555555555556,
              "#d8576b"
             ],
             [
              0.6666666666666666,
              "#ed7953"
             ],
             [
              0.7777777777777778,
              "#fb9f3a"
             ],
             [
              0.8888888888888888,
              "#fdca26"
             ],
             [
              1,
              "#f0f921"
             ]
            ],
            "type": "contour"
           }
          ],
          "contourcarpet": [
           {
            "colorbar": {
             "outlinewidth": 0,
             "ticks": ""
            },
            "type": "contourcarpet"
           }
          ],
          "heatmap": [
           {
            "colorbar": {
             "outlinewidth": 0,
             "ticks": ""
            },
            "colorscale": [
             [
              0,
              "#0d0887"
             ],
             [
              0.1111111111111111,
              "#46039f"
             ],
             [
              0.2222222222222222,
              "#7201a8"
             ],
             [
              0.3333333333333333,
              "#9c179e"
             ],
             [
              0.4444444444444444,
              "#bd3786"
             ],
             [
              0.5555555555555556,
              "#d8576b"
             ],
             [
              0.6666666666666666,
              "#ed7953"
             ],
             [
              0.7777777777777778,
              "#fb9f3a"
             ],
             [
              0.8888888888888888,
              "#fdca26"
             ],
             [
              1,
              "#f0f921"
             ]
            ],
            "type": "heatmap"
           }
          ],
          "heatmapgl": [
           {
            "colorbar": {
             "outlinewidth": 0,
             "ticks": ""
            },
            "colorscale": [
             [
              0,
              "#0d0887"
             ],
             [
              0.1111111111111111,
              "#46039f"
             ],
             [
              0.2222222222222222,
              "#7201a8"
             ],
             [
              0.3333333333333333,
              "#9c179e"
             ],
             [
              0.4444444444444444,
              "#bd3786"
             ],
             [
              0.5555555555555556,
              "#d8576b"
             ],
             [
              0.6666666666666666,
              "#ed7953"
             ],
             [
              0.7777777777777778,
              "#fb9f3a"
             ],
             [
              0.8888888888888888,
              "#fdca26"
             ],
             [
              1,
              "#f0f921"
             ]
            ],
            "type": "heatmapgl"
           }
          ],
          "histogram": [
           {
            "marker": {
             "pattern": {
              "fillmode": "overlay",
              "size": 10,
              "solidity": 0.2
             }
            },
            "type": "histogram"
           }
          ],
          "histogram2d": [
           {
            "colorbar": {
             "outlinewidth": 0,
             "ticks": ""
            },
            "colorscale": [
             [
              0,
              "#0d0887"
             ],
             [
              0.1111111111111111,
              "#46039f"
             ],
             [
              0.2222222222222222,
              "#7201a8"
             ],
             [
              0.3333333333333333,
              "#9c179e"
             ],
             [
              0.4444444444444444,
              "#bd3786"
             ],
             [
              0.5555555555555556,
              "#d8576b"
             ],
             [
              0.6666666666666666,
              "#ed7953"
             ],
             [
              0.7777777777777778,
              "#fb9f3a"
             ],
             [
              0.8888888888888888,
              "#fdca26"
             ],
             [
              1,
              "#f0f921"
             ]
            ],
            "type": "histogram2d"
           }
          ],
          "histogram2dcontour": [
           {
            "colorbar": {
             "outlinewidth": 0,
             "ticks": ""
            },
            "colorscale": [
             [
              0,
              "#0d0887"
             ],
             [
              0.1111111111111111,
              "#46039f"
             ],
             [
              0.2222222222222222,
              "#7201a8"
             ],
             [
              0.3333333333333333,
              "#9c179e"
             ],
             [
              0.4444444444444444,
              "#bd3786"
             ],
             [
              0.5555555555555556,
              "#d8576b"
             ],
             [
              0.6666666666666666,
              "#ed7953"
             ],
             [
              0.7777777777777778,
              "#fb9f3a"
             ],
             [
              0.8888888888888888,
              "#fdca26"
             ],
             [
              1,
              "#f0f921"
             ]
            ],
            "type": "histogram2dcontour"
           }
          ],
          "mesh3d": [
           {
            "colorbar": {
             "outlinewidth": 0,
             "ticks": ""
            },
            "type": "mesh3d"
           }
          ],
          "parcoords": [
           {
            "line": {
             "colorbar": {
              "outlinewidth": 0,
              "ticks": ""
             }
            },
            "type": "parcoords"
           }
          ],
          "pie": [
           {
            "automargin": true,
            "type": "pie"
           }
          ],
          "scatter": [
           {
            "marker": {
             "colorbar": {
              "outlinewidth": 0,
              "ticks": ""
             }
            },
            "type": "scatter"
           }
          ],
          "scatter3d": [
           {
            "line": {
             "colorbar": {
              "outlinewidth": 0,
              "ticks": ""
             }
            },
            "marker": {
             "colorbar": {
              "outlinewidth": 0,
              "ticks": ""
             }
            },
            "type": "scatter3d"
           }
          ],
          "scattercarpet": [
           {
            "marker": {
             "colorbar": {
              "outlinewidth": 0,
              "ticks": ""
             }
            },
            "type": "scattercarpet"
           }
          ],
          "scattergeo": [
           {
            "marker": {
             "colorbar": {
              "outlinewidth": 0,
              "ticks": ""
             }
            },
            "type": "scattergeo"
           }
          ],
          "scattergl": [
           {
            "marker": {
             "colorbar": {
              "outlinewidth": 0,
              "ticks": ""
             }
            },
            "type": "scattergl"
           }
          ],
          "scattermapbox": [
           {
            "marker": {
             "colorbar": {
              "outlinewidth": 0,
              "ticks": ""
             }
            },
            "type": "scattermapbox"
           }
          ],
          "scatterpolar": [
           {
            "marker": {
             "colorbar": {
              "outlinewidth": 0,
              "ticks": ""
             }
            },
            "type": "scatterpolar"
           }
          ],
          "scatterpolargl": [
           {
            "marker": {
             "colorbar": {
              "outlinewidth": 0,
              "ticks": ""
             }
            },
            "type": "scatterpolargl"
           }
          ],
          "scatterternary": [
           {
            "marker": {
             "colorbar": {
              "outlinewidth": 0,
              "ticks": ""
             }
            },
            "type": "scatterternary"
           }
          ],
          "surface": [
           {
            "colorbar": {
             "outlinewidth": 0,
             "ticks": ""
            },
            "colorscale": [
             [
              0,
              "#0d0887"
             ],
             [
              0.1111111111111111,
              "#46039f"
             ],
             [
              0.2222222222222222,
              "#7201a8"
             ],
             [
              0.3333333333333333,
              "#9c179e"
             ],
             [
              0.4444444444444444,
              "#bd3786"
             ],
             [
              0.5555555555555556,
              "#d8576b"
             ],
             [
              0.6666666666666666,
              "#ed7953"
             ],
             [
              0.7777777777777778,
              "#fb9f3a"
             ],
             [
              0.8888888888888888,
              "#fdca26"
             ],
             [
              1,
              "#f0f921"
             ]
            ],
            "type": "surface"
           }
          ],
          "table": [
           {
            "cells": {
             "fill": {
              "color": "#EBF0F8"
             },
             "line": {
              "color": "white"
             }
            },
            "header": {
             "fill": {
              "color": "#C8D4E3"
             },
             "line": {
              "color": "white"
             }
            },
            "type": "table"
           }
          ]
         },
         "layout": {
          "annotationdefaults": {
           "arrowcolor": "#2a3f5f",
           "arrowhead": 0,
           "arrowwidth": 1
          },
          "autotypenumbers": "strict",
          "coloraxis": {
           "colorbar": {
            "outlinewidth": 0,
            "ticks": ""
           }
          },
          "colorscale": {
           "diverging": [
            [
             0,
             "#8e0152"
            ],
            [
             0.1,
             "#c51b7d"
            ],
            [
             0.2,
             "#de77ae"
            ],
            [
             0.3,
             "#f1b6da"
            ],
            [
             0.4,
             "#fde0ef"
            ],
            [
             0.5,
             "#f7f7f7"
            ],
            [
             0.6,
             "#e6f5d0"
            ],
            [
             0.7,
             "#b8e186"
            ],
            [
             0.8,
             "#7fbc41"
            ],
            [
             0.9,
             "#4d9221"
            ],
            [
             1,
             "#276419"
            ]
           ],
           "sequential": [
            [
             0,
             "#0d0887"
            ],
            [
             0.1111111111111111,
             "#46039f"
            ],
            [
             0.2222222222222222,
             "#7201a8"
            ],
            [
             0.3333333333333333,
             "#9c179e"
            ],
            [
             0.4444444444444444,
             "#bd3786"
            ],
            [
             0.5555555555555556,
             "#d8576b"
            ],
            [
             0.6666666666666666,
             "#ed7953"
            ],
            [
             0.7777777777777778,
             "#fb9f3a"
            ],
            [
             0.8888888888888888,
             "#fdca26"
            ],
            [
             1,
             "#f0f921"
            ]
           ],
           "sequentialminus": [
            [
             0,
             "#0d0887"
            ],
            [
             0.1111111111111111,
             "#46039f"
            ],
            [
             0.2222222222222222,
             "#7201a8"
            ],
            [
             0.3333333333333333,
             "#9c179e"
            ],
            [
             0.4444444444444444,
             "#bd3786"
            ],
            [
             0.5555555555555556,
             "#d8576b"
            ],
            [
             0.6666666666666666,
             "#ed7953"
            ],
            [
             0.7777777777777778,
             "#fb9f3a"
            ],
            [
             0.8888888888888888,
             "#fdca26"
            ],
            [
             1,
             "#f0f921"
            ]
           ]
          },
          "colorway": [
           "#636efa",
           "#EF553B",
           "#00cc96",
           "#ab63fa",
           "#FFA15A",
           "#19d3f3",
           "#FF6692",
           "#B6E880",
           "#FF97FF",
           "#FECB52"
          ],
          "font": {
           "color": "#2a3f5f"
          },
          "geo": {
           "bgcolor": "white",
           "lakecolor": "white",
           "landcolor": "#E5ECF6",
           "showlakes": true,
           "showland": true,
           "subunitcolor": "white"
          },
          "hoverlabel": {
           "align": "left"
          },
          "hovermode": "closest",
          "mapbox": {
           "style": "light"
          },
          "paper_bgcolor": "white",
          "plot_bgcolor": "#E5ECF6",
          "polar": {
           "angularaxis": {
            "gridcolor": "white",
            "linecolor": "white",
            "ticks": ""
           },
           "bgcolor": "#E5ECF6",
           "radialaxis": {
            "gridcolor": "white",
            "linecolor": "white",
            "ticks": ""
           }
          },
          "scene": {
           "xaxis": {
            "backgroundcolor": "#E5ECF6",
            "gridcolor": "white",
            "gridwidth": 2,
            "linecolor": "white",
            "showbackground": true,
            "ticks": "",
            "zerolinecolor": "white"
           },
           "yaxis": {
            "backgroundcolor": "#E5ECF6",
            "gridcolor": "white",
            "gridwidth": 2,
            "linecolor": "white",
            "showbackground": true,
            "ticks": "",
            "zerolinecolor": "white"
           },
           "zaxis": {
            "backgroundcolor": "#E5ECF6",
            "gridcolor": "white",
            "gridwidth": 2,
            "linecolor": "white",
            "showbackground": true,
            "ticks": "",
            "zerolinecolor": "white"
           }
          },
          "shapedefaults": {
           "line": {
            "color": "#2a3f5f"
           }
          },
          "ternary": {
           "aaxis": {
            "gridcolor": "white",
            "linecolor": "white",
            "ticks": ""
           },
           "baxis": {
            "gridcolor": "white",
            "linecolor": "white",
            "ticks": ""
           },
           "bgcolor": "#E5ECF6",
           "caxis": {
            "gridcolor": "white",
            "linecolor": "white",
            "ticks": ""
           }
          },
          "title": {
           "x": 0.05
          },
          "xaxis": {
           "automargin": true,
           "gridcolor": "white",
           "linecolor": "white",
           "ticks": "",
           "title": {
            "standoff": 15
           },
           "zerolinecolor": "white",
           "zerolinewidth": 2
          },
          "yaxis": {
           "automargin": true,
           "gridcolor": "white",
           "linecolor": "white",
           "ticks": "",
           "title": {
            "standoff": 15
           },
           "zerolinecolor": "white",
           "zerolinewidth": 2
          }
         }
        },
        "title": {
         "text": "Limit Spent by City"
        }
       }
      },
      "text/html": [
       "<div>                            <div id=\"ec017e9b-b629-46ae-bc6e-4393f53f932a\" class=\"plotly-graph-div\" style=\"height:525px; width:100%;\"></div>            <script type=\"text/javascript\">                require([\"plotly\"], function(Plotly) {                    window.PLOTLYENV=window.PLOTLYENV || {};                                    if (document.getElementById(\"ec017e9b-b629-46ae-bc6e-4393f53f932a\")) {                    Plotly.newPlot(                        \"ec017e9b-b629-46ae-bc6e-4393f53f932a\",                        [{\"domain\":{\"x\":[0.0,1.0],\"y\":[0.0,1.0]},\"hovertemplate\":\"City=%{label}<br>Limit=%{value}<extra></extra>\",\"labels\":[\"BANGALORE\",\"CALCUTTA\",\"COCHIN\",\"BOMBAY\",\"BANGALORE\",\"DELHI\",\"COCHIN\",\"PATNA\",\"CHENNAI\",\"CALCUTTA\",\"COCHIN\",\"BOMBAY\",\"BANGALORE\",\"BANGALORE\",\"CALCUTTA\",\"COCHIN\",\"BOMBAY\",\"BANGALORE\",\"BANGALORE\",\"CALCUTTA\",\"COCHIN\",\"BOMBAY\",\"BANGALORE\",\"DELHI\",\"COCHIN\",\"PATNA\",\"CHENNAI\",\"TRIVANDRUM\",\"CALCUTTA\",\"BANGALORE\",\"CALCUTTA\",\"COCHIN\",\"BOMBAY\",\"CALCUTTA\",\"COCHIN\",\"BOMBAY\",\"BANGALORE\",\"CHENNAI\",\"TRIVANDRUM\",\"CALCUTTA\",\"COCHIN\",\"BOMBAY\",\"BANGALORE\",\"DELHI\",\"COCHIN\",\"PATNA\",\"CHENNAI\",\"TRIVANDRUM\",\"CALCUTTA\",\"COCHIN\",\"BOMBAY\",\"BANGALORE\",\"DELHI\",\"COCHIN\",\"PATNA\",\"CHENNAI\",\"TRIVANDRUM\",\"CALCUTTA\",\"BANGALORE\",\"CALCUTTA\",\"COCHIN\",\"BOMBAY\",\"BANGALORE\",\"DELHI\",\"COCHIN\",\"PATNA\",\"CHENNAI\",\"TRIVANDRUM\",\"CALCUTTA\",\"BOMBAY\",\"BOMBAY\",\"BANGALORE\",\"CALCUTTA\",\"COCHIN\",\"BOMBAY\",\"BANGALORE\",\"BANGALORE\",\"CALCUTTA\",\"COCHIN\",\"BOMBAY\",\"BANGALORE\",\"DELHI\",\"COCHIN\",\"PATNA\",\"CHENNAI\",\"TRIVANDRUM\",\"CALCUTTA\",\"BANGALORE\",\"CALCUTTA\",\"COCHIN\",\"BOMBAY\",\"BANGALORE\",\"DELHI\",\"COCHIN\",\"PATNA\",\"CHENNAI\",\"TRIVANDRUM\",\"CALCUTTA\",\"CALCUTTA\",\"COCHIN\"],\"legendgroup\":\"\",\"name\":\"\",\"showlegend\":true,\"values\":[500000.0,100000.0,10000.0,10001.0,10002.0,100000.0,100001.0,100002.0,100003.0,500000.0,500000.0,500000.0,500000.0,500000.0,500000.0,500000.0,500000.0,100000.0,10000.0,10001.0,10002.0,100000.0,100001.0,100002.0,100003.0,500000.0,500000.0,500000.0,500000.0,500000.0,500000.0,500000.0,10002.0,100000.0,100001.0,100002.0,100003.0,500000.0,500000.0,500000.0,500000.0,500000.0,500000.0,500000.0,500000.0,100000.0,10000.0,10001.0,10002.0,100000.0,100001.0,100002.0,100003.0,500000.0,500000.0,500000.0,100001.0,100002.0,100003.0,500000.0,500000.0,500000.0,500000.0,500000.0,500000.0,500000.0,500000.0,100000.0,10000.0,10001.0,10002.0,100000.0,100001.0,100002.0,100003.0,500000.0,500000.0,500000.0,500000.0,500000.0,500000.0,500000.0,10002.0,100000.0,100001.0,100002.0,100003.0,500000.0,500000.0,500000.0,500000.0,500000.0,500000.0,500000.0,500000.0,100000.0,10000.0,10001.0,10002.0,100000.0],\"type\":\"pie\"}],                        {\"template\":{\"data\":{\"bar\":[{\"error_x\":{\"color\":\"#2a3f5f\"},\"error_y\":{\"color\":\"#2a3f5f\"},\"marker\":{\"line\":{\"color\":\"#E5ECF6\",\"width\":0.5},\"pattern\":{\"fillmode\":\"overlay\",\"size\":10,\"solidity\":0.2}},\"type\":\"bar\"}],\"barpolar\":[{\"marker\":{\"line\":{\"color\":\"#E5ECF6\",\"width\":0.5},\"pattern\":{\"fillmode\":\"overlay\",\"size\":10,\"solidity\":0.2}},\"type\":\"barpolar\"}],\"carpet\":[{\"aaxis\":{\"endlinecolor\":\"#2a3f5f\",\"gridcolor\":\"white\",\"linecolor\":\"white\",\"minorgridcolor\":\"white\",\"startlinecolor\":\"#2a3f5f\"},\"baxis\":{\"endlinecolor\":\"#2a3f5f\",\"gridcolor\":\"white\",\"linecolor\":\"white\",\"minorgridcolor\":\"white\",\"startlinecolor\":\"#2a3f5f\"},\"type\":\"carpet\"}],\"choropleth\":[{\"colorbar\":{\"outlinewidth\":0,\"ticks\":\"\"},\"type\":\"choropleth\"}],\"contour\":[{\"colorbar\":{\"outlinewidth\":0,\"ticks\":\"\"},\"colorscale\":[[0.0,\"#0d0887\"],[0.1111111111111111,\"#46039f\"],[0.2222222222222222,\"#7201a8\"],[0.3333333333333333,\"#9c179e\"],[0.4444444444444444,\"#bd3786\"],[0.5555555555555556,\"#d8576b\"],[0.6666666666666666,\"#ed7953\"],[0.7777777777777778,\"#fb9f3a\"],[0.8888888888888888,\"#fdca26\"],[1.0,\"#f0f921\"]],\"type\":\"contour\"}],\"contourcarpet\":[{\"colorbar\":{\"outlinewidth\":0,\"ticks\":\"\"},\"type\":\"contourcarpet\"}],\"heatmap\":[{\"colorbar\":{\"outlinewidth\":0,\"ticks\":\"\"},\"colorscale\":[[0.0,\"#0d0887\"],[0.1111111111111111,\"#46039f\"],[0.2222222222222222,\"#7201a8\"],[0.3333333333333333,\"#9c179e\"],[0.4444444444444444,\"#bd3786\"],[0.5555555555555556,\"#d8576b\"],[0.6666666666666666,\"#ed7953\"],[0.7777777777777778,\"#fb9f3a\"],[0.8888888888888888,\"#fdca26\"],[1.0,\"#f0f921\"]],\"type\":\"heatmap\"}],\"heatmapgl\":[{\"colorbar\":{\"outlinewidth\":0,\"ticks\":\"\"},\"colorscale\":[[0.0,\"#0d0887\"],[0.1111111111111111,\"#46039f\"],[0.2222222222222222,\"#7201a8\"],[0.3333333333333333,\"#9c179e\"],[0.4444444444444444,\"#bd3786\"],[0.5555555555555556,\"#d8576b\"],[0.6666666666666666,\"#ed7953\"],[0.7777777777777778,\"#fb9f3a\"],[0.8888888888888888,\"#fdca26\"],[1.0,\"#f0f921\"]],\"type\":\"heatmapgl\"}],\"histogram\":[{\"marker\":{\"pattern\":{\"fillmode\":\"overlay\",\"size\":10,\"solidity\":0.2}},\"type\":\"histogram\"}],\"histogram2d\":[{\"colorbar\":{\"outlinewidth\":0,\"ticks\":\"\"},\"colorscale\":[[0.0,\"#0d0887\"],[0.1111111111111111,\"#46039f\"],[0.2222222222222222,\"#7201a8\"],[0.3333333333333333,\"#9c179e\"],[0.4444444444444444,\"#bd3786\"],[0.5555555555555556,\"#d8576b\"],[0.6666666666666666,\"#ed7953\"],[0.7777777777777778,\"#fb9f3a\"],[0.8888888888888888,\"#fdca26\"],[1.0,\"#f0f921\"]],\"type\":\"histogram2d\"}],\"histogram2dcontour\":[{\"colorbar\":{\"outlinewidth\":0,\"ticks\":\"\"},\"colorscale\":[[0.0,\"#0d0887\"],[0.1111111111111111,\"#46039f\"],[0.2222222222222222,\"#7201a8\"],[0.3333333333333333,\"#9c179e\"],[0.4444444444444444,\"#bd3786\"],[0.5555555555555556,\"#d8576b\"],[0.6666666666666666,\"#ed7953\"],[0.7777777777777778,\"#fb9f3a\"],[0.8888888888888888,\"#fdca26\"],[1.0,\"#f0f921\"]],\"type\":\"histogram2dcontour\"}],\"mesh3d\":[{\"colorbar\":{\"outlinewidth\":0,\"ticks\":\"\"},\"type\":\"mesh3d\"}],\"parcoords\":[{\"line\":{\"colorbar\":{\"outlinewidth\":0,\"ticks\":\"\"}},\"type\":\"parcoords\"}],\"pie\":[{\"automargin\":true,\"type\":\"pie\"}],\"scatter\":[{\"marker\":{\"colorbar\":{\"outlinewidth\":0,\"ticks\":\"\"}},\"type\":\"scatter\"}],\"scatter3d\":[{\"line\":{\"colorbar\":{\"outlinewidth\":0,\"ticks\":\"\"}},\"marker\":{\"colorbar\":{\"outlinewidth\":0,\"ticks\":\"\"}},\"type\":\"scatter3d\"}],\"scattercarpet\":[{\"marker\":{\"colorbar\":{\"outlinewidth\":0,\"ticks\":\"\"}},\"type\":\"scattercarpet\"}],\"scattergeo\":[{\"marker\":{\"colorbar\":{\"outlinewidth\":0,\"ticks\":\"\"}},\"type\":\"scattergeo\"}],\"scattergl\":[{\"marker\":{\"colorbar\":{\"outlinewidth\":0,\"ticks\":\"\"}},\"type\":\"scattergl\"}],\"scattermapbox\":[{\"marker\":{\"colorbar\":{\"outlinewidth\":0,\"ticks\":\"\"}},\"type\":\"scattermapbox\"}],\"scatterpolar\":[{\"marker\":{\"colorbar\":{\"outlinewidth\":0,\"ticks\":\"\"}},\"type\":\"scatterpolar\"}],\"scatterpolargl\":[{\"marker\":{\"colorbar\":{\"outlinewidth\":0,\"ticks\":\"\"}},\"type\":\"scatterpolargl\"}],\"scatterternary\":[{\"marker\":{\"colorbar\":{\"outlinewidth\":0,\"ticks\":\"\"}},\"type\":\"scatterternary\"}],\"surface\":[{\"colorbar\":{\"outlinewidth\":0,\"ticks\":\"\"},\"colorscale\":[[0.0,\"#0d0887\"],[0.1111111111111111,\"#46039f\"],[0.2222222222222222,\"#7201a8\"],[0.3333333333333333,\"#9c179e\"],[0.4444444444444444,\"#bd3786\"],[0.5555555555555556,\"#d8576b\"],[0.6666666666666666,\"#ed7953\"],[0.7777777777777778,\"#fb9f3a\"],[0.8888888888888888,\"#fdca26\"],[1.0,\"#f0f921\"]],\"type\":\"surface\"}],\"table\":[{\"cells\":{\"fill\":{\"color\":\"#EBF0F8\"},\"line\":{\"color\":\"white\"}},\"header\":{\"fill\":{\"color\":\"#C8D4E3\"},\"line\":{\"color\":\"white\"}},\"type\":\"table\"}]},\"layout\":{\"annotationdefaults\":{\"arrowcolor\":\"#2a3f5f\",\"arrowhead\":0,\"arrowwidth\":1},\"autotypenumbers\":\"strict\",\"coloraxis\":{\"colorbar\":{\"outlinewidth\":0,\"ticks\":\"\"}},\"colorscale\":{\"diverging\":[[0,\"#8e0152\"],[0.1,\"#c51b7d\"],[0.2,\"#de77ae\"],[0.3,\"#f1b6da\"],[0.4,\"#fde0ef\"],[0.5,\"#f7f7f7\"],[0.6,\"#e6f5d0\"],[0.7,\"#b8e186\"],[0.8,\"#7fbc41\"],[0.9,\"#4d9221\"],[1,\"#276419\"]],\"sequential\":[[0.0,\"#0d0887\"],[0.1111111111111111,\"#46039f\"],[0.2222222222222222,\"#7201a8\"],[0.3333333333333333,\"#9c179e\"],[0.4444444444444444,\"#bd3786\"],[0.5555555555555556,\"#d8576b\"],[0.6666666666666666,\"#ed7953\"],[0.7777777777777778,\"#fb9f3a\"],[0.8888888888888888,\"#fdca26\"],[1.0,\"#f0f921\"]],\"sequentialminus\":[[0.0,\"#0d0887\"],[0.1111111111111111,\"#46039f\"],[0.2222222222222222,\"#7201a8\"],[0.3333333333333333,\"#9c179e\"],[0.4444444444444444,\"#bd3786\"],[0.5555555555555556,\"#d8576b\"],[0.6666666666666666,\"#ed7953\"],[0.7777777777777778,\"#fb9f3a\"],[0.8888888888888888,\"#fdca26\"],[1.0,\"#f0f921\"]]},\"colorway\":[\"#636efa\",\"#EF553B\",\"#00cc96\",\"#ab63fa\",\"#FFA15A\",\"#19d3f3\",\"#FF6692\",\"#B6E880\",\"#FF97FF\",\"#FECB52\"],\"font\":{\"color\":\"#2a3f5f\"},\"geo\":{\"bgcolor\":\"white\",\"lakecolor\":\"white\",\"landcolor\":\"#E5ECF6\",\"showlakes\":true,\"showland\":true,\"subunitcolor\":\"white\"},\"hoverlabel\":{\"align\":\"left\"},\"hovermode\":\"closest\",\"mapbox\":{\"style\":\"light\"},\"paper_bgcolor\":\"white\",\"plot_bgcolor\":\"#E5ECF6\",\"polar\":{\"angularaxis\":{\"gridcolor\":\"white\",\"linecolor\":\"white\",\"ticks\":\"\"},\"bgcolor\":\"#E5ECF6\",\"radialaxis\":{\"gridcolor\":\"white\",\"linecolor\":\"white\",\"ticks\":\"\"}},\"scene\":{\"xaxis\":{\"backgroundcolor\":\"#E5ECF6\",\"gridcolor\":\"white\",\"gridwidth\":2,\"linecolor\":\"white\",\"showbackground\":true,\"ticks\":\"\",\"zerolinecolor\":\"white\"},\"yaxis\":{\"backgroundcolor\":\"#E5ECF6\",\"gridcolor\":\"white\",\"gridwidth\":2,\"linecolor\":\"white\",\"showbackground\":true,\"ticks\":\"\",\"zerolinecolor\":\"white\"},\"zaxis\":{\"backgroundcolor\":\"#E5ECF6\",\"gridcolor\":\"white\",\"gridwidth\":2,\"linecolor\":\"white\",\"showbackground\":true,\"ticks\":\"\",\"zerolinecolor\":\"white\"}},\"shapedefaults\":{\"line\":{\"color\":\"#2a3f5f\"}},\"ternary\":{\"aaxis\":{\"gridcolor\":\"white\",\"linecolor\":\"white\",\"ticks\":\"\"},\"baxis\":{\"gridcolor\":\"white\",\"linecolor\":\"white\",\"ticks\":\"\"},\"bgcolor\":\"#E5ECF6\",\"caxis\":{\"gridcolor\":\"white\",\"linecolor\":\"white\",\"ticks\":\"\"}},\"title\":{\"x\":0.05},\"xaxis\":{\"automargin\":true,\"gridcolor\":\"white\",\"linecolor\":\"white\",\"ticks\":\"\",\"title\":{\"standoff\":15},\"zerolinecolor\":\"white\",\"zerolinewidth\":2},\"yaxis\":{\"automargin\":true,\"gridcolor\":\"white\",\"linecolor\":\"white\",\"ticks\":\"\",\"title\":{\"standoff\":15},\"zerolinecolor\":\"white\",\"zerolinewidth\":2}}},\"legend\":{\"tracegroupgap\":0},\"title\":{\"text\":\"Limit Spent by City\"}},                        {\"responsive\": true}                    ).then(function(){\n",
       "                            \n",
       "var gd = document.getElementById('ec017e9b-b629-46ae-bc6e-4393f53f932a');\n",
       "var x = new MutationObserver(function (mutations, observer) {{\n",
       "        var display = window.getComputedStyle(gd).display;\n",
       "        if (!display || display === 'none') {{\n",
       "            console.log([gd, 'removed!']);\n",
       "            Plotly.purge(gd);\n",
       "            observer.disconnect();\n",
       "        }}\n",
       "}});\n",
       "\n",
       "// Listen for the removal of the full notebook cells\n",
       "var notebookContainer = gd.closest('#notebook-container');\n",
       "if (notebookContainer) {{\n",
       "    x.observe(notebookContainer, {childList: true});\n",
       "}}\n",
       "\n",
       "// Listen for the clearing of the current output cell\n",
       "var outputEl = gd.closest('.output');\n",
       "if (outputEl) {{\n",
       "    x.observe(outputEl, {childList: true});\n",
       "}}\n",
       "\n",
       "                        })                };                });            </script>        </div>"
      ]
     },
     "metadata": {},
     "output_type": "display_data"
    }
   ],
   "source": [
    "fig = px.pie(data_frame=customer_acquisition_df,\n",
    "             values=\"Limit\",\n",
    "             names=\"City\",\n",
    "             title=\"Limit Spent by City\")\n",
    "fig.show()"
   ]
  },
  {
   "cell_type": "markdown",
   "metadata": {
    "id": "20GypEzsn2NC"
   },
   "source": [
    "### Change the colors schemes"
   ]
  },
  {
   "cell_type": "code",
   "execution_count": 27,
   "metadata": {
    "colab": {
     "base_uri": "https://localhost:8080/",
     "height": 542
    },
    "executionInfo": {
     "elapsed": 498,
     "status": "ok",
     "timestamp": 1627853410160,
     "user": {
      "displayName": "Filipa Peleja",
      "photoUrl": "https://lh3.googleusercontent.com/a-/AOh14GhszTFoTfss30HXvgh6Cb51DPt2cGYvQ05kK0BdSA=s64",
      "userId": "09648315126991333382"
     },
     "user_tz": -120
    },
    "id": "ZoGN24HMnd6e",
    "outputId": "d9a0dfa3-9da5-4768-e6ed-e14c966cdbe0"
   },
   "outputs": [
    {
     "data": {
      "application/vnd.plotly.v1+json": {
       "config": {
        "plotlyServerURL": "https://plot.ly"
       },
       "data": [
        {
         "domain": {
          "x": [
           0,
           1
          ],
          "y": [
           0,
           1
          ]
         },
         "hovertemplate": "City=%{label}<br>Limit=%{value}<extra></extra>",
         "labels": [
          "BANGALORE",
          "CALCUTTA",
          "COCHIN",
          "BOMBAY",
          "BANGALORE",
          "DELHI",
          "COCHIN",
          "PATNA",
          "CHENNAI",
          "CALCUTTA",
          "COCHIN",
          "BOMBAY",
          "BANGALORE",
          "BANGALORE",
          "CALCUTTA",
          "COCHIN",
          "BOMBAY",
          "BANGALORE",
          "BANGALORE",
          "CALCUTTA",
          "COCHIN",
          "BOMBAY",
          "BANGALORE",
          "DELHI",
          "COCHIN",
          "PATNA",
          "CHENNAI",
          "TRIVANDRUM",
          "CALCUTTA",
          "BANGALORE",
          "CALCUTTA",
          "COCHIN",
          "BOMBAY",
          "CALCUTTA",
          "COCHIN",
          "BOMBAY",
          "BANGALORE",
          "CHENNAI",
          "TRIVANDRUM",
          "CALCUTTA",
          "COCHIN",
          "BOMBAY",
          "BANGALORE",
          "DELHI",
          "COCHIN",
          "PATNA",
          "CHENNAI",
          "TRIVANDRUM",
          "CALCUTTA",
          "COCHIN",
          "BOMBAY",
          "BANGALORE",
          "DELHI",
          "COCHIN",
          "PATNA",
          "CHENNAI",
          "TRIVANDRUM",
          "CALCUTTA",
          "BANGALORE",
          "CALCUTTA",
          "COCHIN",
          "BOMBAY",
          "BANGALORE",
          "DELHI",
          "COCHIN",
          "PATNA",
          "CHENNAI",
          "TRIVANDRUM",
          "CALCUTTA",
          "BOMBAY",
          "BOMBAY",
          "BANGALORE",
          "CALCUTTA",
          "COCHIN",
          "BOMBAY",
          "BANGALORE",
          "BANGALORE",
          "CALCUTTA",
          "COCHIN",
          "BOMBAY",
          "BANGALORE",
          "DELHI",
          "COCHIN",
          "PATNA",
          "CHENNAI",
          "TRIVANDRUM",
          "CALCUTTA",
          "BANGALORE",
          "CALCUTTA",
          "COCHIN",
          "BOMBAY",
          "BANGALORE",
          "DELHI",
          "COCHIN",
          "PATNA",
          "CHENNAI",
          "TRIVANDRUM",
          "CALCUTTA",
          "CALCUTTA",
          "COCHIN"
         ],
         "legendgroup": "",
         "name": "",
         "showlegend": true,
         "type": "pie",
         "values": [
          500000,
          100000,
          10000,
          10001,
          10002,
          100000,
          100001,
          100002,
          100003,
          500000,
          500000,
          500000,
          500000,
          500000,
          500000,
          500000,
          500000,
          100000,
          10000,
          10001,
          10002,
          100000,
          100001,
          100002,
          100003,
          500000,
          500000,
          500000,
          500000,
          500000,
          500000,
          500000,
          10002,
          100000,
          100001,
          100002,
          100003,
          500000,
          500000,
          500000,
          500000,
          500000,
          500000,
          500000,
          500000,
          100000,
          10000,
          10001,
          10002,
          100000,
          100001,
          100002,
          100003,
          500000,
          500000,
          500000,
          100001,
          100002,
          100003,
          500000,
          500000,
          500000,
          500000,
          500000,
          500000,
          500000,
          500000,
          100000,
          10000,
          10001,
          10002,
          100000,
          100001,
          100002,
          100003,
          500000,
          500000,
          500000,
          500000,
          500000,
          500000,
          500000,
          10002,
          100000,
          100001,
          100002,
          100003,
          500000,
          500000,
          500000,
          500000,
          500000,
          500000,
          500000,
          500000,
          100000,
          10000,
          10001,
          10002,
          100000
         ]
        }
       ],
       "layout": {
        "legend": {
         "tracegroupgap": 0
        },
        "piecolorway": [
         "rgb(103,0,31)",
         "rgb(178,24,43)",
         "rgb(214,96,77)",
         "rgb(244,165,130)",
         "rgb(253,219,199)",
         "rgb(247,247,247)",
         "rgb(209,229,240)",
         "rgb(146,197,222)",
         "rgb(67,147,195)",
         "rgb(33,102,172)",
         "rgb(5,48,97)"
        ],
        "template": {
         "data": {
          "bar": [
           {
            "error_x": {
             "color": "#2a3f5f"
            },
            "error_y": {
             "color": "#2a3f5f"
            },
            "marker": {
             "line": {
              "color": "#E5ECF6",
              "width": 0.5
             },
             "pattern": {
              "fillmode": "overlay",
              "size": 10,
              "solidity": 0.2
             }
            },
            "type": "bar"
           }
          ],
          "barpolar": [
           {
            "marker": {
             "line": {
              "color": "#E5ECF6",
              "width": 0.5
             },
             "pattern": {
              "fillmode": "overlay",
              "size": 10,
              "solidity": 0.2
             }
            },
            "type": "barpolar"
           }
          ],
          "carpet": [
           {
            "aaxis": {
             "endlinecolor": "#2a3f5f",
             "gridcolor": "white",
             "linecolor": "white",
             "minorgridcolor": "white",
             "startlinecolor": "#2a3f5f"
            },
            "baxis": {
             "endlinecolor": "#2a3f5f",
             "gridcolor": "white",
             "linecolor": "white",
             "minorgridcolor": "white",
             "startlinecolor": "#2a3f5f"
            },
            "type": "carpet"
           }
          ],
          "choropleth": [
           {
            "colorbar": {
             "outlinewidth": 0,
             "ticks": ""
            },
            "type": "choropleth"
           }
          ],
          "contour": [
           {
            "colorbar": {
             "outlinewidth": 0,
             "ticks": ""
            },
            "colorscale": [
             [
              0,
              "#0d0887"
             ],
             [
              0.1111111111111111,
              "#46039f"
             ],
             [
              0.2222222222222222,
              "#7201a8"
             ],
             [
              0.3333333333333333,
              "#9c179e"
             ],
             [
              0.4444444444444444,
              "#bd3786"
             ],
             [
              0.5555555555555556,
              "#d8576b"
             ],
             [
              0.6666666666666666,
              "#ed7953"
             ],
             [
              0.7777777777777778,
              "#fb9f3a"
             ],
             [
              0.8888888888888888,
              "#fdca26"
             ],
             [
              1,
              "#f0f921"
             ]
            ],
            "type": "contour"
           }
          ],
          "contourcarpet": [
           {
            "colorbar": {
             "outlinewidth": 0,
             "ticks": ""
            },
            "type": "contourcarpet"
           }
          ],
          "heatmap": [
           {
            "colorbar": {
             "outlinewidth": 0,
             "ticks": ""
            },
            "colorscale": [
             [
              0,
              "#0d0887"
             ],
             [
              0.1111111111111111,
              "#46039f"
             ],
             [
              0.2222222222222222,
              "#7201a8"
             ],
             [
              0.3333333333333333,
              "#9c179e"
             ],
             [
              0.4444444444444444,
              "#bd3786"
             ],
             [
              0.5555555555555556,
              "#d8576b"
             ],
             [
              0.6666666666666666,
              "#ed7953"
             ],
             [
              0.7777777777777778,
              "#fb9f3a"
             ],
             [
              0.8888888888888888,
              "#fdca26"
             ],
             [
              1,
              "#f0f921"
             ]
            ],
            "type": "heatmap"
           }
          ],
          "heatmapgl": [
           {
            "colorbar": {
             "outlinewidth": 0,
             "ticks": ""
            },
            "colorscale": [
             [
              0,
              "#0d0887"
             ],
             [
              0.1111111111111111,
              "#46039f"
             ],
             [
              0.2222222222222222,
              "#7201a8"
             ],
             [
              0.3333333333333333,
              "#9c179e"
             ],
             [
              0.4444444444444444,
              "#bd3786"
             ],
             [
              0.5555555555555556,
              "#d8576b"
             ],
             [
              0.6666666666666666,
              "#ed7953"
             ],
             [
              0.7777777777777778,
              "#fb9f3a"
             ],
             [
              0.8888888888888888,
              "#fdca26"
             ],
             [
              1,
              "#f0f921"
             ]
            ],
            "type": "heatmapgl"
           }
          ],
          "histogram": [
           {
            "marker": {
             "pattern": {
              "fillmode": "overlay",
              "size": 10,
              "solidity": 0.2
             }
            },
            "type": "histogram"
           }
          ],
          "histogram2d": [
           {
            "colorbar": {
             "outlinewidth": 0,
             "ticks": ""
            },
            "colorscale": [
             [
              0,
              "#0d0887"
             ],
             [
              0.1111111111111111,
              "#46039f"
             ],
             [
              0.2222222222222222,
              "#7201a8"
             ],
             [
              0.3333333333333333,
              "#9c179e"
             ],
             [
              0.4444444444444444,
              "#bd3786"
             ],
             [
              0.5555555555555556,
              "#d8576b"
             ],
             [
              0.6666666666666666,
              "#ed7953"
             ],
             [
              0.7777777777777778,
              "#fb9f3a"
             ],
             [
              0.8888888888888888,
              "#fdca26"
             ],
             [
              1,
              "#f0f921"
             ]
            ],
            "type": "histogram2d"
           }
          ],
          "histogram2dcontour": [
           {
            "colorbar": {
             "outlinewidth": 0,
             "ticks": ""
            },
            "colorscale": [
             [
              0,
              "#0d0887"
             ],
             [
              0.1111111111111111,
              "#46039f"
             ],
             [
              0.2222222222222222,
              "#7201a8"
             ],
             [
              0.3333333333333333,
              "#9c179e"
             ],
             [
              0.4444444444444444,
              "#bd3786"
             ],
             [
              0.5555555555555556,
              "#d8576b"
             ],
             [
              0.6666666666666666,
              "#ed7953"
             ],
             [
              0.7777777777777778,
              "#fb9f3a"
             ],
             [
              0.8888888888888888,
              "#fdca26"
             ],
             [
              1,
              "#f0f921"
             ]
            ],
            "type": "histogram2dcontour"
           }
          ],
          "mesh3d": [
           {
            "colorbar": {
             "outlinewidth": 0,
             "ticks": ""
            },
            "type": "mesh3d"
           }
          ],
          "parcoords": [
           {
            "line": {
             "colorbar": {
              "outlinewidth": 0,
              "ticks": ""
             }
            },
            "type": "parcoords"
           }
          ],
          "pie": [
           {
            "automargin": true,
            "type": "pie"
           }
          ],
          "scatter": [
           {
            "marker": {
             "colorbar": {
              "outlinewidth": 0,
              "ticks": ""
             }
            },
            "type": "scatter"
           }
          ],
          "scatter3d": [
           {
            "line": {
             "colorbar": {
              "outlinewidth": 0,
              "ticks": ""
             }
            },
            "marker": {
             "colorbar": {
              "outlinewidth": 0,
              "ticks": ""
             }
            },
            "type": "scatter3d"
           }
          ],
          "scattercarpet": [
           {
            "marker": {
             "colorbar": {
              "outlinewidth": 0,
              "ticks": ""
             }
            },
            "type": "scattercarpet"
           }
          ],
          "scattergeo": [
           {
            "marker": {
             "colorbar": {
              "outlinewidth": 0,
              "ticks": ""
             }
            },
            "type": "scattergeo"
           }
          ],
          "scattergl": [
           {
            "marker": {
             "colorbar": {
              "outlinewidth": 0,
              "ticks": ""
             }
            },
            "type": "scattergl"
           }
          ],
          "scattermapbox": [
           {
            "marker": {
             "colorbar": {
              "outlinewidth": 0,
              "ticks": ""
             }
            },
            "type": "scattermapbox"
           }
          ],
          "scatterpolar": [
           {
            "marker": {
             "colorbar": {
              "outlinewidth": 0,
              "ticks": ""
             }
            },
            "type": "scatterpolar"
           }
          ],
          "scatterpolargl": [
           {
            "marker": {
             "colorbar": {
              "outlinewidth": 0,
              "ticks": ""
             }
            },
            "type": "scatterpolargl"
           }
          ],
          "scatterternary": [
           {
            "marker": {
             "colorbar": {
              "outlinewidth": 0,
              "ticks": ""
             }
            },
            "type": "scatterternary"
           }
          ],
          "surface": [
           {
            "colorbar": {
             "outlinewidth": 0,
             "ticks": ""
            },
            "colorscale": [
             [
              0,
              "#0d0887"
             ],
             [
              0.1111111111111111,
              "#46039f"
             ],
             [
              0.2222222222222222,
              "#7201a8"
             ],
             [
              0.3333333333333333,
              "#9c179e"
             ],
             [
              0.4444444444444444,
              "#bd3786"
             ],
             [
              0.5555555555555556,
              "#d8576b"
             ],
             [
              0.6666666666666666,
              "#ed7953"
             ],
             [
              0.7777777777777778,
              "#fb9f3a"
             ],
             [
              0.8888888888888888,
              "#fdca26"
             ],
             [
              1,
              "#f0f921"
             ]
            ],
            "type": "surface"
           }
          ],
          "table": [
           {
            "cells": {
             "fill": {
              "color": "#EBF0F8"
             },
             "line": {
              "color": "white"
             }
            },
            "header": {
             "fill": {
              "color": "#C8D4E3"
             },
             "line": {
              "color": "white"
             }
            },
            "type": "table"
           }
          ]
         },
         "layout": {
          "annotationdefaults": {
           "arrowcolor": "#2a3f5f",
           "arrowhead": 0,
           "arrowwidth": 1
          },
          "autotypenumbers": "strict",
          "coloraxis": {
           "colorbar": {
            "outlinewidth": 0,
            "ticks": ""
           }
          },
          "colorscale": {
           "diverging": [
            [
             0,
             "#8e0152"
            ],
            [
             0.1,
             "#c51b7d"
            ],
            [
             0.2,
             "#de77ae"
            ],
            [
             0.3,
             "#f1b6da"
            ],
            [
             0.4,
             "#fde0ef"
            ],
            [
             0.5,
             "#f7f7f7"
            ],
            [
             0.6,
             "#e6f5d0"
            ],
            [
             0.7,
             "#b8e186"
            ],
            [
             0.8,
             "#7fbc41"
            ],
            [
             0.9,
             "#4d9221"
            ],
            [
             1,
             "#276419"
            ]
           ],
           "sequential": [
            [
             0,
             "#0d0887"
            ],
            [
             0.1111111111111111,
             "#46039f"
            ],
            [
             0.2222222222222222,
             "#7201a8"
            ],
            [
             0.3333333333333333,
             "#9c179e"
            ],
            [
             0.4444444444444444,
             "#bd3786"
            ],
            [
             0.5555555555555556,
             "#d8576b"
            ],
            [
             0.6666666666666666,
             "#ed7953"
            ],
            [
             0.7777777777777778,
             "#fb9f3a"
            ],
            [
             0.8888888888888888,
             "#fdca26"
            ],
            [
             1,
             "#f0f921"
            ]
           ],
           "sequentialminus": [
            [
             0,
             "#0d0887"
            ],
            [
             0.1111111111111111,
             "#46039f"
            ],
            [
             0.2222222222222222,
             "#7201a8"
            ],
            [
             0.3333333333333333,
             "#9c179e"
            ],
            [
             0.4444444444444444,
             "#bd3786"
            ],
            [
             0.5555555555555556,
             "#d8576b"
            ],
            [
             0.6666666666666666,
             "#ed7953"
            ],
            [
             0.7777777777777778,
             "#fb9f3a"
            ],
            [
             0.8888888888888888,
             "#fdca26"
            ],
            [
             1,
             "#f0f921"
            ]
           ]
          },
          "colorway": [
           "#636efa",
           "#EF553B",
           "#00cc96",
           "#ab63fa",
           "#FFA15A",
           "#19d3f3",
           "#FF6692",
           "#B6E880",
           "#FF97FF",
           "#FECB52"
          ],
          "font": {
           "color": "#2a3f5f"
          },
          "geo": {
           "bgcolor": "white",
           "lakecolor": "white",
           "landcolor": "#E5ECF6",
           "showlakes": true,
           "showland": true,
           "subunitcolor": "white"
          },
          "hoverlabel": {
           "align": "left"
          },
          "hovermode": "closest",
          "mapbox": {
           "style": "light"
          },
          "paper_bgcolor": "white",
          "plot_bgcolor": "#E5ECF6",
          "polar": {
           "angularaxis": {
            "gridcolor": "white",
            "linecolor": "white",
            "ticks": ""
           },
           "bgcolor": "#E5ECF6",
           "radialaxis": {
            "gridcolor": "white",
            "linecolor": "white",
            "ticks": ""
           }
          },
          "scene": {
           "xaxis": {
            "backgroundcolor": "#E5ECF6",
            "gridcolor": "white",
            "gridwidth": 2,
            "linecolor": "white",
            "showbackground": true,
            "ticks": "",
            "zerolinecolor": "white"
           },
           "yaxis": {
            "backgroundcolor": "#E5ECF6",
            "gridcolor": "white",
            "gridwidth": 2,
            "linecolor": "white",
            "showbackground": true,
            "ticks": "",
            "zerolinecolor": "white"
           },
           "zaxis": {
            "backgroundcolor": "#E5ECF6",
            "gridcolor": "white",
            "gridwidth": 2,
            "linecolor": "white",
            "showbackground": true,
            "ticks": "",
            "zerolinecolor": "white"
           }
          },
          "shapedefaults": {
           "line": {
            "color": "#2a3f5f"
           }
          },
          "ternary": {
           "aaxis": {
            "gridcolor": "white",
            "linecolor": "white",
            "ticks": ""
           },
           "baxis": {
            "gridcolor": "white",
            "linecolor": "white",
            "ticks": ""
           },
           "bgcolor": "#E5ECF6",
           "caxis": {
            "gridcolor": "white",
            "linecolor": "white",
            "ticks": ""
           }
          },
          "title": {
           "x": 0.05
          },
          "xaxis": {
           "automargin": true,
           "gridcolor": "white",
           "linecolor": "white",
           "ticks": "",
           "title": {
            "standoff": 15
           },
           "zerolinecolor": "white",
           "zerolinewidth": 2
          },
          "yaxis": {
           "automargin": true,
           "gridcolor": "white",
           "linecolor": "white",
           "ticks": "",
           "title": {
            "standoff": 15
           },
           "zerolinecolor": "white",
           "zerolinewidth": 2
          }
         }
        },
        "title": {
         "text": "Limit Spent by City"
        }
       }
      },
      "text/html": [
       "<div>                            <div id=\"0b1d634a-be32-486e-84a7-d2b013d423af\" class=\"plotly-graph-div\" style=\"height:525px; width:100%;\"></div>            <script type=\"text/javascript\">                require([\"plotly\"], function(Plotly) {                    window.PLOTLYENV=window.PLOTLYENV || {};                                    if (document.getElementById(\"0b1d634a-be32-486e-84a7-d2b013d423af\")) {                    Plotly.newPlot(                        \"0b1d634a-be32-486e-84a7-d2b013d423af\",                        [{\"domain\":{\"x\":[0.0,1.0],\"y\":[0.0,1.0]},\"hovertemplate\":\"City=%{label}<br>Limit=%{value}<extra></extra>\",\"labels\":[\"BANGALORE\",\"CALCUTTA\",\"COCHIN\",\"BOMBAY\",\"BANGALORE\",\"DELHI\",\"COCHIN\",\"PATNA\",\"CHENNAI\",\"CALCUTTA\",\"COCHIN\",\"BOMBAY\",\"BANGALORE\",\"BANGALORE\",\"CALCUTTA\",\"COCHIN\",\"BOMBAY\",\"BANGALORE\",\"BANGALORE\",\"CALCUTTA\",\"COCHIN\",\"BOMBAY\",\"BANGALORE\",\"DELHI\",\"COCHIN\",\"PATNA\",\"CHENNAI\",\"TRIVANDRUM\",\"CALCUTTA\",\"BANGALORE\",\"CALCUTTA\",\"COCHIN\",\"BOMBAY\",\"CALCUTTA\",\"COCHIN\",\"BOMBAY\",\"BANGALORE\",\"CHENNAI\",\"TRIVANDRUM\",\"CALCUTTA\",\"COCHIN\",\"BOMBAY\",\"BANGALORE\",\"DELHI\",\"COCHIN\",\"PATNA\",\"CHENNAI\",\"TRIVANDRUM\",\"CALCUTTA\",\"COCHIN\",\"BOMBAY\",\"BANGALORE\",\"DELHI\",\"COCHIN\",\"PATNA\",\"CHENNAI\",\"TRIVANDRUM\",\"CALCUTTA\",\"BANGALORE\",\"CALCUTTA\",\"COCHIN\",\"BOMBAY\",\"BANGALORE\",\"DELHI\",\"COCHIN\",\"PATNA\",\"CHENNAI\",\"TRIVANDRUM\",\"CALCUTTA\",\"BOMBAY\",\"BOMBAY\",\"BANGALORE\",\"CALCUTTA\",\"COCHIN\",\"BOMBAY\",\"BANGALORE\",\"BANGALORE\",\"CALCUTTA\",\"COCHIN\",\"BOMBAY\",\"BANGALORE\",\"DELHI\",\"COCHIN\",\"PATNA\",\"CHENNAI\",\"TRIVANDRUM\",\"CALCUTTA\",\"BANGALORE\",\"CALCUTTA\",\"COCHIN\",\"BOMBAY\",\"BANGALORE\",\"DELHI\",\"COCHIN\",\"PATNA\",\"CHENNAI\",\"TRIVANDRUM\",\"CALCUTTA\",\"CALCUTTA\",\"COCHIN\"],\"legendgroup\":\"\",\"name\":\"\",\"showlegend\":true,\"values\":[500000.0,100000.0,10000.0,10001.0,10002.0,100000.0,100001.0,100002.0,100003.0,500000.0,500000.0,500000.0,500000.0,500000.0,500000.0,500000.0,500000.0,100000.0,10000.0,10001.0,10002.0,100000.0,100001.0,100002.0,100003.0,500000.0,500000.0,500000.0,500000.0,500000.0,500000.0,500000.0,10002.0,100000.0,100001.0,100002.0,100003.0,500000.0,500000.0,500000.0,500000.0,500000.0,500000.0,500000.0,500000.0,100000.0,10000.0,10001.0,10002.0,100000.0,100001.0,100002.0,100003.0,500000.0,500000.0,500000.0,100001.0,100002.0,100003.0,500000.0,500000.0,500000.0,500000.0,500000.0,500000.0,500000.0,500000.0,100000.0,10000.0,10001.0,10002.0,100000.0,100001.0,100002.0,100003.0,500000.0,500000.0,500000.0,500000.0,500000.0,500000.0,500000.0,10002.0,100000.0,100001.0,100002.0,100003.0,500000.0,500000.0,500000.0,500000.0,500000.0,500000.0,500000.0,500000.0,100000.0,10000.0,10001.0,10002.0,100000.0],\"type\":\"pie\"}],                        {\"template\":{\"data\":{\"bar\":[{\"error_x\":{\"color\":\"#2a3f5f\"},\"error_y\":{\"color\":\"#2a3f5f\"},\"marker\":{\"line\":{\"color\":\"#E5ECF6\",\"width\":0.5},\"pattern\":{\"fillmode\":\"overlay\",\"size\":10,\"solidity\":0.2}},\"type\":\"bar\"}],\"barpolar\":[{\"marker\":{\"line\":{\"color\":\"#E5ECF6\",\"width\":0.5},\"pattern\":{\"fillmode\":\"overlay\",\"size\":10,\"solidity\":0.2}},\"type\":\"barpolar\"}],\"carpet\":[{\"aaxis\":{\"endlinecolor\":\"#2a3f5f\",\"gridcolor\":\"white\",\"linecolor\":\"white\",\"minorgridcolor\":\"white\",\"startlinecolor\":\"#2a3f5f\"},\"baxis\":{\"endlinecolor\":\"#2a3f5f\",\"gridcolor\":\"white\",\"linecolor\":\"white\",\"minorgridcolor\":\"white\",\"startlinecolor\":\"#2a3f5f\"},\"type\":\"carpet\"}],\"choropleth\":[{\"colorbar\":{\"outlinewidth\":0,\"ticks\":\"\"},\"type\":\"choropleth\"}],\"contour\":[{\"colorbar\":{\"outlinewidth\":0,\"ticks\":\"\"},\"colorscale\":[[0.0,\"#0d0887\"],[0.1111111111111111,\"#46039f\"],[0.2222222222222222,\"#7201a8\"],[0.3333333333333333,\"#9c179e\"],[0.4444444444444444,\"#bd3786\"],[0.5555555555555556,\"#d8576b\"],[0.6666666666666666,\"#ed7953\"],[0.7777777777777778,\"#fb9f3a\"],[0.8888888888888888,\"#fdca26\"],[1.0,\"#f0f921\"]],\"type\":\"contour\"}],\"contourcarpet\":[{\"colorbar\":{\"outlinewidth\":0,\"ticks\":\"\"},\"type\":\"contourcarpet\"}],\"heatmap\":[{\"colorbar\":{\"outlinewidth\":0,\"ticks\":\"\"},\"colorscale\":[[0.0,\"#0d0887\"],[0.1111111111111111,\"#46039f\"],[0.2222222222222222,\"#7201a8\"],[0.3333333333333333,\"#9c179e\"],[0.4444444444444444,\"#bd3786\"],[0.5555555555555556,\"#d8576b\"],[0.6666666666666666,\"#ed7953\"],[0.7777777777777778,\"#fb9f3a\"],[0.8888888888888888,\"#fdca26\"],[1.0,\"#f0f921\"]],\"type\":\"heatmap\"}],\"heatmapgl\":[{\"colorbar\":{\"outlinewidth\":0,\"ticks\":\"\"},\"colorscale\":[[0.0,\"#0d0887\"],[0.1111111111111111,\"#46039f\"],[0.2222222222222222,\"#7201a8\"],[0.3333333333333333,\"#9c179e\"],[0.4444444444444444,\"#bd3786\"],[0.5555555555555556,\"#d8576b\"],[0.6666666666666666,\"#ed7953\"],[0.7777777777777778,\"#fb9f3a\"],[0.8888888888888888,\"#fdca26\"],[1.0,\"#f0f921\"]],\"type\":\"heatmapgl\"}],\"histogram\":[{\"marker\":{\"pattern\":{\"fillmode\":\"overlay\",\"size\":10,\"solidity\":0.2}},\"type\":\"histogram\"}],\"histogram2d\":[{\"colorbar\":{\"outlinewidth\":0,\"ticks\":\"\"},\"colorscale\":[[0.0,\"#0d0887\"],[0.1111111111111111,\"#46039f\"],[0.2222222222222222,\"#7201a8\"],[0.3333333333333333,\"#9c179e\"],[0.4444444444444444,\"#bd3786\"],[0.5555555555555556,\"#d8576b\"],[0.6666666666666666,\"#ed7953\"],[0.7777777777777778,\"#fb9f3a\"],[0.8888888888888888,\"#fdca26\"],[1.0,\"#f0f921\"]],\"type\":\"histogram2d\"}],\"histogram2dcontour\":[{\"colorbar\":{\"outlinewidth\":0,\"ticks\":\"\"},\"colorscale\":[[0.0,\"#0d0887\"],[0.1111111111111111,\"#46039f\"],[0.2222222222222222,\"#7201a8\"],[0.3333333333333333,\"#9c179e\"],[0.4444444444444444,\"#bd3786\"],[0.5555555555555556,\"#d8576b\"],[0.6666666666666666,\"#ed7953\"],[0.7777777777777778,\"#fb9f3a\"],[0.8888888888888888,\"#fdca26\"],[1.0,\"#f0f921\"]],\"type\":\"histogram2dcontour\"}],\"mesh3d\":[{\"colorbar\":{\"outlinewidth\":0,\"ticks\":\"\"},\"type\":\"mesh3d\"}],\"parcoords\":[{\"line\":{\"colorbar\":{\"outlinewidth\":0,\"ticks\":\"\"}},\"type\":\"parcoords\"}],\"pie\":[{\"automargin\":true,\"type\":\"pie\"}],\"scatter\":[{\"marker\":{\"colorbar\":{\"outlinewidth\":0,\"ticks\":\"\"}},\"type\":\"scatter\"}],\"scatter3d\":[{\"line\":{\"colorbar\":{\"outlinewidth\":0,\"ticks\":\"\"}},\"marker\":{\"colorbar\":{\"outlinewidth\":0,\"ticks\":\"\"}},\"type\":\"scatter3d\"}],\"scattercarpet\":[{\"marker\":{\"colorbar\":{\"outlinewidth\":0,\"ticks\":\"\"}},\"type\":\"scattercarpet\"}],\"scattergeo\":[{\"marker\":{\"colorbar\":{\"outlinewidth\":0,\"ticks\":\"\"}},\"type\":\"scattergeo\"}],\"scattergl\":[{\"marker\":{\"colorbar\":{\"outlinewidth\":0,\"ticks\":\"\"}},\"type\":\"scattergl\"}],\"scattermapbox\":[{\"marker\":{\"colorbar\":{\"outlinewidth\":0,\"ticks\":\"\"}},\"type\":\"scattermapbox\"}],\"scatterpolar\":[{\"marker\":{\"colorbar\":{\"outlinewidth\":0,\"ticks\":\"\"}},\"type\":\"scatterpolar\"}],\"scatterpolargl\":[{\"marker\":{\"colorbar\":{\"outlinewidth\":0,\"ticks\":\"\"}},\"type\":\"scatterpolargl\"}],\"scatterternary\":[{\"marker\":{\"colorbar\":{\"outlinewidth\":0,\"ticks\":\"\"}},\"type\":\"scatterternary\"}],\"surface\":[{\"colorbar\":{\"outlinewidth\":0,\"ticks\":\"\"},\"colorscale\":[[0.0,\"#0d0887\"],[0.1111111111111111,\"#46039f\"],[0.2222222222222222,\"#7201a8\"],[0.3333333333333333,\"#9c179e\"],[0.4444444444444444,\"#bd3786\"],[0.5555555555555556,\"#d8576b\"],[0.6666666666666666,\"#ed7953\"],[0.7777777777777778,\"#fb9f3a\"],[0.8888888888888888,\"#fdca26\"],[1.0,\"#f0f921\"]],\"type\":\"surface\"}],\"table\":[{\"cells\":{\"fill\":{\"color\":\"#EBF0F8\"},\"line\":{\"color\":\"white\"}},\"header\":{\"fill\":{\"color\":\"#C8D4E3\"},\"line\":{\"color\":\"white\"}},\"type\":\"table\"}]},\"layout\":{\"annotationdefaults\":{\"arrowcolor\":\"#2a3f5f\",\"arrowhead\":0,\"arrowwidth\":1},\"autotypenumbers\":\"strict\",\"coloraxis\":{\"colorbar\":{\"outlinewidth\":0,\"ticks\":\"\"}},\"colorscale\":{\"diverging\":[[0,\"#8e0152\"],[0.1,\"#c51b7d\"],[0.2,\"#de77ae\"],[0.3,\"#f1b6da\"],[0.4,\"#fde0ef\"],[0.5,\"#f7f7f7\"],[0.6,\"#e6f5d0\"],[0.7,\"#b8e186\"],[0.8,\"#7fbc41\"],[0.9,\"#4d9221\"],[1,\"#276419\"]],\"sequential\":[[0.0,\"#0d0887\"],[0.1111111111111111,\"#46039f\"],[0.2222222222222222,\"#7201a8\"],[0.3333333333333333,\"#9c179e\"],[0.4444444444444444,\"#bd3786\"],[0.5555555555555556,\"#d8576b\"],[0.6666666666666666,\"#ed7953\"],[0.7777777777777778,\"#fb9f3a\"],[0.8888888888888888,\"#fdca26\"],[1.0,\"#f0f921\"]],\"sequentialminus\":[[0.0,\"#0d0887\"],[0.1111111111111111,\"#46039f\"],[0.2222222222222222,\"#7201a8\"],[0.3333333333333333,\"#9c179e\"],[0.4444444444444444,\"#bd3786\"],[0.5555555555555556,\"#d8576b\"],[0.6666666666666666,\"#ed7953\"],[0.7777777777777778,\"#fb9f3a\"],[0.8888888888888888,\"#fdca26\"],[1.0,\"#f0f921\"]]},\"colorway\":[\"#636efa\",\"#EF553B\",\"#00cc96\",\"#ab63fa\",\"#FFA15A\",\"#19d3f3\",\"#FF6692\",\"#B6E880\",\"#FF97FF\",\"#FECB52\"],\"font\":{\"color\":\"#2a3f5f\"},\"geo\":{\"bgcolor\":\"white\",\"lakecolor\":\"white\",\"landcolor\":\"#E5ECF6\",\"showlakes\":true,\"showland\":true,\"subunitcolor\":\"white\"},\"hoverlabel\":{\"align\":\"left\"},\"hovermode\":\"closest\",\"mapbox\":{\"style\":\"light\"},\"paper_bgcolor\":\"white\",\"plot_bgcolor\":\"#E5ECF6\",\"polar\":{\"angularaxis\":{\"gridcolor\":\"white\",\"linecolor\":\"white\",\"ticks\":\"\"},\"bgcolor\":\"#E5ECF6\",\"radialaxis\":{\"gridcolor\":\"white\",\"linecolor\":\"white\",\"ticks\":\"\"}},\"scene\":{\"xaxis\":{\"backgroundcolor\":\"#E5ECF6\",\"gridcolor\":\"white\",\"gridwidth\":2,\"linecolor\":\"white\",\"showbackground\":true,\"ticks\":\"\",\"zerolinecolor\":\"white\"},\"yaxis\":{\"backgroundcolor\":\"#E5ECF6\",\"gridcolor\":\"white\",\"gridwidth\":2,\"linecolor\":\"white\",\"showbackground\":true,\"ticks\":\"\",\"zerolinecolor\":\"white\"},\"zaxis\":{\"backgroundcolor\":\"#E5ECF6\",\"gridcolor\":\"white\",\"gridwidth\":2,\"linecolor\":\"white\",\"showbackground\":true,\"ticks\":\"\",\"zerolinecolor\":\"white\"}},\"shapedefaults\":{\"line\":{\"color\":\"#2a3f5f\"}},\"ternary\":{\"aaxis\":{\"gridcolor\":\"white\",\"linecolor\":\"white\",\"ticks\":\"\"},\"baxis\":{\"gridcolor\":\"white\",\"linecolor\":\"white\",\"ticks\":\"\"},\"bgcolor\":\"#E5ECF6\",\"caxis\":{\"gridcolor\":\"white\",\"linecolor\":\"white\",\"ticks\":\"\"}},\"title\":{\"x\":0.05},\"xaxis\":{\"automargin\":true,\"gridcolor\":\"white\",\"linecolor\":\"white\",\"ticks\":\"\",\"title\":{\"standoff\":15},\"zerolinecolor\":\"white\",\"zerolinewidth\":2},\"yaxis\":{\"automargin\":true,\"gridcolor\":\"white\",\"linecolor\":\"white\",\"ticks\":\"\",\"title\":{\"standoff\":15},\"zerolinecolor\":\"white\",\"zerolinewidth\":2}}},\"legend\":{\"tracegroupgap\":0},\"title\":{\"text\":\"Limit Spent by City\"},\"piecolorway\":[\"rgb(103,0,31)\",\"rgb(178,24,43)\",\"rgb(214,96,77)\",\"rgb(244,165,130)\",\"rgb(253,219,199)\",\"rgb(247,247,247)\",\"rgb(209,229,240)\",\"rgb(146,197,222)\",\"rgb(67,147,195)\",\"rgb(33,102,172)\",\"rgb(5,48,97)\"]},                        {\"responsive\": true}                    ).then(function(){\n",
       "                            \n",
       "var gd = document.getElementById('0b1d634a-be32-486e-84a7-d2b013d423af');\n",
       "var x = new MutationObserver(function (mutations, observer) {{\n",
       "        var display = window.getComputedStyle(gd).display;\n",
       "        if (!display || display === 'none') {{\n",
       "            console.log([gd, 'removed!']);\n",
       "            Plotly.purge(gd);\n",
       "            observer.disconnect();\n",
       "        }}\n",
       "}});\n",
       "\n",
       "// Listen for the removal of the full notebook cells\n",
       "var notebookContainer = gd.closest('#notebook-container');\n",
       "if (notebookContainer) {{\n",
       "    x.observe(notebookContainer, {childList: true});\n",
       "}}\n",
       "\n",
       "// Listen for the clearing of the current output cell\n",
       "var outputEl = gd.closest('.output');\n",
       "if (outputEl) {{\n",
       "    x.observe(outputEl, {childList: true});\n",
       "}}\n",
       "\n",
       "                        })                };                });            </script>        </div>"
      ]
     },
     "metadata": {},
     "output_type": "display_data"
    }
   ],
   "source": [
    "fig = px.pie(data_frame=customer_acquisition_df,\n",
    "             values=\"Limit\",\n",
    "             names=\"City\",\n",
    "             title=\"Limit Spent by City\",\n",
    "             color_discrete_sequence=px.colors.sequential.RdBu\n",
    "             )\n",
    "fig.show()"
   ]
  },
  {
   "cell_type": "markdown",
   "metadata": {
    "id": "pRyY0AfBoGLB"
   },
   "source": [
    "### Add more information"
   ]
  },
  {
   "cell_type": "code",
   "execution_count": 28,
   "metadata": {
    "colab": {
     "base_uri": "https://localhost:8080/",
     "height": 81
    },
    "executionInfo": {
     "elapsed": 169,
     "status": "ok",
     "timestamp": 1627853475069,
     "user": {
      "displayName": "Filipa Peleja",
      "photoUrl": "https://lh3.googleusercontent.com/a-/AOh14GhszTFoTfss30HXvgh6Cb51DPt2cGYvQ05kK0BdSA=s64",
      "userId": "09648315126991333382"
     },
     "user_tz": -120
    },
    "id": "0P-7n7choK-Z",
    "outputId": "55ea4122-42d9-4c8f-9c63-03e3290430de"
   },
   "outputs": [
    {
     "data": {
      "text/html": [
       "<div>\n",
       "<style scoped>\n",
       "    .dataframe tbody tr th:only-of-type {\n",
       "        vertical-align: middle;\n",
       "    }\n",
       "\n",
       "    .dataframe tbody tr th {\n",
       "        vertical-align: top;\n",
       "    }\n",
       "\n",
       "    .dataframe thead th {\n",
       "        text-align: right;\n",
       "    }\n",
       "</style>\n",
       "<table border=\"1\" class=\"dataframe\">\n",
       "  <thead>\n",
       "    <tr style=\"text-align: right;\">\n",
       "      <th></th>\n",
       "      <th>No</th>\n",
       "      <th>Customer</th>\n",
       "      <th>Age</th>\n",
       "      <th>City</th>\n",
       "      <th>Product</th>\n",
       "      <th>Limit</th>\n",
       "      <th>Company</th>\n",
       "      <th>Segment</th>\n",
       "      <th>Age_Bin</th>\n",
       "    </tr>\n",
       "  </thead>\n",
       "  <tbody>\n",
       "    <tr>\n",
       "      <th>0</th>\n",
       "      <td>1</td>\n",
       "      <td>A1</td>\n",
       "      <td>76</td>\n",
       "      <td>BANGALORE</td>\n",
       "      <td>Gold</td>\n",
       "      <td>500000.0</td>\n",
       "      <td>C1</td>\n",
       "      <td>Self Employed</td>\n",
       "      <td>&lt;79ys</td>\n",
       "    </tr>\n",
       "  </tbody>\n",
       "</table>\n",
       "</div>"
      ],
      "text/plain": [
       "   No Customer  Age       City Product     Limit Company        Segment  \\\n",
       "0   1       A1   76  BANGALORE    Gold  500000.0      C1  Self Employed   \n",
       "\n",
       "  Age_Bin  \n",
       "0   <79ys  "
      ]
     },
     "execution_count": 28,
     "metadata": {},
     "output_type": "execute_result"
    }
   ],
   "source": [
    "customer_acquisition_df.head(1)"
   ]
  },
  {
   "cell_type": "code",
   "execution_count": 29,
   "metadata": {
    "colab": {
     "base_uri": "https://localhost:8080/",
     "height": 542
    },
    "executionInfo": {
     "elapsed": 642,
     "status": "ok",
     "timestamp": 1627853576186,
     "user": {
      "displayName": "Filipa Peleja",
      "photoUrl": "https://lh3.googleusercontent.com/a-/AOh14GhszTFoTfss30HXvgh6Cb51DPt2cGYvQ05kK0BdSA=s64",
      "userId": "09648315126991333382"
     },
     "user_tz": -120
    },
    "id": "GlmPCyGEn8wr",
    "outputId": "791eb18c-ea81-4324-a57d-59311f04db76"
   },
   "outputs": [
    {
     "data": {
      "application/vnd.plotly.v1+json": {
       "config": {
        "plotlyServerURL": "https://plot.ly"
       },
       "data": [
        {
         "customdata": [
          [
           "Gold"
          ],
          [
           "Silver"
          ],
          [
           "Platimum"
          ],
          [
           "Platimum"
          ],
          [
           "Platimum"
          ],
          [
           "Silver"
          ],
          [
           "Silver"
          ],
          [
           "Silver"
          ],
          [
           "Silver"
          ],
          [
           "Gold"
          ],
          [
           "Gold"
          ],
          [
           "Gold"
          ],
          [
           "Gold"
          ],
          [
           "Gold"
          ],
          [
           "Gold"
          ],
          [
           "Gold"
          ],
          [
           "Gold"
          ],
          [
           "Silver"
          ],
          [
           "Platimum"
          ],
          [
           "Platimum"
          ],
          [
           "Platimum"
          ],
          [
           "Silver"
          ],
          [
           "Silver"
          ],
          [
           "Silver"
          ],
          [
           "Silver"
          ],
          [
           "Gold"
          ],
          [
           "Gold"
          ],
          [
           "Gold"
          ],
          [
           "Gold"
          ],
          [
           "Gold"
          ],
          [
           "Gold"
          ],
          [
           "Gold"
          ],
          [
           "Platimum"
          ],
          [
           "Platimum"
          ],
          [
           "Platimum"
          ],
          [
           "Platimum"
          ],
          [
           "Platimum"
          ],
          [
           "Platimum"
          ],
          [
           "Platimum"
          ],
          [
           "Platimum"
          ],
          [
           "Platimum"
          ],
          [
           "Gold"
          ],
          [
           "Gold"
          ],
          [
           "Gold"
          ],
          [
           "Gold"
          ],
          [
           "Silver"
          ],
          [
           "Platimum"
          ],
          [
           "Platimum"
          ],
          [
           "Platimum"
          ],
          [
           "Platimum"
          ],
          [
           "Platimum"
          ],
          [
           "Platimum"
          ],
          [
           "Platimum"
          ],
          [
           "Platimum"
          ],
          [
           "Platimum"
          ],
          [
           "Platimum"
          ],
          [
           "Silver"
          ],
          [
           "Silver"
          ],
          [
           "Silver"
          ],
          [
           "Gold"
          ],
          [
           "Gold"
          ],
          [
           "Gold"
          ],
          [
           "Gold"
          ],
          [
           "Gold"
          ],
          [
           "Gold"
          ],
          [
           "Gold"
          ],
          [
           "Gold"
          ],
          [
           "Silver"
          ],
          [
           "Platimum"
          ],
          [
           "Platimum"
          ],
          [
           "Platimum"
          ],
          [
           "Silver"
          ],
          [
           "Silver"
          ],
          [
           "Silver"
          ],
          [
           "Silver"
          ],
          [
           "Silver"
          ],
          [
           "Silver"
          ],
          [
           "Silver"
          ],
          [
           "Silver"
          ],
          [
           "Silver"
          ],
          [
           "Gold"
          ],
          [
           "Gold"
          ],
          [
           "Platimum"
          ],
          [
           "Silver"
          ],
          [
           "Silver"
          ],
          [
           "Silver"
          ],
          [
           "Silver"
          ],
          [
           "Gold"
          ],
          [
           "Gold"
          ],
          [
           "Gold"
          ],
          [
           "Gold"
          ],
          [
           "Gold"
          ],
          [
           "Gold"
          ],
          [
           "Gold"
          ],
          [
           "Gold"
          ],
          [
           "Silver"
          ],
          [
           "Platimum"
          ],
          [
           "Platimum"
          ],
          [
           "Platimum"
          ],
          [
           "Silver"
          ]
         ],
         "domain": {
          "x": [
           0,
           1
          ],
          "y": [
           0,
           1
          ]
         },
         "hovertemplate": "City=%{label}<br>Limit=%{value}<br>Product=%{customdata[0]}<extra></extra>",
         "labels": [
          "BANGALORE",
          "CALCUTTA",
          "COCHIN",
          "BOMBAY",
          "BANGALORE",
          "DELHI",
          "COCHIN",
          "PATNA",
          "CHENNAI",
          "CALCUTTA",
          "COCHIN",
          "BOMBAY",
          "BANGALORE",
          "BANGALORE",
          "CALCUTTA",
          "COCHIN",
          "BOMBAY",
          "BANGALORE",
          "BANGALORE",
          "CALCUTTA",
          "COCHIN",
          "BOMBAY",
          "BANGALORE",
          "DELHI",
          "COCHIN",
          "PATNA",
          "CHENNAI",
          "TRIVANDRUM",
          "CALCUTTA",
          "BANGALORE",
          "CALCUTTA",
          "COCHIN",
          "BOMBAY",
          "CALCUTTA",
          "COCHIN",
          "BOMBAY",
          "BANGALORE",
          "CHENNAI",
          "TRIVANDRUM",
          "CALCUTTA",
          "COCHIN",
          "BOMBAY",
          "BANGALORE",
          "DELHI",
          "COCHIN",
          "PATNA",
          "CHENNAI",
          "TRIVANDRUM",
          "CALCUTTA",
          "COCHIN",
          "BOMBAY",
          "BANGALORE",
          "DELHI",
          "COCHIN",
          "PATNA",
          "CHENNAI",
          "TRIVANDRUM",
          "CALCUTTA",
          "BANGALORE",
          "CALCUTTA",
          "COCHIN",
          "BOMBAY",
          "BANGALORE",
          "DELHI",
          "COCHIN",
          "PATNA",
          "CHENNAI",
          "TRIVANDRUM",
          "CALCUTTA",
          "BOMBAY",
          "BOMBAY",
          "BANGALORE",
          "CALCUTTA",
          "COCHIN",
          "BOMBAY",
          "BANGALORE",
          "BANGALORE",
          "CALCUTTA",
          "COCHIN",
          "BOMBAY",
          "BANGALORE",
          "DELHI",
          "COCHIN",
          "PATNA",
          "CHENNAI",
          "TRIVANDRUM",
          "CALCUTTA",
          "BANGALORE",
          "CALCUTTA",
          "COCHIN",
          "BOMBAY",
          "BANGALORE",
          "DELHI",
          "COCHIN",
          "PATNA",
          "CHENNAI",
          "TRIVANDRUM",
          "CALCUTTA",
          "CALCUTTA",
          "COCHIN"
         ],
         "legendgroup": "",
         "name": "",
         "showlegend": true,
         "textinfo": "percent+label",
         "textposition": "inside",
         "type": "pie",
         "values": [
          500000,
          100000,
          10000,
          10001,
          10002,
          100000,
          100001,
          100002,
          100003,
          500000,
          500000,
          500000,
          500000,
          500000,
          500000,
          500000,
          500000,
          100000,
          10000,
          10001,
          10002,
          100000,
          100001,
          100002,
          100003,
          500000,
          500000,
          500000,
          500000,
          500000,
          500000,
          500000,
          10002,
          100000,
          100001,
          100002,
          100003,
          500000,
          500000,
          500000,
          500000,
          500000,
          500000,
          500000,
          500000,
          100000,
          10000,
          10001,
          10002,
          100000,
          100001,
          100002,
          100003,
          500000,
          500000,
          500000,
          100001,
          100002,
          100003,
          500000,
          500000,
          500000,
          500000,
          500000,
          500000,
          500000,
          500000,
          100000,
          10000,
          10001,
          10002,
          100000,
          100001,
          100002,
          100003,
          500000,
          500000,
          500000,
          500000,
          500000,
          500000,
          500000,
          10002,
          100000,
          100001,
          100002,
          100003,
          500000,
          500000,
          500000,
          500000,
          500000,
          500000,
          500000,
          500000,
          100000,
          10000,
          10001,
          10002,
          100000
         ]
        }
       ],
       "layout": {
        "legend": {
         "tracegroupgap": 0
        },
        "piecolorway": [
         "rgb(103,0,31)",
         "rgb(178,24,43)",
         "rgb(214,96,77)",
         "rgb(244,165,130)",
         "rgb(253,219,199)",
         "rgb(247,247,247)",
         "rgb(209,229,240)",
         "rgb(146,197,222)",
         "rgb(67,147,195)",
         "rgb(33,102,172)",
         "rgb(5,48,97)"
        ],
        "template": {
         "data": {
          "bar": [
           {
            "error_x": {
             "color": "#2a3f5f"
            },
            "error_y": {
             "color": "#2a3f5f"
            },
            "marker": {
             "line": {
              "color": "#E5ECF6",
              "width": 0.5
             },
             "pattern": {
              "fillmode": "overlay",
              "size": 10,
              "solidity": 0.2
             }
            },
            "type": "bar"
           }
          ],
          "barpolar": [
           {
            "marker": {
             "line": {
              "color": "#E5ECF6",
              "width": 0.5
             },
             "pattern": {
              "fillmode": "overlay",
              "size": 10,
              "solidity": 0.2
             }
            },
            "type": "barpolar"
           }
          ],
          "carpet": [
           {
            "aaxis": {
             "endlinecolor": "#2a3f5f",
             "gridcolor": "white",
             "linecolor": "white",
             "minorgridcolor": "white",
             "startlinecolor": "#2a3f5f"
            },
            "baxis": {
             "endlinecolor": "#2a3f5f",
             "gridcolor": "white",
             "linecolor": "white",
             "minorgridcolor": "white",
             "startlinecolor": "#2a3f5f"
            },
            "type": "carpet"
           }
          ],
          "choropleth": [
           {
            "colorbar": {
             "outlinewidth": 0,
             "ticks": ""
            },
            "type": "choropleth"
           }
          ],
          "contour": [
           {
            "colorbar": {
             "outlinewidth": 0,
             "ticks": ""
            },
            "colorscale": [
             [
              0,
              "#0d0887"
             ],
             [
              0.1111111111111111,
              "#46039f"
             ],
             [
              0.2222222222222222,
              "#7201a8"
             ],
             [
              0.3333333333333333,
              "#9c179e"
             ],
             [
              0.4444444444444444,
              "#bd3786"
             ],
             [
              0.5555555555555556,
              "#d8576b"
             ],
             [
              0.6666666666666666,
              "#ed7953"
             ],
             [
              0.7777777777777778,
              "#fb9f3a"
             ],
             [
              0.8888888888888888,
              "#fdca26"
             ],
             [
              1,
              "#f0f921"
             ]
            ],
            "type": "contour"
           }
          ],
          "contourcarpet": [
           {
            "colorbar": {
             "outlinewidth": 0,
             "ticks": ""
            },
            "type": "contourcarpet"
           }
          ],
          "heatmap": [
           {
            "colorbar": {
             "outlinewidth": 0,
             "ticks": ""
            },
            "colorscale": [
             [
              0,
              "#0d0887"
             ],
             [
              0.1111111111111111,
              "#46039f"
             ],
             [
              0.2222222222222222,
              "#7201a8"
             ],
             [
              0.3333333333333333,
              "#9c179e"
             ],
             [
              0.4444444444444444,
              "#bd3786"
             ],
             [
              0.5555555555555556,
              "#d8576b"
             ],
             [
              0.6666666666666666,
              "#ed7953"
             ],
             [
              0.7777777777777778,
              "#fb9f3a"
             ],
             [
              0.8888888888888888,
              "#fdca26"
             ],
             [
              1,
              "#f0f921"
             ]
            ],
            "type": "heatmap"
           }
          ],
          "heatmapgl": [
           {
            "colorbar": {
             "outlinewidth": 0,
             "ticks": ""
            },
            "colorscale": [
             [
              0,
              "#0d0887"
             ],
             [
              0.1111111111111111,
              "#46039f"
             ],
             [
              0.2222222222222222,
              "#7201a8"
             ],
             [
              0.3333333333333333,
              "#9c179e"
             ],
             [
              0.4444444444444444,
              "#bd3786"
             ],
             [
              0.5555555555555556,
              "#d8576b"
             ],
             [
              0.6666666666666666,
              "#ed7953"
             ],
             [
              0.7777777777777778,
              "#fb9f3a"
             ],
             [
              0.8888888888888888,
              "#fdca26"
             ],
             [
              1,
              "#f0f921"
             ]
            ],
            "type": "heatmapgl"
           }
          ],
          "histogram": [
           {
            "marker": {
             "pattern": {
              "fillmode": "overlay",
              "size": 10,
              "solidity": 0.2
             }
            },
            "type": "histogram"
           }
          ],
          "histogram2d": [
           {
            "colorbar": {
             "outlinewidth": 0,
             "ticks": ""
            },
            "colorscale": [
             [
              0,
              "#0d0887"
             ],
             [
              0.1111111111111111,
              "#46039f"
             ],
             [
              0.2222222222222222,
              "#7201a8"
             ],
             [
              0.3333333333333333,
              "#9c179e"
             ],
             [
              0.4444444444444444,
              "#bd3786"
             ],
             [
              0.5555555555555556,
              "#d8576b"
             ],
             [
              0.6666666666666666,
              "#ed7953"
             ],
             [
              0.7777777777777778,
              "#fb9f3a"
             ],
             [
              0.8888888888888888,
              "#fdca26"
             ],
             [
              1,
              "#f0f921"
             ]
            ],
            "type": "histogram2d"
           }
          ],
          "histogram2dcontour": [
           {
            "colorbar": {
             "outlinewidth": 0,
             "ticks": ""
            },
            "colorscale": [
             [
              0,
              "#0d0887"
             ],
             [
              0.1111111111111111,
              "#46039f"
             ],
             [
              0.2222222222222222,
              "#7201a8"
             ],
             [
              0.3333333333333333,
              "#9c179e"
             ],
             [
              0.4444444444444444,
              "#bd3786"
             ],
             [
              0.5555555555555556,
              "#d8576b"
             ],
             [
              0.6666666666666666,
              "#ed7953"
             ],
             [
              0.7777777777777778,
              "#fb9f3a"
             ],
             [
              0.8888888888888888,
              "#fdca26"
             ],
             [
              1,
              "#f0f921"
             ]
            ],
            "type": "histogram2dcontour"
           }
          ],
          "mesh3d": [
           {
            "colorbar": {
             "outlinewidth": 0,
             "ticks": ""
            },
            "type": "mesh3d"
           }
          ],
          "parcoords": [
           {
            "line": {
             "colorbar": {
              "outlinewidth": 0,
              "ticks": ""
             }
            },
            "type": "parcoords"
           }
          ],
          "pie": [
           {
            "automargin": true,
            "type": "pie"
           }
          ],
          "scatter": [
           {
            "marker": {
             "colorbar": {
              "outlinewidth": 0,
              "ticks": ""
             }
            },
            "type": "scatter"
           }
          ],
          "scatter3d": [
           {
            "line": {
             "colorbar": {
              "outlinewidth": 0,
              "ticks": ""
             }
            },
            "marker": {
             "colorbar": {
              "outlinewidth": 0,
              "ticks": ""
             }
            },
            "type": "scatter3d"
           }
          ],
          "scattercarpet": [
           {
            "marker": {
             "colorbar": {
              "outlinewidth": 0,
              "ticks": ""
             }
            },
            "type": "scattercarpet"
           }
          ],
          "scattergeo": [
           {
            "marker": {
             "colorbar": {
              "outlinewidth": 0,
              "ticks": ""
             }
            },
            "type": "scattergeo"
           }
          ],
          "scattergl": [
           {
            "marker": {
             "colorbar": {
              "outlinewidth": 0,
              "ticks": ""
             }
            },
            "type": "scattergl"
           }
          ],
          "scattermapbox": [
           {
            "marker": {
             "colorbar": {
              "outlinewidth": 0,
              "ticks": ""
             }
            },
            "type": "scattermapbox"
           }
          ],
          "scatterpolar": [
           {
            "marker": {
             "colorbar": {
              "outlinewidth": 0,
              "ticks": ""
             }
            },
            "type": "scatterpolar"
           }
          ],
          "scatterpolargl": [
           {
            "marker": {
             "colorbar": {
              "outlinewidth": 0,
              "ticks": ""
             }
            },
            "type": "scatterpolargl"
           }
          ],
          "scatterternary": [
           {
            "marker": {
             "colorbar": {
              "outlinewidth": 0,
              "ticks": ""
             }
            },
            "type": "scatterternary"
           }
          ],
          "surface": [
           {
            "colorbar": {
             "outlinewidth": 0,
             "ticks": ""
            },
            "colorscale": [
             [
              0,
              "#0d0887"
             ],
             [
              0.1111111111111111,
              "#46039f"
             ],
             [
              0.2222222222222222,
              "#7201a8"
             ],
             [
              0.3333333333333333,
              "#9c179e"
             ],
             [
              0.4444444444444444,
              "#bd3786"
             ],
             [
              0.5555555555555556,
              "#d8576b"
             ],
             [
              0.6666666666666666,
              "#ed7953"
             ],
             [
              0.7777777777777778,
              "#fb9f3a"
             ],
             [
              0.8888888888888888,
              "#fdca26"
             ],
             [
              1,
              "#f0f921"
             ]
            ],
            "type": "surface"
           }
          ],
          "table": [
           {
            "cells": {
             "fill": {
              "color": "#EBF0F8"
             },
             "line": {
              "color": "white"
             }
            },
            "header": {
             "fill": {
              "color": "#C8D4E3"
             },
             "line": {
              "color": "white"
             }
            },
            "type": "table"
           }
          ]
         },
         "layout": {
          "annotationdefaults": {
           "arrowcolor": "#2a3f5f",
           "arrowhead": 0,
           "arrowwidth": 1
          },
          "autotypenumbers": "strict",
          "coloraxis": {
           "colorbar": {
            "outlinewidth": 0,
            "ticks": ""
           }
          },
          "colorscale": {
           "diverging": [
            [
             0,
             "#8e0152"
            ],
            [
             0.1,
             "#c51b7d"
            ],
            [
             0.2,
             "#de77ae"
            ],
            [
             0.3,
             "#f1b6da"
            ],
            [
             0.4,
             "#fde0ef"
            ],
            [
             0.5,
             "#f7f7f7"
            ],
            [
             0.6,
             "#e6f5d0"
            ],
            [
             0.7,
             "#b8e186"
            ],
            [
             0.8,
             "#7fbc41"
            ],
            [
             0.9,
             "#4d9221"
            ],
            [
             1,
             "#276419"
            ]
           ],
           "sequential": [
            [
             0,
             "#0d0887"
            ],
            [
             0.1111111111111111,
             "#46039f"
            ],
            [
             0.2222222222222222,
             "#7201a8"
            ],
            [
             0.3333333333333333,
             "#9c179e"
            ],
            [
             0.4444444444444444,
             "#bd3786"
            ],
            [
             0.5555555555555556,
             "#d8576b"
            ],
            [
             0.6666666666666666,
             "#ed7953"
            ],
            [
             0.7777777777777778,
             "#fb9f3a"
            ],
            [
             0.8888888888888888,
             "#fdca26"
            ],
            [
             1,
             "#f0f921"
            ]
           ],
           "sequentialminus": [
            [
             0,
             "#0d0887"
            ],
            [
             0.1111111111111111,
             "#46039f"
            ],
            [
             0.2222222222222222,
             "#7201a8"
            ],
            [
             0.3333333333333333,
             "#9c179e"
            ],
            [
             0.4444444444444444,
             "#bd3786"
            ],
            [
             0.5555555555555556,
             "#d8576b"
            ],
            [
             0.6666666666666666,
             "#ed7953"
            ],
            [
             0.7777777777777778,
             "#fb9f3a"
            ],
            [
             0.8888888888888888,
             "#fdca26"
            ],
            [
             1,
             "#f0f921"
            ]
           ]
          },
          "colorway": [
           "#636efa",
           "#EF553B",
           "#00cc96",
           "#ab63fa",
           "#FFA15A",
           "#19d3f3",
           "#FF6692",
           "#B6E880",
           "#FF97FF",
           "#FECB52"
          ],
          "font": {
           "color": "#2a3f5f"
          },
          "geo": {
           "bgcolor": "white",
           "lakecolor": "white",
           "landcolor": "#E5ECF6",
           "showlakes": true,
           "showland": true,
           "subunitcolor": "white"
          },
          "hoverlabel": {
           "align": "left"
          },
          "hovermode": "closest",
          "mapbox": {
           "style": "light"
          },
          "paper_bgcolor": "white",
          "plot_bgcolor": "#E5ECF6",
          "polar": {
           "angularaxis": {
            "gridcolor": "white",
            "linecolor": "white",
            "ticks": ""
           },
           "bgcolor": "#E5ECF6",
           "radialaxis": {
            "gridcolor": "white",
            "linecolor": "white",
            "ticks": ""
           }
          },
          "scene": {
           "xaxis": {
            "backgroundcolor": "#E5ECF6",
            "gridcolor": "white",
            "gridwidth": 2,
            "linecolor": "white",
            "showbackground": true,
            "ticks": "",
            "zerolinecolor": "white"
           },
           "yaxis": {
            "backgroundcolor": "#E5ECF6",
            "gridcolor": "white",
            "gridwidth": 2,
            "linecolor": "white",
            "showbackground": true,
            "ticks": "",
            "zerolinecolor": "white"
           },
           "zaxis": {
            "backgroundcolor": "#E5ECF6",
            "gridcolor": "white",
            "gridwidth": 2,
            "linecolor": "white",
            "showbackground": true,
            "ticks": "",
            "zerolinecolor": "white"
           }
          },
          "shapedefaults": {
           "line": {
            "color": "#2a3f5f"
           }
          },
          "ternary": {
           "aaxis": {
            "gridcolor": "white",
            "linecolor": "white",
            "ticks": ""
           },
           "baxis": {
            "gridcolor": "white",
            "linecolor": "white",
            "ticks": ""
           },
           "bgcolor": "#E5ECF6",
           "caxis": {
            "gridcolor": "white",
            "linecolor": "white",
            "ticks": ""
           }
          },
          "title": {
           "x": 0.05
          },
          "xaxis": {
           "automargin": true,
           "gridcolor": "white",
           "linecolor": "white",
           "ticks": "",
           "title": {
            "standoff": 15
           },
           "zerolinecolor": "white",
           "zerolinewidth": 2
          },
          "yaxis": {
           "automargin": true,
           "gridcolor": "white",
           "linecolor": "white",
           "ticks": "",
           "title": {
            "standoff": 15
           },
           "zerolinecolor": "white",
           "zerolinewidth": 2
          }
         }
        },
        "title": {
         "text": "Limit Spent by City"
        }
       }
      },
      "text/html": [
       "<div>                            <div id=\"e4646275-3c4b-44b2-bd3f-6e395e468d50\" class=\"plotly-graph-div\" style=\"height:525px; width:100%;\"></div>            <script type=\"text/javascript\">                require([\"plotly\"], function(Plotly) {                    window.PLOTLYENV=window.PLOTLYENV || {};                                    if (document.getElementById(\"e4646275-3c4b-44b2-bd3f-6e395e468d50\")) {                    Plotly.newPlot(                        \"e4646275-3c4b-44b2-bd3f-6e395e468d50\",                        [{\"customdata\":[[\"Gold\"],[\"Silver\"],[\"Platimum\"],[\"Platimum\"],[\"Platimum\"],[\"Silver\"],[\"Silver\"],[\"Silver\"],[\"Silver\"],[\"Gold\"],[\"Gold\"],[\"Gold\"],[\"Gold\"],[\"Gold\"],[\"Gold\"],[\"Gold\"],[\"Gold\"],[\"Silver\"],[\"Platimum\"],[\"Platimum\"],[\"Platimum\"],[\"Silver\"],[\"Silver\"],[\"Silver\"],[\"Silver\"],[\"Gold\"],[\"Gold\"],[\"Gold\"],[\"Gold\"],[\"Gold\"],[\"Gold\"],[\"Gold\"],[\"Platimum\"],[\"Platimum\"],[\"Platimum\"],[\"Platimum\"],[\"Platimum\"],[\"Platimum\"],[\"Platimum\"],[\"Platimum\"],[\"Platimum\"],[\"Gold\"],[\"Gold\"],[\"Gold\"],[\"Gold\"],[\"Silver\"],[\"Platimum\"],[\"Platimum\"],[\"Platimum\"],[\"Platimum\"],[\"Platimum\"],[\"Platimum\"],[\"Platimum\"],[\"Platimum\"],[\"Platimum\"],[\"Platimum\"],[\"Silver\"],[\"Silver\"],[\"Silver\"],[\"Gold\"],[\"Gold\"],[\"Gold\"],[\"Gold\"],[\"Gold\"],[\"Gold\"],[\"Gold\"],[\"Gold\"],[\"Silver\"],[\"Platimum\"],[\"Platimum\"],[\"Platimum\"],[\"Silver\"],[\"Silver\"],[\"Silver\"],[\"Silver\"],[\"Silver\"],[\"Silver\"],[\"Silver\"],[\"Silver\"],[\"Silver\"],[\"Gold\"],[\"Gold\"],[\"Platimum\"],[\"Silver\"],[\"Silver\"],[\"Silver\"],[\"Silver\"],[\"Gold\"],[\"Gold\"],[\"Gold\"],[\"Gold\"],[\"Gold\"],[\"Gold\"],[\"Gold\"],[\"Gold\"],[\"Silver\"],[\"Platimum\"],[\"Platimum\"],[\"Platimum\"],[\"Silver\"]],\"domain\":{\"x\":[0.0,1.0],\"y\":[0.0,1.0]},\"hovertemplate\":\"City=%{label}<br>Limit=%{value}<br>Product=%{customdata[0]}<extra></extra>\",\"labels\":[\"BANGALORE\",\"CALCUTTA\",\"COCHIN\",\"BOMBAY\",\"BANGALORE\",\"DELHI\",\"COCHIN\",\"PATNA\",\"CHENNAI\",\"CALCUTTA\",\"COCHIN\",\"BOMBAY\",\"BANGALORE\",\"BANGALORE\",\"CALCUTTA\",\"COCHIN\",\"BOMBAY\",\"BANGALORE\",\"BANGALORE\",\"CALCUTTA\",\"COCHIN\",\"BOMBAY\",\"BANGALORE\",\"DELHI\",\"COCHIN\",\"PATNA\",\"CHENNAI\",\"TRIVANDRUM\",\"CALCUTTA\",\"BANGALORE\",\"CALCUTTA\",\"COCHIN\",\"BOMBAY\",\"CALCUTTA\",\"COCHIN\",\"BOMBAY\",\"BANGALORE\",\"CHENNAI\",\"TRIVANDRUM\",\"CALCUTTA\",\"COCHIN\",\"BOMBAY\",\"BANGALORE\",\"DELHI\",\"COCHIN\",\"PATNA\",\"CHENNAI\",\"TRIVANDRUM\",\"CALCUTTA\",\"COCHIN\",\"BOMBAY\",\"BANGALORE\",\"DELHI\",\"COCHIN\",\"PATNA\",\"CHENNAI\",\"TRIVANDRUM\",\"CALCUTTA\",\"BANGALORE\",\"CALCUTTA\",\"COCHIN\",\"BOMBAY\",\"BANGALORE\",\"DELHI\",\"COCHIN\",\"PATNA\",\"CHENNAI\",\"TRIVANDRUM\",\"CALCUTTA\",\"BOMBAY\",\"BOMBAY\",\"BANGALORE\",\"CALCUTTA\",\"COCHIN\",\"BOMBAY\",\"BANGALORE\",\"BANGALORE\",\"CALCUTTA\",\"COCHIN\",\"BOMBAY\",\"BANGALORE\",\"DELHI\",\"COCHIN\",\"PATNA\",\"CHENNAI\",\"TRIVANDRUM\",\"CALCUTTA\",\"BANGALORE\",\"CALCUTTA\",\"COCHIN\",\"BOMBAY\",\"BANGALORE\",\"DELHI\",\"COCHIN\",\"PATNA\",\"CHENNAI\",\"TRIVANDRUM\",\"CALCUTTA\",\"CALCUTTA\",\"COCHIN\"],\"legendgroup\":\"\",\"name\":\"\",\"showlegend\":true,\"values\":[500000.0,100000.0,10000.0,10001.0,10002.0,100000.0,100001.0,100002.0,100003.0,500000.0,500000.0,500000.0,500000.0,500000.0,500000.0,500000.0,500000.0,100000.0,10000.0,10001.0,10002.0,100000.0,100001.0,100002.0,100003.0,500000.0,500000.0,500000.0,500000.0,500000.0,500000.0,500000.0,10002.0,100000.0,100001.0,100002.0,100003.0,500000.0,500000.0,500000.0,500000.0,500000.0,500000.0,500000.0,500000.0,100000.0,10000.0,10001.0,10002.0,100000.0,100001.0,100002.0,100003.0,500000.0,500000.0,500000.0,100001.0,100002.0,100003.0,500000.0,500000.0,500000.0,500000.0,500000.0,500000.0,500000.0,500000.0,100000.0,10000.0,10001.0,10002.0,100000.0,100001.0,100002.0,100003.0,500000.0,500000.0,500000.0,500000.0,500000.0,500000.0,500000.0,10002.0,100000.0,100001.0,100002.0,100003.0,500000.0,500000.0,500000.0,500000.0,500000.0,500000.0,500000.0,500000.0,100000.0,10000.0,10001.0,10002.0,100000.0],\"type\":\"pie\",\"textinfo\":\"percent+label\",\"textposition\":\"inside\"}],                        {\"template\":{\"data\":{\"bar\":[{\"error_x\":{\"color\":\"#2a3f5f\"},\"error_y\":{\"color\":\"#2a3f5f\"},\"marker\":{\"line\":{\"color\":\"#E5ECF6\",\"width\":0.5},\"pattern\":{\"fillmode\":\"overlay\",\"size\":10,\"solidity\":0.2}},\"type\":\"bar\"}],\"barpolar\":[{\"marker\":{\"line\":{\"color\":\"#E5ECF6\",\"width\":0.5},\"pattern\":{\"fillmode\":\"overlay\",\"size\":10,\"solidity\":0.2}},\"type\":\"barpolar\"}],\"carpet\":[{\"aaxis\":{\"endlinecolor\":\"#2a3f5f\",\"gridcolor\":\"white\",\"linecolor\":\"white\",\"minorgridcolor\":\"white\",\"startlinecolor\":\"#2a3f5f\"},\"baxis\":{\"endlinecolor\":\"#2a3f5f\",\"gridcolor\":\"white\",\"linecolor\":\"white\",\"minorgridcolor\":\"white\",\"startlinecolor\":\"#2a3f5f\"},\"type\":\"carpet\"}],\"choropleth\":[{\"colorbar\":{\"outlinewidth\":0,\"ticks\":\"\"},\"type\":\"choropleth\"}],\"contour\":[{\"colorbar\":{\"outlinewidth\":0,\"ticks\":\"\"},\"colorscale\":[[0.0,\"#0d0887\"],[0.1111111111111111,\"#46039f\"],[0.2222222222222222,\"#7201a8\"],[0.3333333333333333,\"#9c179e\"],[0.4444444444444444,\"#bd3786\"],[0.5555555555555556,\"#d8576b\"],[0.6666666666666666,\"#ed7953\"],[0.7777777777777778,\"#fb9f3a\"],[0.8888888888888888,\"#fdca26\"],[1.0,\"#f0f921\"]],\"type\":\"contour\"}],\"contourcarpet\":[{\"colorbar\":{\"outlinewidth\":0,\"ticks\":\"\"},\"type\":\"contourcarpet\"}],\"heatmap\":[{\"colorbar\":{\"outlinewidth\":0,\"ticks\":\"\"},\"colorscale\":[[0.0,\"#0d0887\"],[0.1111111111111111,\"#46039f\"],[0.2222222222222222,\"#7201a8\"],[0.3333333333333333,\"#9c179e\"],[0.4444444444444444,\"#bd3786\"],[0.5555555555555556,\"#d8576b\"],[0.6666666666666666,\"#ed7953\"],[0.7777777777777778,\"#fb9f3a\"],[0.8888888888888888,\"#fdca26\"],[1.0,\"#f0f921\"]],\"type\":\"heatmap\"}],\"heatmapgl\":[{\"colorbar\":{\"outlinewidth\":0,\"ticks\":\"\"},\"colorscale\":[[0.0,\"#0d0887\"],[0.1111111111111111,\"#46039f\"],[0.2222222222222222,\"#7201a8\"],[0.3333333333333333,\"#9c179e\"],[0.4444444444444444,\"#bd3786\"],[0.5555555555555556,\"#d8576b\"],[0.6666666666666666,\"#ed7953\"],[0.7777777777777778,\"#fb9f3a\"],[0.8888888888888888,\"#fdca26\"],[1.0,\"#f0f921\"]],\"type\":\"heatmapgl\"}],\"histogram\":[{\"marker\":{\"pattern\":{\"fillmode\":\"overlay\",\"size\":10,\"solidity\":0.2}},\"type\":\"histogram\"}],\"histogram2d\":[{\"colorbar\":{\"outlinewidth\":0,\"ticks\":\"\"},\"colorscale\":[[0.0,\"#0d0887\"],[0.1111111111111111,\"#46039f\"],[0.2222222222222222,\"#7201a8\"],[0.3333333333333333,\"#9c179e\"],[0.4444444444444444,\"#bd3786\"],[0.5555555555555556,\"#d8576b\"],[0.6666666666666666,\"#ed7953\"],[0.7777777777777778,\"#fb9f3a\"],[0.8888888888888888,\"#fdca26\"],[1.0,\"#f0f921\"]],\"type\":\"histogram2d\"}],\"histogram2dcontour\":[{\"colorbar\":{\"outlinewidth\":0,\"ticks\":\"\"},\"colorscale\":[[0.0,\"#0d0887\"],[0.1111111111111111,\"#46039f\"],[0.2222222222222222,\"#7201a8\"],[0.3333333333333333,\"#9c179e\"],[0.4444444444444444,\"#bd3786\"],[0.5555555555555556,\"#d8576b\"],[0.6666666666666666,\"#ed7953\"],[0.7777777777777778,\"#fb9f3a\"],[0.8888888888888888,\"#fdca26\"],[1.0,\"#f0f921\"]],\"type\":\"histogram2dcontour\"}],\"mesh3d\":[{\"colorbar\":{\"outlinewidth\":0,\"ticks\":\"\"},\"type\":\"mesh3d\"}],\"parcoords\":[{\"line\":{\"colorbar\":{\"outlinewidth\":0,\"ticks\":\"\"}},\"type\":\"parcoords\"}],\"pie\":[{\"automargin\":true,\"type\":\"pie\"}],\"scatter\":[{\"marker\":{\"colorbar\":{\"outlinewidth\":0,\"ticks\":\"\"}},\"type\":\"scatter\"}],\"scatter3d\":[{\"line\":{\"colorbar\":{\"outlinewidth\":0,\"ticks\":\"\"}},\"marker\":{\"colorbar\":{\"outlinewidth\":0,\"ticks\":\"\"}},\"type\":\"scatter3d\"}],\"scattercarpet\":[{\"marker\":{\"colorbar\":{\"outlinewidth\":0,\"ticks\":\"\"}},\"type\":\"scattercarpet\"}],\"scattergeo\":[{\"marker\":{\"colorbar\":{\"outlinewidth\":0,\"ticks\":\"\"}},\"type\":\"scattergeo\"}],\"scattergl\":[{\"marker\":{\"colorbar\":{\"outlinewidth\":0,\"ticks\":\"\"}},\"type\":\"scattergl\"}],\"scattermapbox\":[{\"marker\":{\"colorbar\":{\"outlinewidth\":0,\"ticks\":\"\"}},\"type\":\"scattermapbox\"}],\"scatterpolar\":[{\"marker\":{\"colorbar\":{\"outlinewidth\":0,\"ticks\":\"\"}},\"type\":\"scatterpolar\"}],\"scatterpolargl\":[{\"marker\":{\"colorbar\":{\"outlinewidth\":0,\"ticks\":\"\"}},\"type\":\"scatterpolargl\"}],\"scatterternary\":[{\"marker\":{\"colorbar\":{\"outlinewidth\":0,\"ticks\":\"\"}},\"type\":\"scatterternary\"}],\"surface\":[{\"colorbar\":{\"outlinewidth\":0,\"ticks\":\"\"},\"colorscale\":[[0.0,\"#0d0887\"],[0.1111111111111111,\"#46039f\"],[0.2222222222222222,\"#7201a8\"],[0.3333333333333333,\"#9c179e\"],[0.4444444444444444,\"#bd3786\"],[0.5555555555555556,\"#d8576b\"],[0.6666666666666666,\"#ed7953\"],[0.7777777777777778,\"#fb9f3a\"],[0.8888888888888888,\"#fdca26\"],[1.0,\"#f0f921\"]],\"type\":\"surface\"}],\"table\":[{\"cells\":{\"fill\":{\"color\":\"#EBF0F8\"},\"line\":{\"color\":\"white\"}},\"header\":{\"fill\":{\"color\":\"#C8D4E3\"},\"line\":{\"color\":\"white\"}},\"type\":\"table\"}]},\"layout\":{\"annotationdefaults\":{\"arrowcolor\":\"#2a3f5f\",\"arrowhead\":0,\"arrowwidth\":1},\"autotypenumbers\":\"strict\",\"coloraxis\":{\"colorbar\":{\"outlinewidth\":0,\"ticks\":\"\"}},\"colorscale\":{\"diverging\":[[0,\"#8e0152\"],[0.1,\"#c51b7d\"],[0.2,\"#de77ae\"],[0.3,\"#f1b6da\"],[0.4,\"#fde0ef\"],[0.5,\"#f7f7f7\"],[0.6,\"#e6f5d0\"],[0.7,\"#b8e186\"],[0.8,\"#7fbc41\"],[0.9,\"#4d9221\"],[1,\"#276419\"]],\"sequential\":[[0.0,\"#0d0887\"],[0.1111111111111111,\"#46039f\"],[0.2222222222222222,\"#7201a8\"],[0.3333333333333333,\"#9c179e\"],[0.4444444444444444,\"#bd3786\"],[0.5555555555555556,\"#d8576b\"],[0.6666666666666666,\"#ed7953\"],[0.7777777777777778,\"#fb9f3a\"],[0.8888888888888888,\"#fdca26\"],[1.0,\"#f0f921\"]],\"sequentialminus\":[[0.0,\"#0d0887\"],[0.1111111111111111,\"#46039f\"],[0.2222222222222222,\"#7201a8\"],[0.3333333333333333,\"#9c179e\"],[0.4444444444444444,\"#bd3786\"],[0.5555555555555556,\"#d8576b\"],[0.6666666666666666,\"#ed7953\"],[0.7777777777777778,\"#fb9f3a\"],[0.8888888888888888,\"#fdca26\"],[1.0,\"#f0f921\"]]},\"colorway\":[\"#636efa\",\"#EF553B\",\"#00cc96\",\"#ab63fa\",\"#FFA15A\",\"#19d3f3\",\"#FF6692\",\"#B6E880\",\"#FF97FF\",\"#FECB52\"],\"font\":{\"color\":\"#2a3f5f\"},\"geo\":{\"bgcolor\":\"white\",\"lakecolor\":\"white\",\"landcolor\":\"#E5ECF6\",\"showlakes\":true,\"showland\":true,\"subunitcolor\":\"white\"},\"hoverlabel\":{\"align\":\"left\"},\"hovermode\":\"closest\",\"mapbox\":{\"style\":\"light\"},\"paper_bgcolor\":\"white\",\"plot_bgcolor\":\"#E5ECF6\",\"polar\":{\"angularaxis\":{\"gridcolor\":\"white\",\"linecolor\":\"white\",\"ticks\":\"\"},\"bgcolor\":\"#E5ECF6\",\"radialaxis\":{\"gridcolor\":\"white\",\"linecolor\":\"white\",\"ticks\":\"\"}},\"scene\":{\"xaxis\":{\"backgroundcolor\":\"#E5ECF6\",\"gridcolor\":\"white\",\"gridwidth\":2,\"linecolor\":\"white\",\"showbackground\":true,\"ticks\":\"\",\"zerolinecolor\":\"white\"},\"yaxis\":{\"backgroundcolor\":\"#E5ECF6\",\"gridcolor\":\"white\",\"gridwidth\":2,\"linecolor\":\"white\",\"showbackground\":true,\"ticks\":\"\",\"zerolinecolor\":\"white\"},\"zaxis\":{\"backgroundcolor\":\"#E5ECF6\",\"gridcolor\":\"white\",\"gridwidth\":2,\"linecolor\":\"white\",\"showbackground\":true,\"ticks\":\"\",\"zerolinecolor\":\"white\"}},\"shapedefaults\":{\"line\":{\"color\":\"#2a3f5f\"}},\"ternary\":{\"aaxis\":{\"gridcolor\":\"white\",\"linecolor\":\"white\",\"ticks\":\"\"},\"baxis\":{\"gridcolor\":\"white\",\"linecolor\":\"white\",\"ticks\":\"\"},\"bgcolor\":\"#E5ECF6\",\"caxis\":{\"gridcolor\":\"white\",\"linecolor\":\"white\",\"ticks\":\"\"}},\"title\":{\"x\":0.05},\"xaxis\":{\"automargin\":true,\"gridcolor\":\"white\",\"linecolor\":\"white\",\"ticks\":\"\",\"title\":{\"standoff\":15},\"zerolinecolor\":\"white\",\"zerolinewidth\":2},\"yaxis\":{\"automargin\":true,\"gridcolor\":\"white\",\"linecolor\":\"white\",\"ticks\":\"\",\"title\":{\"standoff\":15},\"zerolinecolor\":\"white\",\"zerolinewidth\":2}}},\"legend\":{\"tracegroupgap\":0},\"title\":{\"text\":\"Limit Spent by City\"},\"piecolorway\":[\"rgb(103,0,31)\",\"rgb(178,24,43)\",\"rgb(214,96,77)\",\"rgb(244,165,130)\",\"rgb(253,219,199)\",\"rgb(247,247,247)\",\"rgb(209,229,240)\",\"rgb(146,197,222)\",\"rgb(67,147,195)\",\"rgb(33,102,172)\",\"rgb(5,48,97)\"]},                        {\"responsive\": true}                    ).then(function(){\n",
       "                            \n",
       "var gd = document.getElementById('e4646275-3c4b-44b2-bd3f-6e395e468d50');\n",
       "var x = new MutationObserver(function (mutations, observer) {{\n",
       "        var display = window.getComputedStyle(gd).display;\n",
       "        if (!display || display === 'none') {{\n",
       "            console.log([gd, 'removed!']);\n",
       "            Plotly.purge(gd);\n",
       "            observer.disconnect();\n",
       "        }}\n",
       "}});\n",
       "\n",
       "// Listen for the removal of the full notebook cells\n",
       "var notebookContainer = gd.closest('#notebook-container');\n",
       "if (notebookContainer) {{\n",
       "    x.observe(notebookContainer, {childList: true});\n",
       "}}\n",
       "\n",
       "// Listen for the clearing of the current output cell\n",
       "var outputEl = gd.closest('.output');\n",
       "if (outputEl) {{\n",
       "    x.observe(outputEl, {childList: true});\n",
       "}}\n",
       "\n",
       "                        })                };                });            </script>        </div>"
      ]
     },
     "metadata": {},
     "output_type": "display_data"
    }
   ],
   "source": [
    "fig = px.pie(data_frame=customer_acquisition_df,\n",
    "             values=\"Limit\",\n",
    "             names=\"City\",\n",
    "             title=\"Limit Spent by City\",\n",
    "             hover_data=[\"Product\"],\n",
    "             color_discrete_sequence=px.colors.sequential.RdBu\n",
    "             )\n",
    "fig.update_traces(textposition=\"inside\",\n",
    "                  textinfo=\"percent+label\")\n",
    "fig.show()"
   ]
  },
  {
   "cell_type": "markdown",
   "metadata": {
    "id": "yyqeGl1zouU-"
   },
   "source": [
    "### Heatmap"
   ]
  },
  {
   "cell_type": "code",
   "execution_count": 30,
   "metadata": {
    "colab": {
     "base_uri": "https://localhost:8080/",
     "height": 206
    },
    "executionInfo": {
     "elapsed": 311,
     "status": "ok",
     "timestamp": 1627853664019,
     "user": {
      "displayName": "Filipa Peleja",
      "photoUrl": "https://lh3.googleusercontent.com/a-/AOh14GhszTFoTfss30HXvgh6Cb51DPt2cGYvQ05kK0BdSA=s64",
      "userId": "09648315126991333382"
     },
     "user_tz": -120
    },
    "id": "0RcQ4BWDo5vN",
    "outputId": "367925a7-7735-442f-f1cf-e68cce1ea7c9"
   },
   "outputs": [
    {
     "data": {
      "text/html": [
       "<div>\n",
       "<style scoped>\n",
       "    .dataframe tbody tr th:only-of-type {\n",
       "        vertical-align: middle;\n",
       "    }\n",
       "\n",
       "    .dataframe tbody tr th {\n",
       "        vertical-align: top;\n",
       "    }\n",
       "\n",
       "    .dataframe thead th {\n",
       "        text-align: right;\n",
       "    }\n",
       "</style>\n",
       "<table border=\"1\" class=\"dataframe\">\n",
       "  <thead>\n",
       "    <tr style=\"text-align: right;\">\n",
       "      <th></th>\n",
       "      <th>No</th>\n",
       "      <th>Customer</th>\n",
       "      <th>Age</th>\n",
       "      <th>City</th>\n",
       "      <th>Product</th>\n",
       "      <th>Limit</th>\n",
       "      <th>Company</th>\n",
       "      <th>Segment</th>\n",
       "      <th>Age_Bin</th>\n",
       "    </tr>\n",
       "  </thead>\n",
       "  <tbody>\n",
       "    <tr>\n",
       "      <th>0</th>\n",
       "      <td>1</td>\n",
       "      <td>A1</td>\n",
       "      <td>76</td>\n",
       "      <td>BANGALORE</td>\n",
       "      <td>Gold</td>\n",
       "      <td>500000.0</td>\n",
       "      <td>C1</td>\n",
       "      <td>Self Employed</td>\n",
       "      <td>&lt;79ys</td>\n",
       "    </tr>\n",
       "    <tr>\n",
       "      <th>1</th>\n",
       "      <td>2</td>\n",
       "      <td>A2</td>\n",
       "      <td>71</td>\n",
       "      <td>CALCUTTA</td>\n",
       "      <td>Silver</td>\n",
       "      <td>100000.0</td>\n",
       "      <td>C2</td>\n",
       "      <td>Salaried_MNC</td>\n",
       "      <td>&lt;79ys</td>\n",
       "    </tr>\n",
       "    <tr>\n",
       "      <th>2</th>\n",
       "      <td>3</td>\n",
       "      <td>A3</td>\n",
       "      <td>34</td>\n",
       "      <td>COCHIN</td>\n",
       "      <td>Platimum</td>\n",
       "      <td>10000.0</td>\n",
       "      <td>C3</td>\n",
       "      <td>Salaried_Pvt</td>\n",
       "      <td>&lt;47ys</td>\n",
       "    </tr>\n",
       "    <tr>\n",
       "      <th>3</th>\n",
       "      <td>4</td>\n",
       "      <td>A4</td>\n",
       "      <td>47</td>\n",
       "      <td>BOMBAY</td>\n",
       "      <td>Platimum</td>\n",
       "      <td>10001.0</td>\n",
       "      <td>C4</td>\n",
       "      <td>Govt</td>\n",
       "      <td>&lt;60ys</td>\n",
       "    </tr>\n",
       "    <tr>\n",
       "      <th>4</th>\n",
       "      <td>5</td>\n",
       "      <td>A5</td>\n",
       "      <td>56</td>\n",
       "      <td>BANGALORE</td>\n",
       "      <td>Platimum</td>\n",
       "      <td>10002.0</td>\n",
       "      <td>C5</td>\n",
       "      <td>Normal Salary</td>\n",
       "      <td>&lt;60ys</td>\n",
       "    </tr>\n",
       "  </tbody>\n",
       "</table>\n",
       "</div>"
      ],
      "text/plain": [
       "   No Customer  Age       City   Product     Limit Company        Segment  \\\n",
       "0   1       A1   76  BANGALORE      Gold  500000.0      C1  Self Employed   \n",
       "1   2       A2   71   CALCUTTA    Silver  100000.0      C2   Salaried_MNC   \n",
       "2   3       A3   34     COCHIN  Platimum   10000.0      C3   Salaried_Pvt   \n",
       "3   4       A4   47     BOMBAY  Platimum   10001.0      C4           Govt   \n",
       "4   5       A5   56  BANGALORE  Platimum   10002.0      C5  Normal Salary   \n",
       "\n",
       "  Age_Bin  \n",
       "0   <79ys  \n",
       "1   <79ys  \n",
       "2   <47ys  \n",
       "3   <60ys  \n",
       "4   <60ys  "
      ]
     },
     "execution_count": 30,
     "metadata": {},
     "output_type": "execute_result"
    }
   ],
   "source": [
    "customer_acquisition_df.head()"
   ]
  },
  {
   "cell_type": "code",
   "execution_count": 31,
   "metadata": {
    "colab": {
     "base_uri": "https://localhost:8080/",
     "height": 542
    },
    "executionInfo": {
     "elapsed": 515,
     "status": "ok",
     "timestamp": 1627853749030,
     "user": {
      "displayName": "Filipa Peleja",
      "photoUrl": "https://lh3.googleusercontent.com/a-/AOh14GhszTFoTfss30HXvgh6Cb51DPt2cGYvQ05kK0BdSA=s64",
      "userId": "09648315126991333382"
     },
     "user_tz": -120
    },
    "id": "q5O8CzjXoTt2",
    "outputId": "9d577a79-20a0-4329-e1a7-eb63cad1825b"
   },
   "outputs": [
    {
     "data": {
      "application/vnd.plotly.v1+json": {
       "config": {
        "plotlyServerURL": "https://plot.ly"
       },
       "data": [
        {
         "coloraxis": "coloraxis",
         "hovertemplate": "City=%{x}<br>Product=%{y}<br>count=%{z}<extra></extra>",
         "name": "",
         "type": "histogram2d",
         "x": [
          "BANGALORE",
          "CALCUTTA",
          "COCHIN",
          "BOMBAY",
          "BANGALORE",
          "DELHI",
          "COCHIN",
          "PATNA",
          "CHENNAI",
          "CALCUTTA",
          "COCHIN",
          "BOMBAY",
          "BANGALORE",
          "BANGALORE",
          "CALCUTTA",
          "COCHIN",
          "BOMBAY",
          "BANGALORE",
          "BANGALORE",
          "CALCUTTA",
          "COCHIN",
          "BOMBAY",
          "BANGALORE",
          "DELHI",
          "COCHIN",
          "PATNA",
          "CHENNAI",
          "TRIVANDRUM",
          "CALCUTTA",
          "BANGALORE",
          "CALCUTTA",
          "COCHIN",
          "BOMBAY",
          "CALCUTTA",
          "COCHIN",
          "BOMBAY",
          "BANGALORE",
          "CHENNAI",
          "TRIVANDRUM",
          "CALCUTTA",
          "COCHIN",
          "BOMBAY",
          "BANGALORE",
          "DELHI",
          "COCHIN",
          "PATNA",
          "CHENNAI",
          "TRIVANDRUM",
          "CALCUTTA",
          "COCHIN",
          "BOMBAY",
          "BANGALORE",
          "DELHI",
          "COCHIN",
          "PATNA",
          "CHENNAI",
          "TRIVANDRUM",
          "CALCUTTA",
          "BANGALORE",
          "CALCUTTA",
          "COCHIN",
          "BOMBAY",
          "BANGALORE",
          "DELHI",
          "COCHIN",
          "PATNA",
          "CHENNAI",
          "TRIVANDRUM",
          "CALCUTTA",
          "BOMBAY",
          "BOMBAY",
          "BANGALORE",
          "CALCUTTA",
          "COCHIN",
          "BOMBAY",
          "BANGALORE",
          "BANGALORE",
          "CALCUTTA",
          "COCHIN",
          "BOMBAY",
          "BANGALORE",
          "DELHI",
          "COCHIN",
          "PATNA",
          "CHENNAI",
          "TRIVANDRUM",
          "CALCUTTA",
          "BANGALORE",
          "CALCUTTA",
          "COCHIN",
          "BOMBAY",
          "BANGALORE",
          "DELHI",
          "COCHIN",
          "PATNA",
          "CHENNAI",
          "TRIVANDRUM",
          "CALCUTTA",
          "CALCUTTA",
          "COCHIN"
         ],
         "xaxis": "x",
         "xbingroup": "x",
         "y": [
          "Gold",
          "Silver",
          "Platimum",
          "Platimum",
          "Platimum",
          "Silver",
          "Silver",
          "Silver",
          "Silver",
          "Gold",
          "Gold",
          "Gold",
          "Gold",
          "Gold",
          "Gold",
          "Gold",
          "Gold",
          "Silver",
          "Platimum",
          "Platimum",
          "Platimum",
          "Silver",
          "Silver",
          "Silver",
          "Silver",
          "Gold",
          "Gold",
          "Gold",
          "Gold",
          "Gold",
          "Gold",
          "Gold",
          "Platimum",
          "Platimum",
          "Platimum",
          "Platimum",
          "Platimum",
          "Platimum",
          "Platimum",
          "Platimum",
          "Platimum",
          "Gold",
          "Gold",
          "Gold",
          "Gold",
          "Silver",
          "Platimum",
          "Platimum",
          "Platimum",
          "Platimum",
          "Platimum",
          "Platimum",
          "Platimum",
          "Platimum",
          "Platimum",
          "Platimum",
          "Silver",
          "Silver",
          "Silver",
          "Gold",
          "Gold",
          "Gold",
          "Gold",
          "Gold",
          "Gold",
          "Gold",
          "Gold",
          "Silver",
          "Platimum",
          "Platimum",
          "Platimum",
          "Silver",
          "Silver",
          "Silver",
          "Silver",
          "Silver",
          "Silver",
          "Silver",
          "Silver",
          "Silver",
          "Gold",
          "Gold",
          "Platimum",
          "Silver",
          "Silver",
          "Silver",
          "Silver",
          "Gold",
          "Gold",
          "Gold",
          "Gold",
          "Gold",
          "Gold",
          "Gold",
          "Gold",
          "Silver",
          "Platimum",
          "Platimum",
          "Platimum",
          "Silver"
         ],
         "yaxis": "y",
         "ybingroup": "y"
        }
       ],
       "layout": {
        "coloraxis": {
         "colorbar": {
          "title": {
           "text": "count"
          }
         },
         "colorscale": [
          [
           0,
           "#0d0887"
          ],
          [
           0.1111111111111111,
           "#46039f"
          ],
          [
           0.2222222222222222,
           "#7201a8"
          ],
          [
           0.3333333333333333,
           "#9c179e"
          ],
          [
           0.4444444444444444,
           "#bd3786"
          ],
          [
           0.5555555555555556,
           "#d8576b"
          ],
          [
           0.6666666666666666,
           "#ed7953"
          ],
          [
           0.7777777777777778,
           "#fb9f3a"
          ],
          [
           0.8888888888888888,
           "#fdca26"
          ],
          [
           1,
           "#f0f921"
          ]
         ]
        },
        "legend": {
         "tracegroupgap": 0
        },
        "margin": {
         "t": 60
        },
        "template": {
         "data": {
          "bar": [
           {
            "error_x": {
             "color": "#2a3f5f"
            },
            "error_y": {
             "color": "#2a3f5f"
            },
            "marker": {
             "line": {
              "color": "#E5ECF6",
              "width": 0.5
             },
             "pattern": {
              "fillmode": "overlay",
              "size": 10,
              "solidity": 0.2
             }
            },
            "type": "bar"
           }
          ],
          "barpolar": [
           {
            "marker": {
             "line": {
              "color": "#E5ECF6",
              "width": 0.5
             },
             "pattern": {
              "fillmode": "overlay",
              "size": 10,
              "solidity": 0.2
             }
            },
            "type": "barpolar"
           }
          ],
          "carpet": [
           {
            "aaxis": {
             "endlinecolor": "#2a3f5f",
             "gridcolor": "white",
             "linecolor": "white",
             "minorgridcolor": "white",
             "startlinecolor": "#2a3f5f"
            },
            "baxis": {
             "endlinecolor": "#2a3f5f",
             "gridcolor": "white",
             "linecolor": "white",
             "minorgridcolor": "white",
             "startlinecolor": "#2a3f5f"
            },
            "type": "carpet"
           }
          ],
          "choropleth": [
           {
            "colorbar": {
             "outlinewidth": 0,
             "ticks": ""
            },
            "type": "choropleth"
           }
          ],
          "contour": [
           {
            "colorbar": {
             "outlinewidth": 0,
             "ticks": ""
            },
            "colorscale": [
             [
              0,
              "#0d0887"
             ],
             [
              0.1111111111111111,
              "#46039f"
             ],
             [
              0.2222222222222222,
              "#7201a8"
             ],
             [
              0.3333333333333333,
              "#9c179e"
             ],
             [
              0.4444444444444444,
              "#bd3786"
             ],
             [
              0.5555555555555556,
              "#d8576b"
             ],
             [
              0.6666666666666666,
              "#ed7953"
             ],
             [
              0.7777777777777778,
              "#fb9f3a"
             ],
             [
              0.8888888888888888,
              "#fdca26"
             ],
             [
              1,
              "#f0f921"
             ]
            ],
            "type": "contour"
           }
          ],
          "contourcarpet": [
           {
            "colorbar": {
             "outlinewidth": 0,
             "ticks": ""
            },
            "type": "contourcarpet"
           }
          ],
          "heatmap": [
           {
            "colorbar": {
             "outlinewidth": 0,
             "ticks": ""
            },
            "colorscale": [
             [
              0,
              "#0d0887"
             ],
             [
              0.1111111111111111,
              "#46039f"
             ],
             [
              0.2222222222222222,
              "#7201a8"
             ],
             [
              0.3333333333333333,
              "#9c179e"
             ],
             [
              0.4444444444444444,
              "#bd3786"
             ],
             [
              0.5555555555555556,
              "#d8576b"
             ],
             [
              0.6666666666666666,
              "#ed7953"
             ],
             [
              0.7777777777777778,
              "#fb9f3a"
             ],
             [
              0.8888888888888888,
              "#fdca26"
             ],
             [
              1,
              "#f0f921"
             ]
            ],
            "type": "heatmap"
           }
          ],
          "heatmapgl": [
           {
            "colorbar": {
             "outlinewidth": 0,
             "ticks": ""
            },
            "colorscale": [
             [
              0,
              "#0d0887"
             ],
             [
              0.1111111111111111,
              "#46039f"
             ],
             [
              0.2222222222222222,
              "#7201a8"
             ],
             [
              0.3333333333333333,
              "#9c179e"
             ],
             [
              0.4444444444444444,
              "#bd3786"
             ],
             [
              0.5555555555555556,
              "#d8576b"
             ],
             [
              0.6666666666666666,
              "#ed7953"
             ],
             [
              0.7777777777777778,
              "#fb9f3a"
             ],
             [
              0.8888888888888888,
              "#fdca26"
             ],
             [
              1,
              "#f0f921"
             ]
            ],
            "type": "heatmapgl"
           }
          ],
          "histogram": [
           {
            "marker": {
             "pattern": {
              "fillmode": "overlay",
              "size": 10,
              "solidity": 0.2
             }
            },
            "type": "histogram"
           }
          ],
          "histogram2d": [
           {
            "colorbar": {
             "outlinewidth": 0,
             "ticks": ""
            },
            "colorscale": [
             [
              0,
              "#0d0887"
             ],
             [
              0.1111111111111111,
              "#46039f"
             ],
             [
              0.2222222222222222,
              "#7201a8"
             ],
             [
              0.3333333333333333,
              "#9c179e"
             ],
             [
              0.4444444444444444,
              "#bd3786"
             ],
             [
              0.5555555555555556,
              "#d8576b"
             ],
             [
              0.6666666666666666,
              "#ed7953"
             ],
             [
              0.7777777777777778,
              "#fb9f3a"
             ],
             [
              0.8888888888888888,
              "#fdca26"
             ],
             [
              1,
              "#f0f921"
             ]
            ],
            "type": "histogram2d"
           }
          ],
          "histogram2dcontour": [
           {
            "colorbar": {
             "outlinewidth": 0,
             "ticks": ""
            },
            "colorscale": [
             [
              0,
              "#0d0887"
             ],
             [
              0.1111111111111111,
              "#46039f"
             ],
             [
              0.2222222222222222,
              "#7201a8"
             ],
             [
              0.3333333333333333,
              "#9c179e"
             ],
             [
              0.4444444444444444,
              "#bd3786"
             ],
             [
              0.5555555555555556,
              "#d8576b"
             ],
             [
              0.6666666666666666,
              "#ed7953"
             ],
             [
              0.7777777777777778,
              "#fb9f3a"
             ],
             [
              0.8888888888888888,
              "#fdca26"
             ],
             [
              1,
              "#f0f921"
             ]
            ],
            "type": "histogram2dcontour"
           }
          ],
          "mesh3d": [
           {
            "colorbar": {
             "outlinewidth": 0,
             "ticks": ""
            },
            "type": "mesh3d"
           }
          ],
          "parcoords": [
           {
            "line": {
             "colorbar": {
              "outlinewidth": 0,
              "ticks": ""
             }
            },
            "type": "parcoords"
           }
          ],
          "pie": [
           {
            "automargin": true,
            "type": "pie"
           }
          ],
          "scatter": [
           {
            "marker": {
             "colorbar": {
              "outlinewidth": 0,
              "ticks": ""
             }
            },
            "type": "scatter"
           }
          ],
          "scatter3d": [
           {
            "line": {
             "colorbar": {
              "outlinewidth": 0,
              "ticks": ""
             }
            },
            "marker": {
             "colorbar": {
              "outlinewidth": 0,
              "ticks": ""
             }
            },
            "type": "scatter3d"
           }
          ],
          "scattercarpet": [
           {
            "marker": {
             "colorbar": {
              "outlinewidth": 0,
              "ticks": ""
             }
            },
            "type": "scattercarpet"
           }
          ],
          "scattergeo": [
           {
            "marker": {
             "colorbar": {
              "outlinewidth": 0,
              "ticks": ""
             }
            },
            "type": "scattergeo"
           }
          ],
          "scattergl": [
           {
            "marker": {
             "colorbar": {
              "outlinewidth": 0,
              "ticks": ""
             }
            },
            "type": "scattergl"
           }
          ],
          "scattermapbox": [
           {
            "marker": {
             "colorbar": {
              "outlinewidth": 0,
              "ticks": ""
             }
            },
            "type": "scattermapbox"
           }
          ],
          "scatterpolar": [
           {
            "marker": {
             "colorbar": {
              "outlinewidth": 0,
              "ticks": ""
             }
            },
            "type": "scatterpolar"
           }
          ],
          "scatterpolargl": [
           {
            "marker": {
             "colorbar": {
              "outlinewidth": 0,
              "ticks": ""
             }
            },
            "type": "scatterpolargl"
           }
          ],
          "scatterternary": [
           {
            "marker": {
             "colorbar": {
              "outlinewidth": 0,
              "ticks": ""
             }
            },
            "type": "scatterternary"
           }
          ],
          "surface": [
           {
            "colorbar": {
             "outlinewidth": 0,
             "ticks": ""
            },
            "colorscale": [
             [
              0,
              "#0d0887"
             ],
             [
              0.1111111111111111,
              "#46039f"
             ],
             [
              0.2222222222222222,
              "#7201a8"
             ],
             [
              0.3333333333333333,
              "#9c179e"
             ],
             [
              0.4444444444444444,
              "#bd3786"
             ],
             [
              0.5555555555555556,
              "#d8576b"
             ],
             [
              0.6666666666666666,
              "#ed7953"
             ],
             [
              0.7777777777777778,
              "#fb9f3a"
             ],
             [
              0.8888888888888888,
              "#fdca26"
             ],
             [
              1,
              "#f0f921"
             ]
            ],
            "type": "surface"
           }
          ],
          "table": [
           {
            "cells": {
             "fill": {
              "color": "#EBF0F8"
             },
             "line": {
              "color": "white"
             }
            },
            "header": {
             "fill": {
              "color": "#C8D4E3"
             },
             "line": {
              "color": "white"
             }
            },
            "type": "table"
           }
          ]
         },
         "layout": {
          "annotationdefaults": {
           "arrowcolor": "#2a3f5f",
           "arrowhead": 0,
           "arrowwidth": 1
          },
          "autotypenumbers": "strict",
          "coloraxis": {
           "colorbar": {
            "outlinewidth": 0,
            "ticks": ""
           }
          },
          "colorscale": {
           "diverging": [
            [
             0,
             "#8e0152"
            ],
            [
             0.1,
             "#c51b7d"
            ],
            [
             0.2,
             "#de77ae"
            ],
            [
             0.3,
             "#f1b6da"
            ],
            [
             0.4,
             "#fde0ef"
            ],
            [
             0.5,
             "#f7f7f7"
            ],
            [
             0.6,
             "#e6f5d0"
            ],
            [
             0.7,
             "#b8e186"
            ],
            [
             0.8,
             "#7fbc41"
            ],
            [
             0.9,
             "#4d9221"
            ],
            [
             1,
             "#276419"
            ]
           ],
           "sequential": [
            [
             0,
             "#0d0887"
            ],
            [
             0.1111111111111111,
             "#46039f"
            ],
            [
             0.2222222222222222,
             "#7201a8"
            ],
            [
             0.3333333333333333,
             "#9c179e"
            ],
            [
             0.4444444444444444,
             "#bd3786"
            ],
            [
             0.5555555555555556,
             "#d8576b"
            ],
            [
             0.6666666666666666,
             "#ed7953"
            ],
            [
             0.7777777777777778,
             "#fb9f3a"
            ],
            [
             0.8888888888888888,
             "#fdca26"
            ],
            [
             1,
             "#f0f921"
            ]
           ],
           "sequentialminus": [
            [
             0,
             "#0d0887"
            ],
            [
             0.1111111111111111,
             "#46039f"
            ],
            [
             0.2222222222222222,
             "#7201a8"
            ],
            [
             0.3333333333333333,
             "#9c179e"
            ],
            [
             0.4444444444444444,
             "#bd3786"
            ],
            [
             0.5555555555555556,
             "#d8576b"
            ],
            [
             0.6666666666666666,
             "#ed7953"
            ],
            [
             0.7777777777777778,
             "#fb9f3a"
            ],
            [
             0.8888888888888888,
             "#fdca26"
            ],
            [
             1,
             "#f0f921"
            ]
           ]
          },
          "colorway": [
           "#636efa",
           "#EF553B",
           "#00cc96",
           "#ab63fa",
           "#FFA15A",
           "#19d3f3",
           "#FF6692",
           "#B6E880",
           "#FF97FF",
           "#FECB52"
          ],
          "font": {
           "color": "#2a3f5f"
          },
          "geo": {
           "bgcolor": "white",
           "lakecolor": "white",
           "landcolor": "#E5ECF6",
           "showlakes": true,
           "showland": true,
           "subunitcolor": "white"
          },
          "hoverlabel": {
           "align": "left"
          },
          "hovermode": "closest",
          "mapbox": {
           "style": "light"
          },
          "paper_bgcolor": "white",
          "plot_bgcolor": "#E5ECF6",
          "polar": {
           "angularaxis": {
            "gridcolor": "white",
            "linecolor": "white",
            "ticks": ""
           },
           "bgcolor": "#E5ECF6",
           "radialaxis": {
            "gridcolor": "white",
            "linecolor": "white",
            "ticks": ""
           }
          },
          "scene": {
           "xaxis": {
            "backgroundcolor": "#E5ECF6",
            "gridcolor": "white",
            "gridwidth": 2,
            "linecolor": "white",
            "showbackground": true,
            "ticks": "",
            "zerolinecolor": "white"
           },
           "yaxis": {
            "backgroundcolor": "#E5ECF6",
            "gridcolor": "white",
            "gridwidth": 2,
            "linecolor": "white",
            "showbackground": true,
            "ticks": "",
            "zerolinecolor": "white"
           },
           "zaxis": {
            "backgroundcolor": "#E5ECF6",
            "gridcolor": "white",
            "gridwidth": 2,
            "linecolor": "white",
            "showbackground": true,
            "ticks": "",
            "zerolinecolor": "white"
           }
          },
          "shapedefaults": {
           "line": {
            "color": "#2a3f5f"
           }
          },
          "ternary": {
           "aaxis": {
            "gridcolor": "white",
            "linecolor": "white",
            "ticks": ""
           },
           "baxis": {
            "gridcolor": "white",
            "linecolor": "white",
            "ticks": ""
           },
           "bgcolor": "#E5ECF6",
           "caxis": {
            "gridcolor": "white",
            "linecolor": "white",
            "ticks": ""
           }
          },
          "title": {
           "x": 0.05
          },
          "xaxis": {
           "automargin": true,
           "gridcolor": "white",
           "linecolor": "white",
           "ticks": "",
           "title": {
            "standoff": 15
           },
           "zerolinecolor": "white",
           "zerolinewidth": 2
          },
          "yaxis": {
           "automargin": true,
           "gridcolor": "white",
           "linecolor": "white",
           "ticks": "",
           "title": {
            "standoff": 15
           },
           "zerolinecolor": "white",
           "zerolinewidth": 2
          }
         }
        },
        "xaxis": {
         "anchor": "y",
         "domain": [
          0,
          1
         ],
         "title": {
          "text": "City"
         }
        },
        "yaxis": {
         "anchor": "x",
         "domain": [
          0,
          1
         ],
         "title": {
          "text": "Product"
         }
        }
       }
      },
      "text/html": [
       "<div>                            <div id=\"0944da54-c1d6-49ae-95c5-796a9058601b\" class=\"plotly-graph-div\" style=\"height:525px; width:100%;\"></div>            <script type=\"text/javascript\">                require([\"plotly\"], function(Plotly) {                    window.PLOTLYENV=window.PLOTLYENV || {};                                    if (document.getElementById(\"0944da54-c1d6-49ae-95c5-796a9058601b\")) {                    Plotly.newPlot(                        \"0944da54-c1d6-49ae-95c5-796a9058601b\",                        [{\"coloraxis\":\"coloraxis\",\"hovertemplate\":\"City=%{x}<br>Product=%{y}<br>count=%{z}<extra></extra>\",\"name\":\"\",\"x\":[\"BANGALORE\",\"CALCUTTA\",\"COCHIN\",\"BOMBAY\",\"BANGALORE\",\"DELHI\",\"COCHIN\",\"PATNA\",\"CHENNAI\",\"CALCUTTA\",\"COCHIN\",\"BOMBAY\",\"BANGALORE\",\"BANGALORE\",\"CALCUTTA\",\"COCHIN\",\"BOMBAY\",\"BANGALORE\",\"BANGALORE\",\"CALCUTTA\",\"COCHIN\",\"BOMBAY\",\"BANGALORE\",\"DELHI\",\"COCHIN\",\"PATNA\",\"CHENNAI\",\"TRIVANDRUM\",\"CALCUTTA\",\"BANGALORE\",\"CALCUTTA\",\"COCHIN\",\"BOMBAY\",\"CALCUTTA\",\"COCHIN\",\"BOMBAY\",\"BANGALORE\",\"CHENNAI\",\"TRIVANDRUM\",\"CALCUTTA\",\"COCHIN\",\"BOMBAY\",\"BANGALORE\",\"DELHI\",\"COCHIN\",\"PATNA\",\"CHENNAI\",\"TRIVANDRUM\",\"CALCUTTA\",\"COCHIN\",\"BOMBAY\",\"BANGALORE\",\"DELHI\",\"COCHIN\",\"PATNA\",\"CHENNAI\",\"TRIVANDRUM\",\"CALCUTTA\",\"BANGALORE\",\"CALCUTTA\",\"COCHIN\",\"BOMBAY\",\"BANGALORE\",\"DELHI\",\"COCHIN\",\"PATNA\",\"CHENNAI\",\"TRIVANDRUM\",\"CALCUTTA\",\"BOMBAY\",\"BOMBAY\",\"BANGALORE\",\"CALCUTTA\",\"COCHIN\",\"BOMBAY\",\"BANGALORE\",\"BANGALORE\",\"CALCUTTA\",\"COCHIN\",\"BOMBAY\",\"BANGALORE\",\"DELHI\",\"COCHIN\",\"PATNA\",\"CHENNAI\",\"TRIVANDRUM\",\"CALCUTTA\",\"BANGALORE\",\"CALCUTTA\",\"COCHIN\",\"BOMBAY\",\"BANGALORE\",\"DELHI\",\"COCHIN\",\"PATNA\",\"CHENNAI\",\"TRIVANDRUM\",\"CALCUTTA\",\"CALCUTTA\",\"COCHIN\"],\"xaxis\":\"x\",\"xbingroup\":\"x\",\"y\":[\"Gold\",\"Silver\",\"Platimum\",\"Platimum\",\"Platimum\",\"Silver\",\"Silver\",\"Silver\",\"Silver\",\"Gold\",\"Gold\",\"Gold\",\"Gold\",\"Gold\",\"Gold\",\"Gold\",\"Gold\",\"Silver\",\"Platimum\",\"Platimum\",\"Platimum\",\"Silver\",\"Silver\",\"Silver\",\"Silver\",\"Gold\",\"Gold\",\"Gold\",\"Gold\",\"Gold\",\"Gold\",\"Gold\",\"Platimum\",\"Platimum\",\"Platimum\",\"Platimum\",\"Platimum\",\"Platimum\",\"Platimum\",\"Platimum\",\"Platimum\",\"Gold\",\"Gold\",\"Gold\",\"Gold\",\"Silver\",\"Platimum\",\"Platimum\",\"Platimum\",\"Platimum\",\"Platimum\",\"Platimum\",\"Platimum\",\"Platimum\",\"Platimum\",\"Platimum\",\"Silver\",\"Silver\",\"Silver\",\"Gold\",\"Gold\",\"Gold\",\"Gold\",\"Gold\",\"Gold\",\"Gold\",\"Gold\",\"Silver\",\"Platimum\",\"Platimum\",\"Platimum\",\"Silver\",\"Silver\",\"Silver\",\"Silver\",\"Silver\",\"Silver\",\"Silver\",\"Silver\",\"Silver\",\"Gold\",\"Gold\",\"Platimum\",\"Silver\",\"Silver\",\"Silver\",\"Silver\",\"Gold\",\"Gold\",\"Gold\",\"Gold\",\"Gold\",\"Gold\",\"Gold\",\"Gold\",\"Silver\",\"Platimum\",\"Platimum\",\"Platimum\",\"Silver\"],\"yaxis\":\"y\",\"ybingroup\":\"y\",\"type\":\"histogram2d\"}],                        {\"template\":{\"data\":{\"bar\":[{\"error_x\":{\"color\":\"#2a3f5f\"},\"error_y\":{\"color\":\"#2a3f5f\"},\"marker\":{\"line\":{\"color\":\"#E5ECF6\",\"width\":0.5},\"pattern\":{\"fillmode\":\"overlay\",\"size\":10,\"solidity\":0.2}},\"type\":\"bar\"}],\"barpolar\":[{\"marker\":{\"line\":{\"color\":\"#E5ECF6\",\"width\":0.5},\"pattern\":{\"fillmode\":\"overlay\",\"size\":10,\"solidity\":0.2}},\"type\":\"barpolar\"}],\"carpet\":[{\"aaxis\":{\"endlinecolor\":\"#2a3f5f\",\"gridcolor\":\"white\",\"linecolor\":\"white\",\"minorgridcolor\":\"white\",\"startlinecolor\":\"#2a3f5f\"},\"baxis\":{\"endlinecolor\":\"#2a3f5f\",\"gridcolor\":\"white\",\"linecolor\":\"white\",\"minorgridcolor\":\"white\",\"startlinecolor\":\"#2a3f5f\"},\"type\":\"carpet\"}],\"choropleth\":[{\"colorbar\":{\"outlinewidth\":0,\"ticks\":\"\"},\"type\":\"choropleth\"}],\"contour\":[{\"colorbar\":{\"outlinewidth\":0,\"ticks\":\"\"},\"colorscale\":[[0.0,\"#0d0887\"],[0.1111111111111111,\"#46039f\"],[0.2222222222222222,\"#7201a8\"],[0.3333333333333333,\"#9c179e\"],[0.4444444444444444,\"#bd3786\"],[0.5555555555555556,\"#d8576b\"],[0.6666666666666666,\"#ed7953\"],[0.7777777777777778,\"#fb9f3a\"],[0.8888888888888888,\"#fdca26\"],[1.0,\"#f0f921\"]],\"type\":\"contour\"}],\"contourcarpet\":[{\"colorbar\":{\"outlinewidth\":0,\"ticks\":\"\"},\"type\":\"contourcarpet\"}],\"heatmap\":[{\"colorbar\":{\"outlinewidth\":0,\"ticks\":\"\"},\"colorscale\":[[0.0,\"#0d0887\"],[0.1111111111111111,\"#46039f\"],[0.2222222222222222,\"#7201a8\"],[0.3333333333333333,\"#9c179e\"],[0.4444444444444444,\"#bd3786\"],[0.5555555555555556,\"#d8576b\"],[0.6666666666666666,\"#ed7953\"],[0.7777777777777778,\"#fb9f3a\"],[0.8888888888888888,\"#fdca26\"],[1.0,\"#f0f921\"]],\"type\":\"heatmap\"}],\"heatmapgl\":[{\"colorbar\":{\"outlinewidth\":0,\"ticks\":\"\"},\"colorscale\":[[0.0,\"#0d0887\"],[0.1111111111111111,\"#46039f\"],[0.2222222222222222,\"#7201a8\"],[0.3333333333333333,\"#9c179e\"],[0.4444444444444444,\"#bd3786\"],[0.5555555555555556,\"#d8576b\"],[0.6666666666666666,\"#ed7953\"],[0.7777777777777778,\"#fb9f3a\"],[0.8888888888888888,\"#fdca26\"],[1.0,\"#f0f921\"]],\"type\":\"heatmapgl\"}],\"histogram\":[{\"marker\":{\"pattern\":{\"fillmode\":\"overlay\",\"size\":10,\"solidity\":0.2}},\"type\":\"histogram\"}],\"histogram2d\":[{\"colorbar\":{\"outlinewidth\":0,\"ticks\":\"\"},\"colorscale\":[[0.0,\"#0d0887\"],[0.1111111111111111,\"#46039f\"],[0.2222222222222222,\"#7201a8\"],[0.3333333333333333,\"#9c179e\"],[0.4444444444444444,\"#bd3786\"],[0.5555555555555556,\"#d8576b\"],[0.6666666666666666,\"#ed7953\"],[0.7777777777777778,\"#fb9f3a\"],[0.8888888888888888,\"#fdca26\"],[1.0,\"#f0f921\"]],\"type\":\"histogram2d\"}],\"histogram2dcontour\":[{\"colorbar\":{\"outlinewidth\":0,\"ticks\":\"\"},\"colorscale\":[[0.0,\"#0d0887\"],[0.1111111111111111,\"#46039f\"],[0.2222222222222222,\"#7201a8\"],[0.3333333333333333,\"#9c179e\"],[0.4444444444444444,\"#bd3786\"],[0.5555555555555556,\"#d8576b\"],[0.6666666666666666,\"#ed7953\"],[0.7777777777777778,\"#fb9f3a\"],[0.8888888888888888,\"#fdca26\"],[1.0,\"#f0f921\"]],\"type\":\"histogram2dcontour\"}],\"mesh3d\":[{\"colorbar\":{\"outlinewidth\":0,\"ticks\":\"\"},\"type\":\"mesh3d\"}],\"parcoords\":[{\"line\":{\"colorbar\":{\"outlinewidth\":0,\"ticks\":\"\"}},\"type\":\"parcoords\"}],\"pie\":[{\"automargin\":true,\"type\":\"pie\"}],\"scatter\":[{\"marker\":{\"colorbar\":{\"outlinewidth\":0,\"ticks\":\"\"}},\"type\":\"scatter\"}],\"scatter3d\":[{\"line\":{\"colorbar\":{\"outlinewidth\":0,\"ticks\":\"\"}},\"marker\":{\"colorbar\":{\"outlinewidth\":0,\"ticks\":\"\"}},\"type\":\"scatter3d\"}],\"scattercarpet\":[{\"marker\":{\"colorbar\":{\"outlinewidth\":0,\"ticks\":\"\"}},\"type\":\"scattercarpet\"}],\"scattergeo\":[{\"marker\":{\"colorbar\":{\"outlinewidth\":0,\"ticks\":\"\"}},\"type\":\"scattergeo\"}],\"scattergl\":[{\"marker\":{\"colorbar\":{\"outlinewidth\":0,\"ticks\":\"\"}},\"type\":\"scattergl\"}],\"scattermapbox\":[{\"marker\":{\"colorbar\":{\"outlinewidth\":0,\"ticks\":\"\"}},\"type\":\"scattermapbox\"}],\"scatterpolar\":[{\"marker\":{\"colorbar\":{\"outlinewidth\":0,\"ticks\":\"\"}},\"type\":\"scatterpolar\"}],\"scatterpolargl\":[{\"marker\":{\"colorbar\":{\"outlinewidth\":0,\"ticks\":\"\"}},\"type\":\"scatterpolargl\"}],\"scatterternary\":[{\"marker\":{\"colorbar\":{\"outlinewidth\":0,\"ticks\":\"\"}},\"type\":\"scatterternary\"}],\"surface\":[{\"colorbar\":{\"outlinewidth\":0,\"ticks\":\"\"},\"colorscale\":[[0.0,\"#0d0887\"],[0.1111111111111111,\"#46039f\"],[0.2222222222222222,\"#7201a8\"],[0.3333333333333333,\"#9c179e\"],[0.4444444444444444,\"#bd3786\"],[0.5555555555555556,\"#d8576b\"],[0.6666666666666666,\"#ed7953\"],[0.7777777777777778,\"#fb9f3a\"],[0.8888888888888888,\"#fdca26\"],[1.0,\"#f0f921\"]],\"type\":\"surface\"}],\"table\":[{\"cells\":{\"fill\":{\"color\":\"#EBF0F8\"},\"line\":{\"color\":\"white\"}},\"header\":{\"fill\":{\"color\":\"#C8D4E3\"},\"line\":{\"color\":\"white\"}},\"type\":\"table\"}]},\"layout\":{\"annotationdefaults\":{\"arrowcolor\":\"#2a3f5f\",\"arrowhead\":0,\"arrowwidth\":1},\"autotypenumbers\":\"strict\",\"coloraxis\":{\"colorbar\":{\"outlinewidth\":0,\"ticks\":\"\"}},\"colorscale\":{\"diverging\":[[0,\"#8e0152\"],[0.1,\"#c51b7d\"],[0.2,\"#de77ae\"],[0.3,\"#f1b6da\"],[0.4,\"#fde0ef\"],[0.5,\"#f7f7f7\"],[0.6,\"#e6f5d0\"],[0.7,\"#b8e186\"],[0.8,\"#7fbc41\"],[0.9,\"#4d9221\"],[1,\"#276419\"]],\"sequential\":[[0.0,\"#0d0887\"],[0.1111111111111111,\"#46039f\"],[0.2222222222222222,\"#7201a8\"],[0.3333333333333333,\"#9c179e\"],[0.4444444444444444,\"#bd3786\"],[0.5555555555555556,\"#d8576b\"],[0.6666666666666666,\"#ed7953\"],[0.7777777777777778,\"#fb9f3a\"],[0.8888888888888888,\"#fdca26\"],[1.0,\"#f0f921\"]],\"sequentialminus\":[[0.0,\"#0d0887\"],[0.1111111111111111,\"#46039f\"],[0.2222222222222222,\"#7201a8\"],[0.3333333333333333,\"#9c179e\"],[0.4444444444444444,\"#bd3786\"],[0.5555555555555556,\"#d8576b\"],[0.6666666666666666,\"#ed7953\"],[0.7777777777777778,\"#fb9f3a\"],[0.8888888888888888,\"#fdca26\"],[1.0,\"#f0f921\"]]},\"colorway\":[\"#636efa\",\"#EF553B\",\"#00cc96\",\"#ab63fa\",\"#FFA15A\",\"#19d3f3\",\"#FF6692\",\"#B6E880\",\"#FF97FF\",\"#FECB52\"],\"font\":{\"color\":\"#2a3f5f\"},\"geo\":{\"bgcolor\":\"white\",\"lakecolor\":\"white\",\"landcolor\":\"#E5ECF6\",\"showlakes\":true,\"showland\":true,\"subunitcolor\":\"white\"},\"hoverlabel\":{\"align\":\"left\"},\"hovermode\":\"closest\",\"mapbox\":{\"style\":\"light\"},\"paper_bgcolor\":\"white\",\"plot_bgcolor\":\"#E5ECF6\",\"polar\":{\"angularaxis\":{\"gridcolor\":\"white\",\"linecolor\":\"white\",\"ticks\":\"\"},\"bgcolor\":\"#E5ECF6\",\"radialaxis\":{\"gridcolor\":\"white\",\"linecolor\":\"white\",\"ticks\":\"\"}},\"scene\":{\"xaxis\":{\"backgroundcolor\":\"#E5ECF6\",\"gridcolor\":\"white\",\"gridwidth\":2,\"linecolor\":\"white\",\"showbackground\":true,\"ticks\":\"\",\"zerolinecolor\":\"white\"},\"yaxis\":{\"backgroundcolor\":\"#E5ECF6\",\"gridcolor\":\"white\",\"gridwidth\":2,\"linecolor\":\"white\",\"showbackground\":true,\"ticks\":\"\",\"zerolinecolor\":\"white\"},\"zaxis\":{\"backgroundcolor\":\"#E5ECF6\",\"gridcolor\":\"white\",\"gridwidth\":2,\"linecolor\":\"white\",\"showbackground\":true,\"ticks\":\"\",\"zerolinecolor\":\"white\"}},\"shapedefaults\":{\"line\":{\"color\":\"#2a3f5f\"}},\"ternary\":{\"aaxis\":{\"gridcolor\":\"white\",\"linecolor\":\"white\",\"ticks\":\"\"},\"baxis\":{\"gridcolor\":\"white\",\"linecolor\":\"white\",\"ticks\":\"\"},\"bgcolor\":\"#E5ECF6\",\"caxis\":{\"gridcolor\":\"white\",\"linecolor\":\"white\",\"ticks\":\"\"}},\"title\":{\"x\":0.05},\"xaxis\":{\"automargin\":true,\"gridcolor\":\"white\",\"linecolor\":\"white\",\"ticks\":\"\",\"title\":{\"standoff\":15},\"zerolinecolor\":\"white\",\"zerolinewidth\":2},\"yaxis\":{\"automargin\":true,\"gridcolor\":\"white\",\"linecolor\":\"white\",\"ticks\":\"\",\"title\":{\"standoff\":15},\"zerolinecolor\":\"white\",\"zerolinewidth\":2}}},\"xaxis\":{\"anchor\":\"y\",\"domain\":[0.0,1.0],\"title\":{\"text\":\"City\"}},\"yaxis\":{\"anchor\":\"x\",\"domain\":[0.0,1.0],\"title\":{\"text\":\"Product\"}},\"coloraxis\":{\"colorbar\":{\"title\":{\"text\":\"count\"}},\"colorscale\":[[0.0,\"#0d0887\"],[0.1111111111111111,\"#46039f\"],[0.2222222222222222,\"#7201a8\"],[0.3333333333333333,\"#9c179e\"],[0.4444444444444444,\"#bd3786\"],[0.5555555555555556,\"#d8576b\"],[0.6666666666666666,\"#ed7953\"],[0.7777777777777778,\"#fb9f3a\"],[0.8888888888888888,\"#fdca26\"],[1.0,\"#f0f921\"]]},\"legend\":{\"tracegroupgap\":0},\"margin\":{\"t\":60}},                        {\"responsive\": true}                    ).then(function(){\n",
       "                            \n",
       "var gd = document.getElementById('0944da54-c1d6-49ae-95c5-796a9058601b');\n",
       "var x = new MutationObserver(function (mutations, observer) {{\n",
       "        var display = window.getComputedStyle(gd).display;\n",
       "        if (!display || display === 'none') {{\n",
       "            console.log([gd, 'removed!']);\n",
       "            Plotly.purge(gd);\n",
       "            observer.disconnect();\n",
       "        }}\n",
       "}});\n",
       "\n",
       "// Listen for the removal of the full notebook cells\n",
       "var notebookContainer = gd.closest('#notebook-container');\n",
       "if (notebookContainer) {{\n",
       "    x.observe(notebookContainer, {childList: true});\n",
       "}}\n",
       "\n",
       "// Listen for the clearing of the current output cell\n",
       "var outputEl = gd.closest('.output');\n",
       "if (outputEl) {{\n",
       "    x.observe(outputEl, {childList: true});\n",
       "}}\n",
       "\n",
       "                        })                };                });            </script>        </div>"
      ]
     },
     "metadata": {},
     "output_type": "display_data"
    }
   ],
   "source": [
    "fig = px.density_heatmap(data_frame=customer_acquisition_df,\n",
    "                         x=\"City\",\n",
    "                         y=\"Product\")\n",
    "fig.show()"
   ]
  },
  {
   "cell_type": "code",
   "execution_count": 32,
   "metadata": {
    "colab": {
     "base_uri": "https://localhost:8080/",
     "height": 542
    },
    "executionInfo": {
     "elapsed": 665,
     "status": "ok",
     "timestamp": 1627853706152,
     "user": {
      "displayName": "Filipa Peleja",
      "photoUrl": "https://lh3.googleusercontent.com/a-/AOh14GhszTFoTfss30HXvgh6Cb51DPt2cGYvQ05kK0BdSA=s64",
      "userId": "09648315126991333382"
     },
     "user_tz": -120
    },
    "id": "bW-e6zRmpCxN",
    "outputId": "11a9bd68-e5b2-4263-e9c3-1b84f3d89b5f"
   },
   "outputs": [
    {
     "data": {
      "application/vnd.plotly.v1+json": {
       "config": {
        "plotlyServerURL": "https://plot.ly"
       },
       "data": [
        {
         "coloraxis": "coloraxis",
         "hovertemplate": "City=%{x}<br>Age=%{y}<br>count=%{z}<extra></extra>",
         "name": "",
         "type": "histogram2d",
         "x": [
          "BANGALORE",
          "CALCUTTA",
          "COCHIN",
          "BOMBAY",
          "BANGALORE",
          "DELHI",
          "COCHIN",
          "PATNA",
          "CHENNAI",
          "CALCUTTA",
          "COCHIN",
          "BOMBAY",
          "BANGALORE",
          "BANGALORE",
          "CALCUTTA",
          "COCHIN",
          "BOMBAY",
          "BANGALORE",
          "BANGALORE",
          "CALCUTTA",
          "COCHIN",
          "BOMBAY",
          "BANGALORE",
          "DELHI",
          "COCHIN",
          "PATNA",
          "CHENNAI",
          "TRIVANDRUM",
          "CALCUTTA",
          "BANGALORE",
          "CALCUTTA",
          "COCHIN",
          "BOMBAY",
          "CALCUTTA",
          "COCHIN",
          "BOMBAY",
          "BANGALORE",
          "CHENNAI",
          "TRIVANDRUM",
          "CALCUTTA",
          "COCHIN",
          "BOMBAY",
          "BANGALORE",
          "DELHI",
          "COCHIN",
          "PATNA",
          "CHENNAI",
          "TRIVANDRUM",
          "CALCUTTA",
          "COCHIN",
          "BOMBAY",
          "BANGALORE",
          "DELHI",
          "COCHIN",
          "PATNA",
          "CHENNAI",
          "TRIVANDRUM",
          "CALCUTTA",
          "BANGALORE",
          "CALCUTTA",
          "COCHIN",
          "BOMBAY",
          "BANGALORE",
          "DELHI",
          "COCHIN",
          "PATNA",
          "CHENNAI",
          "TRIVANDRUM",
          "CALCUTTA",
          "BOMBAY",
          "BOMBAY",
          "BANGALORE",
          "CALCUTTA",
          "COCHIN",
          "BOMBAY",
          "BANGALORE",
          "BANGALORE",
          "CALCUTTA",
          "COCHIN",
          "BOMBAY",
          "BANGALORE",
          "DELHI",
          "COCHIN",
          "PATNA",
          "CHENNAI",
          "TRIVANDRUM",
          "CALCUTTA",
          "BANGALORE",
          "CALCUTTA",
          "COCHIN",
          "BOMBAY",
          "BANGALORE",
          "DELHI",
          "COCHIN",
          "PATNA",
          "CHENNAI",
          "TRIVANDRUM",
          "CALCUTTA",
          "CALCUTTA",
          "COCHIN"
         ],
         "xaxis": "x",
         "xbingroup": "x",
         "y": [
          76,
          71,
          34,
          47,
          56,
          70,
          26,
          67,
          79,
          54,
          35,
          51,
          29,
          16,
          25,
          52,
          78,
          34,
          27,
          27,
          57,
          27,
          51,
          53,
          35,
          38,
          24,
          36,
          72,
          25,
          63,
          41,
          19,
          34,
          55,
          60,
          61,
          47,
          78,
          37,
          13,
          50,
          21,
          28,
          67,
          49,
          28,
          42,
          39,
          69,
          59,
          50,
          21,
          46,
          43,
          60,
          37,
          32,
          74,
          28,
          44,
          39,
          15,
          77,
          41,
          77,
          54,
          12,
          33,
          16,
          34,
          63,
          75,
          51,
          36,
          66,
          35,
          71,
          60,
          39,
          65,
          52,
          37,
          70,
          59,
          25,
          27,
          63,
          72,
          16,
          41,
          78,
          56,
          31,
          62,
          54,
          58,
          51,
          35,
          36
         ],
         "yaxis": "y",
         "ybingroup": "y"
        }
       ],
       "layout": {
        "coloraxis": {
         "colorbar": {
          "title": {
           "text": "count"
          }
         },
         "colorscale": [
          [
           0,
           "#0d0887"
          ],
          [
           0.1111111111111111,
           "#46039f"
          ],
          [
           0.2222222222222222,
           "#7201a8"
          ],
          [
           0.3333333333333333,
           "#9c179e"
          ],
          [
           0.4444444444444444,
           "#bd3786"
          ],
          [
           0.5555555555555556,
           "#d8576b"
          ],
          [
           0.6666666666666666,
           "#ed7953"
          ],
          [
           0.7777777777777778,
           "#fb9f3a"
          ],
          [
           0.8888888888888888,
           "#fdca26"
          ],
          [
           1,
           "#f0f921"
          ]
         ]
        },
        "legend": {
         "tracegroupgap": 0
        },
        "margin": {
         "t": 60
        },
        "template": {
         "data": {
          "bar": [
           {
            "error_x": {
             "color": "#2a3f5f"
            },
            "error_y": {
             "color": "#2a3f5f"
            },
            "marker": {
             "line": {
              "color": "#E5ECF6",
              "width": 0.5
             },
             "pattern": {
              "fillmode": "overlay",
              "size": 10,
              "solidity": 0.2
             }
            },
            "type": "bar"
           }
          ],
          "barpolar": [
           {
            "marker": {
             "line": {
              "color": "#E5ECF6",
              "width": 0.5
             },
             "pattern": {
              "fillmode": "overlay",
              "size": 10,
              "solidity": 0.2
             }
            },
            "type": "barpolar"
           }
          ],
          "carpet": [
           {
            "aaxis": {
             "endlinecolor": "#2a3f5f",
             "gridcolor": "white",
             "linecolor": "white",
             "minorgridcolor": "white",
             "startlinecolor": "#2a3f5f"
            },
            "baxis": {
             "endlinecolor": "#2a3f5f",
             "gridcolor": "white",
             "linecolor": "white",
             "minorgridcolor": "white",
             "startlinecolor": "#2a3f5f"
            },
            "type": "carpet"
           }
          ],
          "choropleth": [
           {
            "colorbar": {
             "outlinewidth": 0,
             "ticks": ""
            },
            "type": "choropleth"
           }
          ],
          "contour": [
           {
            "colorbar": {
             "outlinewidth": 0,
             "ticks": ""
            },
            "colorscale": [
             [
              0,
              "#0d0887"
             ],
             [
              0.1111111111111111,
              "#46039f"
             ],
             [
              0.2222222222222222,
              "#7201a8"
             ],
             [
              0.3333333333333333,
              "#9c179e"
             ],
             [
              0.4444444444444444,
              "#bd3786"
             ],
             [
              0.5555555555555556,
              "#d8576b"
             ],
             [
              0.6666666666666666,
              "#ed7953"
             ],
             [
              0.7777777777777778,
              "#fb9f3a"
             ],
             [
              0.8888888888888888,
              "#fdca26"
             ],
             [
              1,
              "#f0f921"
             ]
            ],
            "type": "contour"
           }
          ],
          "contourcarpet": [
           {
            "colorbar": {
             "outlinewidth": 0,
             "ticks": ""
            },
            "type": "contourcarpet"
           }
          ],
          "heatmap": [
           {
            "colorbar": {
             "outlinewidth": 0,
             "ticks": ""
            },
            "colorscale": [
             [
              0,
              "#0d0887"
             ],
             [
              0.1111111111111111,
              "#46039f"
             ],
             [
              0.2222222222222222,
              "#7201a8"
             ],
             [
              0.3333333333333333,
              "#9c179e"
             ],
             [
              0.4444444444444444,
              "#bd3786"
             ],
             [
              0.5555555555555556,
              "#d8576b"
             ],
             [
              0.6666666666666666,
              "#ed7953"
             ],
             [
              0.7777777777777778,
              "#fb9f3a"
             ],
             [
              0.8888888888888888,
              "#fdca26"
             ],
             [
              1,
              "#f0f921"
             ]
            ],
            "type": "heatmap"
           }
          ],
          "heatmapgl": [
           {
            "colorbar": {
             "outlinewidth": 0,
             "ticks": ""
            },
            "colorscale": [
             [
              0,
              "#0d0887"
             ],
             [
              0.1111111111111111,
              "#46039f"
             ],
             [
              0.2222222222222222,
              "#7201a8"
             ],
             [
              0.3333333333333333,
              "#9c179e"
             ],
             [
              0.4444444444444444,
              "#bd3786"
             ],
             [
              0.5555555555555556,
              "#d8576b"
             ],
             [
              0.6666666666666666,
              "#ed7953"
             ],
             [
              0.7777777777777778,
              "#fb9f3a"
             ],
             [
              0.8888888888888888,
              "#fdca26"
             ],
             [
              1,
              "#f0f921"
             ]
            ],
            "type": "heatmapgl"
           }
          ],
          "histogram": [
           {
            "marker": {
             "pattern": {
              "fillmode": "overlay",
              "size": 10,
              "solidity": 0.2
             }
            },
            "type": "histogram"
           }
          ],
          "histogram2d": [
           {
            "colorbar": {
             "outlinewidth": 0,
             "ticks": ""
            },
            "colorscale": [
             [
              0,
              "#0d0887"
             ],
             [
              0.1111111111111111,
              "#46039f"
             ],
             [
              0.2222222222222222,
              "#7201a8"
             ],
             [
              0.3333333333333333,
              "#9c179e"
             ],
             [
              0.4444444444444444,
              "#bd3786"
             ],
             [
              0.5555555555555556,
              "#d8576b"
             ],
             [
              0.6666666666666666,
              "#ed7953"
             ],
             [
              0.7777777777777778,
              "#fb9f3a"
             ],
             [
              0.8888888888888888,
              "#fdca26"
             ],
             [
              1,
              "#f0f921"
             ]
            ],
            "type": "histogram2d"
           }
          ],
          "histogram2dcontour": [
           {
            "colorbar": {
             "outlinewidth": 0,
             "ticks": ""
            },
            "colorscale": [
             [
              0,
              "#0d0887"
             ],
             [
              0.1111111111111111,
              "#46039f"
             ],
             [
              0.2222222222222222,
              "#7201a8"
             ],
             [
              0.3333333333333333,
              "#9c179e"
             ],
             [
              0.4444444444444444,
              "#bd3786"
             ],
             [
              0.5555555555555556,
              "#d8576b"
             ],
             [
              0.6666666666666666,
              "#ed7953"
             ],
             [
              0.7777777777777778,
              "#fb9f3a"
             ],
             [
              0.8888888888888888,
              "#fdca26"
             ],
             [
              1,
              "#f0f921"
             ]
            ],
            "type": "histogram2dcontour"
           }
          ],
          "mesh3d": [
           {
            "colorbar": {
             "outlinewidth": 0,
             "ticks": ""
            },
            "type": "mesh3d"
           }
          ],
          "parcoords": [
           {
            "line": {
             "colorbar": {
              "outlinewidth": 0,
              "ticks": ""
             }
            },
            "type": "parcoords"
           }
          ],
          "pie": [
           {
            "automargin": true,
            "type": "pie"
           }
          ],
          "scatter": [
           {
            "marker": {
             "colorbar": {
              "outlinewidth": 0,
              "ticks": ""
             }
            },
            "type": "scatter"
           }
          ],
          "scatter3d": [
           {
            "line": {
             "colorbar": {
              "outlinewidth": 0,
              "ticks": ""
             }
            },
            "marker": {
             "colorbar": {
              "outlinewidth": 0,
              "ticks": ""
             }
            },
            "type": "scatter3d"
           }
          ],
          "scattercarpet": [
           {
            "marker": {
             "colorbar": {
              "outlinewidth": 0,
              "ticks": ""
             }
            },
            "type": "scattercarpet"
           }
          ],
          "scattergeo": [
           {
            "marker": {
             "colorbar": {
              "outlinewidth": 0,
              "ticks": ""
             }
            },
            "type": "scattergeo"
           }
          ],
          "scattergl": [
           {
            "marker": {
             "colorbar": {
              "outlinewidth": 0,
              "ticks": ""
             }
            },
            "type": "scattergl"
           }
          ],
          "scattermapbox": [
           {
            "marker": {
             "colorbar": {
              "outlinewidth": 0,
              "ticks": ""
             }
            },
            "type": "scattermapbox"
           }
          ],
          "scatterpolar": [
           {
            "marker": {
             "colorbar": {
              "outlinewidth": 0,
              "ticks": ""
             }
            },
            "type": "scatterpolar"
           }
          ],
          "scatterpolargl": [
           {
            "marker": {
             "colorbar": {
              "outlinewidth": 0,
              "ticks": ""
             }
            },
            "type": "scatterpolargl"
           }
          ],
          "scatterternary": [
           {
            "marker": {
             "colorbar": {
              "outlinewidth": 0,
              "ticks": ""
             }
            },
            "type": "scatterternary"
           }
          ],
          "surface": [
           {
            "colorbar": {
             "outlinewidth": 0,
             "ticks": ""
            },
            "colorscale": [
             [
              0,
              "#0d0887"
             ],
             [
              0.1111111111111111,
              "#46039f"
             ],
             [
              0.2222222222222222,
              "#7201a8"
             ],
             [
              0.3333333333333333,
              "#9c179e"
             ],
             [
              0.4444444444444444,
              "#bd3786"
             ],
             [
              0.5555555555555556,
              "#d8576b"
             ],
             [
              0.6666666666666666,
              "#ed7953"
             ],
             [
              0.7777777777777778,
              "#fb9f3a"
             ],
             [
              0.8888888888888888,
              "#fdca26"
             ],
             [
              1,
              "#f0f921"
             ]
            ],
            "type": "surface"
           }
          ],
          "table": [
           {
            "cells": {
             "fill": {
              "color": "#EBF0F8"
             },
             "line": {
              "color": "white"
             }
            },
            "header": {
             "fill": {
              "color": "#C8D4E3"
             },
             "line": {
              "color": "white"
             }
            },
            "type": "table"
           }
          ]
         },
         "layout": {
          "annotationdefaults": {
           "arrowcolor": "#2a3f5f",
           "arrowhead": 0,
           "arrowwidth": 1
          },
          "autotypenumbers": "strict",
          "coloraxis": {
           "colorbar": {
            "outlinewidth": 0,
            "ticks": ""
           }
          },
          "colorscale": {
           "diverging": [
            [
             0,
             "#8e0152"
            ],
            [
             0.1,
             "#c51b7d"
            ],
            [
             0.2,
             "#de77ae"
            ],
            [
             0.3,
             "#f1b6da"
            ],
            [
             0.4,
             "#fde0ef"
            ],
            [
             0.5,
             "#f7f7f7"
            ],
            [
             0.6,
             "#e6f5d0"
            ],
            [
             0.7,
             "#b8e186"
            ],
            [
             0.8,
             "#7fbc41"
            ],
            [
             0.9,
             "#4d9221"
            ],
            [
             1,
             "#276419"
            ]
           ],
           "sequential": [
            [
             0,
             "#0d0887"
            ],
            [
             0.1111111111111111,
             "#46039f"
            ],
            [
             0.2222222222222222,
             "#7201a8"
            ],
            [
             0.3333333333333333,
             "#9c179e"
            ],
            [
             0.4444444444444444,
             "#bd3786"
            ],
            [
             0.5555555555555556,
             "#d8576b"
            ],
            [
             0.6666666666666666,
             "#ed7953"
            ],
            [
             0.7777777777777778,
             "#fb9f3a"
            ],
            [
             0.8888888888888888,
             "#fdca26"
            ],
            [
             1,
             "#f0f921"
            ]
           ],
           "sequentialminus": [
            [
             0,
             "#0d0887"
            ],
            [
             0.1111111111111111,
             "#46039f"
            ],
            [
             0.2222222222222222,
             "#7201a8"
            ],
            [
             0.3333333333333333,
             "#9c179e"
            ],
            [
             0.4444444444444444,
             "#bd3786"
            ],
            [
             0.5555555555555556,
             "#d8576b"
            ],
            [
             0.6666666666666666,
             "#ed7953"
            ],
            [
             0.7777777777777778,
             "#fb9f3a"
            ],
            [
             0.8888888888888888,
             "#fdca26"
            ],
            [
             1,
             "#f0f921"
            ]
           ]
          },
          "colorway": [
           "#636efa",
           "#EF553B",
           "#00cc96",
           "#ab63fa",
           "#FFA15A",
           "#19d3f3",
           "#FF6692",
           "#B6E880",
           "#FF97FF",
           "#FECB52"
          ],
          "font": {
           "color": "#2a3f5f"
          },
          "geo": {
           "bgcolor": "white",
           "lakecolor": "white",
           "landcolor": "#E5ECF6",
           "showlakes": true,
           "showland": true,
           "subunitcolor": "white"
          },
          "hoverlabel": {
           "align": "left"
          },
          "hovermode": "closest",
          "mapbox": {
           "style": "light"
          },
          "paper_bgcolor": "white",
          "plot_bgcolor": "#E5ECF6",
          "polar": {
           "angularaxis": {
            "gridcolor": "white",
            "linecolor": "white",
            "ticks": ""
           },
           "bgcolor": "#E5ECF6",
           "radialaxis": {
            "gridcolor": "white",
            "linecolor": "white",
            "ticks": ""
           }
          },
          "scene": {
           "xaxis": {
            "backgroundcolor": "#E5ECF6",
            "gridcolor": "white",
            "gridwidth": 2,
            "linecolor": "white",
            "showbackground": true,
            "ticks": "",
            "zerolinecolor": "white"
           },
           "yaxis": {
            "backgroundcolor": "#E5ECF6",
            "gridcolor": "white",
            "gridwidth": 2,
            "linecolor": "white",
            "showbackground": true,
            "ticks": "",
            "zerolinecolor": "white"
           },
           "zaxis": {
            "backgroundcolor": "#E5ECF6",
            "gridcolor": "white",
            "gridwidth": 2,
            "linecolor": "white",
            "showbackground": true,
            "ticks": "",
            "zerolinecolor": "white"
           }
          },
          "shapedefaults": {
           "line": {
            "color": "#2a3f5f"
           }
          },
          "ternary": {
           "aaxis": {
            "gridcolor": "white",
            "linecolor": "white",
            "ticks": ""
           },
           "baxis": {
            "gridcolor": "white",
            "linecolor": "white",
            "ticks": ""
           },
           "bgcolor": "#E5ECF6",
           "caxis": {
            "gridcolor": "white",
            "linecolor": "white",
            "ticks": ""
           }
          },
          "title": {
           "x": 0.05
          },
          "xaxis": {
           "automargin": true,
           "gridcolor": "white",
           "linecolor": "white",
           "ticks": "",
           "title": {
            "standoff": 15
           },
           "zerolinecolor": "white",
           "zerolinewidth": 2
          },
          "yaxis": {
           "automargin": true,
           "gridcolor": "white",
           "linecolor": "white",
           "ticks": "",
           "title": {
            "standoff": 15
           },
           "zerolinecolor": "white",
           "zerolinewidth": 2
          }
         }
        },
        "xaxis": {
         "anchor": "y",
         "domain": [
          0,
          1
         ],
         "title": {
          "text": "City"
         }
        },
        "yaxis": {
         "anchor": "x",
         "domain": [
          0,
          1
         ],
         "title": {
          "text": "Age"
         }
        }
       }
      },
      "text/html": [
       "<div>                            <div id=\"b544ad24-a732-43e8-a4dd-11e42901ef4f\" class=\"plotly-graph-div\" style=\"height:525px; width:100%;\"></div>            <script type=\"text/javascript\">                require([\"plotly\"], function(Plotly) {                    window.PLOTLYENV=window.PLOTLYENV || {};                                    if (document.getElementById(\"b544ad24-a732-43e8-a4dd-11e42901ef4f\")) {                    Plotly.newPlot(                        \"b544ad24-a732-43e8-a4dd-11e42901ef4f\",                        [{\"coloraxis\":\"coloraxis\",\"hovertemplate\":\"City=%{x}<br>Age=%{y}<br>count=%{z}<extra></extra>\",\"name\":\"\",\"x\":[\"BANGALORE\",\"CALCUTTA\",\"COCHIN\",\"BOMBAY\",\"BANGALORE\",\"DELHI\",\"COCHIN\",\"PATNA\",\"CHENNAI\",\"CALCUTTA\",\"COCHIN\",\"BOMBAY\",\"BANGALORE\",\"BANGALORE\",\"CALCUTTA\",\"COCHIN\",\"BOMBAY\",\"BANGALORE\",\"BANGALORE\",\"CALCUTTA\",\"COCHIN\",\"BOMBAY\",\"BANGALORE\",\"DELHI\",\"COCHIN\",\"PATNA\",\"CHENNAI\",\"TRIVANDRUM\",\"CALCUTTA\",\"BANGALORE\",\"CALCUTTA\",\"COCHIN\",\"BOMBAY\",\"CALCUTTA\",\"COCHIN\",\"BOMBAY\",\"BANGALORE\",\"CHENNAI\",\"TRIVANDRUM\",\"CALCUTTA\",\"COCHIN\",\"BOMBAY\",\"BANGALORE\",\"DELHI\",\"COCHIN\",\"PATNA\",\"CHENNAI\",\"TRIVANDRUM\",\"CALCUTTA\",\"COCHIN\",\"BOMBAY\",\"BANGALORE\",\"DELHI\",\"COCHIN\",\"PATNA\",\"CHENNAI\",\"TRIVANDRUM\",\"CALCUTTA\",\"BANGALORE\",\"CALCUTTA\",\"COCHIN\",\"BOMBAY\",\"BANGALORE\",\"DELHI\",\"COCHIN\",\"PATNA\",\"CHENNAI\",\"TRIVANDRUM\",\"CALCUTTA\",\"BOMBAY\",\"BOMBAY\",\"BANGALORE\",\"CALCUTTA\",\"COCHIN\",\"BOMBAY\",\"BANGALORE\",\"BANGALORE\",\"CALCUTTA\",\"COCHIN\",\"BOMBAY\",\"BANGALORE\",\"DELHI\",\"COCHIN\",\"PATNA\",\"CHENNAI\",\"TRIVANDRUM\",\"CALCUTTA\",\"BANGALORE\",\"CALCUTTA\",\"COCHIN\",\"BOMBAY\",\"BANGALORE\",\"DELHI\",\"COCHIN\",\"PATNA\",\"CHENNAI\",\"TRIVANDRUM\",\"CALCUTTA\",\"CALCUTTA\",\"COCHIN\"],\"xaxis\":\"x\",\"xbingroup\":\"x\",\"y\":[76,71,34,47,56,70,26,67,79,54,35,51,29,16,25,52,78,34,27,27,57,27,51,53,35,38,24,36,72,25,63,41,19,34,55,60,61,47,78,37,13,50,21,28,67,49,28,42,39,69,59,50,21,46,43,60,37,32,74,28,44,39,15,77,41,77,54,12,33,16,34,63,75,51,36,66,35,71,60,39,65,52,37,70,59,25,27,63,72,16,41,78,56,31,62,54,58,51,35,36],\"yaxis\":\"y\",\"ybingroup\":\"y\",\"type\":\"histogram2d\"}],                        {\"template\":{\"data\":{\"bar\":[{\"error_x\":{\"color\":\"#2a3f5f\"},\"error_y\":{\"color\":\"#2a3f5f\"},\"marker\":{\"line\":{\"color\":\"#E5ECF6\",\"width\":0.5},\"pattern\":{\"fillmode\":\"overlay\",\"size\":10,\"solidity\":0.2}},\"type\":\"bar\"}],\"barpolar\":[{\"marker\":{\"line\":{\"color\":\"#E5ECF6\",\"width\":0.5},\"pattern\":{\"fillmode\":\"overlay\",\"size\":10,\"solidity\":0.2}},\"type\":\"barpolar\"}],\"carpet\":[{\"aaxis\":{\"endlinecolor\":\"#2a3f5f\",\"gridcolor\":\"white\",\"linecolor\":\"white\",\"minorgridcolor\":\"white\",\"startlinecolor\":\"#2a3f5f\"},\"baxis\":{\"endlinecolor\":\"#2a3f5f\",\"gridcolor\":\"white\",\"linecolor\":\"white\",\"minorgridcolor\":\"white\",\"startlinecolor\":\"#2a3f5f\"},\"type\":\"carpet\"}],\"choropleth\":[{\"colorbar\":{\"outlinewidth\":0,\"ticks\":\"\"},\"type\":\"choropleth\"}],\"contour\":[{\"colorbar\":{\"outlinewidth\":0,\"ticks\":\"\"},\"colorscale\":[[0.0,\"#0d0887\"],[0.1111111111111111,\"#46039f\"],[0.2222222222222222,\"#7201a8\"],[0.3333333333333333,\"#9c179e\"],[0.4444444444444444,\"#bd3786\"],[0.5555555555555556,\"#d8576b\"],[0.6666666666666666,\"#ed7953\"],[0.7777777777777778,\"#fb9f3a\"],[0.8888888888888888,\"#fdca26\"],[1.0,\"#f0f921\"]],\"type\":\"contour\"}],\"contourcarpet\":[{\"colorbar\":{\"outlinewidth\":0,\"ticks\":\"\"},\"type\":\"contourcarpet\"}],\"heatmap\":[{\"colorbar\":{\"outlinewidth\":0,\"ticks\":\"\"},\"colorscale\":[[0.0,\"#0d0887\"],[0.1111111111111111,\"#46039f\"],[0.2222222222222222,\"#7201a8\"],[0.3333333333333333,\"#9c179e\"],[0.4444444444444444,\"#bd3786\"],[0.5555555555555556,\"#d8576b\"],[0.6666666666666666,\"#ed7953\"],[0.7777777777777778,\"#fb9f3a\"],[0.8888888888888888,\"#fdca26\"],[1.0,\"#f0f921\"]],\"type\":\"heatmap\"}],\"heatmapgl\":[{\"colorbar\":{\"outlinewidth\":0,\"ticks\":\"\"},\"colorscale\":[[0.0,\"#0d0887\"],[0.1111111111111111,\"#46039f\"],[0.2222222222222222,\"#7201a8\"],[0.3333333333333333,\"#9c179e\"],[0.4444444444444444,\"#bd3786\"],[0.5555555555555556,\"#d8576b\"],[0.6666666666666666,\"#ed7953\"],[0.7777777777777778,\"#fb9f3a\"],[0.8888888888888888,\"#fdca26\"],[1.0,\"#f0f921\"]],\"type\":\"heatmapgl\"}],\"histogram\":[{\"marker\":{\"pattern\":{\"fillmode\":\"overlay\",\"size\":10,\"solidity\":0.2}},\"type\":\"histogram\"}],\"histogram2d\":[{\"colorbar\":{\"outlinewidth\":0,\"ticks\":\"\"},\"colorscale\":[[0.0,\"#0d0887\"],[0.1111111111111111,\"#46039f\"],[0.2222222222222222,\"#7201a8\"],[0.3333333333333333,\"#9c179e\"],[0.4444444444444444,\"#bd3786\"],[0.5555555555555556,\"#d8576b\"],[0.6666666666666666,\"#ed7953\"],[0.7777777777777778,\"#fb9f3a\"],[0.8888888888888888,\"#fdca26\"],[1.0,\"#f0f921\"]],\"type\":\"histogram2d\"}],\"histogram2dcontour\":[{\"colorbar\":{\"outlinewidth\":0,\"ticks\":\"\"},\"colorscale\":[[0.0,\"#0d0887\"],[0.1111111111111111,\"#46039f\"],[0.2222222222222222,\"#7201a8\"],[0.3333333333333333,\"#9c179e\"],[0.4444444444444444,\"#bd3786\"],[0.5555555555555556,\"#d8576b\"],[0.6666666666666666,\"#ed7953\"],[0.7777777777777778,\"#fb9f3a\"],[0.8888888888888888,\"#fdca26\"],[1.0,\"#f0f921\"]],\"type\":\"histogram2dcontour\"}],\"mesh3d\":[{\"colorbar\":{\"outlinewidth\":0,\"ticks\":\"\"},\"type\":\"mesh3d\"}],\"parcoords\":[{\"line\":{\"colorbar\":{\"outlinewidth\":0,\"ticks\":\"\"}},\"type\":\"parcoords\"}],\"pie\":[{\"automargin\":true,\"type\":\"pie\"}],\"scatter\":[{\"marker\":{\"colorbar\":{\"outlinewidth\":0,\"ticks\":\"\"}},\"type\":\"scatter\"}],\"scatter3d\":[{\"line\":{\"colorbar\":{\"outlinewidth\":0,\"ticks\":\"\"}},\"marker\":{\"colorbar\":{\"outlinewidth\":0,\"ticks\":\"\"}},\"type\":\"scatter3d\"}],\"scattercarpet\":[{\"marker\":{\"colorbar\":{\"outlinewidth\":0,\"ticks\":\"\"}},\"type\":\"scattercarpet\"}],\"scattergeo\":[{\"marker\":{\"colorbar\":{\"outlinewidth\":0,\"ticks\":\"\"}},\"type\":\"scattergeo\"}],\"scattergl\":[{\"marker\":{\"colorbar\":{\"outlinewidth\":0,\"ticks\":\"\"}},\"type\":\"scattergl\"}],\"scattermapbox\":[{\"marker\":{\"colorbar\":{\"outlinewidth\":0,\"ticks\":\"\"}},\"type\":\"scattermapbox\"}],\"scatterpolar\":[{\"marker\":{\"colorbar\":{\"outlinewidth\":0,\"ticks\":\"\"}},\"type\":\"scatterpolar\"}],\"scatterpolargl\":[{\"marker\":{\"colorbar\":{\"outlinewidth\":0,\"ticks\":\"\"}},\"type\":\"scatterpolargl\"}],\"scatterternary\":[{\"marker\":{\"colorbar\":{\"outlinewidth\":0,\"ticks\":\"\"}},\"type\":\"scatterternary\"}],\"surface\":[{\"colorbar\":{\"outlinewidth\":0,\"ticks\":\"\"},\"colorscale\":[[0.0,\"#0d0887\"],[0.1111111111111111,\"#46039f\"],[0.2222222222222222,\"#7201a8\"],[0.3333333333333333,\"#9c179e\"],[0.4444444444444444,\"#bd3786\"],[0.5555555555555556,\"#d8576b\"],[0.6666666666666666,\"#ed7953\"],[0.7777777777777778,\"#fb9f3a\"],[0.8888888888888888,\"#fdca26\"],[1.0,\"#f0f921\"]],\"type\":\"surface\"}],\"table\":[{\"cells\":{\"fill\":{\"color\":\"#EBF0F8\"},\"line\":{\"color\":\"white\"}},\"header\":{\"fill\":{\"color\":\"#C8D4E3\"},\"line\":{\"color\":\"white\"}},\"type\":\"table\"}]},\"layout\":{\"annotationdefaults\":{\"arrowcolor\":\"#2a3f5f\",\"arrowhead\":0,\"arrowwidth\":1},\"autotypenumbers\":\"strict\",\"coloraxis\":{\"colorbar\":{\"outlinewidth\":0,\"ticks\":\"\"}},\"colorscale\":{\"diverging\":[[0,\"#8e0152\"],[0.1,\"#c51b7d\"],[0.2,\"#de77ae\"],[0.3,\"#f1b6da\"],[0.4,\"#fde0ef\"],[0.5,\"#f7f7f7\"],[0.6,\"#e6f5d0\"],[0.7,\"#b8e186\"],[0.8,\"#7fbc41\"],[0.9,\"#4d9221\"],[1,\"#276419\"]],\"sequential\":[[0.0,\"#0d0887\"],[0.1111111111111111,\"#46039f\"],[0.2222222222222222,\"#7201a8\"],[0.3333333333333333,\"#9c179e\"],[0.4444444444444444,\"#bd3786\"],[0.5555555555555556,\"#d8576b\"],[0.6666666666666666,\"#ed7953\"],[0.7777777777777778,\"#fb9f3a\"],[0.8888888888888888,\"#fdca26\"],[1.0,\"#f0f921\"]],\"sequentialminus\":[[0.0,\"#0d0887\"],[0.1111111111111111,\"#46039f\"],[0.2222222222222222,\"#7201a8\"],[0.3333333333333333,\"#9c179e\"],[0.4444444444444444,\"#bd3786\"],[0.5555555555555556,\"#d8576b\"],[0.6666666666666666,\"#ed7953\"],[0.7777777777777778,\"#fb9f3a\"],[0.8888888888888888,\"#fdca26\"],[1.0,\"#f0f921\"]]},\"colorway\":[\"#636efa\",\"#EF553B\",\"#00cc96\",\"#ab63fa\",\"#FFA15A\",\"#19d3f3\",\"#FF6692\",\"#B6E880\",\"#FF97FF\",\"#FECB52\"],\"font\":{\"color\":\"#2a3f5f\"},\"geo\":{\"bgcolor\":\"white\",\"lakecolor\":\"white\",\"landcolor\":\"#E5ECF6\",\"showlakes\":true,\"showland\":true,\"subunitcolor\":\"white\"},\"hoverlabel\":{\"align\":\"left\"},\"hovermode\":\"closest\",\"mapbox\":{\"style\":\"light\"},\"paper_bgcolor\":\"white\",\"plot_bgcolor\":\"#E5ECF6\",\"polar\":{\"angularaxis\":{\"gridcolor\":\"white\",\"linecolor\":\"white\",\"ticks\":\"\"},\"bgcolor\":\"#E5ECF6\",\"radialaxis\":{\"gridcolor\":\"white\",\"linecolor\":\"white\",\"ticks\":\"\"}},\"scene\":{\"xaxis\":{\"backgroundcolor\":\"#E5ECF6\",\"gridcolor\":\"white\",\"gridwidth\":2,\"linecolor\":\"white\",\"showbackground\":true,\"ticks\":\"\",\"zerolinecolor\":\"white\"},\"yaxis\":{\"backgroundcolor\":\"#E5ECF6\",\"gridcolor\":\"white\",\"gridwidth\":2,\"linecolor\":\"white\",\"showbackground\":true,\"ticks\":\"\",\"zerolinecolor\":\"white\"},\"zaxis\":{\"backgroundcolor\":\"#E5ECF6\",\"gridcolor\":\"white\",\"gridwidth\":2,\"linecolor\":\"white\",\"showbackground\":true,\"ticks\":\"\",\"zerolinecolor\":\"white\"}},\"shapedefaults\":{\"line\":{\"color\":\"#2a3f5f\"}},\"ternary\":{\"aaxis\":{\"gridcolor\":\"white\",\"linecolor\":\"white\",\"ticks\":\"\"},\"baxis\":{\"gridcolor\":\"white\",\"linecolor\":\"white\",\"ticks\":\"\"},\"bgcolor\":\"#E5ECF6\",\"caxis\":{\"gridcolor\":\"white\",\"linecolor\":\"white\",\"ticks\":\"\"}},\"title\":{\"x\":0.05},\"xaxis\":{\"automargin\":true,\"gridcolor\":\"white\",\"linecolor\":\"white\",\"ticks\":\"\",\"title\":{\"standoff\":15},\"zerolinecolor\":\"white\",\"zerolinewidth\":2},\"yaxis\":{\"automargin\":true,\"gridcolor\":\"white\",\"linecolor\":\"white\",\"ticks\":\"\",\"title\":{\"standoff\":15},\"zerolinecolor\":\"white\",\"zerolinewidth\":2}}},\"xaxis\":{\"anchor\":\"y\",\"domain\":[0.0,1.0],\"title\":{\"text\":\"City\"}},\"yaxis\":{\"anchor\":\"x\",\"domain\":[0.0,1.0],\"title\":{\"text\":\"Age\"}},\"coloraxis\":{\"colorbar\":{\"title\":{\"text\":\"count\"}},\"colorscale\":[[0.0,\"#0d0887\"],[0.1111111111111111,\"#46039f\"],[0.2222222222222222,\"#7201a8\"],[0.3333333333333333,\"#9c179e\"],[0.4444444444444444,\"#bd3786\"],[0.5555555555555556,\"#d8576b\"],[0.6666666666666666,\"#ed7953\"],[0.7777777777777778,\"#fb9f3a\"],[0.8888888888888888,\"#fdca26\"],[1.0,\"#f0f921\"]]},\"legend\":{\"tracegroupgap\":0},\"margin\":{\"t\":60}},                        {\"responsive\": true}                    ).then(function(){\n",
       "                            \n",
       "var gd = document.getElementById('b544ad24-a732-43e8-a4dd-11e42901ef4f');\n",
       "var x = new MutationObserver(function (mutations, observer) {{\n",
       "        var display = window.getComputedStyle(gd).display;\n",
       "        if (!display || display === 'none') {{\n",
       "            console.log([gd, 'removed!']);\n",
       "            Plotly.purge(gd);\n",
       "            observer.disconnect();\n",
       "        }}\n",
       "}});\n",
       "\n",
       "// Listen for the removal of the full notebook cells\n",
       "var notebookContainer = gd.closest('#notebook-container');\n",
       "if (notebookContainer) {{\n",
       "    x.observe(notebookContainer, {childList: true});\n",
       "}}\n",
       "\n",
       "// Listen for the clearing of the current output cell\n",
       "var outputEl = gd.closest('.output');\n",
       "if (outputEl) {{\n",
       "    x.observe(outputEl, {childList: true});\n",
       "}}\n",
       "\n",
       "                        })                };                });            </script>        </div>"
      ]
     },
     "metadata": {},
     "output_type": "display_data"
    }
   ],
   "source": [
    "fig = px.density_heatmap(data_frame=customer_acquisition_df,\n",
    "                         x=\"City\",\n",
    "                         y=\"Age\")\n",
    "fig.show()"
   ]
  },
  {
   "cell_type": "code",
   "execution_count": 30,
   "metadata": {
    "colab": {
     "base_uri": "https://localhost:8080/",
     "height": 206
    },
    "executionInfo": {
     "elapsed": 178,
     "status": "ok",
     "timestamp": 1627853777736,
     "user": {
      "displayName": "Filipa Peleja",
      "photoUrl": "https://lh3.googleusercontent.com/a-/AOh14GhszTFoTfss30HXvgh6Cb51DPt2cGYvQ05kK0BdSA=s64",
      "userId": "09648315126991333382"
     },
     "user_tz": -120
    },
    "id": "Dhv0RSsXo_RP",
    "outputId": "0d436f02-e691-4f7e-a03d-98c824d4b512"
   },
   "outputs": [
    {
     "data": {
      "text/html": [
       "<div>\n",
       "<style scoped>\n",
       "    .dataframe tbody tr th:only-of-type {\n",
       "        vertical-align: middle;\n",
       "    }\n",
       "\n",
       "    .dataframe tbody tr th {\n",
       "        vertical-align: top;\n",
       "    }\n",
       "\n",
       "    .dataframe thead th {\n",
       "        text-align: right;\n",
       "    }\n",
       "</style>\n",
       "<table border=\"1\" class=\"dataframe\">\n",
       "  <thead>\n",
       "    <tr style=\"text-align: right;\">\n",
       "      <th></th>\n",
       "      <th>Sl No:</th>\n",
       "      <th>Customer</th>\n",
       "      <th>Month</th>\n",
       "      <th>Type</th>\n",
       "      <th>Amount</th>\n",
       "    </tr>\n",
       "  </thead>\n",
       "  <tbody>\n",
       "    <tr>\n",
       "      <th>0</th>\n",
       "      <td>1</td>\n",
       "      <td>A1</td>\n",
       "      <td>2004-01-12</td>\n",
       "      <td>JEWELLERY</td>\n",
       "      <td>485470.80</td>\n",
       "    </tr>\n",
       "    <tr>\n",
       "      <th>1</th>\n",
       "      <td>2</td>\n",
       "      <td>A1</td>\n",
       "      <td>2004-01-03</td>\n",
       "      <td>PETRO</td>\n",
       "      <td>410556.13</td>\n",
       "    </tr>\n",
       "    <tr>\n",
       "      <th>2</th>\n",
       "      <td>3</td>\n",
       "      <td>A1</td>\n",
       "      <td>2004-01-15</td>\n",
       "      <td>CLOTHES</td>\n",
       "      <td>23740.46</td>\n",
       "    </tr>\n",
       "    <tr>\n",
       "      <th>3</th>\n",
       "      <td>4</td>\n",
       "      <td>A1</td>\n",
       "      <td>2004-01-25</td>\n",
       "      <td>FOOD</td>\n",
       "      <td>484342.47</td>\n",
       "    </tr>\n",
       "    <tr>\n",
       "      <th>4</th>\n",
       "      <td>5</td>\n",
       "      <td>A1</td>\n",
       "      <td>2005-01-17</td>\n",
       "      <td>CAMERA</td>\n",
       "      <td>369694.07</td>\n",
       "    </tr>\n",
       "  </tbody>\n",
       "</table>\n",
       "</div>"
      ],
      "text/plain": [
       "   Sl No: Customer      Month       Type     Amount\n",
       "0       1       A1 2004-01-12  JEWELLERY  485470.80\n",
       "1       2       A1 2004-01-03      PETRO  410556.13\n",
       "2       3       A1 2004-01-15    CLOTHES   23740.46\n",
       "3       4       A1 2004-01-25       FOOD  484342.47\n",
       "4       5       A1 2005-01-17     CAMERA  369694.07"
      ]
     },
     "execution_count": 30,
     "metadata": {},
     "output_type": "execute_result"
    }
   ],
   "source": [
    "spend_df.head()"
   ]
  },
  {
   "cell_type": "code",
   "execution_count": 31,
   "metadata": {
    "colab": {
     "base_uri": "https://localhost:8080/",
     "height": 542
    },
    "executionInfo": {
     "elapsed": 674,
     "status": "ok",
     "timestamp": 1627853795485,
     "user": {
      "displayName": "Filipa Peleja",
      "photoUrl": "https://lh3.googleusercontent.com/a-/AOh14GhszTFoTfss30HXvgh6Cb51DPt2cGYvQ05kK0BdSA=s64",
      "userId": "09648315126991333382"
     },
     "user_tz": -120
    },
    "id": "8WnJabtdpWfF",
    "outputId": "3a28f066-f4ab-4eb2-e26b-c33807d24ed5"
   },
   "outputs": [
    {
     "data": {
      "application/vnd.plotly.v1+json": {
       "config": {
        "plotlyServerURL": "https://plot.ly"
       },
       "data": [
        {
         "coloraxis": "coloraxis",
         "hovertemplate": "Type=%{x}<br>Amount=%{y}<br>count=%{z}<extra></extra>",
         "name": "",
         "type": "histogram2d",
         "x": [
          "JEWELLERY",
          "PETRO",
          "CLOTHES",
          "FOOD",
          "CAMERA",
          "SANDALS",
          "CAR",
          "BIKE",
          "AUTO",
          "SHOPPING",
          "AIR TICKET",
          "BUS TICKET",
          "TRAIN TICKET",
          "RENTAL",
          "MOVIE TICKET",
          "JEWELLERY",
          "PETRO",
          "CLOTHES",
          "FOOD",
          "JEWELLERY",
          "PETRO",
          "CLOTHES",
          "FOOD",
          "CAMERA",
          "SANDALS",
          "CAR",
          "BIKE",
          "AUTO",
          "SHOPPING",
          "AIR TICKET",
          "BUS TICKET",
          "TRAIN TICKET",
          "RENTAL",
          "MOVIE TICKET",
          "CAMERA",
          "SANDALS",
          "CAR",
          "BIKE",
          "AUTO",
          "SHOPPING",
          "AIR TICKET",
          "BUS TICKET",
          "TRAIN TICKET",
          "RENTAL",
          "MOVIE TICKET",
          "JEWELLERY",
          "PETRO",
          "CLOTHES",
          "FOOD",
          "CAMERA",
          "SANDALS",
          "CAR",
          "BIKE",
          "AUTO",
          "SHOPPING",
          "AIR TICKET",
          "BUS TICKET",
          "TRAIN TICKET",
          "RENTAL",
          "MOVIE TICKET",
          "JEWELLERY",
          "PETRO",
          "CLOTHES",
          "FOOD",
          "CAMERA",
          "SANDALS",
          "CAR",
          "BIKE",
          "AUTO",
          "SHOPPING",
          "AIR TICKET",
          "AIR TICKET",
          "AIR TICKET",
          "AIR TICKET",
          "AIR TICKET",
          "AIR TICKET",
          "AIR TICKET",
          "AIR TICKET",
          "AIR TICKET",
          "CAMERA",
          "SANDALS",
          "CAR",
          "BIKE",
          "AUTO",
          "SHOPPING",
          "AIR TICKET",
          "BUS TICKET",
          "TRAIN TICKET",
          "RENTAL",
          "MOVIE TICKET",
          "JEWELLERY",
          "PETRO",
          "CLOTHES",
          "FOOD",
          "CAMERA",
          "SANDALS",
          "CAR",
          "BIKE",
          "AUTO",
          "SHOPPING",
          "AIR TICKET",
          "BUS TICKET",
          "TRAIN TICKET",
          "RENTAL",
          "MOVIE TICKET",
          "JEWELLERY",
          "PETRO",
          "CLOTHES",
          "FOOD",
          "CAMERA",
          "CAMERA",
          "CAMERA",
          "CAMERA",
          "CAMERA",
          "SHOPPING",
          "AIR TICKET",
          "BUS TICKET",
          "TRAIN TICKET",
          "TRAIN TICKET",
          "TRAIN TICKET",
          "TRAIN TICKET",
          "TRAIN TICKET",
          "TRAIN TICKET",
          "TRAIN TICKET",
          "CAMERA",
          "SANDALS",
          "CAR",
          "BIKE",
          "AUTO",
          "SHOPPING",
          "AIR TICKET",
          "BUS TICKET",
          "TRAIN TICKET",
          "RENTAL",
          "MOVIE TICKET",
          "JEWELLERY",
          "PETRO",
          "PETRO",
          "PETRO",
          "PETRO",
          "PETRO",
          "PETRO",
          "PETRO",
          "PETRO",
          "PETRO",
          "PETRO",
          "PETRO",
          "PETRO",
          "PETRO",
          "MOVIE TICKET",
          "CAMERA",
          "CAMERA",
          "CAMERA",
          "SHOPPING",
          "AIR TICKET",
          "BUS TICKET",
          "TRAIN TICKET",
          "RENTAL",
          "MOVIE TICKET",
          "JEWELLERY",
          "PETRO",
          "CLOTHES",
          "FOOD",
          "CAMERA",
          "SANDALS",
          "CAR",
          "BIKE",
          "AUTO",
          "SHOPPING",
          "AIR TICKET",
          "BUS TICKET",
          "TRAIN TICKET",
          "RENTAL",
          "MOVIE TICKET",
          "JEWELLERY",
          "PETRO",
          "CLOTHES",
          "FOOD",
          "FOOD",
          "FOOD",
          "FOOD",
          "FOOD",
          "FOOD",
          "FOOD",
          "FOOD",
          "FOOD",
          "FOOD",
          "FOOD",
          "FOOD",
          "FOOD",
          "FOOD",
          "FOOD",
          "FOOD",
          "FOOD",
          "FOOD",
          "FOOD",
          "FOOD",
          "SHOPPING",
          "AIR TICKET",
          "BUS TICKET",
          "TRAIN TICKET",
          "RENTAL",
          "MOVIE TICKET",
          "JEWELLERY",
          "PETRO",
          "CLOTHES",
          "FOOD",
          "CAMERA",
          "CAMERA",
          "CAMERA",
          "CAMERA",
          "SHOPPING",
          "AIR TICKET",
          "BUS TICKET",
          "TRAIN TICKET",
          "RENTAL",
          "MOVIE TICKET",
          "JEWELLERY",
          "PETRO",
          "CLOTHES",
          "CLOTHES",
          "CLOTHES",
          "CLOTHES",
          "CLOTHES",
          "CLOTHES",
          "CLOTHES",
          "CLOTHES",
          "CLOTHES",
          "CLOTHES",
          "CLOTHES",
          "CLOTHES",
          "CLOTHES",
          "CLOTHES",
          "CLOTHES",
          "CLOTHES",
          "CLOTHES",
          "CAMERA",
          "CAMERA",
          "CAMERA",
          "CAMERA",
          "SHOPPING",
          "AIR TICKET",
          "BUS TICKET",
          "TRAIN TICKET",
          "RENTAL",
          "MOVIE TICKET",
          "JEWELLERY",
          "PETRO",
          "PETRO",
          "PETRO",
          "PETRO",
          "PETRO",
          "PETRO",
          "PETRO",
          "PETRO",
          "PETRO",
          "PETRO",
          "PETRO",
          "PETRO",
          "PETRO",
          "PETRO",
          "PETRO",
          "PETRO",
          "CLOTHES",
          "FOOD",
          "CAMERA",
          "CAMERA",
          "CAMERA",
          "CAMERA",
          "SHOPPING",
          "AIR TICKET",
          "AIR TICKET",
          "AIR TICKET",
          "AIR TICKET",
          "AIR TICKET",
          "AIR TICKET",
          "AIR TICKET",
          "AIR TICKET",
          "AIR TICKET",
          "AIR TICKET",
          "AIR TICKET",
          "CAR",
          "BIKE",
          "AUTO",
          "SHOPPING",
          "AIR TICKET",
          "BUS TICKET",
          "TRAIN TICKET",
          "RENTAL",
          "MOVIE TICKET",
          "JEWELLERY",
          "PETRO",
          "CLOTHES",
          "FOOD",
          "CAMERA",
          "CAMERA",
          "CAMERA",
          "CAMERA",
          "CAMERA",
          "CAMERA",
          "CAMERA",
          "CAMERA",
          "CAMERA",
          "CAMERA",
          "CAMERA",
          "CAMERA",
          "CLOTHES",
          "FOOD",
          "CAMERA",
          "SANDALS",
          "CAR",
          "BIKE",
          "AUTO",
          "SHOPPING",
          "AIR TICKET",
          "BUS TICKET",
          "TRAIN TICKET",
          "RENTAL",
          "MOVIE TICKET",
          "JEWELLERY",
          "PETRO",
          "CLOTHES",
          "FOOD",
          "FOOD",
          "FOOD",
          "FOOD",
          "FOOD",
          "FOOD",
          "FOOD",
          "BUS TICKET",
          "TRAIN TICKET",
          "RENTAL",
          "MOVIE TICKET",
          "JEWELLERY",
          "PETRO",
          "CLOTHES",
          "FOOD",
          "CAMERA",
          "SANDALS",
          "CAR",
          "BIKE",
          "AUTO",
          "SHOPPING",
          "AIR TICKET",
          "BUS TICKET",
          "TRAIN TICKET",
          "RENTAL",
          "MOVIE TICKET",
          "JEWELLERY",
          "PETRO",
          "CLOTHES",
          "FOOD",
          "CAMERA",
          "CAMERA",
          "CAMERA",
          "CAMERA",
          "SHOPPING",
          "AIR TICKET",
          "BUS TICKET",
          "TRAIN TICKET",
          "RENTAL",
          "MOVIE TICKET",
          "JEWELLERY",
          "PETRO",
          "CLOTHES",
          "FOOD",
          "FOOD",
          "FOOD",
          "FOOD",
          "FOOD",
          "FOOD",
          "FOOD",
          "FOOD",
          "FOOD",
          "FOOD",
          "FOOD",
          "FOOD",
          "JEWELLERY",
          "PETRO",
          "CLOTHES",
          "FOOD",
          "CAMERA",
          "BIKE",
          "AUTO",
          "SHOPPING",
          "AIR TICKET",
          "BUS TICKET",
          "TRAIN TICKET",
          "RENTAL",
          "MOVIE TICKET",
          "JEWELLERY",
          "PETRO",
          "PETRO",
          "PETRO",
          "PETRO",
          "PETRO",
          "PETRO",
          "PETRO",
          "PETRO",
          "PETRO",
          "PETRO",
          "PETRO",
          "RENTAL",
          "MOVIE TICKET",
          "JEWELLERY",
          "PETRO",
          "CLOTHES",
          "FOOD",
          "CAMERA",
          "SANDALS",
          "CAR",
          "BIKE",
          "AUTO",
          "SHOPPING",
          "AIR TICKET",
          "BUS TICKET",
          "TRAIN TICKET",
          "RENTAL",
          "MOVIE TICKET",
          "JEWELLERY",
          "PETRO",
          "CLOTHES",
          "FOOD",
          "CAMERA",
          "CAMERA",
          "CAMERA",
          "CAMERA",
          "SHOPPING",
          "AIR TICKET",
          "BUS TICKET",
          "TRAIN TICKET",
          "RENTAL",
          "MOVIE TICKET",
          "JEWELLERY",
          "PETRO",
          "CLOTHES",
          "FOOD",
          "CAMERA",
          "SANDALS",
          "CAR",
          "BIKE",
          "AUTO",
          "SHOPPING",
          "AIR TICKET",
          "BUS TICKET",
          "TRAIN TICKET",
          "TRAIN TICKET",
          "TRAIN TICKET",
          "TRAIN TICKET",
          "TRAIN TICKET",
          "TRAIN TICKET",
          "TRAIN TICKET",
          "TRAIN TICKET",
          "TRAIN TICKET",
          "TRAIN TICKET",
          "TRAIN TICKET",
          "TRAIN TICKET",
          "TRAIN TICKET",
          "TRAIN TICKET",
          "TRAIN TICKET",
          "TRAIN TICKET",
          "TRAIN TICKET",
          "TRAIN TICKET",
          "TRAIN TICKET",
          "TRAIN TICKET",
          "TRAIN TICKET",
          "TRAIN TICKET",
          "TRAIN TICKET",
          "TRAIN TICKET",
          "TRAIN TICKET",
          "TRAIN TICKET",
          "TRAIN TICKET",
          "AIR TICKET",
          "AIR TICKET",
          "AIR TICKET",
          "AIR TICKET",
          "AIR TICKET",
          "AIR TICKET",
          "AIR TICKET",
          "AIR TICKET",
          "AIR TICKET",
          "AIR TICKET",
          "CAMERA",
          "CAMERA",
          "CAMERA",
          "SHOPPING",
          "AIR TICKET",
          "BUS TICKET",
          "TRAIN TICKET",
          "RENTAL",
          "MOVIE TICKET",
          "BIKE",
          "AUTO",
          "SHOPPING",
          "AIR TICKET",
          "BUS TICKET",
          "TRAIN TICKET",
          "RENTAL",
          "MOVIE TICKET",
          "JEWELLERY",
          "PETRO",
          "CLOTHES",
          "FOOD",
          "CAMERA",
          "CAMERA",
          "CAMERA",
          "CAMERA",
          "SHOPPING",
          "AIR TICKET",
          "BUS TICKET",
          "TRAIN TICKET",
          "TRAIN TICKET",
          "TRAIN TICKET",
          "TRAIN TICKET",
          "TRAIN TICKET",
          "TRAIN TICKET",
          "TRAIN TICKET",
          "TRAIN TICKET",
          "TRAIN TICKET",
          "TRAIN TICKET",
          "TRAIN TICKET",
          "AUTO",
          "SHOPPING",
          "AIR TICKET",
          "BUS TICKET",
          "TRAIN TICKET",
          "RENTAL",
          "MOVIE TICKET",
          "JEWELLERY",
          "PETRO",
          "CLOTHES",
          "FOOD",
          "CAMERA",
          "CAMERA",
          "CAMERA",
          "CAMERA",
          "SHOPPING",
          "AIR TICKET",
          "BUS TICKET",
          "TRAIN TICKET",
          "RENTAL",
          "MOVIE TICKET",
          "JEWELLERY",
          "PETRO",
          "PETRO",
          "PETRO",
          "PETRO",
          "PETRO",
          "PETRO",
          "PETRO",
          "PETRO",
          "PETRO",
          "PETRO",
          "PETRO",
          "PETRO",
          "PETRO",
          "PETRO",
          "PETRO",
          "PETRO",
          "PETRO",
          "PETRO",
          "PETRO",
          "PETRO",
          "PETRO",
          "PETRO",
          "PETRO",
          "AIR TICKET",
          "BUS TICKET",
          "TRAIN TICKET",
          "RENTAL",
          "MOVIE TICKET",
          "JEWELLERY",
          "PETRO",
          "CLOTHES",
          "FOOD",
          "CAMERA",
          "SANDALS",
          "CAR",
          "BIKE",
          "AUTO",
          "SHOPPING",
          "AIR TICKET",
          "BUS TICKET",
          "TRAIN TICKET",
          "RENTAL",
          "MOVIE TICKET",
          "JEWELLERY",
          "PETRO",
          "CLOTHES",
          "FOOD",
          "CAMERA",
          "CAMERA",
          "CAMERA",
          "CAMERA",
          "SHOPPING",
          "AIR TICKET",
          "BUS TICKET",
          "TRAIN TICKET",
          "RENTAL",
          "MOVIE TICKET",
          "BIKE",
          "AUTO",
          "SHOPPING",
          "AIR TICKET",
          "BUS TICKET",
          "TRAIN TICKET",
          "TRAIN TICKET",
          "TRAIN TICKET",
          "TRAIN TICKET",
          "TRAIN TICKET",
          "TRAIN TICKET",
          "TRAIN TICKET",
          "TRAIN TICKET",
          "CAMERA",
          "CAMERA",
          "CAMERA",
          "SHOPPING",
          "AIR TICKET",
          "BUS TICKET",
          "TRAIN TICKET",
          "RENTAL",
          "MOVIE TICKET",
          "JEWELLERY",
          "PETRO",
          "CLOTHES",
          "FOOD",
          "CAMERA",
          "SANDALS",
          "CAR",
          "BIKE",
          "AUTO",
          "SHOPPING",
          "AIR TICKET",
          "AIR TICKET",
          "AIR TICKET",
          "AIR TICKET",
          "AIR TICKET",
          "AIR TICKET",
          "PETRO",
          "CLOTHES",
          "FOOD",
          "CAMERA",
          "CAMERA",
          "CAMERA",
          "CAMERA",
          "SHOPPING",
          "AIR TICKET",
          "BUS TICKET",
          "TRAIN TICKET",
          "RENTAL",
          "MOVIE TICKET",
          "JEWELLERY",
          "PETRO",
          "CLOTHES",
          "FOOD",
          "CAMERA",
          "SANDALS",
          "CAR",
          "BIKE",
          "AUTO",
          "SHOPPING",
          "AIR TICKET",
          "BUS TICKET",
          "TRAIN TICKET",
          "RENTAL",
          "MOVIE TICKET",
          "JEWELLERY",
          "PETRO",
          "CLOTHES",
          "FOOD",
          "FOOD",
          "FOOD",
          "FOOD",
          "FOOD",
          "FOOD",
          "FOOD",
          "FOOD",
          "FOOD",
          "FOOD",
          "FOOD",
          "FOOD",
          "FOOD",
          "FOOD",
          "FOOD",
          "FOOD",
          "FOOD",
          "FOOD",
          "FOOD",
          "AUTO",
          "SHOPPING",
          "AIR TICKET",
          "BUS TICKET",
          "BUS TICKET",
          "BUS TICKET",
          "BUS TICKET",
          "BUS TICKET",
          "BUS TICKET",
          "CLOTHES",
          "FOOD",
          "CAMERA",
          "CAMERA",
          "CAMERA",
          "CAMERA",
          "SHOPPING",
          "AIR TICKET",
          "BUS TICKET",
          "TRAIN TICKET",
          "RENTAL",
          "MOVIE TICKET",
          "BIKE",
          "AUTO",
          "SHOPPING",
          "AIR TICKET",
          "BUS TICKET",
          "TRAIN TICKET",
          "RENTAL",
          "MOVIE TICKET",
          "JEWELLERY",
          "PETRO",
          "PETRO",
          "PETRO",
          "PETRO",
          "PETRO",
          "PETRO",
          "PETRO",
          "PETRO",
          "PETRO",
          "BUS TICKET",
          "TRAIN TICKET",
          "RENTAL",
          "MOVIE TICKET",
          "JEWELLERY",
          "PETRO",
          "CLOTHES",
          "FOOD",
          "CAMERA",
          "SANDALS",
          "CAR",
          "BIKE",
          "AUTO",
          "SHOPPING",
          "AIR TICKET",
          "BUS TICKET",
          "TRAIN TICKET",
          "RENTAL",
          "MOVIE TICKET",
          "JEWELLERY",
          "PETRO",
          "CLOTHES",
          "FOOD",
          "CAMERA",
          "CAMERA",
          "CAMERA",
          "CAMERA",
          "SHOPPING",
          "SHOPPING",
          "SHOPPING",
          "SHOPPING",
          "SHOPPING",
          "SHOPPING",
          "SHOPPING",
          "SHOPPING",
          "SHOPPING",
          "SHOPPING",
          "SHOPPING",
          "SHOPPING",
          "SHOPPING",
          "SHOPPING",
          "SHOPPING",
          "SHOPPING",
          "SHOPPING",
          "SHOPPING",
          "SHOPPING",
          "SHOPPING",
          "SHOPPING",
          "SHOPPING",
          "SHOPPING",
          "SHOPPING",
          "FOOD",
          "CAMERA",
          "CAMERA",
          "CAMERA",
          "CAMERA",
          "SHOPPING",
          "AIR TICKET",
          "BUS TICKET",
          "TRAIN TICKET",
          "RENTAL",
          "MOVIE TICKET",
          "JEWELLERY",
          "PETRO",
          "CLOTHES",
          "FOOD",
          "FOOD",
          "FOOD",
          "FOOD",
          "FOOD",
          "FOOD",
          "FOOD",
          "FOOD",
          "FOOD",
          "FOOD",
          "FOOD",
          "FOOD",
          "FOOD",
          "FOOD",
          "FOOD",
          "FOOD",
          "FOOD",
          "CAMERA",
          "CAMERA",
          "CAMERA",
          "SHOPPING",
          "AIR TICKET",
          "BUS TICKET",
          "TRAIN TICKET",
          "RENTAL",
          "MOVIE TICKET",
          "BIKE",
          "AUTO",
          "SHOPPING",
          "AIR TICKET",
          "BUS TICKET",
          "TRAIN TICKET",
          "RENTAL",
          "MOVIE TICKET",
          "JEWELLERY",
          "PETRO",
          "CLOTHES",
          "FOOD",
          "FOOD",
          "FOOD",
          "FOOD",
          "FOOD",
          "FOOD",
          "FOOD",
          "FOOD",
          "FOOD",
          "FOOD",
          "FOOD",
          "FOOD",
          "FOOD",
          "PETRO",
          "PETRO",
          "PETRO",
          "PETRO",
          "PETRO",
          "PETRO",
          "PETRO",
          "PETRO",
          "PETRO",
          "PETRO",
          "PETRO",
          "PETRO",
          "PETRO",
          "PETRO",
          "PETRO",
          "PETRO",
          "PETRO",
          "CAMERA",
          "CAMERA",
          "CAMERA",
          "CAMERA",
          "SHOPPING",
          "AIR TICKET",
          "BUS TICKET",
          "TRAIN TICKET",
          "RENTAL",
          "MOVIE TICKET",
          "JEWELLERY",
          "JEWELLERY",
          "JEWELLERY",
          "JEWELLERY",
          "JEWELLERY",
          "JEWELLERY",
          "JEWELLERY",
          "JEWELLERY",
          "JEWELLERY",
          "JEWELLERY",
          "JEWELLERY",
          "JEWELLERY",
          "JEWELLERY",
          "JEWELLERY",
          "JEWELLERY",
          "JEWELLERY",
          "PETRO",
          "CLOTHES",
          "FOOD",
          "CAMERA",
          "CAMERA",
          "CAMERA",
          "CAMERA",
          "SHOPPING",
          "AIR TICKET",
          "BUS TICKET",
          "TRAIN TICKET",
          "RENTAL",
          "MOVIE TICKET",
          "JEWELLERY",
          "PETRO",
          "CLOTHES",
          "FOOD",
          "CAMERA",
          "SANDALS",
          "CAR",
          "BIKE",
          "AUTO",
          "SHOPPING",
          "AIR TICKET",
          "BUS TICKET",
          "TRAIN TICKET",
          "RENTAL",
          "MOVIE TICKET",
          "JEWELLERY",
          "PETRO",
          "CLOTHES",
          "FOOD",
          "CAMERA",
          "CAMERA",
          "CAMERA",
          "CAMERA",
          "SHOPPING",
          "AIR TICKET",
          "BUS TICKET",
          "TRAIN TICKET",
          "RENTAL",
          "MOVIE TICKET",
          "BIKE",
          "AUTO",
          "SHOPPING",
          "AIR TICKET",
          "BUS TICKET",
          "TRAIN TICKET",
          "RENTAL",
          "MOVIE TICKET",
          "JEWELLERY",
          "PETRO",
          "PETRO",
          "PETRO",
          "PETRO",
          "PETRO",
          "PETRO",
          "PETRO",
          "PETRO",
          "PETRO",
          "PETRO",
          "PETRO",
          "PETRO",
          "PETRO",
          "PETRO",
          "PETRO",
          "PETRO",
          "PETRO",
          "CAMERA",
          "SANDALS",
          "CAR",
          "BIKE",
          "AUTO",
          "SHOPPING",
          "SHOPPING",
          "SHOPPING",
          "SHOPPING",
          "SHOPPING",
          "SHOPPING",
          "SHOPPING",
          "SHOPPING",
          "SHOPPING",
          "SHOPPING",
          "SHOPPING",
          "SHOPPING",
          "SHOPPING",
          "SHOPPING",
          "SHOPPING",
          "SHOPPING",
          "SHOPPING",
          "SHOPPING",
          "BUS TICKET",
          "BUS TICKET",
          "BUS TICKET",
          "BUS TICKET",
          "BUS TICKET",
          "BUS TICKET",
          "CAMERA",
          "SANDALS",
          "CAR",
          "BIKE",
          "AUTO",
          "SHOPPING",
          "AIR TICKET",
          "BUS TICKET",
          "TRAIN TICKET",
          "RENTAL",
          "MOVIE TICKET",
          "JEWELLERY",
          "PETRO",
          "CLOTHES",
          "FOOD",
          "CAMERA",
          "CAMERA",
          "CAMERA",
          "CAMERA",
          "SHOPPING",
          "AIR TICKET",
          "BUS TICKET",
          "TRAIN TICKET",
          "RENTAL",
          "MOVIE TICKET",
          "JEWELLERY",
          "PETRO",
          "CLOTHES",
          "FOOD",
          "CAMERA",
          "SANDALS",
          "CAR",
          "BIKE",
          "BIKE",
          "BIKE",
          "BIKE",
          "BIKE",
          "BIKE",
          "BIKE",
          "BIKE",
          "BIKE",
          "BIKE",
          "BIKE",
          "BIKE",
          "CAMERA",
          "CAMERA",
          "CAMERA",
          "CAMERA",
          "SHOPPING",
          "AIR TICKET",
          "BUS TICKET",
          "TRAIN TICKET",
          "RENTAL",
          "MOVIE TICKET",
          "BIKE",
          "AUTO",
          "SHOPPING",
          "AIR TICKET",
          "BUS TICKET",
          "TRAIN TICKET",
          "RENTAL",
          "RENTAL",
          "RENTAL",
          "RENTAL",
          "RENTAL",
          "RENTAL",
          "RENTAL",
          "RENTAL",
          "RENTAL",
          "CAMERA",
          "SHOPPING",
          "AIR TICKET",
          "BUS TICKET",
          "TRAIN TICKET",
          "RENTAL",
          "MOVIE TICKET",
          "JEWELLERY",
          "PETRO",
          "CLOTHES",
          "FOOD",
          "CAMERA",
          "SANDALS",
          "CAR",
          "BIKE",
          "AUTO",
          "SHOPPING",
          "AIR TICKET",
          "BUS TICKET",
          "TRAIN TICKET",
          "RENTAL",
          "MOVIE TICKET",
          "JEWELLERY",
          "PETRO",
          "CLOTHES",
          "FOOD",
          "FOOD",
          "FOOD",
          "FOOD",
          "FOOD",
          "FOOD",
          "FOOD",
          "FOOD",
          "FOOD",
          "FOOD",
          "FOOD",
          "FOOD",
          "FOOD",
          "CLOTHES",
          "FOOD",
          "CAMERA",
          "SANDALS",
          "CAR",
          "BIKE",
          "AUTO",
          "SHOPPING",
          "AIR TICKET",
          "BUS TICKET",
          "TRAIN TICKET",
          "RENTAL",
          "MOVIE TICKET",
          "JEWELLERY",
          "PETRO",
          "CLOTHES",
          "FOOD",
          "CAMERA",
          "CAMERA",
          "CAMERA",
          "CAMERA",
          "SHOPPING",
          "AIR TICKET",
          "BUS TICKET",
          "TRAIN TICKET",
          "RENTAL",
          "MOVIE TICKET",
          "JEWELLERY",
          "PETRO",
          "PETRO",
          "PETRO",
          "PETRO",
          "PETRO",
          "PETRO",
          "PETRO",
          "PETRO",
          "PETRO",
          "PETRO",
          "PETRO",
          "PETRO",
          "RENTAL",
          "MOVIE TICKET",
          "JEWELLERY",
          "PETRO",
          "PETRO",
          "PETRO",
          "PETRO",
          "PETRO",
          "PETRO",
          "PETRO",
          "PETRO",
          "PETRO",
          "PETRO",
          "PETRO",
          "PETRO",
          "PETRO",
          "BIKE",
          "AUTO",
          "SHOPPING",
          "AIR TICKET",
          "BUS TICKET",
          "TRAIN TICKET",
          "RENTAL",
          "MOVIE TICKET",
          "JEWELLERY",
          "PETRO",
          "CLOTHES",
          "FOOD",
          "CAMERA",
          "CAMERA",
          "CAMERA",
          "CAMERA",
          "SHOPPING",
          "AIR TICKET",
          "BUS TICKET",
          "TRAIN TICKET",
          "RENTAL",
          "MOVIE TICKET",
          "JEWELLERY",
          "PETRO",
          "CLOTHES",
          "FOOD",
          "CAMERA",
          "SANDALS",
          "CAR",
          "BIKE",
          "AUTO",
          "SHOPPING",
          "AIR TICKET",
          "BUS TICKET",
          "TRAIN TICKET",
          "RENTAL",
          "MOVIE TICKET",
          "JEWELLERY",
          "PETRO",
          "CLOTHES",
          "FOOD",
          "CAMERA",
          "CAMERA",
          "CAMERA",
          "CAMERA",
          "SHOPPING",
          "AIR TICKET",
          "BUS TICKET",
          "TRAIN TICKET",
          "RENTAL",
          "MOVIE TICKET",
          "JEWELLERY",
          "PETRO",
          "CLOTHES",
          "FOOD",
          "CAMERA",
          "SANDALS",
          "CAR",
          "BIKE",
          "AUTO",
          "SHOPPING",
          "AIR TICKET",
          "BUS TICKET",
          "TRAIN TICKET",
          "RENTAL",
          "MOVIE TICKET",
          "JEWELLERY",
          "PETRO",
          "CLOTHES",
          "FOOD",
          "CAMERA",
          "CAMERA",
          "CAMERA",
          "CAMERA",
          "SHOPPING",
          "AIR TICKET",
          "BUS TICKET",
          "TRAIN TICKET",
          "RENTAL",
          "MOVIE TICKET",
          "JEWELLERY",
          "PETRO",
          "CLOTHES",
          "FOOD",
          "CAMERA",
          "SANDALS",
          "CAR",
          "BIKE",
          "AUTO",
          "SHOPPING",
          "AIR TICKET",
          "AIR TICKET",
          "AIR TICKET",
          "AIR TICKET",
          "AIR TICKET",
          "AIR TICKET",
          "AIR TICKET",
          "AIR TICKET",
          "AIR TICKET",
          "AIR TICKET",
          "AIR TICKET",
          "AIR TICKET",
          "AIR TICKET",
          "AIR TICKET",
          "AIR TICKET",
          "AIR TICKET",
          "AIR TICKET",
          "AIR TICKET",
          "AIR TICKET",
          "AIR TICKET",
          "AIR TICKET",
          "AIR TICKET",
          "AIR TICKET",
          "AIR TICKET",
          "AIR TICKET",
          "AIR TICKET",
          "AIR TICKET",
          "JEWELLERY",
          "PETRO",
          "CLOTHES",
          "FOOD",
          "CAMERA",
          "CAMERA",
          "CAMERA",
          "CAMERA",
          "SHOPPING",
          "AIR TICKET",
          "BUS TICKET",
          "TRAIN TICKET",
          "RENTAL",
          "MOVIE TICKET",
          "JEWELLERY",
          "PETRO",
          "CLOTHES",
          "CLOTHES",
          "CLOTHES",
          "CLOTHES",
          "CLOTHES",
          "CLOTHES",
          "CLOTHES",
          "CLOTHES",
          "CLOTHES",
          "CLOTHES",
          "TRAIN TICKET",
          "RENTAL",
          "MOVIE TICKET",
          "JEWELLERY",
          "PETRO",
          "CLOTHES",
          "FOOD",
          "CAMERA",
          "CAMERA",
          "CAMERA",
          "CAMERA",
          "SHOPPING",
          "AIR TICKET",
          "BUS TICKET",
          "TRAIN TICKET",
          "RENTAL",
          "MOVIE TICKET",
          "JEWELLERY",
          "PETRO",
          "CLOTHES",
          "FOOD",
          "CAMERA",
          "SANDALS",
          "CAR",
          "BIKE",
          "AUTO",
          "SHOPPING",
          "AIR TICKET",
          "BUS TICKET",
          "TRAIN TICKET",
          "TRAIN TICKET",
          "TRAIN TICKET",
          "TRAIN TICKET",
          "TRAIN TICKET",
          "TRAIN TICKET",
          "TRAIN TICKET",
          "TRAIN TICKET",
          "TRAIN TICKET",
          "TRAIN TICKET",
          "TRAIN TICKET",
          "TRAIN TICKET",
          "TRAIN TICKET",
          "TRAIN TICKET",
          "TRAIN TICKET",
          "RENTAL",
          "MOVIE TICKET",
          "JEWELLERY",
          "PETRO",
          "CLOTHES",
          "FOOD",
          "CAMERA",
          "SANDALS",
          "CAR",
          "BIKE",
          "AUTO",
          "SHOPPING",
          "AIR TICKET",
          "BUS TICKET",
          "TRAIN TICKET",
          "RENTAL",
          "MOVIE TICKET",
          "JEWELLERY",
          "PETRO",
          "PETRO",
          "PETRO",
          "PETRO",
          "PETRO",
          "PETRO",
          "PETRO",
          "PETRO",
          "PETRO",
          "PETRO",
          "PETRO",
          "PETRO",
          "PETRO",
          "PETRO",
          "CAR",
          "BIKE",
          "AUTO",
          "SHOPPING",
          "AIR TICKET",
          "BUS TICKET",
          "TRAIN TICKET",
          "RENTAL",
          "MOVIE TICKET",
          "JEWELLERY",
          "PETRO",
          "CLOTHES",
          "CLOTHES",
          "CLOTHES",
          "CLOTHES",
          "CLOTHES",
          "CLOTHES",
          "CLOTHES",
          "CLOTHES",
          "CLOTHES",
          "CLOTHES",
          "CLOTHES",
          "CLOTHES",
          "JEWELLERY",
          "PETRO",
          "CLOTHES",
          "FOOD",
          "FOOD",
          "FOOD",
          "FOOD",
          "FOOD",
          "FOOD",
          "FOOD",
          "FOOD",
          "FOOD",
          "FOOD",
          "RENTAL",
          "MOVIE TICKET",
          "JEWELLERY",
          "PETRO",
          "CLOTHES",
          "FOOD",
          "CAMERA",
          "CAMERA",
          "CAMERA",
          "CAMERA",
          "SHOPPING",
          "AIR TICKET",
          "AIR TICKET",
          "AIR TICKET",
          "AIR TICKET",
          "AIR TICKET",
          "AIR TICKET",
          "AIR TICKET",
          "AIR TICKET",
          "AIR TICKET",
          "AIR TICKET",
          "AIR TICKET",
          "AIR TICKET",
          "AIR TICKET",
          "AIR TICKET",
          "AIR TICKET",
          "AIR TICKET",
          "BUS TICKET",
          "TRAIN TICKET",
          "RENTAL",
          "MOVIE TICKET",
          "JEWELLERY",
          "JEWELLERY",
          "JEWELLERY",
          "JEWELLERY",
          "JEWELLERY",
          "JEWELLERY",
          "JEWELLERY",
          "JEWELLERY",
          "JEWELLERY",
          "JEWELLERY",
          "JEWELLERY",
          "JEWELLERY",
          "JEWELLERY",
          "JEWELLERY",
          "JEWELLERY",
          "JEWELLERY",
          "JEWELLERY",
          "AIR TICKET",
          "BUS TICKET",
          "BUS TICKET",
          "BUS TICKET",
          "BUS TICKET",
          "BUS TICKET",
          "BUS TICKET",
          "BUS TICKET",
          "BUS TICKET",
          "BUS TICKET",
          "BUS TICKET",
          "BUS TICKET",
          "CAMERA",
          "SHOPPING",
          "AIR TICKET",
          "BUS TICKET",
          "TRAIN TICKET",
          "RENTAL",
          "MOVIE TICKET",
          "MOVIE TICKET",
          "MOVIE TICKET",
          "MOVIE TICKET",
          "MOVIE TICKET",
          "MOVIE TICKET",
          "MOVIE TICKET",
          "MOVIE TICKET",
          "MOVIE TICKET",
          "AUTO",
          "SHOPPING",
          "AIR TICKET",
          "BUS TICKET",
          "TRAIN TICKET",
          "RENTAL",
          "MOVIE TICKET",
          "JEWELLERY",
          "PETRO",
          "CLOTHES",
          "FOOD",
          "CAMERA",
          "CAMERA",
          "CAMERA",
          "CAMERA",
          "SHOPPING",
          "AIR TICKET",
          "BUS TICKET",
          "BUS TICKET",
          "BUS TICKET",
          "BUS TICKET",
          "BUS TICKET",
          "BUS TICKET",
          "BUS TICKET",
          "BUS TICKET"
         ],
         "xaxis": "x",
         "xbingroup": "x",
         "y": [
          485470.8,
          410556.13,
          23740.46,
          484342.47,
          369694.07,
          168285.6,
          23370.2,
          155562.58,
          38269.94,
          194795.88,
          307622.01,
          151921.12,
          307940.97,
          9509.6,
          399874.98,
          2845.76,
          457931.43,
          19272.94,
          441442.26,
          356733.48,
          190011.63,
          423672.5,
          390850.96,
          328845.08,
          446040.47,
          6588.51,
          275144.42,
          66432.37,
          18877.48,
          24399.98,
          272112.42,
          126461.49,
          226271.97,
          109129.96,
          156630.14,
          200228.1,
          139814.59,
          376872.51,
          117691.42,
          227791.62,
          359764.34,
          217211.47,
          162417.22,
          188171.64,
          365725.04,
          319538.35,
          193736.65,
          433240.56,
          93689.16,
          315690.47,
          249496.99,
          50877.1,
          395078.96,
          155708.16,
          343548.59,
          22463.65,
          324423,
          252719.43,
          65444.06,
          285128.75,
          246888.98,
          423934.57,
          115354.86,
          73920.68,
          180692.76,
          393513.71,
          177417.81,
          321903.62,
          199744.78,
          9665.48,
          113339.36,
          188959.72,
          116422.06,
          360587.42,
          47380.56,
          216681.9,
          217827.88,
          30066.44,
          31048.93,
          432217.57,
          405913.14,
          474797.3,
          175659.72,
          379401.53,
          177942.07,
          124861.57,
          398873.75,
          166438.62,
          483886.62,
          26518.91,
          24972.02,
          264882.27,
          89951.84,
          341858.87,
          297505.09,
          312714.37,
          240401.5,
          54729.66,
          139018.26,
          284521.06,
          90184.22,
          224786.88,
          440563.22,
          199554.72,
          418202.62,
          273400.75,
          272700.86,
          195373.41,
          210870.21,
          470561.03,
          143855.64,
          240056.14,
          139319.83,
          133441.76,
          172271.16,
          394078.34,
          52208.65,
          376887.49,
          194358.94,
          184352.72,
          125817.82,
          74569.98,
          123765.33,
          113366.26,
          206959.61,
          47866.78,
          173876.16,
          126009.02,
          354503.56,
          461091.85,
          346925.68,
          439648.53,
          94389.66,
          104771.98,
          413858.41,
          130023.62,
          238772.07,
          371894.08,
          108752.51,
          239798.03,
          404113.85,
          479627.87,
          456431.18,
          9819.62,
          183839.61,
          384078.73,
          183707.24,
          31107.95,
          384309.63,
          89467.92,
          22964.17,
          335298.81,
          306526.12,
          118875.68,
          272982.02,
          189763.11,
          240226.29,
          294099.59,
          344372.1,
          117089.16,
          445534.57,
          23040.07,
          230668.23,
          235787.09,
          202045.12,
          248077.43,
          150348.46,
          10615.48,
          294577.34,
          77725.32,
          25860.69,
          108506.2,
          244534.68,
          75728.35,
          491710.5,
          35293.85,
          143057.63,
          102914.5,
          131957.64,
          27596.71,
          15000.55,
          36477.84,
          66306.06,
          24218.26,
          293846.44,
          111896.48,
          155611.91,
          175345.84,
          418516.31,
          466690.74,
          244557.11,
          149094.95,
          30727.68,
          270994.47,
          261113.44,
          74554.87,
          45366.66,
          350004.39,
          460656.56,
          341157.43,
          176372.82,
          367364.53,
          16375.23,
          130804.05,
          399316.12,
          488508.91,
          365615.44,
          219438.79,
          77322.7,
          31496.69,
          59091.19,
          460555.54,
          120263.91,
          425291.52,
          394970.96,
          366519.94,
          368574.41,
          43757.56,
          122573.12,
          18162.3,
          455534.79,
          197893.32,
          14500.38,
          48568.07,
          313864.03,
          214891.01,
          283832.24,
          133659.56,
          476702.09,
          197585.76,
          384693.67,
          181142.29,
          42224.84,
          429780.86,
          149173.49,
          159812.18,
          46333.89,
          270721.68,
          483603.21,
          104548.34,
          440316.95,
          205929.95,
          361141.31,
          369689.78,
          285184.71,
          497348.05,
          161445.71,
          319011.87,
          212275.8,
          37708.16,
          489715.08,
          459690.69,
          472854.21,
          383087.29,
          125216.76,
          84390.34,
          283338.48,
          253033.48,
          108439.47,
          274522.32,
          416832.87,
          387940.9,
          179462.61,
          81201.58,
          249438.28,
          370497.2,
          315252.93,
          148922.42,
          220824.11,
          115488.88,
          167577.01,
          289182.73,
          477615.93,
          261854.22,
          10763.44,
          357943.87,
          305050.62,
          173354.23,
          349086.47,
          454827.23,
          67560.48,
          446841.82,
          28139.06,
          289884.23,
          162080.83,
          405719.84,
          140735.03,
          82720.75,
          317065.31,
          460130.36,
          203505.93,
          32089.03,
          359966.31,
          433956.78,
          314704.54,
          259015.91,
          190192.38,
          281472.15,
          312063.64,
          25824.98,
          77748.47,
          30849.09,
          50155.08,
          391477.9,
          249002.72,
          334432.74,
          445841.52,
          406960.62,
          265164.32,
          271866.51,
          165218.48,
          498734.85,
          498358.28,
          185686.01,
          390506.29,
          211880.15,
          192485.69,
          497770.15,
          358215.28,
          102546.39,
          300895.4,
          105685.17,
          246993.23,
          466922.14,
          410478.96,
          294948.41,
          100501.87,
          370895.27,
          326052.18,
          352326.62,
          461282.47,
          405002.42,
          83927.36,
          498388.88,
          263577.25,
          331227.52,
          106381.38,
          442625.24,
          93032.72,
          435234.62,
          110076.88,
          478891.22,
          243960.25,
          274363.73,
          210648.82,
          8987.04,
          42483.81,
          100962.14,
          165956.43,
          35196.11,
          79149.37,
          239397.51,
          468501.45,
          442439.36,
          275775.47,
          177293.8,
          496915.29,
          100425.24,
          206451.17,
          457364.09,
          266948.51,
          126928.82,
          401959.6,
          417496.52,
          319918.7,
          382311.03,
          471424.21,
          30238.7,
          423809.31,
          242927.78,
          234158.9,
          117920.96,
          405378.23,
          247287.46,
          273207.18,
          332157.16,
          75079.67,
          126931.94,
          221293.03,
          489749.85,
          237335.43,
          368454.1,
          398239.13,
          371251.15,
          218692.79,
          239984.25,
          88817.36,
          348188.74,
          214618.64,
          246029.64,
          200588.13,
          344151.68,
          452425.82,
          106897.2,
          466587.47,
          224361.64,
          243221.98,
          282318.78,
          492311.93,
          273388.83,
          229011.5,
          15151.26,
          156616.01,
          418134.52,
          84974.29,
          439946.6,
          119406.07,
          85707.18,
          393056.28,
          210962.36,
          250577.45,
          397003.51,
          66833.86,
          131176.47,
          331656.4,
          198472.97,
          342428.74,
          8752.13,
          281679.6,
          311908.5,
          199351.04,
          468597.16,
          481870.34,
          366089.04,
          3750.13,
          113443.41,
          11938.81,
          107056.49,
          68610.51,
          433801.8,
          301196.52,
          265755.35,
          87297.77,
          454728.13,
          350791.94,
          362560.44,
          197421.53,
          244467.34,
          228925.08,
          185370.01,
          460150.85,
          141539.79,
          463680.6,
          68519.2,
          240855.67,
          94531.69,
          374791.98,
          425536.83,
          221480.81,
          473984.25,
          305269.62,
          80061.3,
          147422.97,
          427077.54,
          470973.98,
          369725.38,
          127611.72,
          46537.12,
          128905.28,
          380147.4,
          255449.53,
          156836.79,
          467341.95,
          454862.62,
          257904.07,
          221258.92,
          150833.96,
          328899.39,
          285472.35,
          349814.2,
          26965.4,
          443897.57,
          355617.91,
          134345.91,
          177658.85,
          264368.37,
          154259.1,
          128715.82,
          121365,
          299827.43,
          56048.99,
          243748.11,
          240074.15,
          242080.71,
          144899.97,
          354199.11,
          244668.92,
          146556.94,
          439760.73,
          35298.96,
          309591.35,
          402518.16,
          303420.33,
          352918.66,
          173633.94,
          443364.31,
          486794.37,
          319708.92,
          419809.4,
          414285.94,
          86631.41,
          267116.94,
          298389,
          213041.24,
          184771.88,
          84269.28,
          322221.08,
          108883.79,
          375898.65,
          385046.06,
          205987.83,
          415678.79,
          352374.29,
          271961.53,
          162812.94,
          326629.15,
          94325.47,
          202141.07,
          398349.58,
          475849.21,
          446844.83,
          350241.67,
          166127.87,
          304332.65,
          26142.18,
          321996.06,
          258226.14,
          180035.15,
          348056.92,
          40536.92,
          375306.52,
          469890.94,
          386576.93,
          218170.12,
          217223.51,
          42797,
          254686.6,
          474714.13,
          303303.37,
          78523.66,
          41401.91,
          383683.27,
          260909.8,
          85002.75,
          285085.87,
          300820.31,
          305868.49,
          111188.2,
          90922.64,
          361523.06,
          471034.84,
          116750.34,
          278863,
          36965.64,
          176757.27,
          95830.82,
          83322.44,
          209048.7,
          395533.64,
          274440.33,
          401618.63,
          186400.75,
          472065.9,
          496358.65,
          173753.09,
          253518.4,
          273446.21,
          230766.62,
          257300.05,
          14664.26,
          369866.99,
          233184.94,
          418068.11,
          338783.93,
          325317.86,
          268233.08,
          158508.85,
          173566,
          57111.38,
          74647.08,
          457672.04,
          63132.03,
          344430.33,
          243032.21,
          181781.71,
          47758.62,
          277274.22,
          263742.81,
          204785.22,
          3411.29,
          54620.12,
          191424.9,
          411533.34,
          358931.43,
          190016.43,
          182661.18,
          384670.92,
          433833.71,
          15237.44,
          467517.17,
          292011.92,
          419650.32,
          298006.4,
          231938.93,
          224580.2,
          198030.12,
          35327.74,
          43209.23,
          212421.86,
          390356.14,
          26024.81,
          7745.43,
          125328.55,
          480300.25,
          394126.79,
          490544.87,
          80955.58,
          495380.87,
          433938.24,
          97453.58,
          172882.73,
          365289.56,
          159777.48,
          463760.44,
          82968.84,
          450148.29,
          459204.63,
          74094.38,
          244200.96,
          485795.37,
          99353.97,
          85819.67,
          144988.11,
          103998.18,
          226635.78,
          124341.01,
          124053.97,
          18323.16,
          247521.54,
          40475.02,
          30519.76,
          475953.8,
          253857.83,
          237337.83,
          23294.48,
          261692.39,
          97871.07,
          262616.72,
          21684.16,
          225054.24,
          137518.83,
          216864.52,
          138421.11,
          466544.83,
          186372.92,
          287005.59,
          229465.95,
          228125.55,
          167209.08,
          420236.51,
          101106.11,
          286098.09,
          15396.69,
          250251.61,
          186323.02,
          358660.69,
          229296.58,
          266398.58,
          455338.45,
          7215.93,
          361901.35,
          155438.87,
          315972.76,
          344070.77,
          231655.43,
          462854.42,
          81892.36,
          240214.02,
          114221.97,
          129742.89,
          244776.66,
          204502,
          498239.75,
          136751.65,
          251373.69,
          241311.1,
          417226.49,
          60263.41,
          126871.99,
          456924.22,
          372728.16,
          443217.84,
          200964.95,
          73482.96,
          129951.4,
          241188.76,
          426614.08,
          157365.53,
          246951.23,
          140610.03,
          102054.01,
          132168.57,
          206823.3,
          296347.74,
          230322.18,
          73160.06,
          206606.23,
          720.3,
          66243.39,
          199609.77,
          248230.74,
          233589.9,
          65398.35,
          96813.59,
          458678.35,
          300875.97,
          181063.2,
          191356.83,
          192444.32,
          40039.21,
          184196.36,
          356066.71,
          75573.11,
          267131.45,
          491157.84,
          119154.53,
          386104.28,
          237115.63,
          302388.32,
          197038.23,
          264923.52,
          154873.49,
          414605.84,
          176726.17,
          414189.28,
          443887.97,
          386921.68,
          395334.34,
          35500.21,
          48100.54,
          375766.56,
          225983.14,
          417162.64,
          26581.48,
          407739.24,
          324081.7,
          145012.68,
          131174.73,
          141563.54,
          330665.44,
          351400.14,
          411426.41,
          494080.27,
          283770.39,
          282045.39,
          386653.87,
          163616.63,
          301201.09,
          260098.89,
          404163.7,
          349503.46,
          279048,
          80025.92,
          358051.32,
          438791.16,
          67694.98,
          165171.24,
          316103.34,
          165592.71,
          6253.94,
          335390.18,
          286964.08,
          86990.79,
          185013.36,
          353921.93,
          499270,
          490167.49,
          294468.59,
          119462.84,
          177733.11,
          145143.35,
          424045.33,
          193276.02,
          34982.74,
          299401.37,
          493598.56,
          113305.19,
          52465.01,
          209455.48,
          128793.37,
          463993.83,
          182736.3,
          232686.75,
          240514.39,
          29810.73,
          263890.87,
          368599.3,
          23275.87,
          85859.39,
          391870.74,
          496072.76,
          150148.45,
          280245.71,
          403778.62,
          186138.24,
          60304.43,
          43753.68,
          267999.1,
          361272.59,
          294119.36,
          233861.96,
          198756.63,
          49510,
          235659.19,
          223145.13,
          170559.4,
          124640,
          462995.84,
          263854.61,
          25432.18,
          61135.65,
          275438.49,
          169355,
          485008,
          85382.67,
          27775.52,
          279027.95,
          153867.24,
          218106.45,
          307709.66,
          27976.77,
          275556.49,
          355377.41,
          292527.95,
          263480.57,
          7893.31,
          233725.77,
          56057.23,
          9284.48,
          260023.41,
          388917.17,
          317908.41,
          246967.66,
          33232.51,
          407904.49,
          51156.94,
          162465.63,
          498505.03,
          21927.17,
          339194.54,
          371352.88,
          222353.74,
          301277.49,
          144778.97,
          433634.64,
          454644.63,
          133722.6,
          91775.55,
          224627.37,
          111107.26,
          107911.83,
          288144.81,
          34362.04,
          43992.58,
          453509.16,
          2050.46,
          151668.91,
          161573.42,
          19186.72,
          314699.51,
          406928.06,
          345729.19,
          433696.96,
          303466.61,
          69355.05,
          430799.04,
          79291.21,
          305465.61,
          15119.02,
          343726.4,
          93340.75,
          59948.79,
          397203.8,
          354837.8,
          125000.86,
          440358.09,
          446737.37,
          356399.69,
          77428.8,
          414549.6,
          116922.75,
          433536.56,
          113880.35,
          80126.02,
          45776.33,
          67106.22,
          164774.87,
          107131.99,
          113393.97,
          219878.43,
          19535.76,
          376647.18,
          283358.58,
          367328.29,
          245802.04,
          285920.94,
          61353.41,
          354327.81,
          14366.69,
          265848.39,
          62187.18,
          471605.19,
          176437.12,
          336485.62,
          183735.91,
          362301.38,
          122617.61,
          50235.89,
          295174.49,
          304014.76,
          129401.85,
          205957.68,
          472948.31,
          226901.89,
          143938.47,
          363792.42,
          126649.31,
          183569.21,
          65503.17,
          101649.18,
          113200.17,
          51202.64,
          80146.72,
          30320.99,
          92798.13,
          108244.31,
          313971.93,
          338008.71,
          20495.38,
          130672.52,
          320380.04,
          415157.13,
          200640.88,
          138620.27,
          476580.37,
          116596.73,
          19802.37,
          63717.23,
          341861.45,
          424777.36,
          194545.21,
          430388.48,
          179004.8,
          32196.69,
          95884.95,
          284500.68,
          268828.1,
          307106.39,
          440051.52,
          294034.8,
          352119.02,
          450293.71,
          164338.8,
          428879.43,
          492859.63,
          218927.78,
          161855.12,
          426277.52,
          303464.1,
          237308.95,
          209872.62,
          81844.83,
          465597.89,
          204078.13,
          203440.77,
          163076.96,
          404751.72,
          464383.08,
          330806.43,
          342592.96,
          154567.49,
          315666.16,
          146353.74,
          125247.8,
          327551.25,
          480083.72,
          372088.27,
          183749.38,
          182487.8,
          281169.07,
          219484.22,
          120381.64,
          392953.14,
          90834.52,
          135385.11,
          388075.64,
          415876.54,
          103174.87,
          324481.71,
          339582.17,
          99760.02,
          423754.26,
          54611.14,
          50547.17,
          384129.51,
          376349.64,
          377756.6,
          274133.64,
          67738.19,
          324848.19,
          420015.08,
          397479.97,
          206631.21,
          110279.02,
          230675.49,
          332876.9,
          32324.84,
          348426.37,
          284117.93,
          110111.28,
          55927.32,
          31688.89,
          224579.57,
          453314.4,
          226498.33,
          121469.49,
          491753.36,
          290725.04,
          187801.98,
          332536,
          65101.88,
          8168.97,
          147529.24,
          83386.16,
          174828.97,
          215987.8,
          56497.89,
          481580.09,
          426980.66,
          316601.57,
          94838.4,
          283607.25,
          174906.54,
          299701.84,
          460195.99,
          439845.09,
          226412.38,
          77900.29,
          85689.3,
          114900.36,
          403947.27,
          450578.23,
          76038.08,
          407946.59,
          340544.62,
          228660.27,
          34784.32,
          474320.8,
          23181.87,
          482868.15,
          316407.9,
          101223.17,
          498834.63,
          76785.72,
          129802.8,
          243954.19,
          27387.07,
          228739.09,
          465473.69,
          30563.8,
          494568.87,
          129534.9,
          185732.4,
          353502.17,
          105742.96,
          162661.94,
          259198.87,
          320874.38,
          100800.94,
          66602.49,
          433783.86,
          404252.34,
          114273.79,
          8515.14,
          74516.8,
          221086.85,
          60074.98,
          378804.82,
          210344.43,
          274264.14,
          27864.41,
          297279.72,
          19618.01,
          449633.79,
          275748.35,
          117670.21,
          233010.16,
          144440.23,
          113224.52,
          327726.3,
          330733.51,
          477311.41,
          42791.79,
          84003.7,
          407852.39,
          275710.82,
          427931.8,
          130074.01,
          324128.5,
          332435.42,
          206593.28,
          35700.4,
          260128.03,
          135514.74,
          126813.36,
          161515.46,
          252266.14,
          147107.51,
          113481.37,
          240102.81,
          280150.49,
          370493.15,
          346706.78,
          352324.46,
          49398.99,
          364650.99,
          340371.19,
          447626.66,
          331240.94,
          363233.83,
          250272.23,
          239023.21,
          268536.95,
          441375.6,
          972.66,
          466143.7,
          91321.57,
          422086.33,
          44439.64,
          255916.9,
          74702.68,
          64615.46,
          131096.88,
          223902.41,
          175283.18,
          177739.28,
          187052.06,
          278131.32,
          189714.74,
          40531.37,
          488399.04,
          425083.22,
          70329.95,
          156247.17,
          13756.3,
          167643.95,
          246626.36,
          187831.62,
          147299.1,
          153892.1,
          351215.4,
          332077.43,
          462544.44,
          235526.84,
          226426.44,
          239709.3,
          490796.93,
          309443.8,
          321649.02,
          399124.6,
          115314.35,
          423533.99,
          395743.23,
          207519.72,
          20190.85,
          166890.16,
          8973.11,
          12330.03,
          197099.53,
          199062.97,
          410461.33,
          333764.18,
          55929.85,
          153475.34,
          389454,
          452806.53,
          214953.66,
          211848.96,
          293918.67,
          213221.11,
          392677.26,
          299214.61,
          341536.68,
          274060.46,
          452489.19,
          430315.13,
          285659.5,
          296594.65,
          172171.32,
          363995.73,
          241139.52,
          48389.14,
          167204.15,
          28569.09,
          202133.43,
          403456.53,
          260844.61,
          307330.8,
          355052.9,
          122119.9,
          127432.64,
          481587.27,
          149750.73,
          400882.5,
          274686.56,
          305955.6,
          237635.09,
          316196.2,
          347019.23,
          222806.33,
          119232.67,
          87633.92,
          136185.87,
          197783.17,
          367109.58,
          186647.63,
          326633.49,
          425029.19,
          461242.82,
          248061.75,
          444175.51,
          411196.65,
          403772.02,
          110234.83,
          378836.14,
          339077.11,
          313351.15,
          58911.72,
          193549.19,
          450935.8,
          497368.07,
          390003.19,
          194262,
          365270.93,
          312826.1,
          290446.41,
          268099.23,
          152889.45,
          70049.12,
          185913.62,
          223294.32,
          140330.7,
          65578.12,
          376503.24,
          143916.94,
          83976.45,
          8806.98,
          140018.81,
          7553.18,
          191003.23,
          380701.19,
          34763.1,
          431106.59,
          334520.52,
          338487.58,
          178238.22,
          431043.38,
          161266.69,
          412896.35,
          474957.29,
          19910.49,
          79949.77,
          148214.1,
          268335.38,
          26620.47,
          451093.63,
          36566.43,
          360832.43,
          402971.3,
          360275.66,
          240838.12,
          304227.82,
          457306.26,
          60184.03,
          122304.99,
          446363.89,
          259755.18,
          264508.2,
          467881.05,
          80959.08,
          325305.43,
          308092.12,
          230134.29,
          485688.73,
          313374.22,
          213228.84,
          494457.44,
          244092.6,
          194695.72,
          199186.44,
          281284.63,
          176363.47,
          454349.36,
          396858.13,
          445859.26,
          403777.74,
          361346.18,
          78835.86,
          325716.97,
          447673.43,
          152794.71,
          472337.13,
          349764.68,
          191608.25,
          6445.55,
          53951.61,
          300960.46,
          330132.62,
          89297.76,
          360016.22,
          327690.67,
          67583.69,
          89571.94,
          336196.48,
          63888.88,
          108824.87,
          416430.15,
          249003.25,
          245152.21,
          342976.2,
          381428.67,
          447530.58,
          452028.03,
          388063.32,
          282168.93,
          16782.6,
          408892.04,
          44387.34,
          412599.88,
          398772.94,
          129309.31,
          488800.78,
          75620.93,
          348851.17,
          147669.99,
          393767.3,
          344405.24,
          388218.55,
          258540.55,
          189462.58,
          194148.58,
          191971.9,
          489352.86,
          110241.42,
          155278.41,
          496185.13,
          226224.39,
          113117.61,
          209639.64,
          379105.49,
          196457.74,
          62914.03,
          30614.56,
          126283.33,
          285498.52,
          8391.95,
          53750.45,
          467923.97,
          250483.5,
          204066.99,
          302730.7,
          78453.76,
          250480.13,
          313591.17,
          210905.85,
          53907.13,
          499793.49,
          124515.22,
          104533.09,
          285724.8,
          442353.98,
          290123.86,
          389005.53,
          91140.13,
          490040.9,
          276525.82,
          129110.67,
          348861.19,
          67835.3,
          167160.18,
          151908.02,
          153147.63,
          111315.17,
          54486.22,
          418646.15,
          31471.75,
          338873.06,
          416672.65,
          236231.22,
          147603.88,
          84931.16,
          458181.61,
          150962.18,
          395544.28,
          107439.53,
          321181.13,
          268465.71,
          144163.36,
          429836.26,
          443043.39,
          313571,
          461071.15,
          98748.94,
          456080.65,
          316155.21,
          162490.62,
          392868.39,
          495771.8,
          262521.84,
          3313.37,
          4977.49,
          443356.07,
          159734.23,
          229724.45,
          111152.18,
          397634.72,
          211569.74,
          376766.34,
          42447.06,
          445304.14,
          132133.11,
          219556.74,
          298900.61,
          468872.11,
          51935.69,
          218304.93,
          496680.91,
          333534.98,
          144892.7,
          91769.02,
          129641.87,
          139648.2,
          192843.3,
          110809.17,
          116195.53,
          62814.73,
          240006.76,
          474907.71,
          487680.73,
          316498.85,
          379397.99,
          186080.25,
          377131.64,
          346942.78,
          465683.38,
          388061.14,
          482512.25,
          338275.82,
          138408.27,
          417365.17,
          182523.86,
          42313.6,
          443959.84,
          139519.21,
          293023.11,
          377531.79,
          251942.06,
          82299.94,
          21787.94,
          258132.93,
          85235.64,
          292020.54,
          15199.55,
          327358.8,
          92101.32,
          163775.96,
          43493.07,
          273977.69,
          294180.68,
          209649.02,
          8682.98,
          481412.75,
          223628.27,
          179402.44,
          383742.74,
          181115.2,
          240648.48,
          393623.57,
          384933.82,
          90754.27,
          333488.91,
          244678.86,
          468684.01,
          98178.42,
          162670.43,
          356872.73,
          204971.1,
          50449.44,
          80593.94,
          194447.62
         ],
         "yaxis": "y",
         "ybingroup": "y"
        }
       ],
       "layout": {
        "coloraxis": {
         "colorbar": {
          "title": {
           "text": "count"
          }
         },
         "colorscale": [
          [
           0,
           "#0d0887"
          ],
          [
           0.1111111111111111,
           "#46039f"
          ],
          [
           0.2222222222222222,
           "#7201a8"
          ],
          [
           0.3333333333333333,
           "#9c179e"
          ],
          [
           0.4444444444444444,
           "#bd3786"
          ],
          [
           0.5555555555555556,
           "#d8576b"
          ],
          [
           0.6666666666666666,
           "#ed7953"
          ],
          [
           0.7777777777777778,
           "#fb9f3a"
          ],
          [
           0.8888888888888888,
           "#fdca26"
          ],
          [
           1,
           "#f0f921"
          ]
         ]
        },
        "legend": {
         "tracegroupgap": 0
        },
        "margin": {
         "t": 60
        },
        "template": {
         "data": {
          "bar": [
           {
            "error_x": {
             "color": "#2a3f5f"
            },
            "error_y": {
             "color": "#2a3f5f"
            },
            "marker": {
             "line": {
              "color": "#E5ECF6",
              "width": 0.5
             },
             "pattern": {
              "fillmode": "overlay",
              "size": 10,
              "solidity": 0.2
             }
            },
            "type": "bar"
           }
          ],
          "barpolar": [
           {
            "marker": {
             "line": {
              "color": "#E5ECF6",
              "width": 0.5
             },
             "pattern": {
              "fillmode": "overlay",
              "size": 10,
              "solidity": 0.2
             }
            },
            "type": "barpolar"
           }
          ],
          "carpet": [
           {
            "aaxis": {
             "endlinecolor": "#2a3f5f",
             "gridcolor": "white",
             "linecolor": "white",
             "minorgridcolor": "white",
             "startlinecolor": "#2a3f5f"
            },
            "baxis": {
             "endlinecolor": "#2a3f5f",
             "gridcolor": "white",
             "linecolor": "white",
             "minorgridcolor": "white",
             "startlinecolor": "#2a3f5f"
            },
            "type": "carpet"
           }
          ],
          "choropleth": [
           {
            "colorbar": {
             "outlinewidth": 0,
             "ticks": ""
            },
            "type": "choropleth"
           }
          ],
          "contour": [
           {
            "colorbar": {
             "outlinewidth": 0,
             "ticks": ""
            },
            "colorscale": [
             [
              0,
              "#0d0887"
             ],
             [
              0.1111111111111111,
              "#46039f"
             ],
             [
              0.2222222222222222,
              "#7201a8"
             ],
             [
              0.3333333333333333,
              "#9c179e"
             ],
             [
              0.4444444444444444,
              "#bd3786"
             ],
             [
              0.5555555555555556,
              "#d8576b"
             ],
             [
              0.6666666666666666,
              "#ed7953"
             ],
             [
              0.7777777777777778,
              "#fb9f3a"
             ],
             [
              0.8888888888888888,
              "#fdca26"
             ],
             [
              1,
              "#f0f921"
             ]
            ],
            "type": "contour"
           }
          ],
          "contourcarpet": [
           {
            "colorbar": {
             "outlinewidth": 0,
             "ticks": ""
            },
            "type": "contourcarpet"
           }
          ],
          "heatmap": [
           {
            "colorbar": {
             "outlinewidth": 0,
             "ticks": ""
            },
            "colorscale": [
             [
              0,
              "#0d0887"
             ],
             [
              0.1111111111111111,
              "#46039f"
             ],
             [
              0.2222222222222222,
              "#7201a8"
             ],
             [
              0.3333333333333333,
              "#9c179e"
             ],
             [
              0.4444444444444444,
              "#bd3786"
             ],
             [
              0.5555555555555556,
              "#d8576b"
             ],
             [
              0.6666666666666666,
              "#ed7953"
             ],
             [
              0.7777777777777778,
              "#fb9f3a"
             ],
             [
              0.8888888888888888,
              "#fdca26"
             ],
             [
              1,
              "#f0f921"
             ]
            ],
            "type": "heatmap"
           }
          ],
          "heatmapgl": [
           {
            "colorbar": {
             "outlinewidth": 0,
             "ticks": ""
            },
            "colorscale": [
             [
              0,
              "#0d0887"
             ],
             [
              0.1111111111111111,
              "#46039f"
             ],
             [
              0.2222222222222222,
              "#7201a8"
             ],
             [
              0.3333333333333333,
              "#9c179e"
             ],
             [
              0.4444444444444444,
              "#bd3786"
             ],
             [
              0.5555555555555556,
              "#d8576b"
             ],
             [
              0.6666666666666666,
              "#ed7953"
             ],
             [
              0.7777777777777778,
              "#fb9f3a"
             ],
             [
              0.8888888888888888,
              "#fdca26"
             ],
             [
              1,
              "#f0f921"
             ]
            ],
            "type": "heatmapgl"
           }
          ],
          "histogram": [
           {
            "marker": {
             "pattern": {
              "fillmode": "overlay",
              "size": 10,
              "solidity": 0.2
             }
            },
            "type": "histogram"
           }
          ],
          "histogram2d": [
           {
            "colorbar": {
             "outlinewidth": 0,
             "ticks": ""
            },
            "colorscale": [
             [
              0,
              "#0d0887"
             ],
             [
              0.1111111111111111,
              "#46039f"
             ],
             [
              0.2222222222222222,
              "#7201a8"
             ],
             [
              0.3333333333333333,
              "#9c179e"
             ],
             [
              0.4444444444444444,
              "#bd3786"
             ],
             [
              0.5555555555555556,
              "#d8576b"
             ],
             [
              0.6666666666666666,
              "#ed7953"
             ],
             [
              0.7777777777777778,
              "#fb9f3a"
             ],
             [
              0.8888888888888888,
              "#fdca26"
             ],
             [
              1,
              "#f0f921"
             ]
            ],
            "type": "histogram2d"
           }
          ],
          "histogram2dcontour": [
           {
            "colorbar": {
             "outlinewidth": 0,
             "ticks": ""
            },
            "colorscale": [
             [
              0,
              "#0d0887"
             ],
             [
              0.1111111111111111,
              "#46039f"
             ],
             [
              0.2222222222222222,
              "#7201a8"
             ],
             [
              0.3333333333333333,
              "#9c179e"
             ],
             [
              0.4444444444444444,
              "#bd3786"
             ],
             [
              0.5555555555555556,
              "#d8576b"
             ],
             [
              0.6666666666666666,
              "#ed7953"
             ],
             [
              0.7777777777777778,
              "#fb9f3a"
             ],
             [
              0.8888888888888888,
              "#fdca26"
             ],
             [
              1,
              "#f0f921"
             ]
            ],
            "type": "histogram2dcontour"
           }
          ],
          "mesh3d": [
           {
            "colorbar": {
             "outlinewidth": 0,
             "ticks": ""
            },
            "type": "mesh3d"
           }
          ],
          "parcoords": [
           {
            "line": {
             "colorbar": {
              "outlinewidth": 0,
              "ticks": ""
             }
            },
            "type": "parcoords"
           }
          ],
          "pie": [
           {
            "automargin": true,
            "type": "pie"
           }
          ],
          "scatter": [
           {
            "marker": {
             "colorbar": {
              "outlinewidth": 0,
              "ticks": ""
             }
            },
            "type": "scatter"
           }
          ],
          "scatter3d": [
           {
            "line": {
             "colorbar": {
              "outlinewidth": 0,
              "ticks": ""
             }
            },
            "marker": {
             "colorbar": {
              "outlinewidth": 0,
              "ticks": ""
             }
            },
            "type": "scatter3d"
           }
          ],
          "scattercarpet": [
           {
            "marker": {
             "colorbar": {
              "outlinewidth": 0,
              "ticks": ""
             }
            },
            "type": "scattercarpet"
           }
          ],
          "scattergeo": [
           {
            "marker": {
             "colorbar": {
              "outlinewidth": 0,
              "ticks": ""
             }
            },
            "type": "scattergeo"
           }
          ],
          "scattergl": [
           {
            "marker": {
             "colorbar": {
              "outlinewidth": 0,
              "ticks": ""
             }
            },
            "type": "scattergl"
           }
          ],
          "scattermapbox": [
           {
            "marker": {
             "colorbar": {
              "outlinewidth": 0,
              "ticks": ""
             }
            },
            "type": "scattermapbox"
           }
          ],
          "scatterpolar": [
           {
            "marker": {
             "colorbar": {
              "outlinewidth": 0,
              "ticks": ""
             }
            },
            "type": "scatterpolar"
           }
          ],
          "scatterpolargl": [
           {
            "marker": {
             "colorbar": {
              "outlinewidth": 0,
              "ticks": ""
             }
            },
            "type": "scatterpolargl"
           }
          ],
          "scatterternary": [
           {
            "marker": {
             "colorbar": {
              "outlinewidth": 0,
              "ticks": ""
             }
            },
            "type": "scatterternary"
           }
          ],
          "surface": [
           {
            "colorbar": {
             "outlinewidth": 0,
             "ticks": ""
            },
            "colorscale": [
             [
              0,
              "#0d0887"
             ],
             [
              0.1111111111111111,
              "#46039f"
             ],
             [
              0.2222222222222222,
              "#7201a8"
             ],
             [
              0.3333333333333333,
              "#9c179e"
             ],
             [
              0.4444444444444444,
              "#bd3786"
             ],
             [
              0.5555555555555556,
              "#d8576b"
             ],
             [
              0.6666666666666666,
              "#ed7953"
             ],
             [
              0.7777777777777778,
              "#fb9f3a"
             ],
             [
              0.8888888888888888,
              "#fdca26"
             ],
             [
              1,
              "#f0f921"
             ]
            ],
            "type": "surface"
           }
          ],
          "table": [
           {
            "cells": {
             "fill": {
              "color": "#EBF0F8"
             },
             "line": {
              "color": "white"
             }
            },
            "header": {
             "fill": {
              "color": "#C8D4E3"
             },
             "line": {
              "color": "white"
             }
            },
            "type": "table"
           }
          ]
         },
         "layout": {
          "annotationdefaults": {
           "arrowcolor": "#2a3f5f",
           "arrowhead": 0,
           "arrowwidth": 1
          },
          "autotypenumbers": "strict",
          "coloraxis": {
           "colorbar": {
            "outlinewidth": 0,
            "ticks": ""
           }
          },
          "colorscale": {
           "diverging": [
            [
             0,
             "#8e0152"
            ],
            [
             0.1,
             "#c51b7d"
            ],
            [
             0.2,
             "#de77ae"
            ],
            [
             0.3,
             "#f1b6da"
            ],
            [
             0.4,
             "#fde0ef"
            ],
            [
             0.5,
             "#f7f7f7"
            ],
            [
             0.6,
             "#e6f5d0"
            ],
            [
             0.7,
             "#b8e186"
            ],
            [
             0.8,
             "#7fbc41"
            ],
            [
             0.9,
             "#4d9221"
            ],
            [
             1,
             "#276419"
            ]
           ],
           "sequential": [
            [
             0,
             "#0d0887"
            ],
            [
             0.1111111111111111,
             "#46039f"
            ],
            [
             0.2222222222222222,
             "#7201a8"
            ],
            [
             0.3333333333333333,
             "#9c179e"
            ],
            [
             0.4444444444444444,
             "#bd3786"
            ],
            [
             0.5555555555555556,
             "#d8576b"
            ],
            [
             0.6666666666666666,
             "#ed7953"
            ],
            [
             0.7777777777777778,
             "#fb9f3a"
            ],
            [
             0.8888888888888888,
             "#fdca26"
            ],
            [
             1,
             "#f0f921"
            ]
           ],
           "sequentialminus": [
            [
             0,
             "#0d0887"
            ],
            [
             0.1111111111111111,
             "#46039f"
            ],
            [
             0.2222222222222222,
             "#7201a8"
            ],
            [
             0.3333333333333333,
             "#9c179e"
            ],
            [
             0.4444444444444444,
             "#bd3786"
            ],
            [
             0.5555555555555556,
             "#d8576b"
            ],
            [
             0.6666666666666666,
             "#ed7953"
            ],
            [
             0.7777777777777778,
             "#fb9f3a"
            ],
            [
             0.8888888888888888,
             "#fdca26"
            ],
            [
             1,
             "#f0f921"
            ]
           ]
          },
          "colorway": [
           "#636efa",
           "#EF553B",
           "#00cc96",
           "#ab63fa",
           "#FFA15A",
           "#19d3f3",
           "#FF6692",
           "#B6E880",
           "#FF97FF",
           "#FECB52"
          ],
          "font": {
           "color": "#2a3f5f"
          },
          "geo": {
           "bgcolor": "white",
           "lakecolor": "white",
           "landcolor": "#E5ECF6",
           "showlakes": true,
           "showland": true,
           "subunitcolor": "white"
          },
          "hoverlabel": {
           "align": "left"
          },
          "hovermode": "closest",
          "mapbox": {
           "style": "light"
          },
          "paper_bgcolor": "white",
          "plot_bgcolor": "#E5ECF6",
          "polar": {
           "angularaxis": {
            "gridcolor": "white",
            "linecolor": "white",
            "ticks": ""
           },
           "bgcolor": "#E5ECF6",
           "radialaxis": {
            "gridcolor": "white",
            "linecolor": "white",
            "ticks": ""
           }
          },
          "scene": {
           "xaxis": {
            "backgroundcolor": "#E5ECF6",
            "gridcolor": "white",
            "gridwidth": 2,
            "linecolor": "white",
            "showbackground": true,
            "ticks": "",
            "zerolinecolor": "white"
           },
           "yaxis": {
            "backgroundcolor": "#E5ECF6",
            "gridcolor": "white",
            "gridwidth": 2,
            "linecolor": "white",
            "showbackground": true,
            "ticks": "",
            "zerolinecolor": "white"
           },
           "zaxis": {
            "backgroundcolor": "#E5ECF6",
            "gridcolor": "white",
            "gridwidth": 2,
            "linecolor": "white",
            "showbackground": true,
            "ticks": "",
            "zerolinecolor": "white"
           }
          },
          "shapedefaults": {
           "line": {
            "color": "#2a3f5f"
           }
          },
          "ternary": {
           "aaxis": {
            "gridcolor": "white",
            "linecolor": "white",
            "ticks": ""
           },
           "baxis": {
            "gridcolor": "white",
            "linecolor": "white",
            "ticks": ""
           },
           "bgcolor": "#E5ECF6",
           "caxis": {
            "gridcolor": "white",
            "linecolor": "white",
            "ticks": ""
           }
          },
          "title": {
           "x": 0.05
          },
          "xaxis": {
           "automargin": true,
           "gridcolor": "white",
           "linecolor": "white",
           "ticks": "",
           "title": {
            "standoff": 15
           },
           "zerolinecolor": "white",
           "zerolinewidth": 2
          },
          "yaxis": {
           "automargin": true,
           "gridcolor": "white",
           "linecolor": "white",
           "ticks": "",
           "title": {
            "standoff": 15
           },
           "zerolinecolor": "white",
           "zerolinewidth": 2
          }
         }
        },
        "xaxis": {
         "anchor": "y",
         "domain": [
          0,
          1
         ],
         "title": {
          "text": "Type"
         }
        },
        "yaxis": {
         "anchor": "x",
         "domain": [
          0,
          1
         ],
         "title": {
          "text": "Amount"
         }
        }
       }
      },
      "text/html": [
       "<div>                            <div id=\"f254e719-acaf-4022-a30c-8615551c7006\" class=\"plotly-graph-div\" style=\"height:525px; width:100%;\"></div>            <script type=\"text/javascript\">                require([\"plotly\"], function(Plotly) {                    window.PLOTLYENV=window.PLOTLYENV || {};                                    if (document.getElementById(\"f254e719-acaf-4022-a30c-8615551c7006\")) {                    Plotly.newPlot(                        \"f254e719-acaf-4022-a30c-8615551c7006\",                        [{\"coloraxis\":\"coloraxis\",\"hovertemplate\":\"Type=%{x}<br>Amount=%{y}<br>count=%{z}<extra></extra>\",\"name\":\"\",\"x\":[\"JEWELLERY\",\"PETRO\",\"CLOTHES\",\"FOOD\",\"CAMERA\",\"SANDALS\",\"CAR\",\"BIKE\",\"AUTO\",\"SHOPPING\",\"AIR TICKET\",\"BUS TICKET\",\"TRAIN TICKET\",\"RENTAL\",\"MOVIE TICKET\",\"JEWELLERY\",\"PETRO\",\"CLOTHES\",\"FOOD\",\"JEWELLERY\",\"PETRO\",\"CLOTHES\",\"FOOD\",\"CAMERA\",\"SANDALS\",\"CAR\",\"BIKE\",\"AUTO\",\"SHOPPING\",\"AIR TICKET\",\"BUS TICKET\",\"TRAIN TICKET\",\"RENTAL\",\"MOVIE TICKET\",\"CAMERA\",\"SANDALS\",\"CAR\",\"BIKE\",\"AUTO\",\"SHOPPING\",\"AIR TICKET\",\"BUS TICKET\",\"TRAIN TICKET\",\"RENTAL\",\"MOVIE TICKET\",\"JEWELLERY\",\"PETRO\",\"CLOTHES\",\"FOOD\",\"CAMERA\",\"SANDALS\",\"CAR\",\"BIKE\",\"AUTO\",\"SHOPPING\",\"AIR TICKET\",\"BUS TICKET\",\"TRAIN TICKET\",\"RENTAL\",\"MOVIE TICKET\",\"JEWELLERY\",\"PETRO\",\"CLOTHES\",\"FOOD\",\"CAMERA\",\"SANDALS\",\"CAR\",\"BIKE\",\"AUTO\",\"SHOPPING\",\"AIR TICKET\",\"AIR TICKET\",\"AIR TICKET\",\"AIR TICKET\",\"AIR TICKET\",\"AIR TICKET\",\"AIR TICKET\",\"AIR TICKET\",\"AIR TICKET\",\"CAMERA\",\"SANDALS\",\"CAR\",\"BIKE\",\"AUTO\",\"SHOPPING\",\"AIR TICKET\",\"BUS TICKET\",\"TRAIN TICKET\",\"RENTAL\",\"MOVIE TICKET\",\"JEWELLERY\",\"PETRO\",\"CLOTHES\",\"FOOD\",\"CAMERA\",\"SANDALS\",\"CAR\",\"BIKE\",\"AUTO\",\"SHOPPING\",\"AIR TICKET\",\"BUS TICKET\",\"TRAIN TICKET\",\"RENTAL\",\"MOVIE TICKET\",\"JEWELLERY\",\"PETRO\",\"CLOTHES\",\"FOOD\",\"CAMERA\",\"CAMERA\",\"CAMERA\",\"CAMERA\",\"CAMERA\",\"SHOPPING\",\"AIR TICKET\",\"BUS TICKET\",\"TRAIN TICKET\",\"TRAIN TICKET\",\"TRAIN TICKET\",\"TRAIN TICKET\",\"TRAIN TICKET\",\"TRAIN TICKET\",\"TRAIN TICKET\",\"CAMERA\",\"SANDALS\",\"CAR\",\"BIKE\",\"AUTO\",\"SHOPPING\",\"AIR TICKET\",\"BUS TICKET\",\"TRAIN TICKET\",\"RENTAL\",\"MOVIE TICKET\",\"JEWELLERY\",\"PETRO\",\"PETRO\",\"PETRO\",\"PETRO\",\"PETRO\",\"PETRO\",\"PETRO\",\"PETRO\",\"PETRO\",\"PETRO\",\"PETRO\",\"PETRO\",\"PETRO\",\"MOVIE TICKET\",\"CAMERA\",\"CAMERA\",\"CAMERA\",\"SHOPPING\",\"AIR TICKET\",\"BUS TICKET\",\"TRAIN TICKET\",\"RENTAL\",\"MOVIE TICKET\",\"JEWELLERY\",\"PETRO\",\"CLOTHES\",\"FOOD\",\"CAMERA\",\"SANDALS\",\"CAR\",\"BIKE\",\"AUTO\",\"SHOPPING\",\"AIR TICKET\",\"BUS TICKET\",\"TRAIN TICKET\",\"RENTAL\",\"MOVIE TICKET\",\"JEWELLERY\",\"PETRO\",\"CLOTHES\",\"FOOD\",\"FOOD\",\"FOOD\",\"FOOD\",\"FOOD\",\"FOOD\",\"FOOD\",\"FOOD\",\"FOOD\",\"FOOD\",\"FOOD\",\"FOOD\",\"FOOD\",\"FOOD\",\"FOOD\",\"FOOD\",\"FOOD\",\"FOOD\",\"FOOD\",\"FOOD\",\"SHOPPING\",\"AIR TICKET\",\"BUS TICKET\",\"TRAIN TICKET\",\"RENTAL\",\"MOVIE TICKET\",\"JEWELLERY\",\"PETRO\",\"CLOTHES\",\"FOOD\",\"CAMERA\",\"CAMERA\",\"CAMERA\",\"CAMERA\",\"SHOPPING\",\"AIR TICKET\",\"BUS TICKET\",\"TRAIN TICKET\",\"RENTAL\",\"MOVIE TICKET\",\"JEWELLERY\",\"PETRO\",\"CLOTHES\",\"CLOTHES\",\"CLOTHES\",\"CLOTHES\",\"CLOTHES\",\"CLOTHES\",\"CLOTHES\",\"CLOTHES\",\"CLOTHES\",\"CLOTHES\",\"CLOTHES\",\"CLOTHES\",\"CLOTHES\",\"CLOTHES\",\"CLOTHES\",\"CLOTHES\",\"CLOTHES\",\"CAMERA\",\"CAMERA\",\"CAMERA\",\"CAMERA\",\"SHOPPING\",\"AIR TICKET\",\"BUS TICKET\",\"TRAIN TICKET\",\"RENTAL\",\"MOVIE TICKET\",\"JEWELLERY\",\"PETRO\",\"PETRO\",\"PETRO\",\"PETRO\",\"PETRO\",\"PETRO\",\"PETRO\",\"PETRO\",\"PETRO\",\"PETRO\",\"PETRO\",\"PETRO\",\"PETRO\",\"PETRO\",\"PETRO\",\"PETRO\",\"CLOTHES\",\"FOOD\",\"CAMERA\",\"CAMERA\",\"CAMERA\",\"CAMERA\",\"SHOPPING\",\"AIR TICKET\",\"AIR TICKET\",\"AIR TICKET\",\"AIR TICKET\",\"AIR TICKET\",\"AIR TICKET\",\"AIR TICKET\",\"AIR TICKET\",\"AIR TICKET\",\"AIR TICKET\",\"AIR TICKET\",\"CAR\",\"BIKE\",\"AUTO\",\"SHOPPING\",\"AIR TICKET\",\"BUS TICKET\",\"TRAIN TICKET\",\"RENTAL\",\"MOVIE TICKET\",\"JEWELLERY\",\"PETRO\",\"CLOTHES\",\"FOOD\",\"CAMERA\",\"CAMERA\",\"CAMERA\",\"CAMERA\",\"CAMERA\",\"CAMERA\",\"CAMERA\",\"CAMERA\",\"CAMERA\",\"CAMERA\",\"CAMERA\",\"CAMERA\",\"CLOTHES\",\"FOOD\",\"CAMERA\",\"SANDALS\",\"CAR\",\"BIKE\",\"AUTO\",\"SHOPPING\",\"AIR TICKET\",\"BUS TICKET\",\"TRAIN TICKET\",\"RENTAL\",\"MOVIE TICKET\",\"JEWELLERY\",\"PETRO\",\"CLOTHES\",\"FOOD\",\"FOOD\",\"FOOD\",\"FOOD\",\"FOOD\",\"FOOD\",\"FOOD\",\"BUS TICKET\",\"TRAIN TICKET\",\"RENTAL\",\"MOVIE TICKET\",\"JEWELLERY\",\"PETRO\",\"CLOTHES\",\"FOOD\",\"CAMERA\",\"SANDALS\",\"CAR\",\"BIKE\",\"AUTO\",\"SHOPPING\",\"AIR TICKET\",\"BUS TICKET\",\"TRAIN TICKET\",\"RENTAL\",\"MOVIE TICKET\",\"JEWELLERY\",\"PETRO\",\"CLOTHES\",\"FOOD\",\"CAMERA\",\"CAMERA\",\"CAMERA\",\"CAMERA\",\"SHOPPING\",\"AIR TICKET\",\"BUS TICKET\",\"TRAIN TICKET\",\"RENTAL\",\"MOVIE TICKET\",\"JEWELLERY\",\"PETRO\",\"CLOTHES\",\"FOOD\",\"FOOD\",\"FOOD\",\"FOOD\",\"FOOD\",\"FOOD\",\"FOOD\",\"FOOD\",\"FOOD\",\"FOOD\",\"FOOD\",\"FOOD\",\"JEWELLERY\",\"PETRO\",\"CLOTHES\",\"FOOD\",\"CAMERA\",\"BIKE\",\"AUTO\",\"SHOPPING\",\"AIR TICKET\",\"BUS TICKET\",\"TRAIN TICKET\",\"RENTAL\",\"MOVIE TICKET\",\"JEWELLERY\",\"PETRO\",\"PETRO\",\"PETRO\",\"PETRO\",\"PETRO\",\"PETRO\",\"PETRO\",\"PETRO\",\"PETRO\",\"PETRO\",\"PETRO\",\"RENTAL\",\"MOVIE TICKET\",\"JEWELLERY\",\"PETRO\",\"CLOTHES\",\"FOOD\",\"CAMERA\",\"SANDALS\",\"CAR\",\"BIKE\",\"AUTO\",\"SHOPPING\",\"AIR TICKET\",\"BUS TICKET\",\"TRAIN TICKET\",\"RENTAL\",\"MOVIE TICKET\",\"JEWELLERY\",\"PETRO\",\"CLOTHES\",\"FOOD\",\"CAMERA\",\"CAMERA\",\"CAMERA\",\"CAMERA\",\"SHOPPING\",\"AIR TICKET\",\"BUS TICKET\",\"TRAIN TICKET\",\"RENTAL\",\"MOVIE TICKET\",\"JEWELLERY\",\"PETRO\",\"CLOTHES\",\"FOOD\",\"CAMERA\",\"SANDALS\",\"CAR\",\"BIKE\",\"AUTO\",\"SHOPPING\",\"AIR TICKET\",\"BUS TICKET\",\"TRAIN TICKET\",\"TRAIN TICKET\",\"TRAIN TICKET\",\"TRAIN TICKET\",\"TRAIN TICKET\",\"TRAIN TICKET\",\"TRAIN TICKET\",\"TRAIN TICKET\",\"TRAIN TICKET\",\"TRAIN TICKET\",\"TRAIN TICKET\",\"TRAIN TICKET\",\"TRAIN TICKET\",\"TRAIN TICKET\",\"TRAIN TICKET\",\"TRAIN TICKET\",\"TRAIN TICKET\",\"TRAIN TICKET\",\"TRAIN TICKET\",\"TRAIN TICKET\",\"TRAIN TICKET\",\"TRAIN TICKET\",\"TRAIN TICKET\",\"TRAIN TICKET\",\"TRAIN TICKET\",\"TRAIN TICKET\",\"TRAIN TICKET\",\"AIR TICKET\",\"AIR TICKET\",\"AIR TICKET\",\"AIR TICKET\",\"AIR TICKET\",\"AIR TICKET\",\"AIR TICKET\",\"AIR TICKET\",\"AIR TICKET\",\"AIR TICKET\",\"CAMERA\",\"CAMERA\",\"CAMERA\",\"SHOPPING\",\"AIR TICKET\",\"BUS TICKET\",\"TRAIN TICKET\",\"RENTAL\",\"MOVIE TICKET\",\"BIKE\",\"AUTO\",\"SHOPPING\",\"AIR TICKET\",\"BUS TICKET\",\"TRAIN TICKET\",\"RENTAL\",\"MOVIE TICKET\",\"JEWELLERY\",\"PETRO\",\"CLOTHES\",\"FOOD\",\"CAMERA\",\"CAMERA\",\"CAMERA\",\"CAMERA\",\"SHOPPING\",\"AIR TICKET\",\"BUS TICKET\",\"TRAIN TICKET\",\"TRAIN TICKET\",\"TRAIN TICKET\",\"TRAIN TICKET\",\"TRAIN TICKET\",\"TRAIN TICKET\",\"TRAIN TICKET\",\"TRAIN TICKET\",\"TRAIN TICKET\",\"TRAIN TICKET\",\"TRAIN TICKET\",\"AUTO\",\"SHOPPING\",\"AIR TICKET\",\"BUS TICKET\",\"TRAIN TICKET\",\"RENTAL\",\"MOVIE TICKET\",\"JEWELLERY\",\"PETRO\",\"CLOTHES\",\"FOOD\",\"CAMERA\",\"CAMERA\",\"CAMERA\",\"CAMERA\",\"SHOPPING\",\"AIR TICKET\",\"BUS TICKET\",\"TRAIN TICKET\",\"RENTAL\",\"MOVIE TICKET\",\"JEWELLERY\",\"PETRO\",\"PETRO\",\"PETRO\",\"PETRO\",\"PETRO\",\"PETRO\",\"PETRO\",\"PETRO\",\"PETRO\",\"PETRO\",\"PETRO\",\"PETRO\",\"PETRO\",\"PETRO\",\"PETRO\",\"PETRO\",\"PETRO\",\"PETRO\",\"PETRO\",\"PETRO\",\"PETRO\",\"PETRO\",\"PETRO\",\"AIR TICKET\",\"BUS TICKET\",\"TRAIN TICKET\",\"RENTAL\",\"MOVIE TICKET\",\"JEWELLERY\",\"PETRO\",\"CLOTHES\",\"FOOD\",\"CAMERA\",\"SANDALS\",\"CAR\",\"BIKE\",\"AUTO\",\"SHOPPING\",\"AIR TICKET\",\"BUS TICKET\",\"TRAIN TICKET\",\"RENTAL\",\"MOVIE TICKET\",\"JEWELLERY\",\"PETRO\",\"CLOTHES\",\"FOOD\",\"CAMERA\",\"CAMERA\",\"CAMERA\",\"CAMERA\",\"SHOPPING\",\"AIR TICKET\",\"BUS TICKET\",\"TRAIN TICKET\",\"RENTAL\",\"MOVIE TICKET\",\"BIKE\",\"AUTO\",\"SHOPPING\",\"AIR TICKET\",\"BUS TICKET\",\"TRAIN TICKET\",\"TRAIN TICKET\",\"TRAIN TICKET\",\"TRAIN TICKET\",\"TRAIN TICKET\",\"TRAIN TICKET\",\"TRAIN TICKET\",\"TRAIN TICKET\",\"CAMERA\",\"CAMERA\",\"CAMERA\",\"SHOPPING\",\"AIR TICKET\",\"BUS TICKET\",\"TRAIN TICKET\",\"RENTAL\",\"MOVIE TICKET\",\"JEWELLERY\",\"PETRO\",\"CLOTHES\",\"FOOD\",\"CAMERA\",\"SANDALS\",\"CAR\",\"BIKE\",\"AUTO\",\"SHOPPING\",\"AIR TICKET\",\"AIR TICKET\",\"AIR TICKET\",\"AIR TICKET\",\"AIR TICKET\",\"AIR TICKET\",\"PETRO\",\"CLOTHES\",\"FOOD\",\"CAMERA\",\"CAMERA\",\"CAMERA\",\"CAMERA\",\"SHOPPING\",\"AIR TICKET\",\"BUS TICKET\",\"TRAIN TICKET\",\"RENTAL\",\"MOVIE TICKET\",\"JEWELLERY\",\"PETRO\",\"CLOTHES\",\"FOOD\",\"CAMERA\",\"SANDALS\",\"CAR\",\"BIKE\",\"AUTO\",\"SHOPPING\",\"AIR TICKET\",\"BUS TICKET\",\"TRAIN TICKET\",\"RENTAL\",\"MOVIE TICKET\",\"JEWELLERY\",\"PETRO\",\"CLOTHES\",\"FOOD\",\"FOOD\",\"FOOD\",\"FOOD\",\"FOOD\",\"FOOD\",\"FOOD\",\"FOOD\",\"FOOD\",\"FOOD\",\"FOOD\",\"FOOD\",\"FOOD\",\"FOOD\",\"FOOD\",\"FOOD\",\"FOOD\",\"FOOD\",\"FOOD\",\"AUTO\",\"SHOPPING\",\"AIR TICKET\",\"BUS TICKET\",\"BUS TICKET\",\"BUS TICKET\",\"BUS TICKET\",\"BUS TICKET\",\"BUS TICKET\",\"CLOTHES\",\"FOOD\",\"CAMERA\",\"CAMERA\",\"CAMERA\",\"CAMERA\",\"SHOPPING\",\"AIR TICKET\",\"BUS TICKET\",\"TRAIN TICKET\",\"RENTAL\",\"MOVIE TICKET\",\"BIKE\",\"AUTO\",\"SHOPPING\",\"AIR TICKET\",\"BUS TICKET\",\"TRAIN TICKET\",\"RENTAL\",\"MOVIE TICKET\",\"JEWELLERY\",\"PETRO\",\"PETRO\",\"PETRO\",\"PETRO\",\"PETRO\",\"PETRO\",\"PETRO\",\"PETRO\",\"PETRO\",\"BUS TICKET\",\"TRAIN TICKET\",\"RENTAL\",\"MOVIE TICKET\",\"JEWELLERY\",\"PETRO\",\"CLOTHES\",\"FOOD\",\"CAMERA\",\"SANDALS\",\"CAR\",\"BIKE\",\"AUTO\",\"SHOPPING\",\"AIR TICKET\",\"BUS TICKET\",\"TRAIN TICKET\",\"RENTAL\",\"MOVIE TICKET\",\"JEWELLERY\",\"PETRO\",\"CLOTHES\",\"FOOD\",\"CAMERA\",\"CAMERA\",\"CAMERA\",\"CAMERA\",\"SHOPPING\",\"SHOPPING\",\"SHOPPING\",\"SHOPPING\",\"SHOPPING\",\"SHOPPING\",\"SHOPPING\",\"SHOPPING\",\"SHOPPING\",\"SHOPPING\",\"SHOPPING\",\"SHOPPING\",\"SHOPPING\",\"SHOPPING\",\"SHOPPING\",\"SHOPPING\",\"SHOPPING\",\"SHOPPING\",\"SHOPPING\",\"SHOPPING\",\"SHOPPING\",\"SHOPPING\",\"SHOPPING\",\"SHOPPING\",\"FOOD\",\"CAMERA\",\"CAMERA\",\"CAMERA\",\"CAMERA\",\"SHOPPING\",\"AIR TICKET\",\"BUS TICKET\",\"TRAIN TICKET\",\"RENTAL\",\"MOVIE TICKET\",\"JEWELLERY\",\"PETRO\",\"CLOTHES\",\"FOOD\",\"FOOD\",\"FOOD\",\"FOOD\",\"FOOD\",\"FOOD\",\"FOOD\",\"FOOD\",\"FOOD\",\"FOOD\",\"FOOD\",\"FOOD\",\"FOOD\",\"FOOD\",\"FOOD\",\"FOOD\",\"FOOD\",\"CAMERA\",\"CAMERA\",\"CAMERA\",\"SHOPPING\",\"AIR TICKET\",\"BUS TICKET\",\"TRAIN TICKET\",\"RENTAL\",\"MOVIE TICKET\",\"BIKE\",\"AUTO\",\"SHOPPING\",\"AIR TICKET\",\"BUS TICKET\",\"TRAIN TICKET\",\"RENTAL\",\"MOVIE TICKET\",\"JEWELLERY\",\"PETRO\",\"CLOTHES\",\"FOOD\",\"FOOD\",\"FOOD\",\"FOOD\",\"FOOD\",\"FOOD\",\"FOOD\",\"FOOD\",\"FOOD\",\"FOOD\",\"FOOD\",\"FOOD\",\"FOOD\",\"PETRO\",\"PETRO\",\"PETRO\",\"PETRO\",\"PETRO\",\"PETRO\",\"PETRO\",\"PETRO\",\"PETRO\",\"PETRO\",\"PETRO\",\"PETRO\",\"PETRO\",\"PETRO\",\"PETRO\",\"PETRO\",\"PETRO\",\"CAMERA\",\"CAMERA\",\"CAMERA\",\"CAMERA\",\"SHOPPING\",\"AIR TICKET\",\"BUS TICKET\",\"TRAIN TICKET\",\"RENTAL\",\"MOVIE TICKET\",\"JEWELLERY\",\"JEWELLERY\",\"JEWELLERY\",\"JEWELLERY\",\"JEWELLERY\",\"JEWELLERY\",\"JEWELLERY\",\"JEWELLERY\",\"JEWELLERY\",\"JEWELLERY\",\"JEWELLERY\",\"JEWELLERY\",\"JEWELLERY\",\"JEWELLERY\",\"JEWELLERY\",\"JEWELLERY\",\"PETRO\",\"CLOTHES\",\"FOOD\",\"CAMERA\",\"CAMERA\",\"CAMERA\",\"CAMERA\",\"SHOPPING\",\"AIR TICKET\",\"BUS TICKET\",\"TRAIN TICKET\",\"RENTAL\",\"MOVIE TICKET\",\"JEWELLERY\",\"PETRO\",\"CLOTHES\",\"FOOD\",\"CAMERA\",\"SANDALS\",\"CAR\",\"BIKE\",\"AUTO\",\"SHOPPING\",\"AIR TICKET\",\"BUS TICKET\",\"TRAIN TICKET\",\"RENTAL\",\"MOVIE TICKET\",\"JEWELLERY\",\"PETRO\",\"CLOTHES\",\"FOOD\",\"CAMERA\",\"CAMERA\",\"CAMERA\",\"CAMERA\",\"SHOPPING\",\"AIR TICKET\",\"BUS TICKET\",\"TRAIN TICKET\",\"RENTAL\",\"MOVIE TICKET\",\"BIKE\",\"AUTO\",\"SHOPPING\",\"AIR TICKET\",\"BUS TICKET\",\"TRAIN TICKET\",\"RENTAL\",\"MOVIE TICKET\",\"JEWELLERY\",\"PETRO\",\"PETRO\",\"PETRO\",\"PETRO\",\"PETRO\",\"PETRO\",\"PETRO\",\"PETRO\",\"PETRO\",\"PETRO\",\"PETRO\",\"PETRO\",\"PETRO\",\"PETRO\",\"PETRO\",\"PETRO\",\"PETRO\",\"CAMERA\",\"SANDALS\",\"CAR\",\"BIKE\",\"AUTO\",\"SHOPPING\",\"SHOPPING\",\"SHOPPING\",\"SHOPPING\",\"SHOPPING\",\"SHOPPING\",\"SHOPPING\",\"SHOPPING\",\"SHOPPING\",\"SHOPPING\",\"SHOPPING\",\"SHOPPING\",\"SHOPPING\",\"SHOPPING\",\"SHOPPING\",\"SHOPPING\",\"SHOPPING\",\"SHOPPING\",\"BUS TICKET\",\"BUS TICKET\",\"BUS TICKET\",\"BUS TICKET\",\"BUS TICKET\",\"BUS TICKET\",\"CAMERA\",\"SANDALS\",\"CAR\",\"BIKE\",\"AUTO\",\"SHOPPING\",\"AIR TICKET\",\"BUS TICKET\",\"TRAIN TICKET\",\"RENTAL\",\"MOVIE TICKET\",\"JEWELLERY\",\"PETRO\",\"CLOTHES\",\"FOOD\",\"CAMERA\",\"CAMERA\",\"CAMERA\",\"CAMERA\",\"SHOPPING\",\"AIR TICKET\",\"BUS TICKET\",\"TRAIN TICKET\",\"RENTAL\",\"MOVIE TICKET\",\"JEWELLERY\",\"PETRO\",\"CLOTHES\",\"FOOD\",\"CAMERA\",\"SANDALS\",\"CAR\",\"BIKE\",\"BIKE\",\"BIKE\",\"BIKE\",\"BIKE\",\"BIKE\",\"BIKE\",\"BIKE\",\"BIKE\",\"BIKE\",\"BIKE\",\"BIKE\",\"CAMERA\",\"CAMERA\",\"CAMERA\",\"CAMERA\",\"SHOPPING\",\"AIR TICKET\",\"BUS TICKET\",\"TRAIN TICKET\",\"RENTAL\",\"MOVIE TICKET\",\"BIKE\",\"AUTO\",\"SHOPPING\",\"AIR TICKET\",\"BUS TICKET\",\"TRAIN TICKET\",\"RENTAL\",\"RENTAL\",\"RENTAL\",\"RENTAL\",\"RENTAL\",\"RENTAL\",\"RENTAL\",\"RENTAL\",\"RENTAL\",\"CAMERA\",\"SHOPPING\",\"AIR TICKET\",\"BUS TICKET\",\"TRAIN TICKET\",\"RENTAL\",\"MOVIE TICKET\",\"JEWELLERY\",\"PETRO\",\"CLOTHES\",\"FOOD\",\"CAMERA\",\"SANDALS\",\"CAR\",\"BIKE\",\"AUTO\",\"SHOPPING\",\"AIR TICKET\",\"BUS TICKET\",\"TRAIN TICKET\",\"RENTAL\",\"MOVIE TICKET\",\"JEWELLERY\",\"PETRO\",\"CLOTHES\",\"FOOD\",\"FOOD\",\"FOOD\",\"FOOD\",\"FOOD\",\"FOOD\",\"FOOD\",\"FOOD\",\"FOOD\",\"FOOD\",\"FOOD\",\"FOOD\",\"FOOD\",\"CLOTHES\",\"FOOD\",\"CAMERA\",\"SANDALS\",\"CAR\",\"BIKE\",\"AUTO\",\"SHOPPING\",\"AIR TICKET\",\"BUS TICKET\",\"TRAIN TICKET\",\"RENTAL\",\"MOVIE TICKET\",\"JEWELLERY\",\"PETRO\",\"CLOTHES\",\"FOOD\",\"CAMERA\",\"CAMERA\",\"CAMERA\",\"CAMERA\",\"SHOPPING\",\"AIR TICKET\",\"BUS TICKET\",\"TRAIN TICKET\",\"RENTAL\",\"MOVIE TICKET\",\"JEWELLERY\",\"PETRO\",\"PETRO\",\"PETRO\",\"PETRO\",\"PETRO\",\"PETRO\",\"PETRO\",\"PETRO\",\"PETRO\",\"PETRO\",\"PETRO\",\"PETRO\",\"RENTAL\",\"MOVIE TICKET\",\"JEWELLERY\",\"PETRO\",\"PETRO\",\"PETRO\",\"PETRO\",\"PETRO\",\"PETRO\",\"PETRO\",\"PETRO\",\"PETRO\",\"PETRO\",\"PETRO\",\"PETRO\",\"PETRO\",\"BIKE\",\"AUTO\",\"SHOPPING\",\"AIR TICKET\",\"BUS TICKET\",\"TRAIN TICKET\",\"RENTAL\",\"MOVIE TICKET\",\"JEWELLERY\",\"PETRO\",\"CLOTHES\",\"FOOD\",\"CAMERA\",\"CAMERA\",\"CAMERA\",\"CAMERA\",\"SHOPPING\",\"AIR TICKET\",\"BUS TICKET\",\"TRAIN TICKET\",\"RENTAL\",\"MOVIE TICKET\",\"JEWELLERY\",\"PETRO\",\"CLOTHES\",\"FOOD\",\"CAMERA\",\"SANDALS\",\"CAR\",\"BIKE\",\"AUTO\",\"SHOPPING\",\"AIR TICKET\",\"BUS TICKET\",\"TRAIN TICKET\",\"RENTAL\",\"MOVIE TICKET\",\"JEWELLERY\",\"PETRO\",\"CLOTHES\",\"FOOD\",\"CAMERA\",\"CAMERA\",\"CAMERA\",\"CAMERA\",\"SHOPPING\",\"AIR TICKET\",\"BUS TICKET\",\"TRAIN TICKET\",\"RENTAL\",\"MOVIE TICKET\",\"JEWELLERY\",\"PETRO\",\"CLOTHES\",\"FOOD\",\"CAMERA\",\"SANDALS\",\"CAR\",\"BIKE\",\"AUTO\",\"SHOPPING\",\"AIR TICKET\",\"BUS TICKET\",\"TRAIN TICKET\",\"RENTAL\",\"MOVIE TICKET\",\"JEWELLERY\",\"PETRO\",\"CLOTHES\",\"FOOD\",\"CAMERA\",\"CAMERA\",\"CAMERA\",\"CAMERA\",\"SHOPPING\",\"AIR TICKET\",\"BUS TICKET\",\"TRAIN TICKET\",\"RENTAL\",\"MOVIE TICKET\",\"JEWELLERY\",\"PETRO\",\"CLOTHES\",\"FOOD\",\"CAMERA\",\"SANDALS\",\"CAR\",\"BIKE\",\"AUTO\",\"SHOPPING\",\"AIR TICKET\",\"AIR TICKET\",\"AIR TICKET\",\"AIR TICKET\",\"AIR TICKET\",\"AIR TICKET\",\"AIR TICKET\",\"AIR TICKET\",\"AIR TICKET\",\"AIR TICKET\",\"AIR TICKET\",\"AIR TICKET\",\"AIR TICKET\",\"AIR TICKET\",\"AIR TICKET\",\"AIR TICKET\",\"AIR TICKET\",\"AIR TICKET\",\"AIR TICKET\",\"AIR TICKET\",\"AIR TICKET\",\"AIR TICKET\",\"AIR TICKET\",\"AIR TICKET\",\"AIR TICKET\",\"AIR TICKET\",\"AIR TICKET\",\"JEWELLERY\",\"PETRO\",\"CLOTHES\",\"FOOD\",\"CAMERA\",\"CAMERA\",\"CAMERA\",\"CAMERA\",\"SHOPPING\",\"AIR TICKET\",\"BUS TICKET\",\"TRAIN TICKET\",\"RENTAL\",\"MOVIE TICKET\",\"JEWELLERY\",\"PETRO\",\"CLOTHES\",\"CLOTHES\",\"CLOTHES\",\"CLOTHES\",\"CLOTHES\",\"CLOTHES\",\"CLOTHES\",\"CLOTHES\",\"CLOTHES\",\"CLOTHES\",\"TRAIN TICKET\",\"RENTAL\",\"MOVIE TICKET\",\"JEWELLERY\",\"PETRO\",\"CLOTHES\",\"FOOD\",\"CAMERA\",\"CAMERA\",\"CAMERA\",\"CAMERA\",\"SHOPPING\",\"AIR TICKET\",\"BUS TICKET\",\"TRAIN TICKET\",\"RENTAL\",\"MOVIE TICKET\",\"JEWELLERY\",\"PETRO\",\"CLOTHES\",\"FOOD\",\"CAMERA\",\"SANDALS\",\"CAR\",\"BIKE\",\"AUTO\",\"SHOPPING\",\"AIR TICKET\",\"BUS TICKET\",\"TRAIN TICKET\",\"TRAIN TICKET\",\"TRAIN TICKET\",\"TRAIN TICKET\",\"TRAIN TICKET\",\"TRAIN TICKET\",\"TRAIN TICKET\",\"TRAIN TICKET\",\"TRAIN TICKET\",\"TRAIN TICKET\",\"TRAIN TICKET\",\"TRAIN TICKET\",\"TRAIN TICKET\",\"TRAIN TICKET\",\"TRAIN TICKET\",\"RENTAL\",\"MOVIE TICKET\",\"JEWELLERY\",\"PETRO\",\"CLOTHES\",\"FOOD\",\"CAMERA\",\"SANDALS\",\"CAR\",\"BIKE\",\"AUTO\",\"SHOPPING\",\"AIR TICKET\",\"BUS TICKET\",\"TRAIN TICKET\",\"RENTAL\",\"MOVIE TICKET\",\"JEWELLERY\",\"PETRO\",\"PETRO\",\"PETRO\",\"PETRO\",\"PETRO\",\"PETRO\",\"PETRO\",\"PETRO\",\"PETRO\",\"PETRO\",\"PETRO\",\"PETRO\",\"PETRO\",\"PETRO\",\"CAR\",\"BIKE\",\"AUTO\",\"SHOPPING\",\"AIR TICKET\",\"BUS TICKET\",\"TRAIN TICKET\",\"RENTAL\",\"MOVIE TICKET\",\"JEWELLERY\",\"PETRO\",\"CLOTHES\",\"CLOTHES\",\"CLOTHES\",\"CLOTHES\",\"CLOTHES\",\"CLOTHES\",\"CLOTHES\",\"CLOTHES\",\"CLOTHES\",\"CLOTHES\",\"CLOTHES\",\"CLOTHES\",\"JEWELLERY\",\"PETRO\",\"CLOTHES\",\"FOOD\",\"FOOD\",\"FOOD\",\"FOOD\",\"FOOD\",\"FOOD\",\"FOOD\",\"FOOD\",\"FOOD\",\"FOOD\",\"RENTAL\",\"MOVIE TICKET\",\"JEWELLERY\",\"PETRO\",\"CLOTHES\",\"FOOD\",\"CAMERA\",\"CAMERA\",\"CAMERA\",\"CAMERA\",\"SHOPPING\",\"AIR TICKET\",\"AIR TICKET\",\"AIR TICKET\",\"AIR TICKET\",\"AIR TICKET\",\"AIR TICKET\",\"AIR TICKET\",\"AIR TICKET\",\"AIR TICKET\",\"AIR TICKET\",\"AIR TICKET\",\"AIR TICKET\",\"AIR TICKET\",\"AIR TICKET\",\"AIR TICKET\",\"AIR TICKET\",\"BUS TICKET\",\"TRAIN TICKET\",\"RENTAL\",\"MOVIE TICKET\",\"JEWELLERY\",\"JEWELLERY\",\"JEWELLERY\",\"JEWELLERY\",\"JEWELLERY\",\"JEWELLERY\",\"JEWELLERY\",\"JEWELLERY\",\"JEWELLERY\",\"JEWELLERY\",\"JEWELLERY\",\"JEWELLERY\",\"JEWELLERY\",\"JEWELLERY\",\"JEWELLERY\",\"JEWELLERY\",\"JEWELLERY\",\"AIR TICKET\",\"BUS TICKET\",\"BUS TICKET\",\"BUS TICKET\",\"BUS TICKET\",\"BUS TICKET\",\"BUS TICKET\",\"BUS TICKET\",\"BUS TICKET\",\"BUS TICKET\",\"BUS TICKET\",\"BUS TICKET\",\"CAMERA\",\"SHOPPING\",\"AIR TICKET\",\"BUS TICKET\",\"TRAIN TICKET\",\"RENTAL\",\"MOVIE TICKET\",\"MOVIE TICKET\",\"MOVIE TICKET\",\"MOVIE TICKET\",\"MOVIE TICKET\",\"MOVIE TICKET\",\"MOVIE TICKET\",\"MOVIE TICKET\",\"MOVIE TICKET\",\"AUTO\",\"SHOPPING\",\"AIR TICKET\",\"BUS TICKET\",\"TRAIN TICKET\",\"RENTAL\",\"MOVIE TICKET\",\"JEWELLERY\",\"PETRO\",\"CLOTHES\",\"FOOD\",\"CAMERA\",\"CAMERA\",\"CAMERA\",\"CAMERA\",\"SHOPPING\",\"AIR TICKET\",\"BUS TICKET\",\"BUS TICKET\",\"BUS TICKET\",\"BUS TICKET\",\"BUS TICKET\",\"BUS TICKET\",\"BUS TICKET\",\"BUS TICKET\"],\"xaxis\":\"x\",\"xbingroup\":\"x\",\"y\":[485470.8,410556.13,23740.46,484342.47,369694.07,168285.6,23370.2,155562.58,38269.94,194795.88,307622.01,151921.12,307940.97,9509.6,399874.98,2845.76,457931.43,19272.94,441442.26,356733.48,190011.63,423672.5,390850.96,328845.08,446040.47,6588.51,275144.42,66432.37,18877.48,24399.98,272112.42,126461.49,226271.97,109129.96,156630.14,200228.1,139814.59,376872.51,117691.42,227791.62,359764.34,217211.47,162417.22,188171.64,365725.04,319538.35,193736.65,433240.56,93689.16,315690.47,249496.99,50877.1,395078.96,155708.16,343548.59,22463.65,324423.0,252719.43,65444.06,285128.75,246888.98,423934.57,115354.86,73920.68,180692.76,393513.71,177417.81,321903.62,199744.78,9665.48,113339.36,188959.72,116422.06,360587.42,47380.56,216681.9,217827.88,30066.44,31048.93,432217.57,405913.14,474797.3,175659.72,379401.53,177942.07,124861.57,398873.75,166438.62,483886.62,26518.91,24972.02,264882.27,89951.84,341858.87,297505.09,312714.37,240401.5,54729.66,139018.26,284521.06,90184.22,224786.88,440563.22,199554.72,418202.62,273400.75,272700.86,195373.41,210870.21,470561.03,143855.64,240056.14,139319.83,133441.76,172271.16,394078.34,52208.65,376887.49,194358.94,184352.72,125817.82,74569.98,123765.33,113366.26,206959.61,47866.78,173876.16,126009.02,354503.56,461091.85,346925.68,439648.53,94389.66,104771.98,413858.41,130023.62,238772.07,371894.08,108752.51,239798.03,404113.85,479627.87,456431.18,9819.62,183839.61,384078.73,183707.24,31107.95,384309.63,89467.92,22964.17,335298.81,306526.12,118875.68,272982.02,189763.11,240226.29,294099.59,344372.1,117089.16,445534.57,23040.07,230668.23,235787.09,202045.12,248077.43,150348.46,10615.48,294577.34,77725.32,25860.69,108506.2,244534.68,75728.35,491710.5,35293.85,143057.63,102914.5,131957.64,27596.71,15000.55,36477.84,66306.06,24218.26,293846.44,111896.48,155611.91,175345.84,418516.31,466690.74,244557.11,149094.95,30727.68,270994.47,261113.44,74554.87,45366.66,350004.39,460656.56,341157.43,176372.82,367364.53,16375.23,130804.05,399316.12,488508.91,365615.44,219438.79,77322.7,31496.69,59091.19,460555.54,120263.91,425291.52,394970.96,366519.94,368574.41,43757.56,122573.12,18162.3,455534.79,197893.32,14500.38,48568.07,313864.03,214891.01,283832.24,133659.56,476702.09,197585.76,384693.67,181142.29,42224.84,429780.86,149173.49,159812.18,46333.89,270721.68,483603.21,104548.34,440316.95,205929.95,361141.31,369689.78,285184.71,497348.05,161445.71,319011.87,212275.8,37708.16,489715.08,459690.69,472854.21,383087.29,125216.76,84390.34,283338.48,253033.48,108439.47,274522.32,416832.87,387940.9,179462.61,81201.58,249438.28,370497.2,315252.93,148922.42,220824.11,115488.88,167577.01,289182.73,477615.93,261854.22,10763.44,357943.87,305050.62,173354.23,349086.47,454827.23,67560.48,446841.82,28139.06,289884.23,162080.83,405719.84,140735.03,82720.75,317065.31,460130.36,203505.93,32089.03,359966.31,433956.78,314704.54,259015.91,190192.38,281472.15,312063.64,25824.98,77748.47,30849.09,50155.08,391477.9,249002.72,334432.74,445841.52,406960.62,265164.32,271866.51,165218.48,498734.85,498358.28,185686.01,390506.29,211880.15,192485.69,497770.15,358215.28,102546.39,300895.4,105685.17,246993.23,466922.14,410478.96,294948.41,100501.87,370895.27,326052.18,352326.62,461282.47,405002.42,83927.36,498388.88,263577.25,331227.52,106381.38,442625.24,93032.72,435234.62,110076.88,478891.22,243960.25,274363.73,210648.82,8987.04,42483.81,100962.14,165956.43,35196.11,79149.37,239397.51,468501.45,442439.36,275775.47,177293.8,496915.29,100425.24,206451.17,457364.09,266948.51,126928.82,401959.6,417496.52,319918.7,382311.03,471424.21,30238.7,423809.31,242927.78,234158.9,117920.96,405378.23,247287.46,273207.18,332157.16,75079.67,126931.94,221293.03,489749.85,237335.43,368454.1,398239.13,371251.15,218692.79,239984.25,88817.36,348188.74,214618.64,246029.64,200588.13,344151.68,452425.82,106897.2,466587.47,224361.64,243221.98,282318.78,492311.93,273388.83,229011.5,15151.26,156616.01,418134.52,84974.29,439946.6,119406.07,85707.18,393056.28,210962.36,250577.45,397003.51,66833.86,131176.47,331656.4,198472.97,342428.74,8752.13,281679.6,311908.5,199351.04,468597.16,481870.34,366089.04,3750.13,113443.41,11938.81,107056.49,68610.51,433801.8,301196.52,265755.35,87297.77,454728.13,350791.94,362560.44,197421.53,244467.34,228925.08,185370.01,460150.85,141539.79,463680.6,68519.2,240855.67,94531.69,374791.98,425536.83,221480.81,473984.25,305269.62,80061.3,147422.97,427077.54,470973.98,369725.38,127611.72,46537.12,128905.28,380147.4,255449.53,156836.79,467341.95,454862.62,257904.07,221258.92,150833.96,328899.39,285472.35,349814.2,26965.4,443897.57,355617.91,134345.91,177658.85,264368.37,154259.1,128715.82,121365.0,299827.43,56048.99,243748.11,240074.15,242080.71,144899.97,354199.11,244668.92,146556.94,439760.73,35298.96,309591.35,402518.16,303420.33,352918.66,173633.94,443364.31,486794.37,319708.92,419809.4,414285.94,86631.41,267116.94,298389.0,213041.24,184771.88,84269.28,322221.08,108883.79,375898.65,385046.06,205987.83,415678.79,352374.29,271961.53,162812.94,326629.15,94325.47,202141.07,398349.58,475849.21,446844.83,350241.67,166127.87,304332.65,26142.18,321996.06,258226.14,180035.15,348056.92,40536.92,375306.52,469890.94,386576.93,218170.12,217223.51,42797.0,254686.6,474714.13,303303.37,78523.66,41401.91,383683.27,260909.8,85002.75,285085.87,300820.31,305868.49,111188.2,90922.64,361523.06,471034.84,116750.34,278863.0,36965.64,176757.27,95830.82,83322.44,209048.7,395533.64,274440.33,401618.63,186400.75,472065.9,496358.65,173753.09,253518.4,273446.21,230766.62,257300.05,14664.26,369866.99,233184.94,418068.11,338783.93,325317.86,268233.08,158508.85,173566.0,57111.38,74647.08,457672.04,63132.03,344430.33,243032.21,181781.71,47758.62,277274.22,263742.81,204785.22,3411.29,54620.12,191424.9,411533.34,358931.43,190016.43,182661.18,384670.92,433833.71,15237.44,467517.17,292011.92,419650.32,298006.4,231938.93,224580.2,198030.12,35327.74,43209.23,212421.86,390356.14,26024.81,7745.43,125328.55,480300.25,394126.79,490544.87,80955.58,495380.87,433938.24,97453.58,172882.73,365289.56,159777.48,463760.44,82968.84,450148.29,459204.63,74094.38,244200.96,485795.37,99353.97,85819.67,144988.11,103998.18,226635.78,124341.01,124053.97,18323.16,247521.54,40475.02,30519.76,475953.8,253857.83,237337.83,23294.48,261692.39,97871.07,262616.72,21684.16,225054.24,137518.83,216864.52,138421.11,466544.83,186372.92,287005.59,229465.95,228125.55,167209.08,420236.51,101106.11,286098.09,15396.69,250251.61,186323.02,358660.69,229296.58,266398.58,455338.45,7215.93,361901.35,155438.87,315972.76,344070.77,231655.43,462854.42,81892.36,240214.02,114221.97,129742.89,244776.66,204502.0,498239.75,136751.65,251373.69,241311.1,417226.49,60263.41,126871.99,456924.22,372728.16,443217.84,200964.95,73482.96,129951.4,241188.76,426614.08,157365.53,246951.23,140610.03,102054.01,132168.57,206823.3,296347.74,230322.18,73160.06,206606.23,720.3,66243.39,199609.77,248230.74,233589.9,65398.35,96813.59,458678.35,300875.97,181063.2,191356.83,192444.32,40039.21,184196.36,356066.71,75573.11,267131.45,491157.84,119154.53,386104.28,237115.63,302388.32,197038.23,264923.52,154873.49,414605.84,176726.17,414189.28,443887.97,386921.68,395334.34,35500.21,48100.54,375766.56,225983.14,417162.64,26581.48,407739.24,324081.7,145012.68,131174.73,141563.54,330665.44,351400.14,411426.41,494080.27,283770.39,282045.39,386653.87,163616.63,301201.09,260098.89,404163.7,349503.46,279048.0,80025.92,358051.32,438791.16,67694.98,165171.24,316103.34,165592.71,6253.94,335390.18,286964.08,86990.79,185013.36,353921.93,499270.0,490167.49,294468.59,119462.84,177733.11,145143.35,424045.33,193276.02,34982.74,299401.37,493598.56,113305.19,52465.01,209455.48,128793.37,463993.83,182736.3,232686.75,240514.39,29810.73,263890.87,368599.3,23275.87,85859.39,391870.74,496072.76,150148.45,280245.71,403778.62,186138.24,60304.43,43753.68,267999.1,361272.59,294119.36,233861.96,198756.63,49510.0,235659.19,223145.13,170559.4,124640.0,462995.84,263854.61,25432.18,61135.65,275438.49,169355.0,485008.0,85382.67,27775.52,279027.95,153867.24,218106.45,307709.66,27976.77,275556.49,355377.41,292527.95,263480.57,7893.31,233725.77,56057.23,9284.48,260023.41,388917.17,317908.41,246967.66,33232.51,407904.49,51156.94,162465.63,498505.03,21927.17,339194.54,371352.88,222353.74,301277.49,144778.97,433634.64,454644.63,133722.6,91775.55,224627.37,111107.26,107911.83,288144.81,34362.04,43992.58,453509.16,2050.46,151668.91,161573.42,19186.72,314699.51,406928.06,345729.19,433696.96,303466.61,69355.05,430799.04,79291.21,305465.61,15119.02,343726.4,93340.75,59948.79,397203.8,354837.8,125000.86,440358.09,446737.37,356399.69,77428.8,414549.6,116922.75,433536.56,113880.35,80126.02,45776.33,67106.22,164774.87,107131.99,113393.97,219878.43,19535.76,376647.18,283358.58,367328.29,245802.04,285920.94,61353.41,354327.81,14366.69,265848.39,62187.18,471605.19,176437.12,336485.62,183735.91,362301.38,122617.61,50235.89,295174.49,304014.76,129401.85,205957.68,472948.31,226901.89,143938.47,363792.42,126649.31,183569.21,65503.17,101649.18,113200.17,51202.64,80146.72,30320.99,92798.13,108244.31,313971.93,338008.71,20495.38,130672.52,320380.04,415157.13,200640.88,138620.27,476580.37,116596.73,19802.37,63717.23,341861.45,424777.36,194545.21,430388.48,179004.8,32196.69,95884.95,284500.68,268828.1,307106.39,440051.52,294034.8,352119.02,450293.71,164338.8,428879.43,492859.63,218927.78,161855.12,426277.52,303464.1,237308.95,209872.62,81844.83,465597.89,204078.13,203440.77,163076.96,404751.72,464383.08,330806.43,342592.96,154567.49,315666.16,146353.74,125247.8,327551.25,480083.72,372088.27,183749.38,182487.8,281169.07,219484.22,120381.64,392953.14,90834.52,135385.11,388075.64,415876.54,103174.87,324481.71,339582.17,99760.02,423754.26,54611.14,50547.17,384129.51,376349.64,377756.6,274133.64,67738.19,324848.19,420015.08,397479.97,206631.21,110279.02,230675.49,332876.9,32324.84,348426.37,284117.93,110111.28,55927.32,31688.89,224579.57,453314.4,226498.33,121469.49,491753.36,290725.04,187801.98,332536.0,65101.88,8168.97,147529.24,83386.16,174828.97,215987.8,56497.89,481580.09,426980.66,316601.57,94838.4,283607.25,174906.54,299701.84,460195.99,439845.09,226412.38,77900.29,85689.3,114900.36,403947.27,450578.23,76038.08,407946.59,340544.62,228660.27,34784.32,474320.8,23181.87,482868.15,316407.9,101223.17,498834.63,76785.72,129802.8,243954.19,27387.07,228739.09,465473.69,30563.8,494568.87,129534.9,185732.4,353502.17,105742.96,162661.94,259198.87,320874.38,100800.94,66602.49,433783.86,404252.34,114273.79,8515.14,74516.8,221086.85,60074.98,378804.82,210344.43,274264.14,27864.41,297279.72,19618.01,449633.79,275748.35,117670.21,233010.16,144440.23,113224.52,327726.3,330733.51,477311.41,42791.79,84003.7,407852.39,275710.82,427931.8,130074.01,324128.5,332435.42,206593.28,35700.4,260128.03,135514.74,126813.36,161515.46,252266.14,147107.51,113481.37,240102.81,280150.49,370493.15,346706.78,352324.46,49398.99,364650.99,340371.19,447626.66,331240.94,363233.83,250272.23,239023.21,268536.95,441375.6,972.66,466143.7,91321.57,422086.33,44439.64,255916.9,74702.68,64615.46,131096.88,223902.41,175283.18,177739.28,187052.06,278131.32,189714.74,40531.37,488399.04,425083.22,70329.95,156247.17,13756.3,167643.95,246626.36,187831.62,147299.1,153892.1,351215.4,332077.43,462544.44,235526.84,226426.44,239709.3,490796.93,309443.8,321649.02,399124.6,115314.35,423533.99,395743.23,207519.72,20190.85,166890.16,8973.11,12330.03,197099.53,199062.97,410461.33,333764.18,55929.85,153475.34,389454.0,452806.53,214953.66,211848.96,293918.67,213221.11,392677.26,299214.61,341536.68,274060.46,452489.19,430315.13,285659.5,296594.65,172171.32,363995.73,241139.52,48389.14,167204.15,28569.09,202133.43,403456.53,260844.61,307330.8,355052.9,122119.9,127432.64,481587.27,149750.73,400882.5,274686.56,305955.6,237635.09,316196.2,347019.23,222806.33,119232.67,87633.92,136185.87,197783.17,367109.58,186647.63,326633.49,425029.19,461242.82,248061.75,444175.51,411196.65,403772.02,110234.83,378836.14,339077.11,313351.15,58911.72,193549.19,450935.8,497368.07,390003.19,194262.0,365270.93,312826.1,290446.41,268099.23,152889.45,70049.12,185913.62,223294.32,140330.7,65578.12,376503.24,143916.94,83976.45,8806.98,140018.81,7553.18,191003.23,380701.19,34763.1,431106.59,334520.52,338487.58,178238.22,431043.38,161266.69,412896.35,474957.29,19910.49,79949.77,148214.1,268335.38,26620.47,451093.63,36566.43,360832.43,402971.3,360275.66,240838.12,304227.82,457306.26,60184.03,122304.99,446363.89,259755.18,264508.2,467881.05,80959.08,325305.43,308092.12,230134.29,485688.73,313374.22,213228.84,494457.44,244092.6,194695.72,199186.44,281284.63,176363.47,454349.36,396858.13,445859.26,403777.74,361346.18,78835.86,325716.97,447673.43,152794.71,472337.13,349764.68,191608.25,6445.55,53951.61,300960.46,330132.62,89297.76,360016.22,327690.67,67583.69,89571.94,336196.48,63888.88,108824.87,416430.15,249003.25,245152.21,342976.2,381428.67,447530.58,452028.03,388063.32,282168.93,16782.6,408892.04,44387.34,412599.88,398772.94,129309.31,488800.78,75620.93,348851.17,147669.99,393767.3,344405.24,388218.55,258540.55,189462.58,194148.58,191971.9,489352.86,110241.42,155278.41,496185.13,226224.39,113117.61,209639.64,379105.49,196457.74,62914.03,30614.56,126283.33,285498.52,8391.95,53750.45,467923.97,250483.5,204066.99,302730.7,78453.76,250480.13,313591.17,210905.85,53907.13,499793.49,124515.22,104533.09,285724.8,442353.98,290123.86,389005.53,91140.13,490040.9,276525.82,129110.67,348861.19,67835.3,167160.18,151908.02,153147.63,111315.17,54486.22,418646.15,31471.75,338873.06,416672.65,236231.22,147603.88,84931.16,458181.61,150962.18,395544.28,107439.53,321181.13,268465.71,144163.36,429836.26,443043.39,313571.0,461071.15,98748.94,456080.65,316155.21,162490.62,392868.39,495771.8,262521.84,3313.37,4977.49,443356.07,159734.23,229724.45,111152.18,397634.72,211569.74,376766.34,42447.06,445304.14,132133.11,219556.74,298900.61,468872.11,51935.69,218304.93,496680.91,333534.98,144892.7,91769.02,129641.87,139648.2,192843.3,110809.17,116195.53,62814.73,240006.76,474907.71,487680.73,316498.85,379397.99,186080.25,377131.64,346942.78,465683.38,388061.14,482512.25,338275.82,138408.27,417365.17,182523.86,42313.6,443959.84,139519.21,293023.11,377531.79,251942.06,82299.94,21787.94,258132.93,85235.64,292020.54,15199.55,327358.8,92101.32,163775.96,43493.07,273977.69,294180.68,209649.02,8682.98,481412.75,223628.27,179402.44,383742.74,181115.2,240648.48,393623.57,384933.82,90754.27,333488.91,244678.86,468684.01,98178.42,162670.43,356872.73,204971.1,50449.44,80593.94,194447.62],\"yaxis\":\"y\",\"ybingroup\":\"y\",\"type\":\"histogram2d\"}],                        {\"template\":{\"data\":{\"bar\":[{\"error_x\":{\"color\":\"#2a3f5f\"},\"error_y\":{\"color\":\"#2a3f5f\"},\"marker\":{\"line\":{\"color\":\"#E5ECF6\",\"width\":0.5},\"pattern\":{\"fillmode\":\"overlay\",\"size\":10,\"solidity\":0.2}},\"type\":\"bar\"}],\"barpolar\":[{\"marker\":{\"line\":{\"color\":\"#E5ECF6\",\"width\":0.5},\"pattern\":{\"fillmode\":\"overlay\",\"size\":10,\"solidity\":0.2}},\"type\":\"barpolar\"}],\"carpet\":[{\"aaxis\":{\"endlinecolor\":\"#2a3f5f\",\"gridcolor\":\"white\",\"linecolor\":\"white\",\"minorgridcolor\":\"white\",\"startlinecolor\":\"#2a3f5f\"},\"baxis\":{\"endlinecolor\":\"#2a3f5f\",\"gridcolor\":\"white\",\"linecolor\":\"white\",\"minorgridcolor\":\"white\",\"startlinecolor\":\"#2a3f5f\"},\"type\":\"carpet\"}],\"choropleth\":[{\"colorbar\":{\"outlinewidth\":0,\"ticks\":\"\"},\"type\":\"choropleth\"}],\"contour\":[{\"colorbar\":{\"outlinewidth\":0,\"ticks\":\"\"},\"colorscale\":[[0.0,\"#0d0887\"],[0.1111111111111111,\"#46039f\"],[0.2222222222222222,\"#7201a8\"],[0.3333333333333333,\"#9c179e\"],[0.4444444444444444,\"#bd3786\"],[0.5555555555555556,\"#d8576b\"],[0.6666666666666666,\"#ed7953\"],[0.7777777777777778,\"#fb9f3a\"],[0.8888888888888888,\"#fdca26\"],[1.0,\"#f0f921\"]],\"type\":\"contour\"}],\"contourcarpet\":[{\"colorbar\":{\"outlinewidth\":0,\"ticks\":\"\"},\"type\":\"contourcarpet\"}],\"heatmap\":[{\"colorbar\":{\"outlinewidth\":0,\"ticks\":\"\"},\"colorscale\":[[0.0,\"#0d0887\"],[0.1111111111111111,\"#46039f\"],[0.2222222222222222,\"#7201a8\"],[0.3333333333333333,\"#9c179e\"],[0.4444444444444444,\"#bd3786\"],[0.5555555555555556,\"#d8576b\"],[0.6666666666666666,\"#ed7953\"],[0.7777777777777778,\"#fb9f3a\"],[0.8888888888888888,\"#fdca26\"],[1.0,\"#f0f921\"]],\"type\":\"heatmap\"}],\"heatmapgl\":[{\"colorbar\":{\"outlinewidth\":0,\"ticks\":\"\"},\"colorscale\":[[0.0,\"#0d0887\"],[0.1111111111111111,\"#46039f\"],[0.2222222222222222,\"#7201a8\"],[0.3333333333333333,\"#9c179e\"],[0.4444444444444444,\"#bd3786\"],[0.5555555555555556,\"#d8576b\"],[0.6666666666666666,\"#ed7953\"],[0.7777777777777778,\"#fb9f3a\"],[0.8888888888888888,\"#fdca26\"],[1.0,\"#f0f921\"]],\"type\":\"heatmapgl\"}],\"histogram\":[{\"marker\":{\"pattern\":{\"fillmode\":\"overlay\",\"size\":10,\"solidity\":0.2}},\"type\":\"histogram\"}],\"histogram2d\":[{\"colorbar\":{\"outlinewidth\":0,\"ticks\":\"\"},\"colorscale\":[[0.0,\"#0d0887\"],[0.1111111111111111,\"#46039f\"],[0.2222222222222222,\"#7201a8\"],[0.3333333333333333,\"#9c179e\"],[0.4444444444444444,\"#bd3786\"],[0.5555555555555556,\"#d8576b\"],[0.6666666666666666,\"#ed7953\"],[0.7777777777777778,\"#fb9f3a\"],[0.8888888888888888,\"#fdca26\"],[1.0,\"#f0f921\"]],\"type\":\"histogram2d\"}],\"histogram2dcontour\":[{\"colorbar\":{\"outlinewidth\":0,\"ticks\":\"\"},\"colorscale\":[[0.0,\"#0d0887\"],[0.1111111111111111,\"#46039f\"],[0.2222222222222222,\"#7201a8\"],[0.3333333333333333,\"#9c179e\"],[0.4444444444444444,\"#bd3786\"],[0.5555555555555556,\"#d8576b\"],[0.6666666666666666,\"#ed7953\"],[0.7777777777777778,\"#fb9f3a\"],[0.8888888888888888,\"#fdca26\"],[1.0,\"#f0f921\"]],\"type\":\"histogram2dcontour\"}],\"mesh3d\":[{\"colorbar\":{\"outlinewidth\":0,\"ticks\":\"\"},\"type\":\"mesh3d\"}],\"parcoords\":[{\"line\":{\"colorbar\":{\"outlinewidth\":0,\"ticks\":\"\"}},\"type\":\"parcoords\"}],\"pie\":[{\"automargin\":true,\"type\":\"pie\"}],\"scatter\":[{\"marker\":{\"colorbar\":{\"outlinewidth\":0,\"ticks\":\"\"}},\"type\":\"scatter\"}],\"scatter3d\":[{\"line\":{\"colorbar\":{\"outlinewidth\":0,\"ticks\":\"\"}},\"marker\":{\"colorbar\":{\"outlinewidth\":0,\"ticks\":\"\"}},\"type\":\"scatter3d\"}],\"scattercarpet\":[{\"marker\":{\"colorbar\":{\"outlinewidth\":0,\"ticks\":\"\"}},\"type\":\"scattercarpet\"}],\"scattergeo\":[{\"marker\":{\"colorbar\":{\"outlinewidth\":0,\"ticks\":\"\"}},\"type\":\"scattergeo\"}],\"scattergl\":[{\"marker\":{\"colorbar\":{\"outlinewidth\":0,\"ticks\":\"\"}},\"type\":\"scattergl\"}],\"scattermapbox\":[{\"marker\":{\"colorbar\":{\"outlinewidth\":0,\"ticks\":\"\"}},\"type\":\"scattermapbox\"}],\"scatterpolar\":[{\"marker\":{\"colorbar\":{\"outlinewidth\":0,\"ticks\":\"\"}},\"type\":\"scatterpolar\"}],\"scatterpolargl\":[{\"marker\":{\"colorbar\":{\"outlinewidth\":0,\"ticks\":\"\"}},\"type\":\"scatterpolargl\"}],\"scatterternary\":[{\"marker\":{\"colorbar\":{\"outlinewidth\":0,\"ticks\":\"\"}},\"type\":\"scatterternary\"}],\"surface\":[{\"colorbar\":{\"outlinewidth\":0,\"ticks\":\"\"},\"colorscale\":[[0.0,\"#0d0887\"],[0.1111111111111111,\"#46039f\"],[0.2222222222222222,\"#7201a8\"],[0.3333333333333333,\"#9c179e\"],[0.4444444444444444,\"#bd3786\"],[0.5555555555555556,\"#d8576b\"],[0.6666666666666666,\"#ed7953\"],[0.7777777777777778,\"#fb9f3a\"],[0.8888888888888888,\"#fdca26\"],[1.0,\"#f0f921\"]],\"type\":\"surface\"}],\"table\":[{\"cells\":{\"fill\":{\"color\":\"#EBF0F8\"},\"line\":{\"color\":\"white\"}},\"header\":{\"fill\":{\"color\":\"#C8D4E3\"},\"line\":{\"color\":\"white\"}},\"type\":\"table\"}]},\"layout\":{\"annotationdefaults\":{\"arrowcolor\":\"#2a3f5f\",\"arrowhead\":0,\"arrowwidth\":1},\"autotypenumbers\":\"strict\",\"coloraxis\":{\"colorbar\":{\"outlinewidth\":0,\"ticks\":\"\"}},\"colorscale\":{\"diverging\":[[0,\"#8e0152\"],[0.1,\"#c51b7d\"],[0.2,\"#de77ae\"],[0.3,\"#f1b6da\"],[0.4,\"#fde0ef\"],[0.5,\"#f7f7f7\"],[0.6,\"#e6f5d0\"],[0.7,\"#b8e186\"],[0.8,\"#7fbc41\"],[0.9,\"#4d9221\"],[1,\"#276419\"]],\"sequential\":[[0.0,\"#0d0887\"],[0.1111111111111111,\"#46039f\"],[0.2222222222222222,\"#7201a8\"],[0.3333333333333333,\"#9c179e\"],[0.4444444444444444,\"#bd3786\"],[0.5555555555555556,\"#d8576b\"],[0.6666666666666666,\"#ed7953\"],[0.7777777777777778,\"#fb9f3a\"],[0.8888888888888888,\"#fdca26\"],[1.0,\"#f0f921\"]],\"sequentialminus\":[[0.0,\"#0d0887\"],[0.1111111111111111,\"#46039f\"],[0.2222222222222222,\"#7201a8\"],[0.3333333333333333,\"#9c179e\"],[0.4444444444444444,\"#bd3786\"],[0.5555555555555556,\"#d8576b\"],[0.6666666666666666,\"#ed7953\"],[0.7777777777777778,\"#fb9f3a\"],[0.8888888888888888,\"#fdca26\"],[1.0,\"#f0f921\"]]},\"colorway\":[\"#636efa\",\"#EF553B\",\"#00cc96\",\"#ab63fa\",\"#FFA15A\",\"#19d3f3\",\"#FF6692\",\"#B6E880\",\"#FF97FF\",\"#FECB52\"],\"font\":{\"color\":\"#2a3f5f\"},\"geo\":{\"bgcolor\":\"white\",\"lakecolor\":\"white\",\"landcolor\":\"#E5ECF6\",\"showlakes\":true,\"showland\":true,\"subunitcolor\":\"white\"},\"hoverlabel\":{\"align\":\"left\"},\"hovermode\":\"closest\",\"mapbox\":{\"style\":\"light\"},\"paper_bgcolor\":\"white\",\"plot_bgcolor\":\"#E5ECF6\",\"polar\":{\"angularaxis\":{\"gridcolor\":\"white\",\"linecolor\":\"white\",\"ticks\":\"\"},\"bgcolor\":\"#E5ECF6\",\"radialaxis\":{\"gridcolor\":\"white\",\"linecolor\":\"white\",\"ticks\":\"\"}},\"scene\":{\"xaxis\":{\"backgroundcolor\":\"#E5ECF6\",\"gridcolor\":\"white\",\"gridwidth\":2,\"linecolor\":\"white\",\"showbackground\":true,\"ticks\":\"\",\"zerolinecolor\":\"white\"},\"yaxis\":{\"backgroundcolor\":\"#E5ECF6\",\"gridcolor\":\"white\",\"gridwidth\":2,\"linecolor\":\"white\",\"showbackground\":true,\"ticks\":\"\",\"zerolinecolor\":\"white\"},\"zaxis\":{\"backgroundcolor\":\"#E5ECF6\",\"gridcolor\":\"white\",\"gridwidth\":2,\"linecolor\":\"white\",\"showbackground\":true,\"ticks\":\"\",\"zerolinecolor\":\"white\"}},\"shapedefaults\":{\"line\":{\"color\":\"#2a3f5f\"}},\"ternary\":{\"aaxis\":{\"gridcolor\":\"white\",\"linecolor\":\"white\",\"ticks\":\"\"},\"baxis\":{\"gridcolor\":\"white\",\"linecolor\":\"white\",\"ticks\":\"\"},\"bgcolor\":\"#E5ECF6\",\"caxis\":{\"gridcolor\":\"white\",\"linecolor\":\"white\",\"ticks\":\"\"}},\"title\":{\"x\":0.05},\"xaxis\":{\"automargin\":true,\"gridcolor\":\"white\",\"linecolor\":\"white\",\"ticks\":\"\",\"title\":{\"standoff\":15},\"zerolinecolor\":\"white\",\"zerolinewidth\":2},\"yaxis\":{\"automargin\":true,\"gridcolor\":\"white\",\"linecolor\":\"white\",\"ticks\":\"\",\"title\":{\"standoff\":15},\"zerolinecolor\":\"white\",\"zerolinewidth\":2}}},\"xaxis\":{\"anchor\":\"y\",\"domain\":[0.0,1.0],\"title\":{\"text\":\"Type\"}},\"yaxis\":{\"anchor\":\"x\",\"domain\":[0.0,1.0],\"title\":{\"text\":\"Amount\"}},\"coloraxis\":{\"colorbar\":{\"title\":{\"text\":\"count\"}},\"colorscale\":[[0.0,\"#0d0887\"],[0.1111111111111111,\"#46039f\"],[0.2222222222222222,\"#7201a8\"],[0.3333333333333333,\"#9c179e\"],[0.4444444444444444,\"#bd3786\"],[0.5555555555555556,\"#d8576b\"],[0.6666666666666666,\"#ed7953\"],[0.7777777777777778,\"#fb9f3a\"],[0.8888888888888888,\"#fdca26\"],[1.0,\"#f0f921\"]]},\"legend\":{\"tracegroupgap\":0},\"margin\":{\"t\":60}},                        {\"responsive\": true}                    ).then(function(){\n",
       "                            \n",
       "var gd = document.getElementById('f254e719-acaf-4022-a30c-8615551c7006');\n",
       "var x = new MutationObserver(function (mutations, observer) {{\n",
       "        var display = window.getComputedStyle(gd).display;\n",
       "        if (!display || display === 'none') {{\n",
       "            console.log([gd, 'removed!']);\n",
       "            Plotly.purge(gd);\n",
       "            observer.disconnect();\n",
       "        }}\n",
       "}});\n",
       "\n",
       "// Listen for the removal of the full notebook cells\n",
       "var notebookContainer = gd.closest('#notebook-container');\n",
       "if (notebookContainer) {{\n",
       "    x.observe(notebookContainer, {childList: true});\n",
       "}}\n",
       "\n",
       "// Listen for the clearing of the current output cell\n",
       "var outputEl = gd.closest('.output');\n",
       "if (outputEl) {{\n",
       "    x.observe(outputEl, {childList: true});\n",
       "}}\n",
       "\n",
       "                        })                };                });            </script>        </div>"
      ]
     },
     "metadata": {},
     "output_type": "display_data"
    }
   ],
   "source": [
    "fig = px.density_heatmap(data_frame=spend_df,\n",
    "                         x=\"Type\",\n",
    "                         y=\"Amount\")\n",
    "fig.show()"
   ]
  },
  {
   "cell_type": "markdown",
   "metadata": {
    "id": "ZSLml4kipaxi"
   },
   "source": [
    "## For more plots check in Plotly documentation [here](https://plotly.com/python/plotly-express/)"
   ]
  }
 ],
 "metadata": {
  "colab": {
   "collapsed_sections": [],
   "name": "08-Visualisation_PlotlySeaborn.ipynb",
   "provenance": []
  },
  "kernelspec": {
   "display_name": "Python 3",
   "language": "python",
   "name": "python3"
  },
  "language_info": {
   "codemirror_mode": {
    "name": "ipython",
    "version": 3
   },
   "file_extension": ".py",
   "mimetype": "text/x-python",
   "name": "python",
   "nbconvert_exporter": "python",
   "pygments_lexer": "ipython3",
   "version": "3.7.4"
  }
 },
 "nbformat": 4,
 "nbformat_minor": 5
}
