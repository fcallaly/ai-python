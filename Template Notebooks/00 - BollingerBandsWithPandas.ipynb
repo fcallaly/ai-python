{
 "cells": [
  {
   "cell_type": "markdown",
   "metadata": {},
   "source": [
    "<img style=\"float: right;\" width=\"120\" src=\"https://s3.eu-west-1.amazonaws.com/neueda.conygre.com/pydata/images/neueda-logo.jpeg\">\n",
    "<br><br><br>\n"
   ]
  },
  {
   "cell_type": "markdown",
   "metadata": {},
   "source": [
    "# Calculate the Bollinger Band for\n",
    "\n",
    "> the month moving average of the Closing price for AAPL"
   ]
  },
  {
   "cell_type": "markdown",
   "metadata": {},
   "source": [
    "## Import the libraries "
   ]
  },
  {
   "cell_type": "code",
   "execution_count": null,
   "metadata": {},
   "outputs": [],
   "source": [
    "import pandas as pd\n",
    "import numpy as np\n",
    "import matplotlib.pyplot as plt\n",
    "\n",
    "%matplotlib inline"
   ]
  },
  {
   "cell_type": "markdown",
   "metadata": {},
   "source": [
    "## Load the data into a DataFrame\n"
   ]
  },
  {
   "cell_type": "code",
   "execution_count": null,
   "metadata": {},
   "outputs": [],
   "source": [
    "df = pd.read_excel('https://s3.eu-west-1.amazonaws.com/neueda.conygre.com/pydata/market_data.xls',\n",
    "                   sheet_name='AAPL',\n",
    "                   index_col='Date', \n",
    "                   parse_dates=True)\n",
    "\n",
    "df.head()"
   ]
  },
  {
   "cell_type": "markdown",
   "metadata": {},
   "source": [
    "## Check what has been imported into the DataFrame\n",
    "- Have a quick look at what we have read in\n",
    "- No right or wrong way to do this\n",
    "- Depends on your style, personal preferences, type of data being read in etc\n",
    "- A few examples\n",
    "> `df.tail()`\n",
    "`df.head()`\n",
    "`df.describe()`\n",
    "    \n",
    "**IMPORTANT**<br>\n",
    ">When working with DataFrames that have Dates as an index, make sure the date values are sorted in an ascending manner"
   ]
  },
  {
   "cell_type": "markdown",
   "metadata": {},
   "source": [
    "## Calculate the Bollinger Bands for the Adj. Close\n",
    "\n",
    "- **Middle Band** = Monthly moving average <br>\n",
    "- **Upper Band** = Monthly moving average + (Monthly standard deviation of price x 2) \n",
    "- **Lower Band** = Monthly moving average - (Monthly standard deviation of price x 2)"
   ]
  },
  {
   "cell_type": "code",
   "execution_count": null,
   "metadata": {},
   "outputs": [],
   "source": [
    "# 30 days is a good approximation of a single month\n",
    "\n",
    "# create new columns called '30d mavg', '30d std, 'Upper Band' and 'Lower Band' \n"
   ]
  },
  {
   "cell_type": "markdown",
   "metadata": {},
   "source": [
    "## Plot the results\n",
    "\n",
    "Use the matplot lib defaults\n",
    "\n",
    "A plot of the entire series of values"
   ]
  },
  {
   "cell_type": "code",
   "execution_count": null,
   "metadata": {},
   "outputs": [],
   "source": [
    "# plot close, upper band, lower band and all data points where trigger != 0 for 2018\n"
   ]
  }
 ],
 "metadata": {
  "kernelspec": {
   "display_name": "Python 3",
   "language": "python",
   "name": "python3"
  },
  "language_info": {
   "codemirror_mode": {
    "name": "ipython",
    "version": 3
   },
   "file_extension": ".py",
   "mimetype": "text/x-python",
   "name": "python",
   "nbconvert_exporter": "python",
   "pygments_lexer": "ipython3",
   "version": "3.7.4"
  }
 },
 "nbformat": 4,
 "nbformat_minor": 4
}
