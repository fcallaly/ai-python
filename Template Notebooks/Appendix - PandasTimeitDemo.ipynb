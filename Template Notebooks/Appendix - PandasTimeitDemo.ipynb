{
 "cells": [
  {
   "cell_type": "markdown",
   "metadata": {},
   "source": [
    "<img style=\"float: right;\" width=\"120\" src=\"https://s3.eu-west-1.amazonaws.com/neueda.conygre.com/pydata/images/neueda-logo.jpeg\">\n",
    "<br><br><br>"
   ]
  },
  {
   "cell_type": "code",
   "execution_count": 1,
   "metadata": {},
   "outputs": [],
   "source": [
    "import pandas as pd\n",
    "import numpy as np\n",
    "\n",
    "df = pd.DataFrame(np.random.randint(0,100, size=10000), columns=['person_age'])\n",
    "df['age_bucket'] = ''"
   ]
  },
  {
   "cell_type": "code",
   "execution_count": 2,
   "metadata": {},
   "outputs": [],
   "source": [
    "def naive_loop(df):\n",
    "    for i in range(0, len(df)):\n",
    "        if df['person_age'][i] >= 0 and df['person_age'][i] <= 5:\n",
    "            df['age_bucket'].iloc[i] = 'Infant'\n",
    "        elif df['person_age'][i] >= 6 and df['person_age'][i] <= 20:\n",
    "            df['age_bucket'].iloc[i] = 'Teenage'\n",
    "        elif df['person_age'][i] >= 21 and df['person_age'][i] <= 40:\n",
    "            df['age_bucket'].iloc[i] = 'Early  Adulthood'\n",
    "        elif df['person_age'][i] >= 41 and df['person_age'][i] <= 80:\n",
    "            df['age_bucket'].iloc[i] = 'Middle Adulthood'\n",
    "        else: df['age_bucket'].iloc[i] = 'Late Adulthood'"
   ]
  },
  {
   "cell_type": "code",
   "execution_count": 3,
   "metadata": {},
   "outputs": [
    {
     "name": "stderr",
     "output_type": "stream",
     "text": [
      "C:\\ProgramData\\Anaconda3\\lib\\site-packages\\pandas\\core\\indexing.py:1732: SettingWithCopyWarning: \n",
      "A value is trying to be set on a copy of a slice from a DataFrame\n",
      "\n",
      "See the caveats in the documentation: https://pandas.pydata.org/pandas-docs/stable/user_guide/indexing.html#returning-a-view-versus-a-copy\n",
      "  self._setitem_single_block(indexer, value, name)\n"
     ]
    },
    {
     "name": "stdout",
     "output_type": "stream",
     "text": [
      "3.83 s ± 265 ms per loop (mean ± std. dev. of 7 runs, 1 loop each)\n"
     ]
    }
   ],
   "source": [
    "%%timeit\n",
    "naive_loop(df)"
   ]
  },
  {
   "cell_type": "code",
   "execution_count": 4,
   "metadata": {},
   "outputs": [],
   "source": [
    "def pd_vector(age):\n",
    "    df.loc[(age >= 0) & (age <= 5), 'get_age'] = 'Infant'\n",
    "    df.loc[(age >= 6) & (age <= 20), 'get_age'] = 'Teenage'\n",
    "    df.loc[(age >= 21) & (age <= 40), 'get_age'] = 'Early_Adulthood'\n",
    "    df.loc[(age >= 41) & (age <= 80), 'get_age'] = 'Middle_Adulthood'\n",
    "    df.loc[(age >= 81),'get_age'] = 'Late_Adulthood'"
   ]
  },
  {
   "cell_type": "code",
   "execution_count": 5,
   "metadata": {},
   "outputs": [
    {
     "name": "stdout",
     "output_type": "stream",
     "text": [
      "4.52 ms ± 1.37 ms per loop (mean ± std. dev. of 7 runs, 100 loops each)\n"
     ]
    }
   ],
   "source": [
    "%%timeit\n",
    "pd_vector(df['person_age'])"
   ]
  }
 ],
 "metadata": {
  "kernelspec": {
   "display_name": "Python 3",
   "language": "python",
   "name": "python3"
  },
  "language_info": {
   "codemirror_mode": {
    "name": "ipython",
    "version": 3
   },
   "file_extension": ".py",
   "mimetype": "text/x-python",
   "name": "python",
   "nbconvert_exporter": "python",
   "pygments_lexer": "ipython3",
   "version": "3.7.4"
  }
 },
 "nbformat": 4,
 "nbformat_minor": 2
}
